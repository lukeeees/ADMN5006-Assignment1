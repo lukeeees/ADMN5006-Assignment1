{
 "cells": [
  {
   "cell_type": "markdown",
   "id": "6c86cc7b",
   "metadata": {},
   "source": [
    "# ADMN5006 - Analytics for Financial Markets"
   ]
  },
  {
   "cell_type": "markdown",
   "id": "7f6d781e",
   "metadata": {},
   "source": [
    "## Assignment #1"
   ]
  },
  {
   "cell_type": "markdown",
   "id": "c6d0e299",
   "metadata": {},
   "source": [
    "<p>Your assignment is to design and develop machine learning models for corporate bankruptcy prediction 2 years into the future using the data provided. </p>\n",
    "   - The column “BK” in the data provided denotes whether the company goes bankrupt (indicated by 1) 2 years in the future, or not (indicated by 0). \n",
    "   - Some of the input variables included are “Assets Growth”, “Sales Growth”, “Earnings-per-share (EPS)”, “Return-on-equity (ROE)”, etc. \n",
    "   - In addition, the paper entitled: “Machine learning models and bankruptcy prediction” by Barboza et. al. is posted to the portal and is an excellent reference for you to use.  \n",
    "    \n",
    "<p>Note however that the dataset you are given is not the same as the one used in the aforementioned paper.  Therefore, don’t be alarmed if your results don’t agree with the Barboza et. al. paper.  You will need to partition your data into testing and training sets and explain your experimental set-up.</p>\n",
    "\n",
    "<p>The input and output variables are described below:</p>\n",
    "\n",
    "- EPS – Earnings Per Share\n",
    "- Liquidity – Working Capital/Total Assets\n",
    "- Profitability – Retained Earnings/Total Assets\n",
    "- Productivity – EBIT/Total Assets\n",
    "- Leverage Ratio – (Total Long-term debt + Debt in Current liabilities)/Stockholders Equity\n",
    "- Asset Turnover – Sales/ Total Assets\n",
    "- Operational Margin – EBIT/Sales\n",
    "- Market Book Ratio – (Price Close Annual Fiscal * Common Shares Outstanding)/Book Value Per Share\n",
    "- Asset Growth – Change in assets from previous year\n",
    "- Sales Growth – Change in sales from previous year\n",
    "- Employee Growth – Change in employees from previous year\n",
    "- Tobin’s Q – (Total market value of company + liabilities)/ (Total asset or book value + liabilities)\n",
    "- BK – Company bankrupt or not\n",
    "\n",
    "\n",
    "    "
   ]
  },
  {
   "cell_type": "markdown",
   "id": "62d8882c",
   "metadata": {},
   "source": [
    "## 1. Stage One"
   ]
  },
  {
   "cell_type": "markdown",
   "id": "16f63561",
   "metadata": {},
   "source": [
    "### 1.1 Inventory resources\n",
    "    - Personnel: Luke, Jad, Rita, Sreehari, Arnab, Varun\n",
    "    - Data: Bankruptcy_data_Final.xlsx\n",
    "    - Computing resources:  Machine Learning (Random Forest, SVC, Naive Bayes)\n",
    "    - Software: Jupyter Notebook"
   ]
  },
  {
   "cell_type": "markdown",
   "id": "9927bc19",
   "metadata": {},
   "source": [
    "## 2. Stage Two"
   ]
  },
  {
   "cell_type": "markdown",
   "id": "f31a00f1",
   "metadata": {},
   "source": [
    "### 2.1 Initial Data Report"
   ]
  },
  {
   "cell_type": "code",
   "execution_count": 5,
   "id": "2db43480",
   "metadata": {},
   "outputs": [],
   "source": [
    "# Import Libraries Required\n",
    "#working with the data\n",
    "import pandas as pd\n",
    "import matplotlib.pyplot as plt\n",
    "%matplotlib inline\n",
    "import numpy as np\n",
    "from scipy import stats\n",
    "import seaborn as sns\n",
    "\n",
    "#for pre-processing\n",
    "from sklearn.model_selection import train_test_split\n",
    "from sklearn.preprocessing import StandardScaler\n",
    "from sklearn.impute import KNNImputer\n",
    "from imblearn import under_sampling, over_sampling\n",
    "from imblearn.over_sampling import SMOTE\n",
    "\n",
    "#computing resources\n",
    "from sklearn.ensemble import RandomForestClassifier\n",
    "from sklearn.svm import SVC\n",
    "from sklearn.naive_bayes import GaussianNB"
   ]
  },
  {
   "cell_type": "code",
   "execution_count": 94,
   "id": "b53e78a2",
   "metadata": {},
   "outputs": [],
   "source": [
    "#Data source: \n",
    "#Source Query location: \n",
    "path =  'Bankruptcy_data_Final.xlsx'\n",
    "# reads the data from the file - denotes as CSV, it has no header, sets column headers\n",
    "#df =  pd.read_csv(path, sep=',')\n",
    "df = pd.read_excel(path)"
   ]
  },
  {
   "cell_type": "markdown",
   "id": "e11abad2",
   "metadata": {},
   "source": [
    "### 2.2 Describe Data"
   ]
  },
  {
   "cell_type": "code",
   "execution_count": 7,
   "id": "097f82c1",
   "metadata": {},
   "outputs": [
    {
     "data": {
      "text/plain": [
       "Index(['EPS', 'Liquidity', 'Profitability', 'Productivity', 'Leverage Ratio',\n",
       "       'Asset Turnover', 'Operational Margin', 'Return on Equity',\n",
       "       'Market Book Ratio', 'Assets Growth', 'Sales Growth', 'Employee Growth',\n",
       "       'BK'],\n",
       "      dtype='object')"
      ]
     },
     "execution_count": 7,
     "metadata": {},
     "output_type": "execute_result"
    }
   ],
   "source": [
    "df.columns"
   ]
  },
  {
   "cell_type": "code",
   "execution_count": 36,
   "id": "54890252",
   "metadata": {},
   "outputs": [
    {
     "data": {
      "text/plain": [
       "(92872, 13)"
      ]
     },
     "execution_count": 36,
     "metadata": {},
     "output_type": "execute_result"
    }
   ],
   "source": [
    "df.shape"
   ]
  },
  {
   "cell_type": "code",
   "execution_count": 37,
   "id": "6d8097e8",
   "metadata": {},
   "outputs": [
    {
     "data": {
      "text/plain": [
       "EPS                   float64\n",
       "Liquidity             float64\n",
       "Profitability         float64\n",
       "Productivity          float64\n",
       "Leverage Ratio        float64\n",
       "Asset Turnover        float64\n",
       "Operational Margin    float64\n",
       "Return on Equity      float64\n",
       "Market Book Ratio     float64\n",
       "Assets Growth         float64\n",
       "Sales Growth          float64\n",
       "Employee Growth       float64\n",
       "BK                      int64\n",
       "dtype: object"
      ]
     },
     "execution_count": 37,
     "metadata": {},
     "output_type": "execute_result"
    }
   ],
   "source": [
    "df.dtypes"
   ]
  },
  {
   "cell_type": "code",
   "execution_count": 8,
   "id": "b5b1d702",
   "metadata": {},
   "outputs": [
    {
     "data": {
      "text/html": [
       "<div>\n",
       "<style scoped>\n",
       "    .dataframe tbody tr th:only-of-type {\n",
       "        vertical-align: middle;\n",
       "    }\n",
       "\n",
       "    .dataframe tbody tr th {\n",
       "        vertical-align: top;\n",
       "    }\n",
       "\n",
       "    .dataframe thead th {\n",
       "        text-align: right;\n",
       "    }\n",
       "</style>\n",
       "<table border=\"1\" class=\"dataframe\">\n",
       "  <thead>\n",
       "    <tr style=\"text-align: right;\">\n",
       "      <th></th>\n",
       "      <th>EPS</th>\n",
       "      <th>Liquidity</th>\n",
       "      <th>Profitability</th>\n",
       "      <th>Productivity</th>\n",
       "      <th>Leverage Ratio</th>\n",
       "      <th>Asset Turnover</th>\n",
       "      <th>Operational Margin</th>\n",
       "      <th>Return on Equity</th>\n",
       "      <th>Market Book Ratio</th>\n",
       "      <th>Assets Growth</th>\n",
       "      <th>Sales Growth</th>\n",
       "      <th>Employee Growth</th>\n",
       "      <th>BK</th>\n",
       "    </tr>\n",
       "  </thead>\n",
       "  <tbody>\n",
       "    <tr>\n",
       "      <th>count</th>\n",
       "      <td>92867.000000</td>\n",
       "      <td>92625.000000</td>\n",
       "      <td>92625.000000</td>\n",
       "      <td>92625.000000</td>\n",
       "      <td>92846.000000</td>\n",
       "      <td>92625.000000</td>\n",
       "      <td>87315.000000</td>\n",
       "      <td>92864.000000</td>\n",
       "      <td>9.281500e+04</td>\n",
       "      <td>86171.000000</td>\n",
       "      <td>86171.000000</td>\n",
       "      <td>85862.000000</td>\n",
       "      <td>92872.000000</td>\n",
       "    </tr>\n",
       "    <tr>\n",
       "      <th>mean</th>\n",
       "      <td>-14.461355</td>\n",
       "      <td>-2.631237</td>\n",
       "      <td>-29.537274</td>\n",
       "      <td>-1.222870</td>\n",
       "      <td>1.345316</td>\n",
       "      <td>1.053613</td>\n",
       "      <td>-7.915485</td>\n",
       "      <td>-2.112382</td>\n",
       "      <td>3.585063e+02</td>\n",
       "      <td>1.294075</td>\n",
       "      <td>1.900108</td>\n",
       "      <td>0.343322</td>\n",
       "      <td>0.006008</td>\n",
       "    </tr>\n",
       "    <tr>\n",
       "      <th>std</th>\n",
       "      <td>2195.467288</td>\n",
       "      <td>121.610921</td>\n",
       "      <td>677.230667</td>\n",
       "      <td>35.885556</td>\n",
       "      <td>253.038093</td>\n",
       "      <td>2.115945</td>\n",
       "      <td>214.460079</td>\n",
       "      <td>352.596902</td>\n",
       "      <td>2.606364e+04</td>\n",
       "      <td>73.769522</td>\n",
       "      <td>177.632638</td>\n",
       "      <td>14.074156</td>\n",
       "      <td>0.077280</td>\n",
       "    </tr>\n",
       "    <tr>\n",
       "      <th>min</th>\n",
       "      <td>-384000.000000</td>\n",
       "      <td>-25968.520000</td>\n",
       "      <td>-79682.000000</td>\n",
       "      <td>-5093.000000</td>\n",
       "      <td>-7811.000000</td>\n",
       "      <td>-31.590000</td>\n",
       "      <td>-30175.700000</td>\n",
       "      <td>-88875.140000</td>\n",
       "      <td>-3.151500e+06</td>\n",
       "      <td>-1.000000</td>\n",
       "      <td>-27.431034</td>\n",
       "      <td>-1.000000</td>\n",
       "      <td>0.000000</td>\n",
       "    </tr>\n",
       "    <tr>\n",
       "      <th>25%</th>\n",
       "      <td>-0.140000</td>\n",
       "      <td>0.020000</td>\n",
       "      <td>-0.640000</td>\n",
       "      <td>-0.060000</td>\n",
       "      <td>0.000000</td>\n",
       "      <td>0.390000</td>\n",
       "      <td>-0.030000</td>\n",
       "      <td>-0.080000</td>\n",
       "      <td>1.120000e+01</td>\n",
       "      <td>-0.052596</td>\n",
       "      <td>-0.033522</td>\n",
       "      <td>-0.048107</td>\n",
       "      <td>0.000000</td>\n",
       "    </tr>\n",
       "    <tr>\n",
       "      <th>50%</th>\n",
       "      <td>0.330000</td>\n",
       "      <td>0.190000</td>\n",
       "      <td>0.070000</td>\n",
       "      <td>0.060000</td>\n",
       "      <td>0.280000</td>\n",
       "      <td>0.830000</td>\n",
       "      <td>0.060000</td>\n",
       "      <td>0.030000</td>\n",
       "      <td>5.828000e+01</td>\n",
       "      <td>0.051844</td>\n",
       "      <td>0.059733</td>\n",
       "      <td>0.017241</td>\n",
       "      <td>0.000000</td>\n",
       "    </tr>\n",
       "    <tr>\n",
       "      <th>75%</th>\n",
       "      <td>1.530000</td>\n",
       "      <td>0.400000</td>\n",
       "      <td>0.310000</td>\n",
       "      <td>0.110000</td>\n",
       "      <td>0.820000</td>\n",
       "      <td>1.390000</td>\n",
       "      <td>0.140000</td>\n",
       "      <td>0.070000</td>\n",
       "      <td>2.401400e+02</td>\n",
       "      <td>0.192062</td>\n",
       "      <td>0.204231</td>\n",
       "      <td>0.130944</td>\n",
       "      <td>0.000000</td>\n",
       "    </tr>\n",
       "    <tr>\n",
       "      <th>max</th>\n",
       "      <td>55339.000000</td>\n",
       "      <td>1.000000</td>\n",
       "      <td>140.580000</td>\n",
       "      <td>1102.000000</td>\n",
       "      <td>75970.380000</td>\n",
       "      <td>276.380000</td>\n",
       "      <td>394.470000</td>\n",
       "      <td>39500.000000</td>\n",
       "      <td>3.455419e+06</td>\n",
       "      <td>14231.000000</td>\n",
       "      <td>39850.000000</td>\n",
       "      <td>2699.000000</td>\n",
       "      <td>1.000000</td>\n",
       "    </tr>\n",
       "  </tbody>\n",
       "</table>\n",
       "</div>"
      ],
      "text/plain": [
       "                 EPS     Liquidity  Profitability  Productivity  \\\n",
       "count   92867.000000  92625.000000   92625.000000  92625.000000   \n",
       "mean      -14.461355     -2.631237     -29.537274     -1.222870   \n",
       "std      2195.467288    121.610921     677.230667     35.885556   \n",
       "min   -384000.000000 -25968.520000  -79682.000000  -5093.000000   \n",
       "25%        -0.140000      0.020000      -0.640000     -0.060000   \n",
       "50%         0.330000      0.190000       0.070000      0.060000   \n",
       "75%         1.530000      0.400000       0.310000      0.110000   \n",
       "max     55339.000000      1.000000     140.580000   1102.000000   \n",
       "\n",
       "       Leverage Ratio  Asset Turnover  Operational Margin  Return on Equity  \\\n",
       "count    92846.000000    92625.000000        87315.000000      92864.000000   \n",
       "mean         1.345316        1.053613           -7.915485         -2.112382   \n",
       "std        253.038093        2.115945          214.460079        352.596902   \n",
       "min      -7811.000000      -31.590000       -30175.700000     -88875.140000   \n",
       "25%          0.000000        0.390000           -0.030000         -0.080000   \n",
       "50%          0.280000        0.830000            0.060000          0.030000   \n",
       "75%          0.820000        1.390000            0.140000          0.070000   \n",
       "max      75970.380000      276.380000          394.470000      39500.000000   \n",
       "\n",
       "       Market Book Ratio  Assets Growth  Sales Growth  Employee Growth  \\\n",
       "count       9.281500e+04   86171.000000  86171.000000     85862.000000   \n",
       "mean        3.585063e+02       1.294075      1.900108         0.343322   \n",
       "std         2.606364e+04      73.769522    177.632638        14.074156   \n",
       "min        -3.151500e+06      -1.000000    -27.431034        -1.000000   \n",
       "25%         1.120000e+01      -0.052596     -0.033522        -0.048107   \n",
       "50%         5.828000e+01       0.051844      0.059733         0.017241   \n",
       "75%         2.401400e+02       0.192062      0.204231         0.130944   \n",
       "max         3.455419e+06   14231.000000  39850.000000      2699.000000   \n",
       "\n",
       "                 BK  \n",
       "count  92872.000000  \n",
       "mean       0.006008  \n",
       "std        0.077280  \n",
       "min        0.000000  \n",
       "25%        0.000000  \n",
       "50%        0.000000  \n",
       "75%        0.000000  \n",
       "max        1.000000  "
      ]
     },
     "execution_count": 8,
     "metadata": {},
     "output_type": "execute_result"
    }
   ],
   "source": [
    "df.describe()"
   ]
  },
  {
   "cell_type": "code",
   "execution_count": 9,
   "id": "019de98d",
   "metadata": {},
   "outputs": [
    {
     "name": "stdout",
     "output_type": "stream",
     "text": [
      "<class 'pandas.core.frame.DataFrame'>\n",
      "RangeIndex: 92872 entries, 0 to 92871\n",
      "Data columns (total 13 columns):\n",
      " #   Column              Non-Null Count  Dtype  \n",
      "---  ------              --------------  -----  \n",
      " 0   EPS                 92867 non-null  float64\n",
      " 1   Liquidity           92625 non-null  float64\n",
      " 2   Profitability       92625 non-null  float64\n",
      " 3   Productivity        92625 non-null  float64\n",
      " 4   Leverage Ratio      92846 non-null  float64\n",
      " 5   Asset Turnover      92625 non-null  float64\n",
      " 6   Operational Margin  87315 non-null  float64\n",
      " 7   Return on Equity    92864 non-null  float64\n",
      " 8   Market Book Ratio   92815 non-null  float64\n",
      " 9   Assets Growth       86171 non-null  float64\n",
      " 10  Sales Growth        86171 non-null  float64\n",
      " 11  Employee Growth     85862 non-null  float64\n",
      " 12  BK                  92872 non-null  int64  \n",
      "dtypes: float64(12), int64(1)\n",
      "memory usage: 9.2 MB\n"
     ]
    }
   ],
   "source": [
    "df.info()"
   ]
  },
  {
   "cell_type": "code",
   "execution_count": 40,
   "id": "ab84048f",
   "metadata": {
    "scrolled": true
   },
   "outputs": [
    {
     "data": {
      "text/html": [
       "<div>\n",
       "<style scoped>\n",
       "    .dataframe tbody tr th:only-of-type {\n",
       "        vertical-align: middle;\n",
       "    }\n",
       "\n",
       "    .dataframe tbody tr th {\n",
       "        vertical-align: top;\n",
       "    }\n",
       "\n",
       "    .dataframe thead th {\n",
       "        text-align: right;\n",
       "    }\n",
       "</style>\n",
       "<table border=\"1\" class=\"dataframe\">\n",
       "  <thead>\n",
       "    <tr style=\"text-align: right;\">\n",
       "      <th></th>\n",
       "      <th>EPS</th>\n",
       "      <th>Liquidity</th>\n",
       "      <th>Profitability</th>\n",
       "      <th>Productivity</th>\n",
       "      <th>Leverage Ratio</th>\n",
       "      <th>Asset Turnover</th>\n",
       "      <th>Operational Margin</th>\n",
       "      <th>Return on Equity</th>\n",
       "      <th>Market Book Ratio</th>\n",
       "      <th>Assets Growth</th>\n",
       "      <th>Sales Growth</th>\n",
       "      <th>Employee Growth</th>\n",
       "      <th>BK</th>\n",
       "    </tr>\n",
       "  </thead>\n",
       "  <tbody>\n",
       "    <tr>\n",
       "      <th>0</th>\n",
       "      <td>1.58</td>\n",
       "      <td>0.36</td>\n",
       "      <td>0.18</td>\n",
       "      <td>0.13</td>\n",
       "      <td>1.33</td>\n",
       "      <td>1.77</td>\n",
       "      <td>0.07</td>\n",
       "      <td>0.15</td>\n",
       "      <td>2.22</td>\n",
       "      <td>NaN</td>\n",
       "      <td>NaN</td>\n",
       "      <td>NaN</td>\n",
       "      <td>0</td>\n",
       "    </tr>\n",
       "    <tr>\n",
       "      <th>1</th>\n",
       "      <td>1.41</td>\n",
       "      <td>0.36</td>\n",
       "      <td>0.19</td>\n",
       "      <td>0.12</td>\n",
       "      <td>1.31</td>\n",
       "      <td>1.59</td>\n",
       "      <td>0.07</td>\n",
       "      <td>0.13</td>\n",
       "      <td>2.41</td>\n",
       "      <td>0.126319</td>\n",
       "      <td>0.014278</td>\n",
       "      <td>0.040179</td>\n",
       "      <td>0</td>\n",
       "    </tr>\n",
       "    <tr>\n",
       "      <th>2</th>\n",
       "      <td>0.31</td>\n",
       "      <td>0.32</td>\n",
       "      <td>0.13</td>\n",
       "      <td>0.08</td>\n",
       "      <td>1.03</td>\n",
       "      <td>1.55</td>\n",
       "      <td>0.05</td>\n",
       "      <td>0.04</td>\n",
       "      <td>2.56</td>\n",
       "      <td>0.368077</td>\n",
       "      <td>0.327909</td>\n",
       "      <td>0.566524</td>\n",
       "      <td>0</td>\n",
       "    </tr>\n",
       "    <tr>\n",
       "      <th>3</th>\n",
       "      <td>0.71</td>\n",
       "      <td>0.28</td>\n",
       "      <td>0.14</td>\n",
       "      <td>0.08</td>\n",
       "      <td>0.80</td>\n",
       "      <td>1.39</td>\n",
       "      <td>0.06</td>\n",
       "      <td>0.05</td>\n",
       "      <td>5.28</td>\n",
       "      <td>-0.020809</td>\n",
       "      <td>-0.118904</td>\n",
       "      <td>-0.095890</td>\n",
       "      <td>0</td>\n",
       "    </tr>\n",
       "    <tr>\n",
       "      <th>4</th>\n",
       "      <td>0.75</td>\n",
       "      <td>0.41</td>\n",
       "      <td>0.13</td>\n",
       "      <td>0.08</td>\n",
       "      <td>0.20</td>\n",
       "      <td>1.30</td>\n",
       "      <td>0.06</td>\n",
       "      <td>0.04</td>\n",
       "      <td>8.68</td>\n",
       "      <td>0.233089</td>\n",
       "      <td>0.146807</td>\n",
       "      <td>0.053030</td>\n",
       "      <td>0</td>\n",
       "    </tr>\n",
       "  </tbody>\n",
       "</table>\n",
       "</div>"
      ],
      "text/plain": [
       "    EPS  Liquidity  Profitability  Productivity  Leverage Ratio  \\\n",
       "0  1.58       0.36           0.18          0.13            1.33   \n",
       "1  1.41       0.36           0.19          0.12            1.31   \n",
       "2  0.31       0.32           0.13          0.08            1.03   \n",
       "3  0.71       0.28           0.14          0.08            0.80   \n",
       "4  0.75       0.41           0.13          0.08            0.20   \n",
       "\n",
       "   Asset Turnover  Operational Margin  Return on Equity  Market Book Ratio  \\\n",
       "0            1.77                0.07              0.15               2.22   \n",
       "1            1.59                0.07              0.13               2.41   \n",
       "2            1.55                0.05              0.04               2.56   \n",
       "3            1.39                0.06              0.05               5.28   \n",
       "4            1.30                0.06              0.04               8.68   \n",
       "\n",
       "   Assets Growth  Sales Growth  Employee Growth  BK  \n",
       "0            NaN           NaN              NaN   0  \n",
       "1       0.126319      0.014278         0.040179   0  \n",
       "2       0.368077      0.327909         0.566524   0  \n",
       "3      -0.020809     -0.118904        -0.095890   0  \n",
       "4       0.233089      0.146807         0.053030   0  "
      ]
     },
     "execution_count": 40,
     "metadata": {},
     "output_type": "execute_result"
    }
   ],
   "source": [
    "df.head(5)"
   ]
  },
  {
   "cell_type": "code",
   "execution_count": 97,
   "id": "f653ee2e",
   "metadata": {},
   "outputs": [
    {
     "data": {
      "text/plain": [
       "0    92314\n",
       "1      558\n",
       "Name: BK, dtype: int64"
      ]
     },
     "execution_count": 97,
     "metadata": {},
     "output_type": "execute_result"
    }
   ],
   "source": [
    "#count of Bankruptcy and non Bankruptcy\n",
    "df['BK'].value_counts()"
   ]
  },
  {
   "cell_type": "markdown",
   "id": "42a47085",
   "metadata": {},
   "source": [
    "### 2.3 Check Data Validity"
   ]
  },
  {
   "cell_type": "markdown",
   "id": "23779a19",
   "metadata": {},
   "source": [
    "#### 2.3.1 Check Missing Data"
   ]
  },
  {
   "cell_type": "code",
   "execution_count": 41,
   "id": "c28036ee",
   "metadata": {},
   "outputs": [
    {
     "data": {
      "text/plain": [
       "EPS                      5\n",
       "Liquidity              247\n",
       "Profitability          247\n",
       "Productivity           247\n",
       "Leverage Ratio          26\n",
       "Asset Turnover         247\n",
       "Operational Margin    5557\n",
       "Return on Equity         8\n",
       "Market Book Ratio       57\n",
       "Assets Growth         6701\n",
       "Sales Growth          6701\n",
       "Employee Growth       7010\n",
       "BK                       0\n",
       "dtype: int64"
      ]
     },
     "execution_count": 41,
     "metadata": {},
     "output_type": "execute_result"
    }
   ],
   "source": [
    "df.isnull().sum()"
   ]
  },
  {
   "cell_type": "code",
   "execution_count": 105,
   "id": "1c3b1ba8",
   "metadata": {},
   "outputs": [],
   "source": [
    "def missing_values_table(df):\n",
    "    #Code Description: Attempt to show the missing values in the table\n",
    "    #Input: Dataframe\n",
    "    #Output: missing value table rendered columns\n",
    "        mis_val = df.isnull().sum()\n",
    "        mis_val_percent = 100 * df.isnull().sum() / len(df)\n",
    "        mis_val_table = pd.concat([mis_val, mis_val_percent], axis=1)\n",
    "        mis_val_table_ren_columns = mis_val_table.rename(\n",
    "        columns = {0 : 'Missing Values', 1 : '% of Total Values'})\n",
    "        mis_val_table_ren_columns = mis_val_table_ren_columns[\n",
    "            mis_val_table_ren_columns.iloc[:,1] != 0].sort_values(\n",
    "        '% of Total Values', ascending=False).round(1)\n",
    "        print (\"Your selected dataframe has \" + str(df.shape[1]) + \" columns.\\n\"      \n",
    "            \"There are \" + str(mis_val_table_ren_columns.shape[0]) +\n",
    "              \" columns that have missing values.\")\n",
    "        return mis_val_table_ren_columns"
   ]
  },
  {
   "cell_type": "code",
   "execution_count": 43,
   "id": "20383317",
   "metadata": {},
   "outputs": [
    {
     "name": "stdout",
     "output_type": "stream",
     "text": [
      "Your selected dataframe has 13 columns.\n",
      "There are 12 columns that have missing values.\n"
     ]
    },
    {
     "data": {
      "text/html": [
       "<div>\n",
       "<style scoped>\n",
       "    .dataframe tbody tr th:only-of-type {\n",
       "        vertical-align: middle;\n",
       "    }\n",
       "\n",
       "    .dataframe tbody tr th {\n",
       "        vertical-align: top;\n",
       "    }\n",
       "\n",
       "    .dataframe thead th {\n",
       "        text-align: right;\n",
       "    }\n",
       "</style>\n",
       "<table border=\"1\" class=\"dataframe\">\n",
       "  <thead>\n",
       "    <tr style=\"text-align: right;\">\n",
       "      <th></th>\n",
       "      <th>Missing Values</th>\n",
       "      <th>% of Total Values</th>\n",
       "    </tr>\n",
       "  </thead>\n",
       "  <tbody>\n",
       "    <tr>\n",
       "      <th>Employee Growth</th>\n",
       "      <td>7010</td>\n",
       "      <td>7.5</td>\n",
       "    </tr>\n",
       "    <tr>\n",
       "      <th>Assets Growth</th>\n",
       "      <td>6701</td>\n",
       "      <td>7.2</td>\n",
       "    </tr>\n",
       "    <tr>\n",
       "      <th>Sales Growth</th>\n",
       "      <td>6701</td>\n",
       "      <td>7.2</td>\n",
       "    </tr>\n",
       "    <tr>\n",
       "      <th>Operational Margin</th>\n",
       "      <td>5557</td>\n",
       "      <td>6.0</td>\n",
       "    </tr>\n",
       "    <tr>\n",
       "      <th>Liquidity</th>\n",
       "      <td>247</td>\n",
       "      <td>0.3</td>\n",
       "    </tr>\n",
       "    <tr>\n",
       "      <th>Profitability</th>\n",
       "      <td>247</td>\n",
       "      <td>0.3</td>\n",
       "    </tr>\n",
       "    <tr>\n",
       "      <th>Productivity</th>\n",
       "      <td>247</td>\n",
       "      <td>0.3</td>\n",
       "    </tr>\n",
       "    <tr>\n",
       "      <th>Asset Turnover</th>\n",
       "      <td>247</td>\n",
       "      <td>0.3</td>\n",
       "    </tr>\n",
       "    <tr>\n",
       "      <th>Market Book Ratio</th>\n",
       "      <td>57</td>\n",
       "      <td>0.1</td>\n",
       "    </tr>\n",
       "    <tr>\n",
       "      <th>Leverage Ratio</th>\n",
       "      <td>26</td>\n",
       "      <td>0.0</td>\n",
       "    </tr>\n",
       "    <tr>\n",
       "      <th>Return on Equity</th>\n",
       "      <td>8</td>\n",
       "      <td>0.0</td>\n",
       "    </tr>\n",
       "    <tr>\n",
       "      <th>EPS</th>\n",
       "      <td>5</td>\n",
       "      <td>0.0</td>\n",
       "    </tr>\n",
       "  </tbody>\n",
       "</table>\n",
       "</div>"
      ],
      "text/plain": [
       "                    Missing Values  % of Total Values\n",
       "Employee Growth               7010                7.5\n",
       "Assets Growth                 6701                7.2\n",
       "Sales Growth                  6701                7.2\n",
       "Operational Margin            5557                6.0\n",
       "Liquidity                      247                0.3\n",
       "Profitability                  247                0.3\n",
       "Productivity                   247                0.3\n",
       "Asset Turnover                 247                0.3\n",
       "Market Book Ratio               57                0.1\n",
       "Leverage Ratio                  26                0.0\n",
       "Return on Equity                 8                0.0\n",
       "EPS                              5                0.0"
      ]
     },
     "execution_count": 43,
     "metadata": {},
     "output_type": "execute_result"
    }
   ],
   "source": [
    "missing_values_table(df) #it really depends"
   ]
  },
  {
   "cell_type": "code",
   "execution_count": 44,
   "id": "79fb5e7e",
   "metadata": {},
   "outputs": [
    {
     "name": "stdout",
     "output_type": "stream",
     "text": [
      "Your selected dataframe has 13 columns.\n",
      "There are 12 columns that have missing values.\n",
      "We will remove 0 columns.\n"
     ]
    }
   ],
   "source": [
    "# Get the columns with > 50% missing\n",
    "missing_df = missing_values_table(df);\n",
    "missing_columns = list(missing_df[missing_df['% of Total Values'] > 50].index)\n",
    "print('We will remove %d columns.' % len(missing_columns))"
   ]
  },
  {
   "cell_type": "markdown",
   "id": "6e4d5610",
   "metadata": {},
   "source": [
    "##### No need to drop columns in the Dataframe"
   ]
  },
  {
   "cell_type": "markdown",
   "id": "96f1ef98",
   "metadata": {},
   "source": [
    "### Add data to missing Values"
   ]
  },
  {
   "cell_type": "code",
   "execution_count": 106,
   "id": "6b166c31",
   "metadata": {},
   "outputs": [
    {
     "name": "stdout",
     "output_type": "stream",
     "text": [
      "added values to missing values using imputer\n"
     ]
    }
   ],
   "source": [
    "imputer = KNNImputer(n_neighbors=5)\n",
    "train_data = pd.DataFrame(imputer.fit_transform(df),columns = df.columns)\n",
    "print(\"added values to missing values using imputer\")"
   ]
  },
  {
   "cell_type": "code",
   "execution_count": 134,
   "id": "41a1275d",
   "metadata": {},
   "outputs": [
    {
     "name": "stdout",
     "output_type": "stream",
     "text": [
      "Your selected dataframe has 13 columns.\n",
      "There are 0 columns that have missing values.\n"
     ]
    },
    {
     "data": {
      "text/plain": [
       "EPS                   0\n",
       "Liquidity             0\n",
       "Profitability         0\n",
       "Productivity          0\n",
       "Leverage Ratio        0\n",
       "Asset Turnover        0\n",
       "Operational Margin    0\n",
       "Return on Equity      0\n",
       "Market Book Ratio     0\n",
       "Assets Growth         0\n",
       "Sales Growth          0\n",
       "Employee Growth       0\n",
       "BK                    0\n",
       "dtype: int64"
      ]
     },
     "execution_count": 134,
     "metadata": {},
     "output_type": "execute_result"
    }
   ],
   "source": [
    "missing_values_table(train_data) \n",
    "train_data.isnull().sum()#check missing values"
   ]
  },
  {
   "cell_type": "code",
   "execution_count": 107,
   "id": "c4aae1dc",
   "metadata": {
    "scrolled": true
   },
   "outputs": [
    {
     "data": {
      "text/html": [
       "<div>\n",
       "<style scoped>\n",
       "    .dataframe tbody tr th:only-of-type {\n",
       "        vertical-align: middle;\n",
       "    }\n",
       "\n",
       "    .dataframe tbody tr th {\n",
       "        vertical-align: top;\n",
       "    }\n",
       "\n",
       "    .dataframe thead th {\n",
       "        text-align: right;\n",
       "    }\n",
       "</style>\n",
       "<table border=\"1\" class=\"dataframe\">\n",
       "  <thead>\n",
       "    <tr style=\"text-align: right;\">\n",
       "      <th></th>\n",
       "      <th>EPS</th>\n",
       "      <th>Liquidity</th>\n",
       "      <th>Profitability</th>\n",
       "      <th>Productivity</th>\n",
       "      <th>Leverage Ratio</th>\n",
       "      <th>Asset Turnover</th>\n",
       "      <th>Operational Margin</th>\n",
       "      <th>Return on Equity</th>\n",
       "      <th>Market Book Ratio</th>\n",
       "      <th>Assets Growth</th>\n",
       "      <th>Sales Growth</th>\n",
       "      <th>Employee Growth</th>\n",
       "      <th>BK</th>\n",
       "    </tr>\n",
       "  </thead>\n",
       "  <tbody>\n",
       "    <tr>\n",
       "      <th>0</th>\n",
       "      <td>1.58</td>\n",
       "      <td>0.36</td>\n",
       "      <td>0.18</td>\n",
       "      <td>0.13</td>\n",
       "      <td>1.33</td>\n",
       "      <td>1.77</td>\n",
       "      <td>0.07</td>\n",
       "      <td>0.15</td>\n",
       "      <td>2.22</td>\n",
       "      <td>0.111757</td>\n",
       "      <td>-0.002385</td>\n",
       "      <td>0.057881</td>\n",
       "      <td>0.0</td>\n",
       "    </tr>\n",
       "    <tr>\n",
       "      <th>1</th>\n",
       "      <td>1.41</td>\n",
       "      <td>0.36</td>\n",
       "      <td>0.19</td>\n",
       "      <td>0.12</td>\n",
       "      <td>1.31</td>\n",
       "      <td>1.59</td>\n",
       "      <td>0.07</td>\n",
       "      <td>0.13</td>\n",
       "      <td>2.41</td>\n",
       "      <td>0.126319</td>\n",
       "      <td>0.014278</td>\n",
       "      <td>0.040179</td>\n",
       "      <td>0.0</td>\n",
       "    </tr>\n",
       "    <tr>\n",
       "      <th>2</th>\n",
       "      <td>0.31</td>\n",
       "      <td>0.32</td>\n",
       "      <td>0.13</td>\n",
       "      <td>0.08</td>\n",
       "      <td>1.03</td>\n",
       "      <td>1.55</td>\n",
       "      <td>0.05</td>\n",
       "      <td>0.04</td>\n",
       "      <td>2.56</td>\n",
       "      <td>0.368077</td>\n",
       "      <td>0.327909</td>\n",
       "      <td>0.566524</td>\n",
       "      <td>0.0</td>\n",
       "    </tr>\n",
       "    <tr>\n",
       "      <th>3</th>\n",
       "      <td>0.71</td>\n",
       "      <td>0.28</td>\n",
       "      <td>0.14</td>\n",
       "      <td>0.08</td>\n",
       "      <td>0.80</td>\n",
       "      <td>1.39</td>\n",
       "      <td>0.06</td>\n",
       "      <td>0.05</td>\n",
       "      <td>5.28</td>\n",
       "      <td>-0.020809</td>\n",
       "      <td>-0.118904</td>\n",
       "      <td>-0.095890</td>\n",
       "      <td>0.0</td>\n",
       "    </tr>\n",
       "    <tr>\n",
       "      <th>4</th>\n",
       "      <td>0.75</td>\n",
       "      <td>0.41</td>\n",
       "      <td>0.13</td>\n",
       "      <td>0.08</td>\n",
       "      <td>0.20</td>\n",
       "      <td>1.30</td>\n",
       "      <td>0.06</td>\n",
       "      <td>0.04</td>\n",
       "      <td>8.68</td>\n",
       "      <td>0.233089</td>\n",
       "      <td>0.146807</td>\n",
       "      <td>0.053030</td>\n",
       "      <td>0.0</td>\n",
       "    </tr>\n",
       "  </tbody>\n",
       "</table>\n",
       "</div>"
      ],
      "text/plain": [
       "    EPS  Liquidity  Profitability  Productivity  Leverage Ratio  \\\n",
       "0  1.58       0.36           0.18          0.13            1.33   \n",
       "1  1.41       0.36           0.19          0.12            1.31   \n",
       "2  0.31       0.32           0.13          0.08            1.03   \n",
       "3  0.71       0.28           0.14          0.08            0.80   \n",
       "4  0.75       0.41           0.13          0.08            0.20   \n",
       "\n",
       "   Asset Turnover  Operational Margin  Return on Equity  Market Book Ratio  \\\n",
       "0            1.77                0.07              0.15               2.22   \n",
       "1            1.59                0.07              0.13               2.41   \n",
       "2            1.55                0.05              0.04               2.56   \n",
       "3            1.39                0.06              0.05               5.28   \n",
       "4            1.30                0.06              0.04               8.68   \n",
       "\n",
       "   Assets Growth  Sales Growth  Employee Growth   BK  \n",
       "0       0.111757     -0.002385         0.057881  0.0  \n",
       "1       0.126319      0.014278         0.040179  0.0  \n",
       "2       0.368077      0.327909         0.566524  0.0  \n",
       "3      -0.020809     -0.118904        -0.095890  0.0  \n",
       "4       0.233089      0.146807         0.053030  0.0  "
      ]
     },
     "execution_count": 107,
     "metadata": {},
     "output_type": "execute_result"
    }
   ],
   "source": [
    "train_data.head()"
   ]
  },
  {
   "cell_type": "markdown",
   "id": "2005f555",
   "metadata": {},
   "source": [
    "#### 2.3.2 Check Outliers and remove them?"
   ]
  },
  {
   "cell_type": "code",
   "execution_count": 45,
   "id": "4e0891e8",
   "metadata": {},
   "outputs": [],
   "source": [
    "# Task: Check for Outliers per Column and determine what to do with it.\n",
    "# check: https://www.itl.nist.gov/div898/handbook/prc/section1/prc16.htm \n",
    "# for more information\n",
    "#    Below the first quartile − 3 ∗ interquartile range\n",
    "#    Above the third quartile + 3 ∗ interquartile range"
   ]
  },
  {
   "cell_type": "code",
   "execution_count": 108,
   "id": "bd8d6caa",
   "metadata": {},
   "outputs": [],
   "source": [
    "def plot_boxplot(df,ft):\n",
    "    df.boxplot(column=[ft])\n",
    "    plt.grid(False)\n",
    "    plt.show()"
   ]
  },
  {
   "cell_type": "code",
   "execution_count": 109,
   "id": "2f064626",
   "metadata": {},
   "outputs": [
    {
     "data": {
      "image/png": "[encoded data removed]",
      "text/plain": [
       "<Figure size 432x288 with 1 Axes>"
      ]
     },
     "metadata": {
      "needs_background": "light"
     },
     "output_type": "display_data"
    }
   ],
   "source": [
    "plot_boxplot(train_data,'EPS')"
   ]
  },
  {
   "cell_type": "code",
   "execution_count": 20,
   "id": "d0f28be5",
   "metadata": {},
   "outputs": [],
   "source": [
    "#------------------------------------------------------------------------------\n",
    "# accept a dataframe, remove outliers, return cleaned data in a new dataframe\n",
    "# see http://www.itl.nist.gov/div898/handbook/prc/section1/prc16.htm\n",
    "#------------------------------------------------------------------------------\n",
    "def outliers(df, col):\n",
    "    q1 = df[col].quantile(0.25)\n",
    "    q3 = df[col].quantile(0.75)\n",
    "    IQR = q3 - q1\n",
    "    lower_bound = q1 - 1.5 * IQR\n",
    "    upper_bound = q3 - 1.5 * IQR\n",
    "    ls = df.index[(df[col] < lower_bound) | (df[col]> upper_bound)]\n",
    "    return ls"
   ]
  },
  {
   "cell_type": "code",
   "execution_count": 59,
   "id": "b59d7cf7",
   "metadata": {},
   "outputs": [],
   "source": [
    "train_describe_std = train_data.describe().loc['std',:]"
   ]
  },
  {
   "cell_type": "code",
   "execution_count": 72,
   "id": "40caa99f",
   "metadata": {},
   "outputs": [],
   "source": [
    "extreme_cols = train_describe_std[train_describe_std>10000].index.values\n",
    "regular_cols = [col for col in train_data.columns[:-1]if col not in extreme_cols]"
   ]
  },
  {
   "cell_type": "code",
   "execution_count": 73,
   "id": "af897053",
   "metadata": {},
   "outputs": [
    {
     "data": {
      "text/plain": [
       "<AxesSubplot:>"
      ]
     },
     "execution_count": 73,
     "metadata": {},
     "output_type": "execute_result"
    },
    {
     "data": {
      "image/png": "[encoded data removed]",
      "text/plain": [
       "<Figure size 432x288 with 1 Axes>"
      ]
     },
     "metadata": {
      "needs_background": "light"
     },
     "output_type": "display_data"
    }
   ],
   "source": [
    "train_data.loc[:,regular_cols].boxplot()"
   ]
  },
  {
   "cell_type": "code",
   "execution_count": 66,
   "id": "7215b9fd",
   "metadata": {
    "scrolled": true
   },
   "outputs": [
    {
     "data": {
      "text/plain": [
       "<AxesSubplot:>"
      ]
     },
     "execution_count": 66,
     "metadata": {},
     "output_type": "execute_result"
    },
    {
     "data": {
      "image/png": "[encoded data removed]",
      "text/plain": [
       "<Figure size 432x288 with 1 Axes>"
      ]
     },
     "metadata": {
      "needs_background": "light"
     },
     "output_type": "display_data"
    }
   ],
   "source": [
    "train_data.loc[:,extreme_cols].boxplot()"
   ]
  },
  {
   "cell_type": "code",
   "execution_count": 75,
   "id": "5e9b8f07",
   "metadata": {
    "scrolled": false
   },
   "outputs": [
    {
     "data": {
      "text/plain": [
       "(array([92314.,     0.,     0.,     0.,     0.,     0.,     0.,     0.,\n",
       "            0.,   558.]),\n",
       " array([0. , 0.1, 0.2, 0.3, 0.4, 0.5, 0.6, 0.7, 0.8, 0.9, 1. ]),\n",
       " <BarContainer object of 10 artists>)"
      ]
     },
     "execution_count": 75,
     "metadata": {},
     "output_type": "execute_result"
    },
    {
     "data": {
      "image/png": "[encoded data removed]",
      "text/plain": [
       "<Figure size 432x288 with 1 Axes>"
      ]
     },
     "metadata": {
      "needs_background": "light"
     },
     "output_type": "display_data"
    }
   ],
   "source": [
    "plt.hist(train_data.iloc[:,-1])"
   ]
  },
  {
   "cell_type": "code",
   "execution_count": 118,
   "id": "9a90537e",
   "metadata": {},
   "outputs": [],
   "source": [
    "copy_data = train_data"
   ]
  },
  {
   "cell_type": "code",
   "execution_count": 119,
   "id": "9f52d3a8",
   "metadata": {},
   "outputs": [
    {
     "data": {
      "text/html": [
       "<div>\n",
       "<style scoped>\n",
       "    .dataframe tbody tr th:only-of-type {\n",
       "        vertical-align: middle;\n",
       "    }\n",
       "\n",
       "    .dataframe tbody tr th {\n",
       "        vertical-align: top;\n",
       "    }\n",
       "\n",
       "    .dataframe thead th {\n",
       "        text-align: right;\n",
       "    }\n",
       "</style>\n",
       "<table border=\"1\" class=\"dataframe\">\n",
       "  <thead>\n",
       "    <tr style=\"text-align: right;\">\n",
       "      <th></th>\n",
       "      <th>EPS</th>\n",
       "      <th>Liquidity</th>\n",
       "      <th>Profitability</th>\n",
       "      <th>Productivity</th>\n",
       "      <th>Leverage Ratio</th>\n",
       "      <th>Asset Turnover</th>\n",
       "      <th>Operational Margin</th>\n",
       "      <th>Return on Equity</th>\n",
       "      <th>Market Book Ratio</th>\n",
       "      <th>Assets Growth</th>\n",
       "      <th>Sales Growth</th>\n",
       "      <th>Employee Growth</th>\n",
       "      <th>BK</th>\n",
       "    </tr>\n",
       "  </thead>\n",
       "  <tbody>\n",
       "    <tr>\n",
       "      <th>0</th>\n",
       "      <td>1.580000</td>\n",
       "      <td>0.360000</td>\n",
       "      <td>0.180000</td>\n",
       "      <td>0.130000</td>\n",
       "      <td>1.330000</td>\n",
       "      <td>1.770000</td>\n",
       "      <td>0.070000</td>\n",
       "      <td>0.150000</td>\n",
       "      <td>2.220000</td>\n",
       "      <td>0.111757</td>\n",
       "      <td>-0.002385</td>\n",
       "      <td>0.057881</td>\n",
       "      <td>0.0</td>\n",
       "    </tr>\n",
       "    <tr>\n",
       "      <th>1</th>\n",
       "      <td>1.410000</td>\n",
       "      <td>0.360000</td>\n",
       "      <td>0.190000</td>\n",
       "      <td>0.120000</td>\n",
       "      <td>1.310000</td>\n",
       "      <td>1.590000</td>\n",
       "      <td>0.070000</td>\n",
       "      <td>0.130000</td>\n",
       "      <td>2.410000</td>\n",
       "      <td>0.126319</td>\n",
       "      <td>0.014278</td>\n",
       "      <td>0.040179</td>\n",
       "      <td>0.0</td>\n",
       "    </tr>\n",
       "    <tr>\n",
       "      <th>2</th>\n",
       "      <td>0.310000</td>\n",
       "      <td>0.320000</td>\n",
       "      <td>0.130000</td>\n",
       "      <td>0.080000</td>\n",
       "      <td>1.030000</td>\n",
       "      <td>1.550000</td>\n",
       "      <td>0.050000</td>\n",
       "      <td>0.040000</td>\n",
       "      <td>2.560000</td>\n",
       "      <td>0.368077</td>\n",
       "      <td>0.327909</td>\n",
       "      <td>0.566524</td>\n",
       "      <td>0.0</td>\n",
       "    </tr>\n",
       "    <tr>\n",
       "      <th>3</th>\n",
       "      <td>0.710000</td>\n",
       "      <td>0.280000</td>\n",
       "      <td>0.140000</td>\n",
       "      <td>0.080000</td>\n",
       "      <td>0.800000</td>\n",
       "      <td>1.390000</td>\n",
       "      <td>0.060000</td>\n",
       "      <td>0.050000</td>\n",
       "      <td>5.280000</td>\n",
       "      <td>-0.020809</td>\n",
       "      <td>-0.118904</td>\n",
       "      <td>-0.095890</td>\n",
       "      <td>0.0</td>\n",
       "    </tr>\n",
       "    <tr>\n",
       "      <th>4</th>\n",
       "      <td>0.750000</td>\n",
       "      <td>0.410000</td>\n",
       "      <td>0.130000</td>\n",
       "      <td>0.080000</td>\n",
       "      <td>0.200000</td>\n",
       "      <td>1.300000</td>\n",
       "      <td>0.060000</td>\n",
       "      <td>0.040000</td>\n",
       "      <td>8.680000</td>\n",
       "      <td>0.233089</td>\n",
       "      <td>0.146807</td>\n",
       "      <td>0.053030</td>\n",
       "      <td>0.0</td>\n",
       "    </tr>\n",
       "    <tr>\n",
       "      <th>...</th>\n",
       "      <td>...</td>\n",
       "      <td>...</td>\n",
       "      <td>...</td>\n",
       "      <td>...</td>\n",
       "      <td>...</td>\n",
       "      <td>...</td>\n",
       "      <td>...</td>\n",
       "      <td>...</td>\n",
       "      <td>...</td>\n",
       "      <td>...</td>\n",
       "      <td>...</td>\n",
       "      <td>...</td>\n",
       "      <td>...</td>\n",
       "    </tr>\n",
       "    <tr>\n",
       "      <th>92865</th>\n",
       "      <td>-0.358336</td>\n",
       "      <td>-0.064598</td>\n",
       "      <td>-0.139986</td>\n",
       "      <td>-0.012580</td>\n",
       "      <td>1.548588</td>\n",
       "      <td>0.136766</td>\n",
       "      <td>-0.091980</td>\n",
       "      <td>-0.175655</td>\n",
       "      <td>-311.774624</td>\n",
       "      <td>11.124344</td>\n",
       "      <td>10.125858</td>\n",
       "      <td>4.454545</td>\n",
       "      <td>0.0</td>\n",
       "    </tr>\n",
       "    <tr>\n",
       "      <th>92866</th>\n",
       "      <td>-1.468547</td>\n",
       "      <td>-0.013103</td>\n",
       "      <td>-0.565395</td>\n",
       "      <td>-0.245705</td>\n",
       "      <td>5.768961</td>\n",
       "      <td>0.364629</td>\n",
       "      <td>-0.673847</td>\n",
       "      <td>-8.158593</td>\n",
       "      <td>-8.924311</td>\n",
       "      <td>-0.347987</td>\n",
       "      <td>0.738326</td>\n",
       "      <td>-0.133333</td>\n",
       "      <td>0.0</td>\n",
       "    </tr>\n",
       "    <tr>\n",
       "      <th>92868</th>\n",
       "      <td>-1.807630</td>\n",
       "      <td>0.093838</td>\n",
       "      <td>-1.204734</td>\n",
       "      <td>-0.121122</td>\n",
       "      <td>-4.530214</td>\n",
       "      <td>0.215844</td>\n",
       "      <td>-0.561155</td>\n",
       "      <td>-4.519074</td>\n",
       "      <td>-2.474549</td>\n",
       "      <td>-0.201835</td>\n",
       "      <td>-0.010544</td>\n",
       "      <td>-0.208333</td>\n",
       "      <td>0.0</td>\n",
       "    </tr>\n",
       "    <tr>\n",
       "      <th>92869</th>\n",
       "      <td>-0.015660</td>\n",
       "      <td>0.039260</td>\n",
       "      <td>0.000000</td>\n",
       "      <td>-0.082429</td>\n",
       "      <td>0.744907</td>\n",
       "      <td>0.254186</td>\n",
       "      <td>-0.324286</td>\n",
       "      <td>-0.569448</td>\n",
       "      <td>3274.505633</td>\n",
       "      <td>-0.168001</td>\n",
       "      <td>-0.020206</td>\n",
       "      <td>-0.105263</td>\n",
       "      <td>0.0</td>\n",
       "    </tr>\n",
       "    <tr>\n",
       "      <th>92870</th>\n",
       "      <td>-0.133054</td>\n",
       "      <td>0.053678</td>\n",
       "      <td>-0.029471</td>\n",
       "      <td>0.000998</td>\n",
       "      <td>0.574570</td>\n",
       "      <td>0.195683</td>\n",
       "      <td>0.005101</td>\n",
       "      <td>-0.085842</td>\n",
       "      <td>36.474842</td>\n",
       "      <td>0.076936</td>\n",
       "      <td>-0.170928</td>\n",
       "      <td>-0.058824</td>\n",
       "      <td>0.0</td>\n",
       "    </tr>\n",
       "  </tbody>\n",
       "</table>\n",
       "<p>91108 rows × 13 columns</p>\n",
       "</div>"
      ],
      "text/plain": [
       "            EPS  Liquidity  Profitability  Productivity  Leverage Ratio  \\\n",
       "0      1.580000   0.360000       0.180000      0.130000        1.330000   \n",
       "1      1.410000   0.360000       0.190000      0.120000        1.310000   \n",
       "2      0.310000   0.320000       0.130000      0.080000        1.030000   \n",
       "3      0.710000   0.280000       0.140000      0.080000        0.800000   \n",
       "4      0.750000   0.410000       0.130000      0.080000        0.200000   \n",
       "...         ...        ...            ...           ...             ...   \n",
       "92865 -0.358336  -0.064598      -0.139986     -0.012580        1.548588   \n",
       "92866 -1.468547  -0.013103      -0.565395     -0.245705        5.768961   \n",
       "92868 -1.807630   0.093838      -1.204734     -0.121122       -4.530214   \n",
       "92869 -0.015660   0.039260       0.000000     -0.082429        0.744907   \n",
       "92870 -0.133054   0.053678      -0.029471      0.000998        0.574570   \n",
       "\n",
       "       Asset Turnover  Operational Margin  Return on Equity  \\\n",
       "0            1.770000            0.070000          0.150000   \n",
       "1            1.590000            0.070000          0.130000   \n",
       "2            1.550000            0.050000          0.040000   \n",
       "3            1.390000            0.060000          0.050000   \n",
       "4            1.300000            0.060000          0.040000   \n",
       "...               ...                 ...               ...   \n",
       "92865        0.136766           -0.091980         -0.175655   \n",
       "92866        0.364629           -0.673847         -8.158593   \n",
       "92868        0.215844           -0.561155         -4.519074   \n",
       "92869        0.254186           -0.324286         -0.569448   \n",
       "92870        0.195683            0.005101         -0.085842   \n",
       "\n",
       "       Market Book Ratio  Assets Growth  Sales Growth  Employee Growth   BK  \n",
       "0               2.220000       0.111757     -0.002385         0.057881  0.0  \n",
       "1               2.410000       0.126319      0.014278         0.040179  0.0  \n",
       "2               2.560000       0.368077      0.327909         0.566524  0.0  \n",
       "3               5.280000      -0.020809     -0.118904        -0.095890  0.0  \n",
       "4               8.680000       0.233089      0.146807         0.053030  0.0  \n",
       "...                  ...            ...           ...              ...  ...  \n",
       "92865        -311.774624      11.124344     10.125858         4.454545  0.0  \n",
       "92866          -8.924311      -0.347987      0.738326        -0.133333  0.0  \n",
       "92868          -2.474549      -0.201835     -0.010544        -0.208333  0.0  \n",
       "92869        3274.505633      -0.168001     -0.020206        -0.105263  0.0  \n",
       "92870          36.474842       0.076936     -0.170928        -0.058824  0.0  \n",
       "\n",
       "[91108 rows x 13 columns]"
      ]
     },
     "execution_count": 119,
     "metadata": {},
     "output_type": "execute_result"
    }
   ],
   "source": [
    "copy_data"
   ]
  },
  {
   "cell_type": "code",
   "execution_count": 124,
   "id": "e1506158",
   "metadata": {},
   "outputs": [],
   "source": [
    "def drop_numerical_outliers(df, z_thresh=3):\n",
    "    print('Before dropping outliers: ', df.shape)\n",
    "    # Constrains will contain `True` or `False` depending on if it is a value below the threshold.\n",
    "    constraints = df.iloc[:,:-1].select_dtypes(include=[np.number]) \\\n",
    "        .apply(lambda x: np.abs(stats.zscore(x)) < z_thresh, False) \\\n",
    "        .all(axis=1)\n",
    "    # Drop (inplace) values set to be rejected\n",
    "    df.drop(df.index[~constraints], inplace=True)\n",
    "    print('After dropping outliers: ', df.shape)"
   ]
  },
  {
   "cell_type": "code",
   "execution_count": 125,
   "id": "04e62c57",
   "metadata": {},
   "outputs": [
    {
     "name": "stdout",
     "output_type": "stream",
     "text": [
      "Before dropping outliers:  (91108, 13)\n",
      "After dropping outliers:  (85262, 13)\n"
     ]
    }
   ],
   "source": [
    "drop_numerical_outliers(copy_data)"
   ]
  },
  {
   "cell_type": "code",
   "execution_count": 127,
   "id": "9dcaa53f",
   "metadata": {
    "scrolled": true
   },
   "outputs": [
    {
     "data": {
      "text/plain": [
       "<AxesSubplot:>"
      ]
     },
     "execution_count": 127,
     "metadata": {},
     "output_type": "execute_result"
    },
    {
     "data": {
      "image/png": "[encoded data removed]",
      "text/plain": [
       "<Figure size 432x288 with 1 Axes>"
      ]
     },
     "metadata": {
      "needs_background": "light"
     },
     "output_type": "display_data"
    }
   ],
   "source": [
    "copy_data.loc[:,extreme_cols].boxplot()"
   ]
  },
  {
   "cell_type": "code",
   "execution_count": 128,
   "id": "062e6cba",
   "metadata": {
    "scrolled": true
   },
   "outputs": [
    {
     "data": {
      "text/plain": [
       "<AxesSubplot:>"
      ]
     },
     "execution_count": 128,
     "metadata": {},
     "output_type": "execute_result"
    },
    {
     "data": {
      "image/png": "[encoded data removed]",
      "text/plain": [
       "<Figure size 432x288 with 1 Axes>"
      ]
     },
     "metadata": {
      "needs_background": "light"
     },
     "output_type": "display_data"
    }
   ],
   "source": [
    "copy_data.loc[:,regular_cols].boxplot()"
   ]
  },
  {
   "cell_type": "code",
   "execution_count": 131,
   "id": "aafe5071",
   "metadata": {
    "scrolled": true
   },
   "outputs": [
    {
     "data": {
      "image/png": "[encoded data removed]",
      "text/plain": [
       "<Figure size 432x288 with 1 Axes>"
      ]
     },
     "metadata": {
      "needs_background": "light"
     },
     "output_type": "display_data"
    }
   ],
   "source": [
    "plot_boxplot(copy_data,'EPS')"
   ]
  },
  {
   "cell_type": "code",
   "execution_count": 132,
   "id": "f0d73350",
   "metadata": {
    "scrolled": true
   },
   "outputs": [
    {
     "data": {
      "image/png": "[encoded data removed]",
      "text/plain": [
       "<Figure size 432x288 with 1 Axes>"
      ]
     },
     "metadata": {
      "needs_background": "light"
     },
     "output_type": "display_data"
    }
   ],
   "source": [
    "plot_boxplot(copy_data,'Liquidity')"
   ]
  },
  {
   "cell_type": "code",
   "execution_count": 134,
   "id": "aa91a895",
   "metadata": {},
   "outputs": [
    {
     "data": {
      "image/png": "[encoded data removed]",
      "text/plain": [
       "<Figure size 432x288 with 16 Axes>"
      ]
     },
     "metadata": {
      "needs_background": "light"
     },
     "output_type": "display_data"
    }
   ],
   "source": [
    "copy_data.hist()\n",
    "plt.show()"
   ]
  },
  {
   "cell_type": "markdown",
   "id": "a1467265",
   "metadata": {},
   "source": [
    "### 2.3.1 Dealing with imbalanced data"
   ]
  },
  {
   "cell_type": "code",
   "execution_count": null,
   "id": "8fbb7ece",
   "metadata": {},
   "outputs": [],
   "source": [
    "# pip install plotly --quiet\n",
    "# pip install cufflinks --quiet\n",
    "\n",
    "# if you haven't downloaded these "
   ]
  },
  {
   "cell_type": "code",
   "execution_count": null,
   "id": "a2f4b363",
   "metadata": {},
   "outputs": [],
   "source": [
    "import plotly.express as px\n",
    "import cufflinks as cf\n",
    "\n",
    "df['Employee Growth'].iplot()"
   ]
  },
  {
   "cell_type": "code",
   "execution_count": 10,
   "id": "2a942887",
   "metadata": {},
   "outputs": [
    {
     "data": {
      "text/plain": [
       "{'EPS': 6988,\n",
       " 'Liquidity': 6109,\n",
       " 'Profitability': 9364,\n",
       " 'Productivity': 6076,\n",
       " 'Leverage Ratio': 6937,\n",
       " 'Asset Turnover': 5052,\n",
       " 'Operational Margin': 7486,\n",
       " 'Return on Equity': 5751,\n",
       " 'Market Book Ratio': 50337,\n",
       " 'Assets Growth': 85605,\n",
       " 'Sales Growth': 80351,\n",
       " 'Employee Growth': 49533,\n",
       " 'BK': 2}"
      ]
     },
     "execution_count": 10,
     "metadata": {},
     "output_type": "execute_result"
    }
   ],
   "source": [
    "{column: len(df[column].unique()) for column in df.columns} # check if all are unique"
   ]
  },
  {
   "cell_type": "markdown",
   "id": "c12ad62b",
   "metadata": {},
   "source": [
    "All data are unique"
   ]
  },
  {
   "cell_type": "markdown",
   "id": "5e7af5e4",
   "metadata": {},
   "source": [
    "## 2.4 Initial Data Exploration"
   ]
  },
  {
   "cell_type": "markdown",
   "id": "f3546a66",
   "metadata": {},
   "source": [
    "### 2.41 Distributions"
   ]
  },
  {
   "cell_type": "code",
   "execution_count": 100,
   "id": "fd0bf4cb",
   "metadata": {},
   "outputs": [],
   "source": [
    "def count_values_table(df):\n",
    "        count_val = df.value_counts()\n",
    "        count_val_percent = 100 * df.value_counts() / len(df)\n",
    "        count_val_table = pd.concat([count_val, count_val_percent.round(1)], axis=1)\n",
    "        count_val_table_ren_columns = count_val_table.rename(\n",
    "        columns = {0 : 'Count Values', 1 : '% of Total Values'})\n",
    "        return count_val_table_ren_columns"
   ]
  },
  {
   "cell_type": "code",
   "execution_count": 94,
   "id": "b7c2ef48",
   "metadata": {},
   "outputs": [],
   "source": [
    "# Histogram\n",
    "def hist_chart(df, col):\n",
    "        plt.style.use('fivethirtyeight')\n",
    "        plt.hist(df[col].dropna(), edgecolor = 'k');\n",
    "        plt.xlabel(col); plt.ylabel('Number of Entries');\n",
    "        plt.title('Distribution of '+col);"
   ]
  },
  {
   "cell_type": "code",
   "execution_count": 101,
   "id": "bf11181f",
   "metadata": {},
   "outputs": [
    {
     "data": {
      "text/html": [
       "<div>\n",
       "<style scoped>\n",
       "    .dataframe tbody tr th:only-of-type {\n",
       "        vertical-align: middle;\n",
       "    }\n",
       "\n",
       "    .dataframe tbody tr th {\n",
       "        vertical-align: top;\n",
       "    }\n",
       "\n",
       "    .dataframe thead th {\n",
       "        text-align: right;\n",
       "    }\n",
       "</style>\n",
       "<table border=\"1\" class=\"dataframe\">\n",
       "  <thead>\n",
       "    <tr style=\"text-align: right;\">\n",
       "      <th></th>\n",
       "      <th></th>\n",
       "      <th></th>\n",
       "      <th></th>\n",
       "      <th></th>\n",
       "      <th></th>\n",
       "      <th></th>\n",
       "      <th></th>\n",
       "      <th></th>\n",
       "      <th></th>\n",
       "      <th></th>\n",
       "      <th></th>\n",
       "      <th></th>\n",
       "      <th>Count Values</th>\n",
       "      <th>% of Total Values</th>\n",
       "    </tr>\n",
       "    <tr>\n",
       "      <th>EPS</th>\n",
       "      <th>Liquidity</th>\n",
       "      <th>Profitability</th>\n",
       "      <th>Productivity</th>\n",
       "      <th>Leverage Ratio</th>\n",
       "      <th>Asset Turnover</th>\n",
       "      <th>Operational Margin</th>\n",
       "      <th>Return on Equity</th>\n",
       "      <th>Market Book Ratio</th>\n",
       "      <th>Assets Growth</th>\n",
       "      <th>Sales Growth</th>\n",
       "      <th>Employee Growth</th>\n",
       "      <th>BK</th>\n",
       "      <th></th>\n",
       "      <th></th>\n",
       "    </tr>\n",
       "  </thead>\n",
       "  <tbody>\n",
       "    <tr>\n",
       "      <th>2.43</th>\n",
       "      <th>0.05</th>\n",
       "      <th>0.24</th>\n",
       "      <th>0.09</th>\n",
       "      <th>0.75</th>\n",
       "      <th>0.55</th>\n",
       "      <th>0.17</th>\n",
       "      <th>0.08</th>\n",
       "      <th>43.69</th>\n",
       "      <th>0.067080</th>\n",
       "      <th>0.018128</th>\n",
       "      <th>0.026830</th>\n",
       "      <th>0</th>\n",
       "      <td>2</td>\n",
       "      <td>0.0</td>\n",
       "    </tr>\n",
       "    <tr>\n",
       "      <th>2.28</th>\n",
       "      <th>0.00</th>\n",
       "      <th>0.12</th>\n",
       "      <th>0.10</th>\n",
       "      <th>1.04</th>\n",
       "      <th>0.33</th>\n",
       "      <th>0.29</th>\n",
       "      <th>0.08</th>\n",
       "      <th>265.59</th>\n",
       "      <th>0.032411</th>\n",
       "      <th>0.072050</th>\n",
       "      <th>-0.011426</th>\n",
       "      <th>0</th>\n",
       "      <td>2</td>\n",
       "      <td>0.0</td>\n",
       "    </tr>\n",
       "    <tr>\n",
       "      <th>3.66</th>\n",
       "      <th>-0.01</th>\n",
       "      <th>0.13</th>\n",
       "      <th>0.08</th>\n",
       "      <th>0.78</th>\n",
       "      <th>0.49</th>\n",
       "      <th>0.16</th>\n",
       "      <th>0.10</th>\n",
       "      <th>16.70</th>\n",
       "      <th>0.069080</th>\n",
       "      <th>-0.253067</th>\n",
       "      <th>-0.199961</th>\n",
       "      <th>0</th>\n",
       "      <td>2</td>\n",
       "      <td>0.0</td>\n",
       "    </tr>\n",
       "    <tr>\n",
       "      <th>2.37</th>\n",
       "      <th>0.06</th>\n",
       "      <th>0.24</th>\n",
       "      <th>0.09</th>\n",
       "      <th>0.82</th>\n",
       "      <th>0.58</th>\n",
       "      <th>0.16</th>\n",
       "      <th>0.08</th>\n",
       "      <th>40.08</th>\n",
       "      <th>0.063709</th>\n",
       "      <th>0.058621</th>\n",
       "      <th>0.034496</th>\n",
       "      <th>0</th>\n",
       "      <td>2</td>\n",
       "      <td>0.0</td>\n",
       "    </tr>\n",
       "    <tr>\n",
       "      <th>2.67</th>\n",
       "      <th>-0.07</th>\n",
       "      <th>0.10</th>\n",
       "      <th>0.11</th>\n",
       "      <th>0.90</th>\n",
       "      <th>0.76</th>\n",
       "      <th>0.14</th>\n",
       "      <th>0.10</th>\n",
       "      <th>12.19</th>\n",
       "      <th>-0.060779</th>\n",
       "      <th>-0.268154</th>\n",
       "      <th>-0.344557</th>\n",
       "      <th>0</th>\n",
       "      <td>2</td>\n",
       "      <td>0.0</td>\n",
       "    </tr>\n",
       "    <tr>\n",
       "      <th>...</th>\n",
       "      <th>...</th>\n",
       "      <th>...</th>\n",
       "      <th>...</th>\n",
       "      <th>...</th>\n",
       "      <th>...</th>\n",
       "      <th>...</th>\n",
       "      <th>...</th>\n",
       "      <th>...</th>\n",
       "      <th>...</th>\n",
       "      <th>...</th>\n",
       "      <th>...</th>\n",
       "      <th>...</th>\n",
       "      <td>...</td>\n",
       "      <td>...</td>\n",
       "    </tr>\n",
       "    <tr>\n",
       "      <th rowspan=\"4\" valign=\"top\">0.00</th>\n",
       "      <th>-1.02</th>\n",
       "      <th>-64.83</th>\n",
       "      <th>-0.84</th>\n",
       "      <th>-1.04</th>\n",
       "      <th>0.73</th>\n",
       "      <th>-1.15</th>\n",
       "      <th>-0.85</th>\n",
       "      <th>-3786.32</th>\n",
       "      <th>-0.017893</th>\n",
       "      <th>-0.153846</th>\n",
       "      <th>0.000000</th>\n",
       "      <th>0</th>\n",
       "      <td>1</td>\n",
       "      <td>0.0</td>\n",
       "    </tr>\n",
       "    <tr>\n",
       "      <th rowspan=\"2\" valign=\"top\">-1.04</th>\n",
       "      <th>-9.14</th>\n",
       "      <th>-0.76</th>\n",
       "      <th>-2.49</th>\n",
       "      <th>0.62</th>\n",
       "      <th>-1.22</th>\n",
       "      <th>-3.55</th>\n",
       "      <th>-22.28</th>\n",
       "      <th>-0.135593</th>\n",
       "      <th>-0.509690</th>\n",
       "      <th>-0.080952</th>\n",
       "      <th>0</th>\n",
       "      <td>1</td>\n",
       "      <td>0.0</td>\n",
       "    </tr>\n",
       "    <tr>\n",
       "      <th>-193.63</th>\n",
       "      <th>-5.52</th>\n",
       "      <th>0.00</th>\n",
       "      <th>0.70</th>\n",
       "      <th>-7.84</th>\n",
       "      <th>-0.13</th>\n",
       "      <th>-11653.16</th>\n",
       "      <th>-0.908947</th>\n",
       "      <th>-0.820000</th>\n",
       "      <th>-0.931818</th>\n",
       "      <th>0</th>\n",
       "      <td>1</td>\n",
       "      <td>0.0</td>\n",
       "    </tr>\n",
       "    <tr>\n",
       "      <th>-1.05</th>\n",
       "      <th>-7.82</th>\n",
       "      <th>-3.25</th>\n",
       "      <th>-1.58</th>\n",
       "      <th>3.34</th>\n",
       "      <th>-0.97</th>\n",
       "      <th>-0.42</th>\n",
       "      <th>-3519.17</th>\n",
       "      <th>-0.791356</th>\n",
       "      <th>0.019608</th>\n",
       "      <th>-0.230769</th>\n",
       "      <th>0</th>\n",
       "      <td>1</td>\n",
       "      <td>0.0</td>\n",
       "    </tr>\n",
       "    <tr>\n",
       "      <th>55339.00</th>\n",
       "      <th>0.10</th>\n",
       "      <th>0.00</th>\n",
       "      <th>0.15</th>\n",
       "      <th>14.79</th>\n",
       "      <th>0.86</th>\n",
       "      <th>0.17</th>\n",
       "      <th>813.81</th>\n",
       "      <th>0.00</th>\n",
       "      <th>0.575813</th>\n",
       "      <th>0.068859</th>\n",
       "      <th>-0.210938</th>\n",
       "      <th>0</th>\n",
       "      <td>1</td>\n",
       "      <td>0.0</td>\n",
       "    </tr>\n",
       "  </tbody>\n",
       "</table>\n",
       "<p>81185 rows × 2 columns</p>\n",
       "</div>"
      ],
      "text/plain": [
       "                                                                                                                                                                                 Count Values  \\\n",
       "EPS      Liquidity Profitability Productivity Leverage Ratio Asset Turnover Operational Margin Return on Equity Market Book Ratio Assets Growth Sales Growth Employee Growth BK                 \n",
       "2.43      0.05      0.24          0.09         0.75          0.55            0.17               0.08             43.69             0.067080      0.018128     0.026830       0              2   \n",
       "2.28      0.00      0.12          0.10         1.04          0.33            0.29               0.08             265.59            0.032411      0.072050    -0.011426       0              2   \n",
       "3.66     -0.01      0.13          0.08         0.78          0.49            0.16               0.10             16.70             0.069080     -0.253067    -0.199961       0              2   \n",
       "2.37      0.06      0.24          0.09         0.82          0.58            0.16               0.08             40.08             0.063709      0.058621     0.034496       0              2   \n",
       "2.67     -0.07      0.10          0.11         0.90          0.76            0.14               0.10             12.19            -0.060779     -0.268154    -0.344557       0              2   \n",
       "...                                                                                                                                                                                       ...   \n",
       "0.00     -1.02     -64.83        -0.84        -1.04          0.73           -1.15              -0.85            -3786.32          -0.017893     -0.153846     0.000000       0              1   \n",
       "         -1.04     -9.14         -0.76        -2.49          0.62           -1.22              -3.55            -22.28            -0.135593     -0.509690    -0.080952       0              1   \n",
       "                   -193.63       -5.52         0.00          0.70           -7.84              -0.13            -11653.16         -0.908947     -0.820000    -0.931818       0              1   \n",
       "         -1.05     -7.82         -3.25        -1.58          3.34           -0.97              -0.42            -3519.17          -0.791356      0.019608    -0.230769       0              1   \n",
       "55339.00  0.10      0.00          0.15         14.79         0.86            0.17               813.81           0.00              0.575813      0.068859    -0.210938       0              1   \n",
       "\n",
       "                                                                                                                                                                                 % of Total Values  \n",
       "EPS      Liquidity Profitability Productivity Leverage Ratio Asset Turnover Operational Margin Return on Equity Market Book Ratio Assets Growth Sales Growth Employee Growth BK                     \n",
       "2.43      0.05      0.24          0.09         0.75          0.55            0.17               0.08             43.69             0.067080      0.018128     0.026830       0                 0.0  \n",
       "2.28      0.00      0.12          0.10         1.04          0.33            0.29               0.08             265.59            0.032411      0.072050    -0.011426       0                 0.0  \n",
       "3.66     -0.01      0.13          0.08         0.78          0.49            0.16               0.10             16.70             0.069080     -0.253067    -0.199961       0                 0.0  \n",
       "2.37      0.06      0.24          0.09         0.82          0.58            0.16               0.08             40.08             0.063709      0.058621     0.034496       0                 0.0  \n",
       "2.67     -0.07      0.10          0.11         0.90          0.76            0.14               0.10             12.19            -0.060779     -0.268154    -0.344557       0                 0.0  \n",
       "...                                                                                                                                                                                            ...  \n",
       "0.00     -1.02     -64.83        -0.84        -1.04          0.73           -1.15              -0.85            -3786.32          -0.017893     -0.153846     0.000000       0                 0.0  \n",
       "         -1.04     -9.14         -0.76        -2.49          0.62           -1.22              -3.55            -22.28            -0.135593     -0.509690    -0.080952       0                 0.0  \n",
       "                   -193.63       -5.52         0.00          0.70           -7.84              -0.13            -11653.16         -0.908947     -0.820000    -0.931818       0                 0.0  \n",
       "         -1.05     -7.82         -3.25        -1.58          3.34           -0.97              -0.42            -3519.17          -0.791356      0.019608    -0.230769       0                 0.0  \n",
       "55339.00  0.10      0.00          0.15         14.79         0.86            0.17               813.81           0.00              0.575813      0.068859    -0.210938       0                 0.0  \n",
       "\n",
       "[81185 rows x 2 columns]"
      ]
     },
     "execution_count": 101,
     "metadata": {},
     "output_type": "execute_result"
    },
    {
     "data": {
      "image/png": "[encoded data removed]",
      "text/plain": [
       "<Figure size 432x288 with 1 Axes>"
      ]
     },
     "metadata": {},
     "output_type": "display_data"
    }
   ],
   "source": [
    "# This is just an Example\n",
    "col = 'Employee Growth'\n",
    "# Histogram & Results\n",
    "hist_chart(df, col)\n",
    "count_values_table(df)"
   ]
  },
  {
   "cell_type": "markdown",
   "id": "1a201549",
   "metadata": {},
   "source": [
    "### 2.4.2 Correlations"
   ]
  },
  {
   "cell_type": "markdown",
   "id": "31f98932",
   "metadata": {},
   "source": [
    "#### Differencing"
   ]
  },
  {
   "cell_type": "code",
   "execution_count": 66,
   "id": "32b14f3b",
   "metadata": {},
   "outputs": [],
   "source": [
    "# use seaborn and heatmap to show correlation"
   ]
  },
  {
   "cell_type": "markdown",
   "id": "ea5f5d8c",
   "metadata": {},
   "source": [
    "## 2.5 Data Quality Report"
   ]
  },
  {
   "cell_type": "markdown",
   "id": "5f5278a0",
   "metadata": {},
   "source": [
    "    -List the results of the data quality verification. If quality problems exist, suggest possible solutions. Solutions to data quality problems generally depend heavily on both data and business knowledge."
   ]
  },
  {
   "cell_type": "markdown",
   "id": "1770f5ea",
   "metadata": {},
   "source": [
    "# Stage 3 - Data Preperation"
   ]
  },
  {
   "cell_type": "code",
   "execution_count": 52,
   "id": "25f273ba",
   "metadata": {},
   "outputs": [],
   "source": [
    "# Initialize variables for Data inclusion/exclusion"
   ]
  },
  {
   "cell_type": "markdown",
   "id": "3c255588",
   "metadata": {},
   "source": [
    "## 3.2 Clean The Data"
   ]
  },
  {
   "cell_type": "markdown",
   "id": "54ec08bb",
   "metadata": {},
   "source": [
    "### 3.2.1 Label Encoding"
   ]
  },
  {
   "cell_type": "code",
   "execution_count": 96,
   "id": "85768c55",
   "metadata": {},
   "outputs": [],
   "source": [
    "# help? : http://pbpython.com/categorical-encoding.html\n",
    "# Data has fitted headers already"
   ]
  },
  {
   "cell_type": "markdown",
   "id": "d19ad3fc",
   "metadata": {},
   "source": [
    "### 3.2.2 Drop Unnecessary Columns"
   ]
  },
  {
   "cell_type": "code",
   "execution_count": 54,
   "id": "720c412d",
   "metadata": {},
   "outputs": [],
   "source": [
    "# This is the code for deleting columns\n",
    "# del_col_list = ['col1', 'col2']\n",
    "\n",
    "# df = df.drop(del_col_list, axis=1)\n",
    "# df.head()"
   ]
  },
  {
   "cell_type": "markdown",
   "id": "322eb8bc",
   "metadata": {},
   "source": [
    "### 3.2.3 Altering Data Types"
   ]
  },
  {
   "cell_type": "code",
   "execution_count": 141,
   "id": "5111d45c",
   "metadata": {},
   "outputs": [
    {
     "data": {
      "text/plain": [
       "0        0\n",
       "1        0\n",
       "2        0\n",
       "3        0\n",
       "4        0\n",
       "        ..\n",
       "92867    0\n",
       "92868    0\n",
       "92869    0\n",
       "92870    0\n",
       "92871    1\n",
       "Name: BK, Length: 92872, dtype: int8"
      ]
     },
     "execution_count": 141,
     "metadata": {},
     "output_type": "execute_result"
    }
   ],
   "source": [
    "#df['date'] = pd.to_datetime(df['date'])\n",
    "train_data['BK'] = pd.to_numeric(train_data['BK'], downcast=\"integer\")\n",
    "train_data['BK']"
   ]
  },
  {
   "cell_type": "code",
   "execution_count": null,
   "id": "134f0390",
   "metadata": {},
   "outputs": [],
   "source": [
    "# All Data types has been manages"
   ]
  },
  {
   "cell_type": "markdown",
   "id": "072639f9",
   "metadata": {},
   "source": [
    "###  3.2.4 Dealing With Zeros"
   ]
  },
  {
   "cell_type": "code",
   "execution_count": 56,
   "id": "16e6a417",
   "metadata": {},
   "outputs": [],
   "source": [
    "#cols = ['col1', 'col2']\n",
    "#df[cols] = df[cols].replace(0, np.nan)"
   ]
  },
  {
   "cell_type": "code",
   "execution_count": 57,
   "id": "6ea0e40e",
   "metadata": {},
   "outputs": [],
   "source": [
    "# dropping all the rows with na in the columns mentioned above in the list.\n",
    "\n",
    "# df.dropna(subset=cols, inplace=True)"
   ]
  },
  {
   "cell_type": "code",
   "execution_count": null,
   "id": "107e6c62",
   "metadata": {},
   "outputs": [],
   "source": []
  },
  {
   "cell_type": "markdown",
   "id": "289de303",
   "metadata": {},
   "source": [
    "### 3.2.5 Dealing With Duplications"
   ]
  },
  {
   "cell_type": "code",
   "execution_count": 58,
   "id": "d6bcd900",
   "metadata": {},
   "outputs": [],
   "source": [
    "#df = df.drop_duplicates(keep='first')"
   ]
  },
  {
   "cell_type": "code",
   "execution_count": null,
   "id": "00bda616",
   "metadata": {},
   "outputs": [],
   "source": [
    "# No neeed to deal with duplications"
   ]
  },
  {
   "cell_type": "markdown",
   "id": "cef2d026",
   "metadata": {},
   "source": [
    "## 3.3 Construct Required Data"
   ]
  },
  {
   "cell_type": "markdown",
   "id": "9ee554b5",
   "metadata": {},
   "source": [
    "This task includes constructive data preparation operations such as the production of derived attributes or entire new records, or transformed values for existing attributes.\n",
    "\n",
    "- Derived attributes - These are new attributes that are constructed from one or more existing attributes in the same record, for example you might use the variables of length and width to calculate a new variable of area.\n",
    "\n",
    "- Generated records - Here you describe the creation of any completely new records. For example you might need to create records for customers who made no purchase during the past year. There was no reason to have such records in the raw data, but for modelling purposes it might make sense to explicitly represent the fact that particular customers made zero purchases."
   ]
  },
  {
   "cell_type": "code",
   "execution_count": 143,
   "id": "10ee48f5",
   "metadata": {},
   "outputs": [],
   "source": [
    "def preprocess_inputs(df):\n",
    "    df = df.copy()\n",
    "    \n",
    "    #split df into X and Y\n",
    "    y = df['BK']\n",
    "    X = df.drop('BK',axis =1)\n",
    "    \n",
    "    #train test split\n",
    "    X_train,X_test,y_train,y_test= train_test_split(X, y, train_size = 0.7, shuffle = True, random_state = 1)\n",
    "    \n",
    "    # Scale X\n",
    "    scaler = StandardScaler()\n",
    "    scaler.fit(X_train)\n",
    "    X_train = pd.DataFrame(scaler.transform(X_train),index=X_train.index, columns = X_train.columns)\n",
    "    X_test = pd.DataFrame(scaler.transform(X_test),index=X_test.index, columns = X_test.columns)\n",
    "    return X_train, X_test, y_train, y_test"
   ]
  },
  {
   "cell_type": "code",
   "execution_count": 136,
   "id": "d37626c7",
   "metadata": {},
   "outputs": [],
   "source": [
    "X_train, X_test, y_train, y_test = preprocess_inputs(train_data)"
   ]
  },
  {
   "cell_type": "code",
   "execution_count": 137,
   "id": "148fb4aa",
   "metadata": {
    "scrolled": false
   },
   "outputs": [
    {
     "data": {
      "text/html": [
       "<div>\n",
       "<style scoped>\n",
       "    .dataframe tbody tr th:only-of-type {\n",
       "        vertical-align: middle;\n",
       "    }\n",
       "\n",
       "    .dataframe tbody tr th {\n",
       "        vertical-align: top;\n",
       "    }\n",
       "\n",
       "    .dataframe thead th {\n",
       "        text-align: right;\n",
       "    }\n",
       "</style>\n",
       "<table border=\"1\" class=\"dataframe\">\n",
       "  <thead>\n",
       "    <tr style=\"text-align: right;\">\n",
       "      <th></th>\n",
       "      <th>EPS</th>\n",
       "      <th>Liquidity</th>\n",
       "      <th>Profitability</th>\n",
       "      <th>Productivity</th>\n",
       "      <th>Leverage Ratio</th>\n",
       "      <th>Asset Turnover</th>\n",
       "      <th>Operational Margin</th>\n",
       "      <th>Return on Equity</th>\n",
       "      <th>Market Book Ratio</th>\n",
       "      <th>Assets Growth</th>\n",
       "      <th>Sales Growth</th>\n",
       "      <th>Employee Growth</th>\n",
       "    </tr>\n",
       "  </thead>\n",
       "  <tbody>\n",
       "    <tr>\n",
       "      <th>6187</th>\n",
       "      <td>0.007439</td>\n",
       "      <td>0.027687</td>\n",
       "      <td>0.048868</td>\n",
       "      <td>0.046460</td>\n",
       "      <td>-0.006082</td>\n",
       "      <td>0.084516</td>\n",
       "      <td>0.046834</td>\n",
       "      <td>0.006600</td>\n",
       "      <td>-0.012869</td>\n",
       "      <td>-0.016442</td>\n",
       "      <td>-0.010225</td>\n",
       "      <td>-0.021713</td>\n",
       "    </tr>\n",
       "    <tr>\n",
       "      <th>92428</th>\n",
       "      <td>0.007646</td>\n",
       "      <td>0.022823</td>\n",
       "      <td>0.048240</td>\n",
       "      <td>0.047057</td>\n",
       "      <td>0.002308</td>\n",
       "      <td>-0.149714</td>\n",
       "      <td>0.047085</td>\n",
       "      <td>0.006693</td>\n",
       "      <td>-0.012631</td>\n",
       "      <td>-0.014290</td>\n",
       "      <td>-0.001298</td>\n",
       "      <td>-0.034426</td>\n",
       "    </tr>\n",
       "    <tr>\n",
       "      <th>80813</th>\n",
       "      <td>0.007212</td>\n",
       "      <td>-0.005661</td>\n",
       "      <td>-0.004208</td>\n",
       "      <td>0.015175</td>\n",
       "      <td>-0.006847</td>\n",
       "      <td>1.154203</td>\n",
       "      <td>0.045374</td>\n",
       "      <td>0.005578</td>\n",
       "      <td>-0.018566</td>\n",
       "      <td>-0.007724</td>\n",
       "      <td>0.004290</td>\n",
       "      <td>-0.027579</td>\n",
       "    </tr>\n",
       "    <tr>\n",
       "      <th>29167</th>\n",
       "      <td>0.006919</td>\n",
       "      <td>0.021942</td>\n",
       "      <td>0.048100</td>\n",
       "      <td>0.045076</td>\n",
       "      <td>0.002102</td>\n",
       "      <td>0.235369</td>\n",
       "      <td>0.046663</td>\n",
       "      <td>0.005720</td>\n",
       "      <td>-0.013122</td>\n",
       "      <td>-0.017147</td>\n",
       "      <td>-0.010742</td>\n",
       "      <td>-0.033492</td>\n",
       "    </tr>\n",
       "    <tr>\n",
       "      <th>17680</th>\n",
       "      <td>0.013464</td>\n",
       "      <td>0.023554</td>\n",
       "      <td>0.048265</td>\n",
       "      <td>0.045907</td>\n",
       "      <td>0.005230</td>\n",
       "      <td>-0.272047</td>\n",
       "      <td>0.046920</td>\n",
       "      <td>0.006671</td>\n",
       "      <td>-0.009380</td>\n",
       "      <td>-0.015215</td>\n",
       "      <td>-0.009746</td>\n",
       "      <td>-0.030908</td>\n",
       "    </tr>\n",
       "    <tr>\n",
       "      <th>...</th>\n",
       "      <td>...</td>\n",
       "      <td>...</td>\n",
       "      <td>...</td>\n",
       "      <td>...</td>\n",
       "      <td>...</td>\n",
       "      <td>...</td>\n",
       "      <td>...</td>\n",
       "      <td>...</td>\n",
       "      <td>...</td>\n",
       "      <td>...</td>\n",
       "      <td>...</td>\n",
       "      <td>...</td>\n",
       "    </tr>\n",
       "    <tr>\n",
       "      <th>21440</th>\n",
       "      <td>0.007549</td>\n",
       "      <td>0.024744</td>\n",
       "      <td>0.048580</td>\n",
       "      <td>0.046460</td>\n",
       "      <td>-0.005417</td>\n",
       "      <td>0.020517</td>\n",
       "      <td>0.046834</td>\n",
       "      <td>0.006576</td>\n",
       "      <td>-0.004858</td>\n",
       "      <td>-0.015056</td>\n",
       "      <td>-0.009594</td>\n",
       "      <td>-0.018036</td>\n",
       "    </tr>\n",
       "    <tr>\n",
       "      <th>73349</th>\n",
       "      <td>0.002587</td>\n",
       "      <td>0.023203</td>\n",
       "      <td>0.048032</td>\n",
       "      <td>0.047014</td>\n",
       "      <td>0.012549</td>\n",
       "      <td>0.793069</td>\n",
       "      <td>0.046791</td>\n",
       "      <td>0.000989</td>\n",
       "      <td>-0.012468</td>\n",
       "      <td>-0.018616</td>\n",
       "      <td>-0.011432</td>\n",
       "      <td>-0.038027</td>\n",
       "    </tr>\n",
       "    <tr>\n",
       "      <th>50057</th>\n",
       "      <td>0.007741</td>\n",
       "      <td>0.021522</td>\n",
       "      <td>0.049183</td>\n",
       "      <td>0.048398</td>\n",
       "      <td>-0.005417</td>\n",
       "      <td>-0.144050</td>\n",
       "      <td>0.047350</td>\n",
       "      <td>0.006600</td>\n",
       "      <td>-0.012052</td>\n",
       "      <td>-0.015328</td>\n",
       "      <td>-0.010103</td>\n",
       "      <td>-0.027579</td>\n",
       "    </tr>\n",
       "    <tr>\n",
       "      <th>5192</th>\n",
       "      <td>0.006105</td>\n",
       "      <td>0.025935</td>\n",
       "      <td>0.048333</td>\n",
       "      <td>0.044522</td>\n",
       "      <td>0.002435</td>\n",
       "      <td>0.166799</td>\n",
       "      <td>0.046620</td>\n",
       "      <td>0.005482</td>\n",
       "      <td>-0.013143</td>\n",
       "      <td>-0.014832</td>\n",
       "      <td>-0.009648</td>\n",
       "      <td>-0.033833</td>\n",
       "    </tr>\n",
       "    <tr>\n",
       "      <th>77708</th>\n",
       "      <td>0.007199</td>\n",
       "      <td>0.025585</td>\n",
       "      <td>-0.000191</td>\n",
       "      <td>0.007700</td>\n",
       "      <td>-0.006082</td>\n",
       "      <td>-0.482328</td>\n",
       "      <td>0.040389</td>\n",
       "      <td>0.005958</td>\n",
       "      <td>0.009791</td>\n",
       "      <td>-0.021311</td>\n",
       "      <td>-0.010483</td>\n",
       "      <td>-0.027579</td>\n",
       "    </tr>\n",
       "  </tbody>\n",
       "</table>\n",
       "<p>65010 rows × 12 columns</p>\n",
       "</div>"
      ],
      "text/plain": [
       "            EPS  Liquidity  Profitability  Productivity  Leverage Ratio  \\\n",
       "6187   0.007439   0.027687       0.048868      0.046460       -0.006082   \n",
       "92428  0.007646   0.022823       0.048240      0.047057        0.002308   \n",
       "80813  0.007212  -0.005661      -0.004208      0.015175       -0.006847   \n",
       "29167  0.006919   0.021942       0.048100      0.045076        0.002102   \n",
       "17680  0.013464   0.023554       0.048265      0.045907        0.005230   \n",
       "...         ...        ...            ...           ...             ...   \n",
       "21440  0.007549   0.024744       0.048580      0.046460       -0.005417   \n",
       "73349  0.002587   0.023203       0.048032      0.047014        0.012549   \n",
       "50057  0.007741   0.021522       0.049183      0.048398       -0.005417   \n",
       "5192   0.006105   0.025935       0.048333      0.044522        0.002435   \n",
       "77708  0.007199   0.025585      -0.000191      0.007700       -0.006082   \n",
       "\n",
       "       Asset Turnover  Operational Margin  Return on Equity  \\\n",
       "6187         0.084516            0.046834          0.006600   \n",
       "92428       -0.149714            0.047085          0.006693   \n",
       "80813        1.154203            0.045374          0.005578   \n",
       "29167        0.235369            0.046663          0.005720   \n",
       "17680       -0.272047            0.046920          0.006671   \n",
       "...               ...                 ...               ...   \n",
       "21440        0.020517            0.046834          0.006576   \n",
       "73349        0.793069            0.046791          0.000989   \n",
       "50057       -0.144050            0.047350          0.006600   \n",
       "5192         0.166799            0.046620          0.005482   \n",
       "77708       -0.482328            0.040389          0.005958   \n",
       "\n",
       "       Market Book Ratio  Assets Growth  Sales Growth  Employee Growth  \n",
       "6187           -0.012869      -0.016442     -0.010225        -0.021713  \n",
       "92428          -0.012631      -0.014290     -0.001298        -0.034426  \n",
       "80813          -0.018566      -0.007724      0.004290        -0.027579  \n",
       "29167          -0.013122      -0.017147     -0.010742        -0.033492  \n",
       "17680          -0.009380      -0.015215     -0.009746        -0.030908  \n",
       "...                  ...            ...           ...              ...  \n",
       "21440          -0.004858      -0.015056     -0.009594        -0.018036  \n",
       "73349          -0.012468      -0.018616     -0.011432        -0.038027  \n",
       "50057          -0.012052      -0.015328     -0.010103        -0.027579  \n",
       "5192           -0.013143      -0.014832     -0.009648        -0.033833  \n",
       "77708           0.009791      -0.021311     -0.010483        -0.027579  \n",
       "\n",
       "[65010 rows x 12 columns]"
      ]
     },
     "execution_count": 137,
     "metadata": {},
     "output_type": "execute_result"
    }
   ],
   "source": [
    "X_train"
   ]
  },
  {
   "cell_type": "code",
   "execution_count": 144,
   "id": "5c847e91",
   "metadata": {},
   "outputs": [
    {
     "data": {
      "text/plain": [
       "6187     0.0\n",
       "92428    0.0\n",
       "80813    0.0\n",
       "29167    0.0\n",
       "17680    0.0\n",
       "        ... \n",
       "21440    0.0\n",
       "73349    0.0\n",
       "50057    0.0\n",
       "5192     0.0\n",
       "77708    0.0\n",
       "Name: BK, Length: 65010, dtype: float64"
      ]
     },
     "execution_count": 144,
     "metadata": {},
     "output_type": "execute_result"
    }
   ],
   "source": [
    "y_train"
   ]
  },
  {
   "cell_type": "markdown",
   "id": "2d9e81a6",
   "metadata": {},
   "source": [
    "# Stage 4 - Exploratory Data Analysis\n",
    "## Modelling"
   ]
  },
  {
   "cell_type": "markdown",
   "id": "69310174",
   "metadata": {},
   "source": [
    "As the first step in modelling, you'll select the actual modelling technique that you'll be using. Although you may have already selected a tool during the business understanding phase, at this stage you'll be selecting the specific modelling technique e.g. decision-tree building with C5.0, or neural network generation with back propagation. If multiple techniques are applied, perform this task separately for each technique."
   ]
  },
  {
   "cell_type": "markdown",
   "id": "0bbdc021",
   "metadata": {},
   "source": [
    "## 4.1 Modelling technique\n",
    "Document the actual modelling technique that is to be used.\n",
    "    \n",
    "    Import Models Below:"
   ]
  },
  {
   "cell_type": "code",
   "execution_count": 113,
   "id": "d0cdd6ce",
   "metadata": {},
   "outputs": [],
   "source": [
    "models = {\n",
    "    \"Random Forest\": RandomForestClassifier(),\n",
    "    \"SVC (RBF Kernel)\": SVC(),\n",
    "    \"Naive Bayes\" : GaussianNB()\n",
    "}"
   ]
  },
  {
   "cell_type": "markdown",
   "id": "615b329d",
   "metadata": {},
   "source": [
    "## 4.2 Modelling Assumption\n",
    "Many modelling techniques make specific assumptions about the data, for example that all attributes have uniform distributions, no missing values allowed, class attribute must be symbolic etc. Record any assumptions made."
   ]
  },
  {
   "cell_type": "markdown",
   "id": "2b00a43e",
   "metadata": {},
   "source": [
    "- The train size is 70%\n",
    "- For missing data: KNNImputer was used with K = 5 Neighbor to fit into the missing value\n",
    "- For Extreme Outliers: "
   ]
  },
  {
   "cell_type": "markdown",
   "id": "16c79f84",
   "metadata": {},
   "source": [
    "## 4.3 Build Model\n",
    "Run the modelling tool on the prepared dataset to create one or more models.\n",
    "\n",
    "- Parameter settings - With any modelling tool there are often a large number of parameters that can be adjusted. List the parameters and their chosen values, along with the rationale for the choice of parameter settings.\n",
    "\n",
    "- Models - These are the actual models produced by the modelling tool, not a report on the models.\n",
    "\n",
    "- Model descriptions - Describe the resulting models, report on the interpretation of the models and document any difficulties encountered with their meanings."
   ]
  },
  {
   "cell_type": "code",
   "execution_count": 114,
   "id": "88db0cfa",
   "metadata": {},
   "outputs": [
    {
     "name": "stdout",
     "output_type": "stream",
     "text": [
      "Random Forest trained.\n",
      "SVC (RBF Kernel) trained.\n",
      "Naive Bayes trained.\n"
     ]
    }
   ],
   "source": [
    "for name, model in models.items():\n",
    "    model.fit(X_train, y_train)\n",
    "    print(name+ \" trained.\")"
   ]
  },
  {
   "cell_type": "code",
   "execution_count": 129,
   "id": "43f62b3d",
   "metadata": {},
   "outputs": [
    {
     "name": "stdout",
     "output_type": "stream",
     "text": [
      "Random Forest: 99.41%\n",
      "SVC (RBF Kernel): 99.41%\n",
      "Naive Bayes: 6.77%\n"
     ]
    }
   ],
   "source": [
    "results = []\n",
    "for name, model in models.items():\n",
    "    result = model.score(X_test,y_test)\n",
    "    results.append(result)\n",
    "    print(name+ \": {:.2f}%\".format(result*100))\n",
    "    "
   ]
  },
  {
   "cell_type": "code",
   "execution_count": null,
   "id": "105d0740",
   "metadata": {},
   "outputs": [],
   "source": []
  },
  {
   "cell_type": "markdown",
   "id": "a313dbfa",
   "metadata": {},
   "source": [
    "## 5.4 Assess Model \n",
    "<p>Interpret the models according to your domain knowledge, your data mining success criteria and your desired test design. Judge the success of the application of modelling and discovery techniques technically, then contact business analysts and domain experts later in order to discuss the data mining results in the business context. This task only considers models, whereas the evaluation phase also takes into account all other results that were produced in the course of the project.</p>\n",
    "\n",
    "At this stage you should rank the models and assess them according to the evaluation criteria. You should take the business objectives and business success criteria into account as far as you can here. In most data mining projects a single technique is applied more than once and data mining results are generated with several different techniques.\n",
    "\n",
    "- **Model assessment** - Summarise the results of this task, list the qualities of your generated models (e.g.in terms of accuracy) and rank their quality in relation to each other.\n",
    "\n",
    "- **Revised parameter settings** - According to the model assessment, revise parameter settings and tune them for the next modelling run. Iterate model building and assessment until you strongly believe that you have found the best model(s). Document all such revisions and assessments."
   ]
  },
  {
   "cell_type": "code",
   "execution_count": null,
   "id": "8c49b3d0",
   "metadata": {},
   "outputs": [],
   "source": []
  },
  {
   "cell_type": "code",
   "execution_count": null,
   "id": "19dfcfd2",
   "metadata": {},
   "outputs": [],
   "source": []
  }
 ],
 "metadata": {
  "kernelspec": {
   "display_name": "Python 3 (ipykernel)",
   "language": "python",
   "name": "python3"
  },
  "language_info": {
   "codemirror_mode": {
    "name": "ipython",
    "version": 3
   },
   "file_extension": ".py",
   "mimetype": "text/x-python",
   "name": "python",
   "nbconvert_exporter": "python",
   "pygments_lexer": "ipython3",
   "version": "3.9.12"
  }
 },
 "nbformat": 4,
 "nbformat_minor": 5
}
