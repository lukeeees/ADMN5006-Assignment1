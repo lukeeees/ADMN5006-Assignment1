{
 "cells": [
  {
   "cell_type": "markdown",
   "id": "6c86cc7b",
   "metadata": {},
   "source": [
    "# ADMN5006 - Analytics for Financial Markets"
   ]
  },
  {
   "cell_type": "markdown",
   "id": "7f6d781e",
   "metadata": {},
   "source": [
    "## Assignment #1"
   ]
  },
  {
   "cell_type": "markdown",
   "id": "c6d0e299",
   "metadata": {},
   "source": [
    "<p>Your assignment is to design and develop machine learning models for corporate bankruptcy prediction 2 years into the future using the data provided. </p>\n",
    "   - The column “BK” in the data provided denotes whether the company goes bankrupt (indicated by 1) 2 years in the future, or not (indicated by 0). \n",
    "   - Some of the input variables included are “Assets Growth”, “Sales Growth”, “Earnings-per-share (EPS)”, “Return-on-equity (ROE)”, etc. \n",
    "   - In addition, the paper entitled: “Machine learning models and bankruptcy prediction” by Barboza et. al. is posted to the portal and is an excellent reference for you to use.  \n",
    "    \n",
    "<p>Note however that the dataset you are given is not the same as the one used in the aforementioned paper.  Therefore, don’t be alarmed if your results don’t agree with the Barboza et. al. paper.  You will need to partition your data into testing and training sets and explain your experimental set-up.</p>\n",
    "\n",
    "<p>The input and output variables are described below:</p>\n",
    "\n",
    "- EPS – Earnings Per Share\n",
    "- Liquidity – Working Capital/Total Assets\n",
    "- Profitability – Retained Earnings/Total Assets\n",
    "- Productivity – EBIT/Total Assets\n",
    "- Leverage Ratio – (Total Long-term debt + Debt in Current liabilities)/Stockholders Equity\n",
    "- Asset Turnover – Sales/ Total Assets\n",
    "- Operational Margin – EBIT/Sales\n",
    "- Market Book Ratio – (Price Close Annual Fiscal * Common Shares Outstanding)/Book Value Per Share\n",
    "- Asset Growth – Change in assets from previous year\n",
    "- Sales Growth – Change in sales from previous year\n",
    "- Employee Growth – Change in employees from previous year\n",
    "- Tobin’s Q – (Total market value of company + liabilities)/ (Total asset or book value + liabilities)\n",
    "- BK – Company bankrupt or not\n",
    "\n",
    "\n",
    "    "
   ]
  },
  {
   "cell_type": "markdown",
   "id": "62d8882c",
   "metadata": {},
   "source": [
    "## 1. Stage One"
   ]
  },
  {
   "cell_type": "markdown",
   "id": "16f63561",
   "metadata": {},
   "source": [
    "### 1.1 Inventory resources\n",
    "    - Personnel: Luke, Jad, Rita, Sreehari, Arnab, Varun\n",
    "    - Data: Banruptcy_data_Final\n",
    "    - Computing resources:  Machine Learning (Random Forest, SVC, Naive Bayes)\n",
    "    - Software: Jupyter Notebook"
   ]
  },
  {
   "cell_type": "markdown",
   "id": "9927bc19",
   "metadata": {},
   "source": [
    "## 2. Stage Two"
   ]
  },
  {
   "cell_type": "markdown",
   "id": "f31a00f1",
   "metadata": {},
   "source": [
    "### 2.1 Initial Data Report"
   ]
  },
  {
   "cell_type": "code",
   "execution_count": 66,
   "id": "2db43480",
   "metadata": {},
   "outputs": [],
   "source": [
    "# Import Libraries Required\n",
    "#working with the data\n",
    "import pandas as pd\n",
    "import matplotlib.pyplot as plt\n",
    "%matplotlib inline\n",
    "import numpy as np\n",
    "from scipy import stats\n",
    "import seaborn as sns\n",
    "\n",
    "#for pre-processing\n",
    "from sklearn.model_selection import train_test_split\n",
    "from sklearn.preprocessing import StandardScaler\n",
    "from sklearn.impute import SimpleImputer\n",
    "\n",
    "#computing resources\n",
    "from sklearn.ensemble import RandomForestClassifier\n",
    "from sklearn.svm import SVC\n",
    "from sklearn.naive_bayes import GaussianNB"
   ]
  },
  {
   "cell_type": "code",
   "execution_count": 5,
   "id": "b53e78a2",
   "metadata": {},
   "outputs": [],
   "source": [
    "#Data source: \n",
    "#Source Query location: \n",
    "path =  'Bankruptcy_data_Final.xlsx'\n",
    "# reads the data from the file - denotes as CSV, it has no header, sets column headers\n",
    "#df =  pd.read_csv(path, sep=',')\n",
    "df = pd.read_excel(path)"
   ]
  },
  {
   "cell_type": "markdown",
   "id": "e11abad2",
   "metadata": {},
   "source": [
    "### 2.2 Describe Data"
   ]
  },
  {
   "cell_type": "code",
   "execution_count": 7,
   "id": "097f82c1",
   "metadata": {},
   "outputs": [
    {
     "data": {
      "text/plain": [
       "Index(['EPS', 'Liquidity', 'Profitability', 'Productivity', 'Leverage Ratio',\n",
       "       'Asset Turnover', 'Operational Margin', 'Return on Equity',\n",
       "       'Market Book Ratio', 'Assets Growth', 'Sales Growth', 'Employee Growth',\n",
       "       'BK'],\n",
       "      dtype='object')"
      ]
     },
     "execution_count": 7,
     "metadata": {},
     "output_type": "execute_result"
    }
   ],
   "source": [
    "df.columns"
   ]
  },
  {
   "cell_type": "code",
   "execution_count": 36,
   "id": "54890252",
   "metadata": {},
   "outputs": [
    {
     "data": {
      "text/plain": [
       "(92872, 13)"
      ]
     },
     "execution_count": 36,
     "metadata": {},
     "output_type": "execute_result"
    }
   ],
   "source": [
    "df.shape"
   ]
  },
  {
   "cell_type": "code",
   "execution_count": 37,
   "id": "6d8097e8",
   "metadata": {},
   "outputs": [
    {
     "data": {
      "text/plain": [
       "EPS                   float64\n",
       "Liquidity             float64\n",
       "Profitability         float64\n",
       "Productivity          float64\n",
       "Leverage Ratio        float64\n",
       "Asset Turnover        float64\n",
       "Operational Margin    float64\n",
       "Return on Equity      float64\n",
       "Market Book Ratio     float64\n",
       "Assets Growth         float64\n",
       "Sales Growth          float64\n",
       "Employee Growth       float64\n",
       "BK                      int64\n",
       "dtype: object"
      ]
     },
     "execution_count": 37,
     "metadata": {},
     "output_type": "execute_result"
    }
   ],
   "source": [
    "df.dtypes"
   ]
  },
  {
   "cell_type": "code",
   "execution_count": 8,
   "id": "b5b1d702",
   "metadata": {},
   "outputs": [
    {
     "data": {
      "text/html": [
       "<div>\n",
       "<style scoped>\n",
       "    .dataframe tbody tr th:only-of-type {\n",
       "        vertical-align: middle;\n",
       "    }\n",
       "\n",
       "    .dataframe tbody tr th {\n",
       "        vertical-align: top;\n",
       "    }\n",
       "\n",
       "    .dataframe thead th {\n",
       "        text-align: right;\n",
       "    }\n",
       "</style>\n",
       "<table border=\"1\" class=\"dataframe\">\n",
       "  <thead>\n",
       "    <tr style=\"text-align: right;\">\n",
       "      <th></th>\n",
       "      <th>EPS</th>\n",
       "      <th>Liquidity</th>\n",
       "      <th>Profitability</th>\n",
       "      <th>Productivity</th>\n",
       "      <th>Leverage Ratio</th>\n",
       "      <th>Asset Turnover</th>\n",
       "      <th>Operational Margin</th>\n",
       "      <th>Return on Equity</th>\n",
       "      <th>Market Book Ratio</th>\n",
       "      <th>Assets Growth</th>\n",
       "      <th>Sales Growth</th>\n",
       "      <th>Employee Growth</th>\n",
       "      <th>BK</th>\n",
       "    </tr>\n",
       "  </thead>\n",
       "  <tbody>\n",
       "    <tr>\n",
       "      <th>count</th>\n",
       "      <td>92867.000000</td>\n",
       "      <td>92625.000000</td>\n",
       "      <td>92625.000000</td>\n",
       "      <td>92625.000000</td>\n",
       "      <td>92846.000000</td>\n",
       "      <td>92625.000000</td>\n",
       "      <td>87315.000000</td>\n",
       "      <td>92864.000000</td>\n",
       "      <td>9.281500e+04</td>\n",
       "      <td>86171.000000</td>\n",
       "      <td>86171.000000</td>\n",
       "      <td>85862.000000</td>\n",
       "      <td>92872.000000</td>\n",
       "    </tr>\n",
       "    <tr>\n",
       "      <th>mean</th>\n",
       "      <td>-14.461355</td>\n",
       "      <td>-2.631237</td>\n",
       "      <td>-29.537274</td>\n",
       "      <td>-1.222870</td>\n",
       "      <td>1.345316</td>\n",
       "      <td>1.053613</td>\n",
       "      <td>-7.915485</td>\n",
       "      <td>-2.112382</td>\n",
       "      <td>3.585063e+02</td>\n",
       "      <td>1.294075</td>\n",
       "      <td>1.900108</td>\n",
       "      <td>0.343322</td>\n",
       "      <td>0.006008</td>\n",
       "    </tr>\n",
       "    <tr>\n",
       "      <th>std</th>\n",
       "      <td>2195.467288</td>\n",
       "      <td>121.610921</td>\n",
       "      <td>677.230667</td>\n",
       "      <td>35.885556</td>\n",
       "      <td>253.038093</td>\n",
       "      <td>2.115945</td>\n",
       "      <td>214.460079</td>\n",
       "      <td>352.596902</td>\n",
       "      <td>2.606364e+04</td>\n",
       "      <td>73.769522</td>\n",
       "      <td>177.632638</td>\n",
       "      <td>14.074156</td>\n",
       "      <td>0.077280</td>\n",
       "    </tr>\n",
       "    <tr>\n",
       "      <th>min</th>\n",
       "      <td>-384000.000000</td>\n",
       "      <td>-25968.520000</td>\n",
       "      <td>-79682.000000</td>\n",
       "      <td>-5093.000000</td>\n",
       "      <td>-7811.000000</td>\n",
       "      <td>-31.590000</td>\n",
       "      <td>-30175.700000</td>\n",
       "      <td>-88875.140000</td>\n",
       "      <td>-3.151500e+06</td>\n",
       "      <td>-1.000000</td>\n",
       "      <td>-27.431034</td>\n",
       "      <td>-1.000000</td>\n",
       "      <td>0.000000</td>\n",
       "    </tr>\n",
       "    <tr>\n",
       "      <th>25%</th>\n",
       "      <td>-0.140000</td>\n",
       "      <td>0.020000</td>\n",
       "      <td>-0.640000</td>\n",
       "      <td>-0.060000</td>\n",
       "      <td>0.000000</td>\n",
       "      <td>0.390000</td>\n",
       "      <td>-0.030000</td>\n",
       "      <td>-0.080000</td>\n",
       "      <td>1.120000e+01</td>\n",
       "      <td>-0.052596</td>\n",
       "      <td>-0.033522</td>\n",
       "      <td>-0.048107</td>\n",
       "      <td>0.000000</td>\n",
       "    </tr>\n",
       "    <tr>\n",
       "      <th>50%</th>\n",
       "      <td>0.330000</td>\n",
       "      <td>0.190000</td>\n",
       "      <td>0.070000</td>\n",
       "      <td>0.060000</td>\n",
       "      <td>0.280000</td>\n",
       "      <td>0.830000</td>\n",
       "      <td>0.060000</td>\n",
       "      <td>0.030000</td>\n",
       "      <td>5.828000e+01</td>\n",
       "      <td>0.051844</td>\n",
       "      <td>0.059733</td>\n",
       "      <td>0.017241</td>\n",
       "      <td>0.000000</td>\n",
       "    </tr>\n",
       "    <tr>\n",
       "      <th>75%</th>\n",
       "      <td>1.530000</td>\n",
       "      <td>0.400000</td>\n",
       "      <td>0.310000</td>\n",
       "      <td>0.110000</td>\n",
       "      <td>0.820000</td>\n",
       "      <td>1.390000</td>\n",
       "      <td>0.140000</td>\n",
       "      <td>0.070000</td>\n",
       "      <td>2.401400e+02</td>\n",
       "      <td>0.192062</td>\n",
       "      <td>0.204231</td>\n",
       "      <td>0.130944</td>\n",
       "      <td>0.000000</td>\n",
       "    </tr>\n",
       "    <tr>\n",
       "      <th>max</th>\n",
       "      <td>55339.000000</td>\n",
       "      <td>1.000000</td>\n",
       "      <td>140.580000</td>\n",
       "      <td>1102.000000</td>\n",
       "      <td>75970.380000</td>\n",
       "      <td>276.380000</td>\n",
       "      <td>394.470000</td>\n",
       "      <td>39500.000000</td>\n",
       "      <td>3.455419e+06</td>\n",
       "      <td>14231.000000</td>\n",
       "      <td>39850.000000</td>\n",
       "      <td>2699.000000</td>\n",
       "      <td>1.000000</td>\n",
       "    </tr>\n",
       "  </tbody>\n",
       "</table>\n",
       "</div>"
      ],
      "text/plain": [
       "                 EPS     Liquidity  Profitability  Productivity  \\\n",
       "count   92867.000000  92625.000000   92625.000000  92625.000000   \n",
       "mean      -14.461355     -2.631237     -29.537274     -1.222870   \n",
       "std      2195.467288    121.610921     677.230667     35.885556   \n",
       "min   -384000.000000 -25968.520000  -79682.000000  -5093.000000   \n",
       "25%        -0.140000      0.020000      -0.640000     -0.060000   \n",
       "50%         0.330000      0.190000       0.070000      0.060000   \n",
       "75%         1.530000      0.400000       0.310000      0.110000   \n",
       "max     55339.000000      1.000000     140.580000   1102.000000   \n",
       "\n",
       "       Leverage Ratio  Asset Turnover  Operational Margin  Return on Equity  \\\n",
       "count    92846.000000    92625.000000        87315.000000      92864.000000   \n",
       "mean         1.345316        1.053613           -7.915485         -2.112382   \n",
       "std        253.038093        2.115945          214.460079        352.596902   \n",
       "min      -7811.000000      -31.590000       -30175.700000     -88875.140000   \n",
       "25%          0.000000        0.390000           -0.030000         -0.080000   \n",
       "50%          0.280000        0.830000            0.060000          0.030000   \n",
       "75%          0.820000        1.390000            0.140000          0.070000   \n",
       "max      75970.380000      276.380000          394.470000      39500.000000   \n",
       "\n",
       "       Market Book Ratio  Assets Growth  Sales Growth  Employee Growth  \\\n",
       "count       9.281500e+04   86171.000000  86171.000000     85862.000000   \n",
       "mean        3.585063e+02       1.294075      1.900108         0.343322   \n",
       "std         2.606364e+04      73.769522    177.632638        14.074156   \n",
       "min        -3.151500e+06      -1.000000    -27.431034        -1.000000   \n",
       "25%         1.120000e+01      -0.052596     -0.033522        -0.048107   \n",
       "50%         5.828000e+01       0.051844      0.059733         0.017241   \n",
       "75%         2.401400e+02       0.192062      0.204231         0.130944   \n",
       "max         3.455419e+06   14231.000000  39850.000000      2699.000000   \n",
       "\n",
       "                 BK  \n",
       "count  92872.000000  \n",
       "mean       0.006008  \n",
       "std        0.077280  \n",
       "min        0.000000  \n",
       "25%        0.000000  \n",
       "50%        0.000000  \n",
       "75%        0.000000  \n",
       "max        1.000000  "
      ]
     },
     "execution_count": 8,
     "metadata": {},
     "output_type": "execute_result"
    }
   ],
   "source": [
    "df.describe()"
   ]
  },
  {
   "cell_type": "code",
   "execution_count": 9,
   "id": "019de98d",
   "metadata": {},
   "outputs": [
    {
     "name": "stdout",
     "output_type": "stream",
     "text": [
      "<class 'pandas.core.frame.DataFrame'>\n",
      "RangeIndex: 92872 entries, 0 to 92871\n",
      "Data columns (total 13 columns):\n",
      " #   Column              Non-Null Count  Dtype  \n",
      "---  ------              --------------  -----  \n",
      " 0   EPS                 92867 non-null  float64\n",
      " 1   Liquidity           92625 non-null  float64\n",
      " 2   Profitability       92625 non-null  float64\n",
      " 3   Productivity        92625 non-null  float64\n",
      " 4   Leverage Ratio      92846 non-null  float64\n",
      " 5   Asset Turnover      92625 non-null  float64\n",
      " 6   Operational Margin  87315 non-null  float64\n",
      " 7   Return on Equity    92864 non-null  float64\n",
      " 8   Market Book Ratio   92815 non-null  float64\n",
      " 9   Assets Growth       86171 non-null  float64\n",
      " 10  Sales Growth        86171 non-null  float64\n",
      " 11  Employee Growth     85862 non-null  float64\n",
      " 12  BK                  92872 non-null  int64  \n",
      "dtypes: float64(12), int64(1)\n",
      "memory usage: 9.2 MB\n"
     ]
    }
   ],
   "source": [
    "df.info()"
   ]
  },
  {
   "cell_type": "code",
   "execution_count": 40,
   "id": "ab84048f",
   "metadata": {},
   "outputs": [
    {
     "data": {
      "text/html": [
       "<div>\n",
       "<style scoped>\n",
       "    .dataframe tbody tr th:only-of-type {\n",
       "        vertical-align: middle;\n",
       "    }\n",
       "\n",
       "    .dataframe tbody tr th {\n",
       "        vertical-align: top;\n",
       "    }\n",
       "\n",
       "    .dataframe thead th {\n",
       "        text-align: right;\n",
       "    }\n",
       "</style>\n",
       "<table border=\"1\" class=\"dataframe\">\n",
       "  <thead>\n",
       "    <tr style=\"text-align: right;\">\n",
       "      <th></th>\n",
       "      <th>EPS</th>\n",
       "      <th>Liquidity</th>\n",
       "      <th>Profitability</th>\n",
       "      <th>Productivity</th>\n",
       "      <th>Leverage Ratio</th>\n",
       "      <th>Asset Turnover</th>\n",
       "      <th>Operational Margin</th>\n",
       "      <th>Return on Equity</th>\n",
       "      <th>Market Book Ratio</th>\n",
       "      <th>Assets Growth</th>\n",
       "      <th>Sales Growth</th>\n",
       "      <th>Employee Growth</th>\n",
       "      <th>BK</th>\n",
       "    </tr>\n",
       "  </thead>\n",
       "  <tbody>\n",
       "    <tr>\n",
       "      <th>0</th>\n",
       "      <td>1.58</td>\n",
       "      <td>0.36</td>\n",
       "      <td>0.18</td>\n",
       "      <td>0.13</td>\n",
       "      <td>1.33</td>\n",
       "      <td>1.77</td>\n",
       "      <td>0.07</td>\n",
       "      <td>0.15</td>\n",
       "      <td>2.22</td>\n",
       "      <td>NaN</td>\n",
       "      <td>NaN</td>\n",
       "      <td>NaN</td>\n",
       "      <td>0</td>\n",
       "    </tr>\n",
       "    <tr>\n",
       "      <th>1</th>\n",
       "      <td>1.41</td>\n",
       "      <td>0.36</td>\n",
       "      <td>0.19</td>\n",
       "      <td>0.12</td>\n",
       "      <td>1.31</td>\n",
       "      <td>1.59</td>\n",
       "      <td>0.07</td>\n",
       "      <td>0.13</td>\n",
       "      <td>2.41</td>\n",
       "      <td>0.126319</td>\n",
       "      <td>0.014278</td>\n",
       "      <td>0.040179</td>\n",
       "      <td>0</td>\n",
       "    </tr>\n",
       "    <tr>\n",
       "      <th>2</th>\n",
       "      <td>0.31</td>\n",
       "      <td>0.32</td>\n",
       "      <td>0.13</td>\n",
       "      <td>0.08</td>\n",
       "      <td>1.03</td>\n",
       "      <td>1.55</td>\n",
       "      <td>0.05</td>\n",
       "      <td>0.04</td>\n",
       "      <td>2.56</td>\n",
       "      <td>0.368077</td>\n",
       "      <td>0.327909</td>\n",
       "      <td>0.566524</td>\n",
       "      <td>0</td>\n",
       "    </tr>\n",
       "    <tr>\n",
       "      <th>3</th>\n",
       "      <td>0.71</td>\n",
       "      <td>0.28</td>\n",
       "      <td>0.14</td>\n",
       "      <td>0.08</td>\n",
       "      <td>0.80</td>\n",
       "      <td>1.39</td>\n",
       "      <td>0.06</td>\n",
       "      <td>0.05</td>\n",
       "      <td>5.28</td>\n",
       "      <td>-0.020809</td>\n",
       "      <td>-0.118904</td>\n",
       "      <td>-0.095890</td>\n",
       "      <td>0</td>\n",
       "    </tr>\n",
       "    <tr>\n",
       "      <th>4</th>\n",
       "      <td>0.75</td>\n",
       "      <td>0.41</td>\n",
       "      <td>0.13</td>\n",
       "      <td>0.08</td>\n",
       "      <td>0.20</td>\n",
       "      <td>1.30</td>\n",
       "      <td>0.06</td>\n",
       "      <td>0.04</td>\n",
       "      <td>8.68</td>\n",
       "      <td>0.233089</td>\n",
       "      <td>0.146807</td>\n",
       "      <td>0.053030</td>\n",
       "      <td>0</td>\n",
       "    </tr>\n",
       "  </tbody>\n",
       "</table>\n",
       "</div>"
      ],
      "text/plain": [
       "    EPS  Liquidity  Profitability  Productivity  Leverage Ratio  \\\n",
       "0  1.58       0.36           0.18          0.13            1.33   \n",
       "1  1.41       0.36           0.19          0.12            1.31   \n",
       "2  0.31       0.32           0.13          0.08            1.03   \n",
       "3  0.71       0.28           0.14          0.08            0.80   \n",
       "4  0.75       0.41           0.13          0.08            0.20   \n",
       "\n",
       "   Asset Turnover  Operational Margin  Return on Equity  Market Book Ratio  \\\n",
       "0            1.77                0.07              0.15               2.22   \n",
       "1            1.59                0.07              0.13               2.41   \n",
       "2            1.55                0.05              0.04               2.56   \n",
       "3            1.39                0.06              0.05               5.28   \n",
       "4            1.30                0.06              0.04               8.68   \n",
       "\n",
       "   Assets Growth  Sales Growth  Employee Growth  BK  \n",
       "0            NaN           NaN              NaN   0  \n",
       "1       0.126319      0.014278         0.040179   0  \n",
       "2       0.368077      0.327909         0.566524   0  \n",
       "3      -0.020809     -0.118904        -0.095890   0  \n",
       "4       0.233089      0.146807         0.053030   0  "
      ]
     },
     "execution_count": 40,
     "metadata": {},
     "output_type": "execute_result"
    }
   ],
   "source": [
    "df.head(5)"
   ]
  },
  {
   "cell_type": "markdown",
   "id": "42a47085",
   "metadata": {},
   "source": [
    "### 2.3 Check Data Validity"
   ]
  },
  {
   "cell_type": "markdown",
   "id": "23779a19",
   "metadata": {},
   "source": [
    "#### 2.3.1 Check Missing Data"
   ]
  },
  {
   "cell_type": "code",
   "execution_count": 41,
   "id": "c28036ee",
   "metadata": {},
   "outputs": [
    {
     "data": {
      "text/plain": [
       "EPS                      5\n",
       "Liquidity              247\n",
       "Profitability          247\n",
       "Productivity           247\n",
       "Leverage Ratio          26\n",
       "Asset Turnover         247\n",
       "Operational Margin    5557\n",
       "Return on Equity         8\n",
       "Market Book Ratio       57\n",
       "Assets Growth         6701\n",
       "Sales Growth          6701\n",
       "Employee Growth       7010\n",
       "BK                       0\n",
       "dtype: int64"
      ]
     },
     "execution_count": 41,
     "metadata": {},
     "output_type": "execute_result"
    }
   ],
   "source": [
    "df.isnull().sum()"
   ]
  },
  {
   "cell_type": "code",
   "execution_count": 42,
   "id": "1c3b1ba8",
   "metadata": {},
   "outputs": [],
   "source": [
    "def missing_values_table(df):\n",
    "    #Code Description: Attempt to show the missing values in the table\n",
    "    #Input: Dataframe\n",
    "    #Output: missing value table rendered columns\n",
    "        mis_val = df.isnull().sum()\n",
    "        mis_val_percent = 100 * df.isnull().sum() / len(df)\n",
    "        mis_val_table = pd.concat([mis_val, mis_val_percent], axis=1)\n",
    "        mis_val_table_ren_columns = mis_val_table.rename(\n",
    "        columns = {0 : 'Missing Values', 1 : '% of Total Values'})\n",
    "        mis_val_table_ren_columns = mis_val_table_ren_columns[\n",
    "            mis_val_table_ren_columns.iloc[:,1] != 0].sort_values(\n",
    "        '% of Total Values', ascending=False).round(1)\n",
    "        print (\"Your selected dataframe has \" + str(df.shape[1]) + \" columns.\\n\"      \n",
    "            \"There are \" + str(mis_val_table_ren_columns.shape[0]) +\n",
    "              \" columns that have missing values.\")\n",
    "        return mis_val_table_ren_columns"
   ]
  },
  {
   "cell_type": "code",
   "execution_count": 43,
   "id": "20383317",
   "metadata": {},
   "outputs": [
    {
     "name": "stdout",
     "output_type": "stream",
     "text": [
      "Your selected dataframe has 13 columns.\n",
      "There are 12 columns that have missing values.\n"
     ]
    },
    {
     "data": {
      "text/html": [
       "<div>\n",
       "<style scoped>\n",
       "    .dataframe tbody tr th:only-of-type {\n",
       "        vertical-align: middle;\n",
       "    }\n",
       "\n",
       "    .dataframe tbody tr th {\n",
       "        vertical-align: top;\n",
       "    }\n",
       "\n",
       "    .dataframe thead th {\n",
       "        text-align: right;\n",
       "    }\n",
       "</style>\n",
       "<table border=\"1\" class=\"dataframe\">\n",
       "  <thead>\n",
       "    <tr style=\"text-align: right;\">\n",
       "      <th></th>\n",
       "      <th>Missing Values</th>\n",
       "      <th>% of Total Values</th>\n",
       "    </tr>\n",
       "  </thead>\n",
       "  <tbody>\n",
       "    <tr>\n",
       "      <th>Employee Growth</th>\n",
       "      <td>7010</td>\n",
       "      <td>7.5</td>\n",
       "    </tr>\n",
       "    <tr>\n",
       "      <th>Assets Growth</th>\n",
       "      <td>6701</td>\n",
       "      <td>7.2</td>\n",
       "    </tr>\n",
       "    <tr>\n",
       "      <th>Sales Growth</th>\n",
       "      <td>6701</td>\n",
       "      <td>7.2</td>\n",
       "    </tr>\n",
       "    <tr>\n",
       "      <th>Operational Margin</th>\n",
       "      <td>5557</td>\n",
       "      <td>6.0</td>\n",
       "    </tr>\n",
       "    <tr>\n",
       "      <th>Liquidity</th>\n",
       "      <td>247</td>\n",
       "      <td>0.3</td>\n",
       "    </tr>\n",
       "    <tr>\n",
       "      <th>Profitability</th>\n",
       "      <td>247</td>\n",
       "      <td>0.3</td>\n",
       "    </tr>\n",
       "    <tr>\n",
       "      <th>Productivity</th>\n",
       "      <td>247</td>\n",
       "      <td>0.3</td>\n",
       "    </tr>\n",
       "    <tr>\n",
       "      <th>Asset Turnover</th>\n",
       "      <td>247</td>\n",
       "      <td>0.3</td>\n",
       "    </tr>\n",
       "    <tr>\n",
       "      <th>Market Book Ratio</th>\n",
       "      <td>57</td>\n",
       "      <td>0.1</td>\n",
       "    </tr>\n",
       "    <tr>\n",
       "      <th>Leverage Ratio</th>\n",
       "      <td>26</td>\n",
       "      <td>0.0</td>\n",
       "    </tr>\n",
       "    <tr>\n",
       "      <th>Return on Equity</th>\n",
       "      <td>8</td>\n",
       "      <td>0.0</td>\n",
       "    </tr>\n",
       "    <tr>\n",
       "      <th>EPS</th>\n",
       "      <td>5</td>\n",
       "      <td>0.0</td>\n",
       "    </tr>\n",
       "  </tbody>\n",
       "</table>\n",
       "</div>"
      ],
      "text/plain": [
       "                    Missing Values  % of Total Values\n",
       "Employee Growth               7010                7.5\n",
       "Assets Growth                 6701                7.2\n",
       "Sales Growth                  6701                7.2\n",
       "Operational Margin            5557                6.0\n",
       "Liquidity                      247                0.3\n",
       "Profitability                  247                0.3\n",
       "Productivity                   247                0.3\n",
       "Asset Turnover                 247                0.3\n",
       "Market Book Ratio               57                0.1\n",
       "Leverage Ratio                  26                0.0\n",
       "Return on Equity                 8                0.0\n",
       "EPS                              5                0.0"
      ]
     },
     "execution_count": 43,
     "metadata": {},
     "output_type": "execute_result"
    }
   ],
   "source": [
    "missing_values_table(df) #it really depends"
   ]
  },
  {
   "cell_type": "code",
   "execution_count": 44,
   "id": "79fb5e7e",
   "metadata": {},
   "outputs": [
    {
     "name": "stdout",
     "output_type": "stream",
     "text": [
      "Your selected dataframe has 13 columns.\n",
      "There are 12 columns that have missing values.\n",
      "We will remove 0 columns.\n"
     ]
    }
   ],
   "source": [
    "# Get the columns with > 50% missing\n",
    "missing_df = missing_values_table(df);\n",
    "missing_columns = list(missing_df[missing_df['% of Total Values'] > 50].index)\n",
    "print('We will remove %d columns.' % len(missing_columns))"
   ]
  },
  {
   "cell_type": "markdown",
   "id": "6e4d5610",
   "metadata": {},
   "source": [
    "##### No need to drop columns in the Dataframe"
   ]
  },
  {
   "cell_type": "markdown",
   "id": "2005f555",
   "metadata": {},
   "source": [
    "#### 2.3.2 Check Outliers and remove them"
   ]
  },
  {
   "cell_type": "code",
   "execution_count": 45,
   "id": "4e0891e8",
   "metadata": {},
   "outputs": [],
   "source": [
    "# Task: Check for Outliers per Column and determine what to do with it.\n",
    "# check: https://www.itl.nist.gov/div898/handbook/prc/section1/prc16.htm \n",
    "# for more information\n",
    "#    Below the first quartile − 3 ∗ interquartile range\n",
    "#    Above the third quartile + 3 ∗ interquartile range"
   ]
  },
  {
   "cell_type": "code",
   "execution_count": 11,
   "id": "d0f28be5",
   "metadata": {},
   "outputs": [],
   "source": [
    "def check_outliers(data):\n",
    "    outliers = []\n",
    "    threshold = 3\n",
    "    mean_1 = np.mean(data)\n",
    "    std_1 = np.std(data)\n",
    "    for y in data:\n",
    "        z_score = (y - mean_1)/std_1\n",
    "        if np.abs(z_score) > threshold:\n",
    "            outliers.append(y)\n",
    "    #print(outliers)\n",
    "    print(f\"There are {len(outliers)} number of outliers in column {df.column()}.\")"
   ]
  },
  {
   "cell_type": "code",
   "execution_count": 18,
   "id": "2f03383f",
   "metadata": {},
   "outputs": [],
   "source": [
    "def checkoutliers(data):\n",
    "   return data[(np.abs(stats.zscore(df))<3).all(axis=1)]"
   ]
  },
  {
   "cell_type": "code",
   "execution_count": 30,
   "id": "071704ce",
   "metadata": {},
   "outputs": [
    {
     "data": {
      "text/html": [
       "<div>\n",
       "<style scoped>\n",
       "    .dataframe tbody tr th:only-of-type {\n",
       "        vertical-align: middle;\n",
       "    }\n",
       "\n",
       "    .dataframe tbody tr th {\n",
       "        vertical-align: top;\n",
       "    }\n",
       "\n",
       "    .dataframe thead th {\n",
       "        text-align: right;\n",
       "    }\n",
       "</style>\n",
       "<table border=\"1\" class=\"dataframe\">\n",
       "  <thead>\n",
       "    <tr style=\"text-align: right;\">\n",
       "      <th></th>\n",
       "      <th>EPS</th>\n",
       "      <th>Liquidity</th>\n",
       "      <th>Profitability</th>\n",
       "      <th>Productivity</th>\n",
       "      <th>Leverage Ratio</th>\n",
       "      <th>Asset Turnover</th>\n",
       "      <th>Operational Margin</th>\n",
       "      <th>Return on Equity</th>\n",
       "      <th>Market Book Ratio</th>\n",
       "      <th>Assets Growth</th>\n",
       "      <th>Sales Growth</th>\n",
       "      <th>Employee Growth</th>\n",
       "      <th>BK</th>\n",
       "    </tr>\n",
       "  </thead>\n",
       "  <tbody>\n",
       "  </tbody>\n",
       "</table>\n",
       "</div>"
      ],
      "text/plain": [
       "Empty DataFrame\n",
       "Columns: [EPS, Liquidity, Profitability, Productivity, Leverage Ratio, Asset Turnover, Operational Margin, Return on Equity, Market Book Ratio, Assets Growth, Sales Growth, Employee Growth, BK]\n",
       "Index: []"
      ]
     },
     "execution_count": 30,
     "metadata": {},
     "output_type": "execute_result"
    }
   ],
   "source": [
    "#example\n",
    "df[(np.abs(stats.zscore(df)) < 3).all(axis=1)]"
   ]
  },
  {
   "cell_type": "code",
   "execution_count": null,
   "id": "8fbb7ece",
   "metadata": {},
   "outputs": [],
   "source": [
    "# pip install plotly --quiet\n",
    "# pip install cufflinks --quiet\n",
    "\n",
    "# if you haven't downloaded these "
   ]
  },
  {
   "cell_type": "code",
   "execution_count": null,
   "id": "a2f4b363",
   "metadata": {},
   "outputs": [],
   "source": [
    "import plotly.express as px\n",
    "import cufflinks as cf\n",
    "\n",
    "df['Employee Growth'].iplot()"
   ]
  },
  {
   "cell_type": "code",
   "execution_count": 10,
   "id": "b2258a96",
   "metadata": {},
   "outputs": [
    {
     "data": {
      "text/plain": [
       "{'EPS': 6988,\n",
       " 'Liquidity': 6109,\n",
       " 'Profitability': 9364,\n",
       " 'Productivity': 6076,\n",
       " 'Leverage Ratio': 6937,\n",
       " 'Asset Turnover': 5052,\n",
       " 'Operational Margin': 7486,\n",
       " 'Return on Equity': 5751,\n",
       " 'Market Book Ratio': 50337,\n",
       " 'Assets Growth': 85605,\n",
       " 'Sales Growth': 80351,\n",
       " 'Employee Growth': 49533,\n",
       " 'BK': 2}"
      ]
     },
     "execution_count": 10,
     "metadata": {},
     "output_type": "execute_result"
    }
   ],
   "source": [
    "{column: len(df[column].unique()) for column in df.columns} # check if all are unique"
   ]
  },
  {
   "cell_type": "markdown",
   "id": "f5412fa3",
   "metadata": {},
   "source": [
    "All data are unique"
   ]
  },
  {
   "cell_type": "markdown",
   "id": "5e7af5e4",
   "metadata": {},
   "source": [
    "## 2.4 Initial Data Exploration"
   ]
  },
  {
   "cell_type": "markdown",
   "id": "f3546a66",
   "metadata": {},
   "source": [
    "### 2.41 Distributions"
   ]
  },
  {
   "cell_type": "code",
   "execution_count": 49,
   "id": "fd0bf4cb",
   "metadata": {},
   "outputs": [],
   "source": [
    "def count_values_table(df):\n",
    "        count_val = df.value_counts()\n",
    "        count_val_percent = 100 * df.value_counts() / len(df)\n",
    "        count_val_table = pd.concat([count_val, count_val_percent.round(1)], axis=1)\n",
    "        count_val_table_ren_columns = count_val_table.rename(\n",
    "        columns = {0 : 'Count Values', 1 : '% of Total Values'})\n",
    "        return count_val_table_ren_columns"
   ]
  },
  {
   "cell_type": "code",
   "execution_count": 50,
   "id": "b7c2ef48",
   "metadata": {},
   "outputs": [],
   "source": [
    "# Histogram\n",
    "def hist_chart(df, col):\n",
    "        plt.style.use('fivethirtyeight')\n",
    "        plt.hist(df[col].dropna(), edgecolor = 'k');\n",
    "        plt.xlabel(col); plt.ylabel('Number of Entries');\n",
    "        plt.title('Distribution of '+col);"
   ]
  },
  {
   "cell_type": "code",
   "execution_count": null,
   "id": "bf11181f",
   "metadata": {},
   "outputs": [],
   "source": [
    "# This is just an Example\n",
    "col = 'Employee Growth'\n",
    "# Histogram & Results\n",
    "hist_chart(df, col)\n",
    "count_values_table(df.Liquidity)"
   ]
  },
  {
   "cell_type": "markdown",
   "id": "1a201549",
   "metadata": {},
   "source": [
    "### 2.4.2 Correlations"
   ]
  },
  {
   "cell_type": "markdown",
   "id": "31f98932",
   "metadata": {},
   "source": [
    "#### Differencing"
   ]
  },
  {
   "cell_type": "code",
   "execution_count": 66,
   "id": "32b14f3b",
   "metadata": {},
   "outputs": [],
   "source": [
    "# use seaborn and heatmap to show correlation"
   ]
  },
  {
   "cell_type": "markdown",
   "id": "ea5f5d8c",
   "metadata": {},
   "source": [
    "## 2.5 Data Quality Report"
   ]
  },
  {
   "cell_type": "markdown",
   "id": "5f5278a0",
   "metadata": {},
   "source": [
    "    -List the results of the data quality verification. If quality problems exist, suggest possible solutions. Solutions to data quality problems generally depend heavily on both data and business knowledge."
   ]
  },
  {
   "cell_type": "markdown",
   "id": "1770f5ea",
   "metadata": {},
   "source": [
    "# Stage 3 - Data Preperation"
   ]
  },
  {
   "cell_type": "code",
   "execution_count": 52,
   "id": "25f273ba",
   "metadata": {},
   "outputs": [],
   "source": [
    "# Initialize variables for Data inclusion/exclusion"
   ]
  },
  {
   "cell_type": "markdown",
   "id": "3c255588",
   "metadata": {},
   "source": [
    "## 3.2 Clean The Data"
   ]
  },
  {
   "cell_type": "markdown",
   "id": "54ec08bb",
   "metadata": {},
   "source": [
    "### 3.2.1 Label Encoding"
   ]
  },
  {
   "cell_type": "code",
   "execution_count": 53,
   "id": "85768c55",
   "metadata": {},
   "outputs": [],
   "source": [
    "# help? : http://pbpython.com/categorical-encoding.html"
   ]
  },
  {
   "cell_type": "code",
   "execution_count": null,
   "id": "1a6d658b",
   "metadata": {},
   "outputs": [],
   "source": []
  },
  {
   "cell_type": "code",
   "execution_count": null,
   "id": "5d85114d",
   "metadata": {},
   "outputs": [],
   "source": []
  },
  {
   "cell_type": "markdown",
   "id": "d19ad3fc",
   "metadata": {},
   "source": [
    "### 3.2.2 Drop Unnecessary Columns"
   ]
  },
  {
   "cell_type": "code",
   "execution_count": 54,
   "id": "720c412d",
   "metadata": {},
   "outputs": [],
   "source": [
    "# This is the code for deleting columns\n",
    "# del_col_list = ['col1', 'col2']\n",
    "\n",
    "# df = df.drop(del_col_list, axis=1)\n",
    "# df.head()"
   ]
  },
  {
   "cell_type": "markdown",
   "id": "322eb8bc",
   "metadata": {},
   "source": [
    "### 3.2.3 Altering Data Types"
   ]
  },
  {
   "cell_type": "code",
   "execution_count": 55,
   "id": "5111d45c",
   "metadata": {},
   "outputs": [],
   "source": [
    "#df['date'] = pd.to_datetime(df['date'])"
   ]
  },
  {
   "cell_type": "code",
   "execution_count": null,
   "id": "134f0390",
   "metadata": {},
   "outputs": [],
   "source": []
  },
  {
   "cell_type": "markdown",
   "id": "072639f9",
   "metadata": {},
   "source": [
    "###  3.2.4 Dealing With Zeros"
   ]
  },
  {
   "cell_type": "code",
   "execution_count": 56,
   "id": "16e6a417",
   "metadata": {},
   "outputs": [],
   "source": [
    "#cols = ['col1', 'col2']\n",
    "#df[cols] = df[cols].replace(0, np.nan)"
   ]
  },
  {
   "cell_type": "code",
   "execution_count": 57,
   "id": "6ea0e40e",
   "metadata": {},
   "outputs": [],
   "source": [
    "# dropping all the rows with na in the columns mentioned above in the list.\n",
    "\n",
    "# df.dropna(subset=cols, inplace=True)"
   ]
  },
  {
   "cell_type": "code",
   "execution_count": null,
   "id": "107e6c62",
   "metadata": {},
   "outputs": [],
   "source": []
  },
  {
   "cell_type": "markdown",
   "id": "289de303",
   "metadata": {},
   "source": [
    "### 3.2.5 Dealing With Duplications"
   ]
  },
  {
   "cell_type": "code",
   "execution_count": 58,
   "id": "d6bcd900",
   "metadata": {},
   "outputs": [],
   "source": [
    "#df = df.drop_duplicates(keep='first')"
   ]
  },
  {
   "cell_type": "code",
   "execution_count": null,
   "id": "00bda616",
   "metadata": {},
   "outputs": [],
   "source": []
  },
  {
   "cell_type": "markdown",
   "id": "cef2d026",
   "metadata": {},
   "source": [
    "## 3.3 Construct Required Data"
   ]
  },
  {
   "cell_type": "markdown",
   "id": "9ee554b5",
   "metadata": {},
   "source": [
    "This task includes constructive data preparation operations such as the production of derived attributes or entire new records, or transformed values for existing attributes.\n",
    "\n",
    "- Derived attributes - These are new attributes that are constructed from one or more existing attributes in the same record, for example you might use the variables of length and width to calculate a new variable of area.\n",
    "\n",
    "- Generated records - Here you describe the creation of any completely new records. For example you might need to create records for customers who made no purchase during the past year. There was no reason to have such records in the raw data, but for modelling purposes it might make sense to explicitly represent the fact that particular customers made zero purchases."
   ]
  },
  {
   "cell_type": "code",
   "execution_count": 56,
   "id": "d9756890",
   "metadata": {},
   "outputs": [],
   "source": [
    "def preprocess_inputs(df):\n",
    "    df = df.copy()\n",
    "    \n",
    "    #split df into X and Y\n",
    "    y = df['BK']\n",
    "    X = df.drop('BK',axis =1)\n",
    "    \n",
    "    #train test split\n",
    "    X_train,X_test,y_train,y_test= train_test_split(X, y, train_size = 0.7, shuffle = True, random_state = 1)\n",
    "    \n",
    "    # Scale X\n",
    "    scaler = StandardScaler()\n",
    "    scaler.fit(X_train)\n",
    "    X_train = pd.DataFrame(scaler.transform(X_train),index=X_train.index, columns = X_train.columns)\n",
    "    X_test = pd.DataFrame(scaler.transform(X_test),index=X_test.index, columns = X_test.columns)\n",
    "    return X_train, X_test, y_train, y_test"
   ]
  },
  {
   "cell_type": "code",
   "execution_count": 57,
   "id": "d37626c7",
   "metadata": {},
   "outputs": [],
   "source": [
    "X_train, X_test, y_train, y_test = preprocess_inputs(df)"
   ]
  },
  {
   "cell_type": "code",
   "execution_count": 75,
   "id": "f4e62145",
   "metadata": {
    "scrolled": false
   },
   "outputs": [
    {
     "data": {
      "text/html": [
       "<div>\n",
       "<style scoped>\n",
       "    .dataframe tbody tr th:only-of-type {\n",
       "        vertical-align: middle;\n",
       "    }\n",
       "\n",
       "    .dataframe tbody tr th {\n",
       "        vertical-align: top;\n",
       "    }\n",
       "\n",
       "    .dataframe thead th {\n",
       "        text-align: right;\n",
       "    }\n",
       "</style>\n",
       "<table border=\"1\" class=\"dataframe\">\n",
       "  <thead>\n",
       "    <tr style=\"text-align: right;\">\n",
       "      <th></th>\n",
       "      <th>EPS</th>\n",
       "      <th>Liquidity</th>\n",
       "      <th>Profitability</th>\n",
       "      <th>Productivity</th>\n",
       "      <th>Leverage Ratio</th>\n",
       "      <th>Asset Turnover</th>\n",
       "      <th>Operational Margin</th>\n",
       "      <th>Return on Equity</th>\n",
       "      <th>Market Book Ratio</th>\n",
       "      <th>Assets Growth</th>\n",
       "      <th>Sales Growth</th>\n",
       "      <th>Employee Growth</th>\n",
       "    </tr>\n",
       "  </thead>\n",
       "  <tbody>\n",
       "    <tr>\n",
       "      <th>6187</th>\n",
       "      <td>0.007440</td>\n",
       "      <td>0.027346</td>\n",
       "      <td>0.044540</td>\n",
       "      <td>0.037500</td>\n",
       "      <td>-0.006082</td>\n",
       "      <td>0.085240</td>\n",
       "      <td>0.036577</td>\n",
       "      <td>0.006600</td>\n",
       "      <td>-0.013806</td>\n",
       "      <td>-0.016418</td>\n",
       "      <td>-0.010600</td>\n",
       "      <td>-0.022845</td>\n",
       "    </tr>\n",
       "    <tr>\n",
       "      <th>92428</th>\n",
       "      <td>0.007647</td>\n",
       "      <td>0.022488</td>\n",
       "      <td>0.043908</td>\n",
       "      <td>0.038125</td>\n",
       "      <td>0.002307</td>\n",
       "      <td>-0.149966</td>\n",
       "      <td>0.036823</td>\n",
       "      <td>0.006694</td>\n",
       "      <td>-0.013566</td>\n",
       "      <td>-0.014325</td>\n",
       "      <td>-0.002002</td>\n",
       "      <td>-0.035093</td>\n",
       "    </tr>\n",
       "    <tr>\n",
       "      <th>80813</th>\n",
       "      <td>0.007212</td>\n",
       "      <td>-0.005964</td>\n",
       "      <td>-0.008864</td>\n",
       "      <td>0.004730</td>\n",
       "      <td>-0.006847</td>\n",
       "      <td>1.159386</td>\n",
       "      <td>0.035138</td>\n",
       "      <td>0.005578</td>\n",
       "      <td>-0.019546</td>\n",
       "      <td>-0.007940</td>\n",
       "      <td>0.003381</td>\n",
       "      <td>-0.028497</td>\n",
       "    </tr>\n",
       "    <tr>\n",
       "      <th>29167</th>\n",
       "      <td>0.006919</td>\n",
       "      <td>0.021608</td>\n",
       "      <td>0.043768</td>\n",
       "      <td>0.036050</td>\n",
       "      <td>0.002101</td>\n",
       "      <td>0.236722</td>\n",
       "      <td>0.036407</td>\n",
       "      <td>0.005721</td>\n",
       "      <td>-0.014060</td>\n",
       "      <td>-0.017105</td>\n",
       "      <td>-0.011097</td>\n",
       "      <td>-0.034193</td>\n",
       "    </tr>\n",
       "    <tr>\n",
       "      <th>17680</th>\n",
       "      <td>0.013464</td>\n",
       "      <td>0.023218</td>\n",
       "      <td>0.043933</td>\n",
       "      <td>0.036920</td>\n",
       "      <td>0.005228</td>\n",
       "      <td>-0.272809</td>\n",
       "      <td>0.036661</td>\n",
       "      <td>0.006671</td>\n",
       "      <td>-0.010291</td>\n",
       "      <td>-0.015226</td>\n",
       "      <td>-0.010138</td>\n",
       "      <td>-0.031703</td>\n",
       "    </tr>\n",
       "    <tr>\n",
       "      <th>...</th>\n",
       "      <td>...</td>\n",
       "      <td>...</td>\n",
       "      <td>...</td>\n",
       "      <td>...</td>\n",
       "      <td>...</td>\n",
       "      <td>...</td>\n",
       "      <td>...</td>\n",
       "      <td>...</td>\n",
       "      <td>...</td>\n",
       "      <td>...</td>\n",
       "      <td>...</td>\n",
       "      <td>...</td>\n",
       "    </tr>\n",
       "    <tr>\n",
       "      <th>21440</th>\n",
       "      <td>0.007549</td>\n",
       "      <td>0.024407</td>\n",
       "      <td>0.044250</td>\n",
       "      <td>0.037500</td>\n",
       "      <td>-0.005417</td>\n",
       "      <td>0.020975</td>\n",
       "      <td>0.036577</td>\n",
       "      <td>0.006576</td>\n",
       "      <td>-0.005735</td>\n",
       "      <td>-0.015071</td>\n",
       "      <td>-0.009992</td>\n",
       "      <td>-0.019302</td>\n",
       "    </tr>\n",
       "    <tr>\n",
       "      <th>73349</th>\n",
       "      <td>0.002588</td>\n",
       "      <td>0.022868</td>\n",
       "      <td>0.043699</td>\n",
       "      <td>0.038080</td>\n",
       "      <td>0.012546</td>\n",
       "      <td>0.796747</td>\n",
       "      <td>0.036534</td>\n",
       "      <td>0.000990</td>\n",
       "      <td>-0.013402</td>\n",
       "      <td>-0.018533</td>\n",
       "      <td>-0.011761</td>\n",
       "      <td>-0.038563</td>\n",
       "    </tr>\n",
       "    <tr>\n",
       "      <th>50057</th>\n",
       "      <td>0.007742</td>\n",
       "      <td>0.021188</td>\n",
       "      <td>0.044858</td>\n",
       "      <td>0.039530</td>\n",
       "      <td>-0.005417</td>\n",
       "      <td>-0.144279</td>\n",
       "      <td>0.037084</td>\n",
       "      <td>0.006600</td>\n",
       "      <td>-0.012982</td>\n",
       "      <td>-0.015335</td>\n",
       "      <td>-0.010481</td>\n",
       "      <td>-0.028497</td>\n",
       "    </tr>\n",
       "    <tr>\n",
       "      <th>5192</th>\n",
       "      <td>0.006105</td>\n",
       "      <td>0.025597</td>\n",
       "      <td>0.044002</td>\n",
       "      <td>0.035470</td>\n",
       "      <td>0.002433</td>\n",
       "      <td>0.167866</td>\n",
       "      <td>0.036365</td>\n",
       "      <td>0.005483</td>\n",
       "      <td>-0.014082</td>\n",
       "      <td>-0.014853</td>\n",
       "      <td>-0.010043</td>\n",
       "      <td>-0.034522</td>\n",
       "    </tr>\n",
       "    <tr>\n",
       "      <th>77708</th>\n",
       "      <td>0.007199</td>\n",
       "      <td>0.025247</td>\n",
       "      <td>-0.004821</td>\n",
       "      <td>-0.003100</td>\n",
       "      <td>-0.006082</td>\n",
       "      <td>-0.483966</td>\n",
       "      <td>NaN</td>\n",
       "      <td>0.005958</td>\n",
       "      <td>0.009026</td>\n",
       "      <td>NaN</td>\n",
       "      <td>NaN</td>\n",
       "      <td>NaN</td>\n",
       "    </tr>\n",
       "  </tbody>\n",
       "</table>\n",
       "<p>65010 rows × 12 columns</p>\n",
       "</div>"
      ],
      "text/plain": [
       "            EPS  Liquidity  Profitability  Productivity  Leverage Ratio  \\\n",
       "6187   0.007440   0.027346       0.044540      0.037500       -0.006082   \n",
       "92428  0.007647   0.022488       0.043908      0.038125        0.002307   \n",
       "80813  0.007212  -0.005964      -0.008864      0.004730       -0.006847   \n",
       "29167  0.006919   0.021608       0.043768      0.036050        0.002101   \n",
       "17680  0.013464   0.023218       0.043933      0.036920        0.005228   \n",
       "...         ...        ...            ...           ...             ...   \n",
       "21440  0.007549   0.024407       0.044250      0.037500       -0.005417   \n",
       "73349  0.002588   0.022868       0.043699      0.038080        0.012546   \n",
       "50057  0.007742   0.021188       0.044858      0.039530       -0.005417   \n",
       "5192   0.006105   0.025597       0.044002      0.035470        0.002433   \n",
       "77708  0.007199   0.025247      -0.004821     -0.003100       -0.006082   \n",
       "\n",
       "       Asset Turnover  Operational Margin  Return on Equity  \\\n",
       "6187         0.085240            0.036577          0.006600   \n",
       "92428       -0.149966            0.036823          0.006694   \n",
       "80813        1.159386            0.035138          0.005578   \n",
       "29167        0.236722            0.036407          0.005721   \n",
       "17680       -0.272809            0.036661          0.006671   \n",
       "...               ...                 ...               ...   \n",
       "21440        0.020975            0.036577          0.006576   \n",
       "73349        0.796747            0.036534          0.000990   \n",
       "50057       -0.144279            0.037084          0.006600   \n",
       "5192         0.167866            0.036365          0.005483   \n",
       "77708       -0.483966                 NaN          0.005958   \n",
       "\n",
       "       Market Book Ratio  Assets Growth  Sales Growth  Employee Growth  \n",
       "6187           -0.013806      -0.016418     -0.010600        -0.022845  \n",
       "92428          -0.013566      -0.014325     -0.002002        -0.035093  \n",
       "80813          -0.019546      -0.007940      0.003381        -0.028497  \n",
       "29167          -0.014060      -0.017105     -0.011097        -0.034193  \n",
       "17680          -0.010291      -0.015226     -0.010138        -0.031703  \n",
       "...                  ...            ...           ...              ...  \n",
       "21440          -0.005735      -0.015071     -0.009992        -0.019302  \n",
       "73349          -0.013402      -0.018533     -0.011761        -0.038563  \n",
       "50057          -0.012982      -0.015335     -0.010481        -0.028497  \n",
       "5192           -0.014082      -0.014853     -0.010043        -0.034522  \n",
       "77708           0.009026            NaN           NaN              NaN  \n",
       "\n",
       "[65010 rows x 12 columns]"
      ]
     },
     "execution_count": 75,
     "metadata": {},
     "output_type": "execute_result"
    }
   ],
   "source": [
    "X_train"
   ]
  },
  {
   "cell_type": "code",
   "execution_count": 78,
   "id": "92a71d84",
   "metadata": {},
   "outputs": [
    {
     "data": {
      "text/plain": [
       "6187     0\n",
       "92428    0\n",
       "80813    0\n",
       "29167    0\n",
       "17680    0\n",
       "        ..\n",
       "21440    0\n",
       "73349    0\n",
       "50057    0\n",
       "5192     0\n",
       "77708    0\n",
       "Name: BK, Length: 65010, dtype: int64"
      ]
     },
     "execution_count": 78,
     "metadata": {},
     "output_type": "execute_result"
    }
   ],
   "source": [
    "y_train"
   ]
  },
  {
   "cell_type": "code",
   "execution_count": 81,
   "id": "a1338de9",
   "metadata": {},
   "outputs": [
    {
     "data": {
      "text/plain": [
       "6187     0\n",
       "92428    0\n",
       "80813    0\n",
       "29167    0\n",
       "17680    0\n",
       "        ..\n",
       "21440    0\n",
       "73349    0\n",
       "50057    0\n",
       "5192     0\n",
       "77708    0\n",
       "Name: BK, Length: 65010, dtype: int64"
      ]
     },
     "execution_count": 81,
     "metadata": {},
     "output_type": "execute_result"
    }
   ],
   "source": [
    "y_train"
   ]
  },
  {
   "cell_type": "markdown",
   "id": "2d9e81a6",
   "metadata": {},
   "source": [
    "# Stage 4 - Exploratory Data Analysis\n",
    "## Modelling"
   ]
  },
  {
   "cell_type": "markdown",
   "id": "69310174",
   "metadata": {},
   "source": [
    "As the first step in modelling, you'll select the actual modelling technique that you'll be using. Although you may have already selected a tool during the business understanding phase, at this stage you'll be selecting the specific modelling technique e.g. decision-tree building with C5.0, or neural network generation with back propagation. If multiple techniques are applied, perform this task separately for each technique."
   ]
  },
  {
   "cell_type": "markdown",
   "id": "0bbdc021",
   "metadata": {},
   "source": [
    "## 4.1 Modelling technique\n",
    "Document the actual modelling technique that is to be used.\n",
    "    \n",
    "    Import Models Below:"
   ]
  },
  {
   "cell_type": "code",
   "execution_count": 82,
   "id": "d0cdd6ce",
   "metadata": {},
   "outputs": [],
   "source": [
    "models = {\n",
    "    \"Random Forest\": RandomForestClassifier(),\n",
    "    \"SVC (RBF Kernel)\": SVC(),\n",
    "    \"Naive Bayes\" : GaussianNB()\n",
    "}"
   ]
  },
  {
   "cell_type": "markdown",
   "id": "615b329d",
   "metadata": {},
   "source": [
    "## 4.2 Modelling Assumption\n",
    "Many modelling techniques make specific assumptions about the data, for example that all attributes have uniform distributions, no missing values allowed, class attribute must be symbolic etc. Record any assumptions made."
   ]
  },
  {
   "cell_type": "code",
   "execution_count": null,
   "id": "5a058ac0",
   "metadata": {},
   "outputs": [],
   "source": []
  },
  {
   "cell_type": "code",
   "execution_count": null,
   "id": "40c0fd45",
   "metadata": {},
   "outputs": [],
   "source": []
  },
  {
   "cell_type": "markdown",
   "id": "16c79f84",
   "metadata": {},
   "source": [
    "## 4.3 Build Model\n",
    "Run the modelling tool on the prepared dataset to create one or more models.\n",
    "\n",
    "- Parameter settings - With any modelling tool there are often a large number of parameters that can be adjusted. List the parameters and their chosen values, along with the rationale for the choice of parameter settings.\n",
    "\n",
    "- Models - These are the actual models produced by the modelling tool, not a report on the models.\n",
    "\n",
    "- Model descriptions - Describe the resulting models, report on the interpretation of the models and document any difficulties encountered with their meanings."
   ]
  },
  {
   "cell_type": "code",
   "execution_count": null,
   "id": "05bbeeb3",
   "metadata": {},
   "outputs": [],
   "source": [
    "for name, model in models.items():\n",
    "    model.fit(X_train, y_train)\n",
    "    print(name+ \" trained.\")"
   ]
  },
  {
   "cell_type": "code",
   "execution_count": 76,
   "id": "43f62b3d",
   "metadata": {},
   "outputs": [
    {
     "ename": "ValueError",
     "evalue": "Input contains NaN, infinity or a value too large for dtype('float32').",
     "output_type": "error",
     "traceback": [
      "\u001b[1;31m---------------------------------------------------------------------------\u001b[0m",
      "\u001b[1;31mValueError\u001b[0m                                Traceback (most recent call last)",
      "Input \u001b[1;32mIn [76]\u001b[0m, in \u001b[0;36m<cell line: 2>\u001b[1;34m()\u001b[0m\n\u001b[0;32m      1\u001b[0m results \u001b[38;5;241m=\u001b[39m []\n\u001b[0;32m      2\u001b[0m \u001b[38;5;28;01mfor\u001b[39;00m name, model \u001b[38;5;129;01min\u001b[39;00m models\u001b[38;5;241m.\u001b[39mitems():\n\u001b[1;32m----> 3\u001b[0m     result \u001b[38;5;241m=\u001b[39m \u001b[43mmodel\u001b[49m\u001b[38;5;241;43m.\u001b[39;49m\u001b[43mscore\u001b[49m\u001b[43m(\u001b[49m\u001b[43mX_test\u001b[49m\u001b[43m,\u001b[49m\u001b[43my_test\u001b[49m\u001b[43m)\u001b[49m\n\u001b[0;32m      4\u001b[0m     results\u001b[38;5;241m.\u001b[39mappend(result)\n\u001b[0;32m      5\u001b[0m     \u001b[38;5;28mprint\u001b[39m(name \u001b[38;5;241m+\u001b[39m \u001b[38;5;124m\"\u001b[39m\u001b[38;5;124m: \u001b[39m\u001b[38;5;124m{\u001b[39m\u001b[38;5;124m.2f}\u001b[39m\u001b[38;5;124m%\u001b[39m\u001b[38;5;124m\"\u001b[39m\u001b[38;5;241m.\u001b[39mformat(result \u001b[38;5;241m*\u001b[39m \u001b[38;5;241m100\u001b[39m))\n",
      "File \u001b[1;32m~\\anaconda3\\lib\\site-packages\\sklearn\\base.py:651\u001b[0m, in \u001b[0;36mClassifierMixin.score\u001b[1;34m(self, X, y, sample_weight)\u001b[0m\n\u001b[0;32m    626\u001b[0m \u001b[38;5;124;03m\"\"\"\u001b[39;00m\n\u001b[0;32m    627\u001b[0m \u001b[38;5;124;03mReturn the mean accuracy on the given test data and labels.\u001b[39;00m\n\u001b[0;32m    628\u001b[0m \n\u001b[1;32m   (...)\u001b[0m\n\u001b[0;32m    647\u001b[0m \u001b[38;5;124;03m    Mean accuracy of ``self.predict(X)`` wrt. `y`.\u001b[39;00m\n\u001b[0;32m    648\u001b[0m \u001b[38;5;124;03m\"\"\"\u001b[39;00m\n\u001b[0;32m    649\u001b[0m \u001b[38;5;28;01mfrom\u001b[39;00m \u001b[38;5;21;01m.\u001b[39;00m\u001b[38;5;21;01mmetrics\u001b[39;00m \u001b[38;5;28;01mimport\u001b[39;00m accuracy_score\n\u001b[1;32m--> 651\u001b[0m \u001b[38;5;28;01mreturn\u001b[39;00m accuracy_score(y, \u001b[38;5;28;43mself\u001b[39;49m\u001b[38;5;241;43m.\u001b[39;49m\u001b[43mpredict\u001b[49m\u001b[43m(\u001b[49m\u001b[43mX\u001b[49m\u001b[43m)\u001b[49m, sample_weight\u001b[38;5;241m=\u001b[39msample_weight)\n",
      "File \u001b[1;32m~\\anaconda3\\lib\\site-packages\\sklearn\\ensemble\\_forest.py:808\u001b[0m, in \u001b[0;36mForestClassifier.predict\u001b[1;34m(self, X)\u001b[0m\n\u001b[0;32m    787\u001b[0m \u001b[38;5;28;01mdef\u001b[39;00m \u001b[38;5;21mpredict\u001b[39m(\u001b[38;5;28mself\u001b[39m, X):\n\u001b[0;32m    788\u001b[0m     \u001b[38;5;124;03m\"\"\"\u001b[39;00m\n\u001b[0;32m    789\u001b[0m \u001b[38;5;124;03m    Predict class for X.\u001b[39;00m\n\u001b[0;32m    790\u001b[0m \n\u001b[1;32m   (...)\u001b[0m\n\u001b[0;32m    806\u001b[0m \u001b[38;5;124;03m        The predicted classes.\u001b[39;00m\n\u001b[0;32m    807\u001b[0m \u001b[38;5;124;03m    \"\"\"\u001b[39;00m\n\u001b[1;32m--> 808\u001b[0m     proba \u001b[38;5;241m=\u001b[39m \u001b[38;5;28;43mself\u001b[39;49m\u001b[38;5;241;43m.\u001b[39;49m\u001b[43mpredict_proba\u001b[49m\u001b[43m(\u001b[49m\u001b[43mX\u001b[49m\u001b[43m)\u001b[49m\n\u001b[0;32m    810\u001b[0m     \u001b[38;5;28;01mif\u001b[39;00m \u001b[38;5;28mself\u001b[39m\u001b[38;5;241m.\u001b[39mn_outputs_ \u001b[38;5;241m==\u001b[39m \u001b[38;5;241m1\u001b[39m:\n\u001b[0;32m    811\u001b[0m         \u001b[38;5;28;01mreturn\u001b[39;00m \u001b[38;5;28mself\u001b[39m\u001b[38;5;241m.\u001b[39mclasses_\u001b[38;5;241m.\u001b[39mtake(np\u001b[38;5;241m.\u001b[39margmax(proba, axis\u001b[38;5;241m=\u001b[39m\u001b[38;5;241m1\u001b[39m), axis\u001b[38;5;241m=\u001b[39m\u001b[38;5;241m0\u001b[39m)\n",
      "File \u001b[1;32m~\\anaconda3\\lib\\site-packages\\sklearn\\ensemble\\_forest.py:850\u001b[0m, in \u001b[0;36mForestClassifier.predict_proba\u001b[1;34m(self, X)\u001b[0m\n\u001b[0;32m    848\u001b[0m check_is_fitted(\u001b[38;5;28mself\u001b[39m)\n\u001b[0;32m    849\u001b[0m \u001b[38;5;66;03m# Check data\u001b[39;00m\n\u001b[1;32m--> 850\u001b[0m X \u001b[38;5;241m=\u001b[39m \u001b[38;5;28;43mself\u001b[39;49m\u001b[38;5;241;43m.\u001b[39;49m\u001b[43m_validate_X_predict\u001b[49m\u001b[43m(\u001b[49m\u001b[43mX\u001b[49m\u001b[43m)\u001b[49m\n\u001b[0;32m    852\u001b[0m \u001b[38;5;66;03m# Assign chunk of trees to jobs\u001b[39;00m\n\u001b[0;32m    853\u001b[0m n_jobs, _, _ \u001b[38;5;241m=\u001b[39m _partition_estimators(\u001b[38;5;28mself\u001b[39m\u001b[38;5;241m.\u001b[39mn_estimators, \u001b[38;5;28mself\u001b[39m\u001b[38;5;241m.\u001b[39mn_jobs)\n",
      "File \u001b[1;32m~\\anaconda3\\lib\\site-packages\\sklearn\\ensemble\\_forest.py:579\u001b[0m, in \u001b[0;36mBaseForest._validate_X_predict\u001b[1;34m(self, X)\u001b[0m\n\u001b[0;32m    576\u001b[0m \u001b[38;5;124;03m\"\"\"\u001b[39;00m\n\u001b[0;32m    577\u001b[0m \u001b[38;5;124;03mValidate X whenever one tries to predict, apply, predict_proba.\"\"\"\u001b[39;00m\n\u001b[0;32m    578\u001b[0m check_is_fitted(\u001b[38;5;28mself\u001b[39m)\n\u001b[1;32m--> 579\u001b[0m X \u001b[38;5;241m=\u001b[39m \u001b[38;5;28;43mself\u001b[39;49m\u001b[38;5;241;43m.\u001b[39;49m\u001b[43m_validate_data\u001b[49m\u001b[43m(\u001b[49m\u001b[43mX\u001b[49m\u001b[43m,\u001b[49m\u001b[43m \u001b[49m\u001b[43mdtype\u001b[49m\u001b[38;5;241;43m=\u001b[39;49m\u001b[43mDTYPE\u001b[49m\u001b[43m,\u001b[49m\u001b[43m \u001b[49m\u001b[43maccept_sparse\u001b[49m\u001b[38;5;241;43m=\u001b[39;49m\u001b[38;5;124;43m\"\u001b[39;49m\u001b[38;5;124;43mcsr\u001b[39;49m\u001b[38;5;124;43m\"\u001b[39;49m\u001b[43m,\u001b[49m\u001b[43m \u001b[49m\u001b[43mreset\u001b[49m\u001b[38;5;241;43m=\u001b[39;49m\u001b[38;5;28;43;01mFalse\u001b[39;49;00m\u001b[43m)\u001b[49m\n\u001b[0;32m    580\u001b[0m \u001b[38;5;28;01mif\u001b[39;00m issparse(X) \u001b[38;5;129;01mand\u001b[39;00m (X\u001b[38;5;241m.\u001b[39mindices\u001b[38;5;241m.\u001b[39mdtype \u001b[38;5;241m!=\u001b[39m np\u001b[38;5;241m.\u001b[39mintc \u001b[38;5;129;01mor\u001b[39;00m X\u001b[38;5;241m.\u001b[39mindptr\u001b[38;5;241m.\u001b[39mdtype \u001b[38;5;241m!=\u001b[39m np\u001b[38;5;241m.\u001b[39mintc):\n\u001b[0;32m    581\u001b[0m     \u001b[38;5;28;01mraise\u001b[39;00m \u001b[38;5;167;01mValueError\u001b[39;00m(\u001b[38;5;124m\"\u001b[39m\u001b[38;5;124mNo support for np.int64 index based sparse matrices\u001b[39m\u001b[38;5;124m\"\u001b[39m)\n",
      "File \u001b[1;32m~\\anaconda3\\lib\\site-packages\\sklearn\\base.py:566\u001b[0m, in \u001b[0;36mBaseEstimator._validate_data\u001b[1;34m(self, X, y, reset, validate_separately, **check_params)\u001b[0m\n\u001b[0;32m    564\u001b[0m     \u001b[38;5;28;01mraise\u001b[39;00m \u001b[38;5;167;01mValueError\u001b[39;00m(\u001b[38;5;124m\"\u001b[39m\u001b[38;5;124mValidation should be done on X, y or both.\u001b[39m\u001b[38;5;124m\"\u001b[39m)\n\u001b[0;32m    565\u001b[0m \u001b[38;5;28;01melif\u001b[39;00m \u001b[38;5;129;01mnot\u001b[39;00m no_val_X \u001b[38;5;129;01mand\u001b[39;00m no_val_y:\n\u001b[1;32m--> 566\u001b[0m     X \u001b[38;5;241m=\u001b[39m check_array(X, \u001b[38;5;241m*\u001b[39m\u001b[38;5;241m*\u001b[39mcheck_params)\n\u001b[0;32m    567\u001b[0m     out \u001b[38;5;241m=\u001b[39m X\n\u001b[0;32m    568\u001b[0m \u001b[38;5;28;01melif\u001b[39;00m no_val_X \u001b[38;5;129;01mand\u001b[39;00m \u001b[38;5;129;01mnot\u001b[39;00m no_val_y:\n",
      "File \u001b[1;32m~\\anaconda3\\lib\\site-packages\\sklearn\\utils\\validation.py:800\u001b[0m, in \u001b[0;36mcheck_array\u001b[1;34m(array, accept_sparse, accept_large_sparse, dtype, order, copy, force_all_finite, ensure_2d, allow_nd, ensure_min_samples, ensure_min_features, estimator)\u001b[0m\n\u001b[0;32m    794\u001b[0m         \u001b[38;5;28;01mraise\u001b[39;00m \u001b[38;5;167;01mValueError\u001b[39;00m(\n\u001b[0;32m    795\u001b[0m             \u001b[38;5;124m\"\u001b[39m\u001b[38;5;124mFound array with dim \u001b[39m\u001b[38;5;132;01m%d\u001b[39;00m\u001b[38;5;124m. \u001b[39m\u001b[38;5;132;01m%s\u001b[39;00m\u001b[38;5;124m expected <= 2.\u001b[39m\u001b[38;5;124m\"\u001b[39m\n\u001b[0;32m    796\u001b[0m             \u001b[38;5;241m%\u001b[39m (array\u001b[38;5;241m.\u001b[39mndim, estimator_name)\n\u001b[0;32m    797\u001b[0m         )\n\u001b[0;32m    799\u001b[0m     \u001b[38;5;28;01mif\u001b[39;00m force_all_finite:\n\u001b[1;32m--> 800\u001b[0m         \u001b[43m_assert_all_finite\u001b[49m\u001b[43m(\u001b[49m\u001b[43marray\u001b[49m\u001b[43m,\u001b[49m\u001b[43m \u001b[49m\u001b[43mallow_nan\u001b[49m\u001b[38;5;241;43m=\u001b[39;49m\u001b[43mforce_all_finite\u001b[49m\u001b[43m \u001b[49m\u001b[38;5;241;43m==\u001b[39;49m\u001b[43m \u001b[49m\u001b[38;5;124;43m\"\u001b[39;49m\u001b[38;5;124;43mallow-nan\u001b[39;49m\u001b[38;5;124;43m\"\u001b[39;49m\u001b[43m)\u001b[49m\n\u001b[0;32m    802\u001b[0m \u001b[38;5;28;01mif\u001b[39;00m ensure_min_samples \u001b[38;5;241m>\u001b[39m \u001b[38;5;241m0\u001b[39m:\n\u001b[0;32m    803\u001b[0m     n_samples \u001b[38;5;241m=\u001b[39m _num_samples(array)\n",
      "File \u001b[1;32m~\\anaconda3\\lib\\site-packages\\sklearn\\utils\\validation.py:114\u001b[0m, in \u001b[0;36m_assert_all_finite\u001b[1;34m(X, allow_nan, msg_dtype)\u001b[0m\n\u001b[0;32m    107\u001b[0m     \u001b[38;5;28;01mif\u001b[39;00m (\n\u001b[0;32m    108\u001b[0m         allow_nan\n\u001b[0;32m    109\u001b[0m         \u001b[38;5;129;01mand\u001b[39;00m np\u001b[38;5;241m.\u001b[39misinf(X)\u001b[38;5;241m.\u001b[39many()\n\u001b[0;32m    110\u001b[0m         \u001b[38;5;129;01mor\u001b[39;00m \u001b[38;5;129;01mnot\u001b[39;00m allow_nan\n\u001b[0;32m    111\u001b[0m         \u001b[38;5;129;01mand\u001b[39;00m \u001b[38;5;129;01mnot\u001b[39;00m np\u001b[38;5;241m.\u001b[39misfinite(X)\u001b[38;5;241m.\u001b[39mall()\n\u001b[0;32m    112\u001b[0m     ):\n\u001b[0;32m    113\u001b[0m         type_err \u001b[38;5;241m=\u001b[39m \u001b[38;5;124m\"\u001b[39m\u001b[38;5;124minfinity\u001b[39m\u001b[38;5;124m\"\u001b[39m \u001b[38;5;28;01mif\u001b[39;00m allow_nan \u001b[38;5;28;01melse\u001b[39;00m \u001b[38;5;124m\"\u001b[39m\u001b[38;5;124mNaN, infinity\u001b[39m\u001b[38;5;124m\"\u001b[39m\n\u001b[1;32m--> 114\u001b[0m         \u001b[38;5;28;01mraise\u001b[39;00m \u001b[38;5;167;01mValueError\u001b[39;00m(\n\u001b[0;32m    115\u001b[0m             msg_err\u001b[38;5;241m.\u001b[39mformat(\n\u001b[0;32m    116\u001b[0m                 type_err, msg_dtype \u001b[38;5;28;01mif\u001b[39;00m msg_dtype \u001b[38;5;129;01mis\u001b[39;00m \u001b[38;5;129;01mnot\u001b[39;00m \u001b[38;5;28;01mNone\u001b[39;00m \u001b[38;5;28;01melse\u001b[39;00m X\u001b[38;5;241m.\u001b[39mdtype\n\u001b[0;32m    117\u001b[0m             )\n\u001b[0;32m    118\u001b[0m         )\n\u001b[0;32m    119\u001b[0m \u001b[38;5;66;03m# for object dtype data, we only check for NaNs (GH-13254)\u001b[39;00m\n\u001b[0;32m    120\u001b[0m \u001b[38;5;28;01melif\u001b[39;00m X\u001b[38;5;241m.\u001b[39mdtype \u001b[38;5;241m==\u001b[39m np\u001b[38;5;241m.\u001b[39mdtype(\u001b[38;5;124m\"\u001b[39m\u001b[38;5;124mobject\u001b[39m\u001b[38;5;124m\"\u001b[39m) \u001b[38;5;129;01mand\u001b[39;00m \u001b[38;5;129;01mnot\u001b[39;00m allow_nan:\n",
      "\u001b[1;31mValueError\u001b[0m: Input contains NaN, infinity or a value too large for dtype('float32')."
     ]
    }
   ],
   "source": [
    "results = []\n",
    "for name, model in models.items():\n",
    "    result = model.score(X_test,y_test)\n",
    "    results.append(result)\n",
    "    print(name + \": {.2f}%\".format(result * 100))\n",
    "    "
   ]
  },
  {
   "cell_type": "code",
   "execution_count": null,
   "id": "105d0740",
   "metadata": {},
   "outputs": [],
   "source": []
  },
  {
   "cell_type": "markdown",
   "id": "a313dbfa",
   "metadata": {},
   "source": [
    "## 5.4 Assess Model \n",
    "<p>Interpret the models according to your domain knowledge, your data mining success criteria and your desired test design. Judge the success of the application of modelling and discovery techniques technically, then contact business analysts and domain experts later in order to discuss the data mining results in the business context. This task only considers models, whereas the evaluation phase also takes into account all other results that were produced in the course of the project.</p>\n",
    "\n",
    "At this stage you should rank the models and assess them according to the evaluation criteria. You should take the business objectives and business success criteria into account as far as you can here. In most data mining projects a single technique is applied more than once and data mining results are generated with several different techniques.\n",
    "\n",
    "- **Model assessment** - Summarise the results of this task, list the qualities of your generated models (e.g.in terms of accuracy) and rank their quality in relation to each other.\n",
    "\n",
    "- **Revised parameter settings** - According to the model assessment, revise parameter settings and tune them for the next modelling run. Iterate model building and assessment until you strongly believe that you have found the best model(s). Document all such revisions and assessments."
   ]
  },
  {
   "cell_type": "code",
   "execution_count": null,
   "id": "8c49b3d0",
   "metadata": {},
   "outputs": [],
   "source": []
  },
  {
   "cell_type": "code",
   "execution_count": null,
   "id": "19dfcfd2",
   "metadata": {},
   "outputs": [],
   "source": []
  }
 ],
 "metadata": {
  "kernelspec": {
   "display_name": "Python 3 (ipykernel)",
   "language": "python",
   "name": "python3"
  },
  "language_info": {
   "codemirror_mode": {
    "name": "ipython",
    "version": 3
   },
   "file_extension": ".py",
   "mimetype": "text/x-python",
   "name": "python",
   "nbconvert_exporter": "python",
   "pygments_lexer": "ipython3",
   "version": "3.9.12"
  }
 },
 "nbformat": 4,
 "nbformat_minor": 5
}
