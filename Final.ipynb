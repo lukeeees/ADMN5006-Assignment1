{
 "cells": [
  {
   "cell_type": "markdown",
   "id": "c21dc053",
   "metadata": {},
   "source": [
    "# ADMN 5006 - Analytics for Financial Markets\n",
    "# Assignment # 1"
   ]
  },
  {
   "cell_type": "markdown",
   "id": "29528f88",
   "metadata": {},
   "source": [
    "<p>Your assignment is to design and develop machine learning models for corporate bankruptcy prediction 2 years into the future using the data provided. </p>\n",
    "   - The column “BK” in the data provided denotes whether the company goes bankrupt (indicated by 1) 2 years in the future, or not (indicated by 0). \n",
    "   - Some of the input variables included are “Assets Growth”, “Sales Growth”, “Earnings-per-share (EPS)”, “Return-on-equity (ROE)”, etc. \n",
    "   - In addition, the paper entitled: “Machine learning models and bankruptcy prediction” by Barboza et. al. is posted to the portal and is an excellent reference for you to use.  \n",
    "    \n",
    "<p>Note however that the dataset you are given is not the same as the one used in the aforementioned paper.  Therefore, don’t be alarmed if your results don’t agree with the Barboza et. al. paper.  You will need to partition your data into testing and training sets and explain your experimental set-up.</p>\n",
    "\n",
    "<p>The input and output variables are described below:</p>\n",
    "<table>\n",
    "    <tr>\n",
    "        <td>EPS</td>\n",
    "        <td>Earnings Per Share</td>\n",
    "    </tr>\n",
    "    <tr>\n",
    "        <td> Liquidity </td>\n",
    "        <td> Working Capital/Total Assets</td>\n",
    "    </tr>\n",
    "    <tr>\n",
    "        <td>Profitability</td>\n",
    "        <td>Retained Earnings/Total Assets</td>\n",
    "    </tr>\n",
    "    <tr>\n",
    "        <td>Productivity</td>\n",
    "        <td>EBIT/Total Assets</td>\n",
    "    </tr>\n",
    "    <tr>\n",
    "        <td>Leverage Ratio </td>\n",
    "        <td>(Total Long-term debt + Debt in Current liabilities)/Stockholders Equity</td>\n",
    "    </tr>\n",
    "    <tr>\n",
    "        <td>Asset Turnover</td>\n",
    "        <td>Sales/ Total Assets</td>\n",
    "    </tr>\n",
    "    <tr>\n",
    "        <td>Operational Margin</td>\n",
    "        <td> EBIT/Sales</td>\n",
    "    </tr>\n",
    "    <tr>\n",
    "        <td>Market Book Ratio</td>\n",
    "        <td>(Price Close Annual Fiscal * Common Shares Outstanding)/Book Value Per Share</td>\n",
    "    </tr>\n",
    "    <tr>\n",
    "        <td>Asset Growth</td>\n",
    "        <td>Change in assets from previous year</td>\n",
    "    </tr>\n",
    "    <tr>\n",
    "        <td>Sales Growth</td>\n",
    "        <td>Change in sales from previous year</td>\n",
    "    </tr>\n",
    "    <tr>\n",
    "        <td>Employee Growth</td>\n",
    "        <td>Change in employees from previous year</td>\n",
    "    </tr>\n",
    "    <tr>\n",
    "        <td>Tobin’s Q</td>\n",
    "        <td>(Total market value of company + liabilities)/ (Total asset or book value + liabilities)</td>\n",
    "    </tr>\n",
    "    <tr>\n",
    "        <td>BK</td>\n",
    "        <td>Company bankrupt or not</td>\n",
    "    </tr>\n",
    "</table>"
   ]
  },
  {
   "cell_type": "markdown",
   "id": "7d4d1cfa",
   "metadata": {},
   "source": [
    "## Our Goals\n",
    "   - Understand the data that was provided to us.\n",
    "   - Create a sub-dataframe ratio of \"Bankrupt\" and \"Not Bankrupt\" (SMOTE Library)\n",
    "   - Determine the Classifiers we are going to use and decide which one has the higher accuracy and AUC\n",
    "   - Understand common mistakes made with imbalanced datasets."
   ]
  },
  {
   "cell_type": "markdown",
   "id": "70c86aac",
   "metadata": {},
   "source": [
    "## Outline:\n",
    "1. Initialization\n",
    "2. Gather Sense of our Data\n",
    "3. Level 1 Preprocessing\n",
    "4. Correcting Missing Values *Imbalanced\n",
    "5. Testing\n",
    "6. Level 2 Preprocessing\n",
    "7. Correcting Imbalanced Dataset\n",
    "8. Correcting Outliers\n",
    "9. Level 2: Testing\n",
    "10. Conclusion\n"
   ]
  },
  {
   "cell_type": "markdown",
   "id": "bc20b374",
   "metadata": {},
   "source": [
    "## Initialization\n",
    "- Authors: Luke, Jad, Rita, Sreehari, Arnab, Varun\n",
    "- Data: Bankruptcy_data_Final.xlsx\n",
    "- Computing resources: Machine Learning (Random Forest, SVC, Naive Bayes)\n",
    "- Software: Jupyter Notebook"
   ]
  },
  {
   "cell_type": "markdown",
   "id": "ea4dcc16",
   "metadata": {},
   "source": [
    "## Import Libraries Required\n",
    "The libraries listed are going to help us solving the dataset"
   ]
  },
  {
   "cell_type": "code",
   "execution_count": 48,
   "id": "009326f6",
   "metadata": {},
   "outputs": [],
   "source": [
    "import pandas as pd\n",
    "import matplotlib.pyplot as plt\n",
    "%matplotlib inline\n",
    "import numpy as np\n",
    "from scipy import stats\n",
    "import seaborn as sns\n",
    "import missingno as msno\n",
    "import plotly.express as px\n",
    "import warnings\n",
    "warnings.filterwarnings(\"ignore\")\n",
    "\n",
    "#for pre-processing\n",
    "from sklearn.model_selection import train_test_split\n",
    "from sklearn.preprocessing import StandardScaler, RobustScaler\n",
    "from sklearn.impute import KNNImputer #for missing data values\n",
    "from imblearn.over_sampling import SMOTE #to normally distribute the data\n",
    "\n",
    "#computing resources\n",
    "from sklearn.ensemble import RandomForestClassifier\n",
    "from sklearn.svm import SVC,LinearSVC\n",
    "from sklearn.naive_bayes import GaussianNB\n",
    "\n",
    "#hyperparmeter tuning\n",
    "from sklearn.datasets import make_classification\n",
    "from sklearn.experimental import enable_halving_search_cv\n",
    "from sklearn.model_selection import HalvingGridSearchCV\n",
    "\n",
    "#testings\n",
    "from sklearn.metrics import classification_report, confusion_matrix, ConfusionMatrixDisplay\n",
    "from sklearn.model_selection import cross_val_score\n",
    "from sklearn.metrics import accuracy_score,cohen_kappa_score,f1_score,log_loss,roc_auc_score, precision_score, recall_score"
   ]
  },
  {
   "cell_type": "markdown",
   "id": "1827afe6",
   "metadata": {},
   "source": [
    "## Import Data Source\n",
    "In this part we have to import the data source to the notebook and see the basic statistics of the report.\n",
    "\n",
    "- The data will be loaded using the pandas library which will make the excel file into a dataframe in python"
   ]
  },
  {
   "cell_type": "code",
   "execution_count": 2,
   "id": "0a7cd828",
   "metadata": {},
   "outputs": [],
   "source": [
    "#Data source: \n",
    "#Source Query location: \n",
    "path =  'Bankruptcy_data_Final.xlsx'\n",
    "# reads the data from the file - denotes as CSV, it has no header, sets column headers\n",
    "#df =  pd.read_csv(path, sep=',')\n",
    "df = pd.read_excel(path)"
   ]
  },
  {
   "cell_type": "markdown",
   "id": "8540d1c9",
   "metadata": {},
   "source": [
    "## Describe Data\n",
    "Now we apply the basic statistics of the dataset we got.\n",
    "- Column Names\n",
    "- Number of Rows and Columns\n",
    "- Data types\n",
    "- Descriptive Statistics\n",
    "- Information\n",
    "- Sample Dataset"
   ]
  },
  {
   "cell_type": "code",
   "execution_count": 3,
   "id": "8e989707",
   "metadata": {},
   "outputs": [
    {
     "data": {
      "text/plain": [
       "Index(['EPS', 'Liquidity', 'Profitability', 'Productivity', 'Leverage Ratio',\n",
       "       'Asset Turnover', 'Operational Margin', 'Return on Equity',\n",
       "       'Market Book Ratio', 'Assets Growth', 'Sales Growth', 'Employee Growth',\n",
       "       'BK'],\n",
       "      dtype='object')"
      ]
     },
     "execution_count": 3,
     "metadata": {},
     "output_type": "execute_result"
    }
   ],
   "source": [
    "df.columns"
   ]
  },
  {
   "cell_type": "code",
   "execution_count": 4,
   "id": "5100edec",
   "metadata": {},
   "outputs": [
    {
     "data": {
      "text/plain": [
       "(92872, 13)"
      ]
     },
     "execution_count": 4,
     "metadata": {},
     "output_type": "execute_result"
    }
   ],
   "source": [
    "df.shape"
   ]
  },
  {
   "cell_type": "code",
   "execution_count": 5,
   "id": "2e046774",
   "metadata": {},
   "outputs": [
    {
     "data": {
      "text/plain": [
       "EPS                   float64\n",
       "Liquidity             float64\n",
       "Profitability         float64\n",
       "Productivity          float64\n",
       "Leverage Ratio        float64\n",
       "Asset Turnover        float64\n",
       "Operational Margin    float64\n",
       "Return on Equity      float64\n",
       "Market Book Ratio     float64\n",
       "Assets Growth         float64\n",
       "Sales Growth          float64\n",
       "Employee Growth       float64\n",
       "BK                      int64\n",
       "dtype: object"
      ]
     },
     "execution_count": 5,
     "metadata": {},
     "output_type": "execute_result"
    }
   ],
   "source": [
    "df.dtypes"
   ]
  },
  {
   "cell_type": "code",
   "execution_count": 6,
   "id": "741d559c",
   "metadata": {},
   "outputs": [
    {
     "data": {
      "text/html": [
       "<div>\n",
       "<style scoped>\n",
       "    .dataframe tbody tr th:only-of-type {\n",
       "        vertical-align: middle;\n",
       "    }\n",
       "\n",
       "    .dataframe tbody tr th {\n",
       "        vertical-align: top;\n",
       "    }\n",
       "\n",
       "    .dataframe thead th {\n",
       "        text-align: right;\n",
       "    }\n",
       "</style>\n",
       "<table border=\"1\" class=\"dataframe\">\n",
       "  <thead>\n",
       "    <tr style=\"text-align: right;\">\n",
       "      <th></th>\n",
       "      <th>EPS</th>\n",
       "      <th>Liquidity</th>\n",
       "      <th>Profitability</th>\n",
       "      <th>Productivity</th>\n",
       "      <th>Leverage Ratio</th>\n",
       "      <th>Asset Turnover</th>\n",
       "      <th>Operational Margin</th>\n",
       "      <th>Return on Equity</th>\n",
       "      <th>Market Book Ratio</th>\n",
       "      <th>Assets Growth</th>\n",
       "      <th>Sales Growth</th>\n",
       "      <th>Employee Growth</th>\n",
       "      <th>BK</th>\n",
       "    </tr>\n",
       "  </thead>\n",
       "  <tbody>\n",
       "    <tr>\n",
       "      <th>count</th>\n",
       "      <td>92867.000000</td>\n",
       "      <td>92625.000000</td>\n",
       "      <td>92625.000000</td>\n",
       "      <td>92625.000000</td>\n",
       "      <td>92846.000000</td>\n",
       "      <td>92625.000000</td>\n",
       "      <td>87315.000000</td>\n",
       "      <td>92864.000000</td>\n",
       "      <td>9.281500e+04</td>\n",
       "      <td>86171.000000</td>\n",
       "      <td>86171.000000</td>\n",
       "      <td>85862.000000</td>\n",
       "      <td>92872.000000</td>\n",
       "    </tr>\n",
       "    <tr>\n",
       "      <th>mean</th>\n",
       "      <td>-14.461355</td>\n",
       "      <td>-2.631237</td>\n",
       "      <td>-29.537274</td>\n",
       "      <td>-1.222870</td>\n",
       "      <td>1.345316</td>\n",
       "      <td>1.053613</td>\n",
       "      <td>-7.915485</td>\n",
       "      <td>-2.112382</td>\n",
       "      <td>3.585063e+02</td>\n",
       "      <td>1.294075</td>\n",
       "      <td>1.900108</td>\n",
       "      <td>0.343322</td>\n",
       "      <td>0.006008</td>\n",
       "    </tr>\n",
       "    <tr>\n",
       "      <th>std</th>\n",
       "      <td>2195.467288</td>\n",
       "      <td>121.610921</td>\n",
       "      <td>677.230667</td>\n",
       "      <td>35.885556</td>\n",
       "      <td>253.038093</td>\n",
       "      <td>2.115945</td>\n",
       "      <td>214.460079</td>\n",
       "      <td>352.596902</td>\n",
       "      <td>2.606364e+04</td>\n",
       "      <td>73.769522</td>\n",
       "      <td>177.632638</td>\n",
       "      <td>14.074156</td>\n",
       "      <td>0.077280</td>\n",
       "    </tr>\n",
       "    <tr>\n",
       "      <th>min</th>\n",
       "      <td>-384000.000000</td>\n",
       "      <td>-25968.520000</td>\n",
       "      <td>-79682.000000</td>\n",
       "      <td>-5093.000000</td>\n",
       "      <td>-7811.000000</td>\n",
       "      <td>-31.590000</td>\n",
       "      <td>-30175.700000</td>\n",
       "      <td>-88875.140000</td>\n",
       "      <td>-3.151500e+06</td>\n",
       "      <td>-1.000000</td>\n",
       "      <td>-27.431034</td>\n",
       "      <td>-1.000000</td>\n",
       "      <td>0.000000</td>\n",
       "    </tr>\n",
       "    <tr>\n",
       "      <th>25%</th>\n",
       "      <td>-0.140000</td>\n",
       "      <td>0.020000</td>\n",
       "      <td>-0.640000</td>\n",
       "      <td>-0.060000</td>\n",
       "      <td>0.000000</td>\n",
       "      <td>0.390000</td>\n",
       "      <td>-0.030000</td>\n",
       "      <td>-0.080000</td>\n",
       "      <td>1.120000e+01</td>\n",
       "      <td>-0.052596</td>\n",
       "      <td>-0.033522</td>\n",
       "      <td>-0.048107</td>\n",
       "      <td>0.000000</td>\n",
       "    </tr>\n",
       "    <tr>\n",
       "      <th>50%</th>\n",
       "      <td>0.330000</td>\n",
       "      <td>0.190000</td>\n",
       "      <td>0.070000</td>\n",
       "      <td>0.060000</td>\n",
       "      <td>0.280000</td>\n",
       "      <td>0.830000</td>\n",
       "      <td>0.060000</td>\n",
       "      <td>0.030000</td>\n",
       "      <td>5.828000e+01</td>\n",
       "      <td>0.051844</td>\n",
       "      <td>0.059733</td>\n",
       "      <td>0.017241</td>\n",
       "      <td>0.000000</td>\n",
       "    </tr>\n",
       "    <tr>\n",
       "      <th>75%</th>\n",
       "      <td>1.530000</td>\n",
       "      <td>0.400000</td>\n",
       "      <td>0.310000</td>\n",
       "      <td>0.110000</td>\n",
       "      <td>0.820000</td>\n",
       "      <td>1.390000</td>\n",
       "      <td>0.140000</td>\n",
       "      <td>0.070000</td>\n",
       "      <td>2.401400e+02</td>\n",
       "      <td>0.192062</td>\n",
       "      <td>0.204231</td>\n",
       "      <td>0.130944</td>\n",
       "      <td>0.000000</td>\n",
       "    </tr>\n",
       "    <tr>\n",
       "      <th>max</th>\n",
       "      <td>55339.000000</td>\n",
       "      <td>1.000000</td>\n",
       "      <td>140.580000</td>\n",
       "      <td>1102.000000</td>\n",
       "      <td>75970.380000</td>\n",
       "      <td>276.380000</td>\n",
       "      <td>394.470000</td>\n",
       "      <td>39500.000000</td>\n",
       "      <td>3.455419e+06</td>\n",
       "      <td>14231.000000</td>\n",
       "      <td>39850.000000</td>\n",
       "      <td>2699.000000</td>\n",
       "      <td>1.000000</td>\n",
       "    </tr>\n",
       "  </tbody>\n",
       "</table>\n",
       "</div>"
      ],
      "text/plain": [
       "                 EPS     Liquidity  Profitability  Productivity  \\\n",
       "count   92867.000000  92625.000000   92625.000000  92625.000000   \n",
       "mean      -14.461355     -2.631237     -29.537274     -1.222870   \n",
       "std      2195.467288    121.610921     677.230667     35.885556   \n",
       "min   -384000.000000 -25968.520000  -79682.000000  -5093.000000   \n",
       "25%        -0.140000      0.020000      -0.640000     -0.060000   \n",
       "50%         0.330000      0.190000       0.070000      0.060000   \n",
       "75%         1.530000      0.400000       0.310000      0.110000   \n",
       "max     55339.000000      1.000000     140.580000   1102.000000   \n",
       "\n",
       "       Leverage Ratio  Asset Turnover  Operational Margin  Return on Equity  \\\n",
       "count    92846.000000    92625.000000        87315.000000      92864.000000   \n",
       "mean         1.345316        1.053613           -7.915485         -2.112382   \n",
       "std        253.038093        2.115945          214.460079        352.596902   \n",
       "min      -7811.000000      -31.590000       -30175.700000     -88875.140000   \n",
       "25%          0.000000        0.390000           -0.030000         -0.080000   \n",
       "50%          0.280000        0.830000            0.060000          0.030000   \n",
       "75%          0.820000        1.390000            0.140000          0.070000   \n",
       "max      75970.380000      276.380000          394.470000      39500.000000   \n",
       "\n",
       "       Market Book Ratio  Assets Growth  Sales Growth  Employee Growth  \\\n",
       "count       9.281500e+04   86171.000000  86171.000000     85862.000000   \n",
       "mean        3.585063e+02       1.294075      1.900108         0.343322   \n",
       "std         2.606364e+04      73.769522    177.632638        14.074156   \n",
       "min        -3.151500e+06      -1.000000    -27.431034        -1.000000   \n",
       "25%         1.120000e+01      -0.052596     -0.033522        -0.048107   \n",
       "50%         5.828000e+01       0.051844      0.059733         0.017241   \n",
       "75%         2.401400e+02       0.192062      0.204231         0.130944   \n",
       "max         3.455419e+06   14231.000000  39850.000000      2699.000000   \n",
       "\n",
       "                 BK  \n",
       "count  92872.000000  \n",
       "mean       0.006008  \n",
       "std        0.077280  \n",
       "min        0.000000  \n",
       "25%        0.000000  \n",
       "50%        0.000000  \n",
       "75%        0.000000  \n",
       "max        1.000000  "
      ]
     },
     "execution_count": 6,
     "metadata": {},
     "output_type": "execute_result"
    }
   ],
   "source": [
    "df.describe()"
   ]
  },
  {
   "cell_type": "code",
   "execution_count": 7,
   "id": "df5755c8",
   "metadata": {
    "scrolled": true
   },
   "outputs": [
    {
     "name": "stdout",
     "output_type": "stream",
     "text": [
      "<class 'pandas.core.frame.DataFrame'>\n",
      "RangeIndex: 92872 entries, 0 to 92871\n",
      "Data columns (total 13 columns):\n",
      " #   Column              Non-Null Count  Dtype  \n",
      "---  ------              --------------  -----  \n",
      " 0   EPS                 92867 non-null  float64\n",
      " 1   Liquidity           92625 non-null  float64\n",
      " 2   Profitability       92625 non-null  float64\n",
      " 3   Productivity        92625 non-null  float64\n",
      " 4   Leverage Ratio      92846 non-null  float64\n",
      " 5   Asset Turnover      92625 non-null  float64\n",
      " 6   Operational Margin  87315 non-null  float64\n",
      " 7   Return on Equity    92864 non-null  float64\n",
      " 8   Market Book Ratio   92815 non-null  float64\n",
      " 9   Assets Growth       86171 non-null  float64\n",
      " 10  Sales Growth        86171 non-null  float64\n",
      " 11  Employee Growth     85862 non-null  float64\n",
      " 12  BK                  92872 non-null  int64  \n",
      "dtypes: float64(12), int64(1)\n",
      "memory usage: 9.2 MB\n"
     ]
    }
   ],
   "source": [
    "df.info()"
   ]
  },
  {
   "cell_type": "code",
   "execution_count": 8,
   "id": "d38eb822",
   "metadata": {},
   "outputs": [
    {
     "data": {
      "text/html": [
       "<div>\n",
       "<style scoped>\n",
       "    .dataframe tbody tr th:only-of-type {\n",
       "        vertical-align: middle;\n",
       "    }\n",
       "\n",
       "    .dataframe tbody tr th {\n",
       "        vertical-align: top;\n",
       "    }\n",
       "\n",
       "    .dataframe thead th {\n",
       "        text-align: right;\n",
       "    }\n",
       "</style>\n",
       "<table border=\"1\" class=\"dataframe\">\n",
       "  <thead>\n",
       "    <tr style=\"text-align: right;\">\n",
       "      <th></th>\n",
       "      <th>EPS</th>\n",
       "      <th>Liquidity</th>\n",
       "      <th>Profitability</th>\n",
       "      <th>Productivity</th>\n",
       "      <th>Leverage Ratio</th>\n",
       "      <th>Asset Turnover</th>\n",
       "      <th>Operational Margin</th>\n",
       "      <th>Return on Equity</th>\n",
       "      <th>Market Book Ratio</th>\n",
       "      <th>Assets Growth</th>\n",
       "      <th>Sales Growth</th>\n",
       "      <th>Employee Growth</th>\n",
       "      <th>BK</th>\n",
       "    </tr>\n",
       "  </thead>\n",
       "  <tbody>\n",
       "    <tr>\n",
       "      <th>0</th>\n",
       "      <td>1.58</td>\n",
       "      <td>0.36</td>\n",
       "      <td>0.18</td>\n",
       "      <td>0.13</td>\n",
       "      <td>1.33</td>\n",
       "      <td>1.77</td>\n",
       "      <td>0.07</td>\n",
       "      <td>0.15</td>\n",
       "      <td>2.22</td>\n",
       "      <td>NaN</td>\n",
       "      <td>NaN</td>\n",
       "      <td>NaN</td>\n",
       "      <td>0</td>\n",
       "    </tr>\n",
       "    <tr>\n",
       "      <th>1</th>\n",
       "      <td>1.41</td>\n",
       "      <td>0.36</td>\n",
       "      <td>0.19</td>\n",
       "      <td>0.12</td>\n",
       "      <td>1.31</td>\n",
       "      <td>1.59</td>\n",
       "      <td>0.07</td>\n",
       "      <td>0.13</td>\n",
       "      <td>2.41</td>\n",
       "      <td>0.126319</td>\n",
       "      <td>0.014278</td>\n",
       "      <td>0.040179</td>\n",
       "      <td>0</td>\n",
       "    </tr>\n",
       "    <tr>\n",
       "      <th>2</th>\n",
       "      <td>0.31</td>\n",
       "      <td>0.32</td>\n",
       "      <td>0.13</td>\n",
       "      <td>0.08</td>\n",
       "      <td>1.03</td>\n",
       "      <td>1.55</td>\n",
       "      <td>0.05</td>\n",
       "      <td>0.04</td>\n",
       "      <td>2.56</td>\n",
       "      <td>0.368077</td>\n",
       "      <td>0.327909</td>\n",
       "      <td>0.566524</td>\n",
       "      <td>0</td>\n",
       "    </tr>\n",
       "    <tr>\n",
       "      <th>3</th>\n",
       "      <td>0.71</td>\n",
       "      <td>0.28</td>\n",
       "      <td>0.14</td>\n",
       "      <td>0.08</td>\n",
       "      <td>0.80</td>\n",
       "      <td>1.39</td>\n",
       "      <td>0.06</td>\n",
       "      <td>0.05</td>\n",
       "      <td>5.28</td>\n",
       "      <td>-0.020809</td>\n",
       "      <td>-0.118904</td>\n",
       "      <td>-0.095890</td>\n",
       "      <td>0</td>\n",
       "    </tr>\n",
       "    <tr>\n",
       "      <th>4</th>\n",
       "      <td>0.75</td>\n",
       "      <td>0.41</td>\n",
       "      <td>0.13</td>\n",
       "      <td>0.08</td>\n",
       "      <td>0.20</td>\n",
       "      <td>1.30</td>\n",
       "      <td>0.06</td>\n",
       "      <td>0.04</td>\n",
       "      <td>8.68</td>\n",
       "      <td>0.233089</td>\n",
       "      <td>0.146807</td>\n",
       "      <td>0.053030</td>\n",
       "      <td>0</td>\n",
       "    </tr>\n",
       "  </tbody>\n",
       "</table>\n",
       "</div>"
      ],
      "text/plain": [
       "    EPS  Liquidity  Profitability  Productivity  Leverage Ratio  \\\n",
       "0  1.58       0.36           0.18          0.13            1.33   \n",
       "1  1.41       0.36           0.19          0.12            1.31   \n",
       "2  0.31       0.32           0.13          0.08            1.03   \n",
       "3  0.71       0.28           0.14          0.08            0.80   \n",
       "4  0.75       0.41           0.13          0.08            0.20   \n",
       "\n",
       "   Asset Turnover  Operational Margin  Return on Equity  Market Book Ratio  \\\n",
       "0            1.77                0.07              0.15               2.22   \n",
       "1            1.59                0.07              0.13               2.41   \n",
       "2            1.55                0.05              0.04               2.56   \n",
       "3            1.39                0.06              0.05               5.28   \n",
       "4            1.30                0.06              0.04               8.68   \n",
       "\n",
       "   Assets Growth  Sales Growth  Employee Growth  BK  \n",
       "0            NaN           NaN              NaN   0  \n",
       "1       0.126319      0.014278         0.040179   0  \n",
       "2       0.368077      0.327909         0.566524   0  \n",
       "3      -0.020809     -0.118904        -0.095890   0  \n",
       "4       0.233089      0.146807         0.053030   0  "
      ]
     },
     "execution_count": 8,
     "metadata": {},
     "output_type": "execute_result"
    }
   ],
   "source": [
    "df.head()"
   ]
  },
  {
   "cell_type": "markdown",
   "id": "05e65bc4",
   "metadata": {},
   "source": [
    "## Data summary\n",
    " - Columns: \n",
    "        'EPS', 'Liquidity', 'Profitability', 'Productivity', 'Leverage Ratio',\n",
    "       'Asset Turnover', 'Operational Margin', 'Return on Equity',\n",
    "       'Market Book Ratio', 'Assets Growth', 'Sales Growth', 'Employee Growth',\n",
    "       'BK'\n",
    " - Shape:\n",
    "     (92872, 13)\n",
    " \n",
    " <p> Looking at the data there are 92872 rows and 13 columns in total </p>\n",
    "       "
   ]
  },
  {
   "cell_type": "markdown",
   "id": "7a032125",
   "metadata": {},
   "source": [
    "## Check Data Validity\n",
    "<p> To check our data validity; we need to check if there are missing values in the table, check of uniqueness, check for normality, and also check for extreme outliers in the dataset that could distort the algorithm </p>"
   ]
  },
  {
   "cell_type": "code",
   "execution_count": 9,
   "id": "80279384",
   "metadata": {
    "scrolled": false
   },
   "outputs": [
    {
     "data": {
      "text/plain": [
       "Text(0.5, 1.0, 'Distribution of Missing values')"
      ]
     },
     "execution_count": 9,
     "metadata": {},
     "output_type": "execute_result"
    },
    {
     "data": {
      "image/png": "[encoded data removed]",
      "text/plain": [
       "<Figure size 1800x720 with 2 Axes>"
      ]
     },
     "metadata": {
      "needs_background": "light"
     },
     "output_type": "display_data"
    }
   ],
   "source": [
    "msno.matrix(df)\n",
    "plt.title('Distribution of Missing values',fontsize = 20)"
   ]
  },
  {
   "cell_type": "markdown",
   "id": "34cf9d43",
   "metadata": {},
   "source": [
    "As much as we want to delete the data from the assets growth, sales growth, employee growth it does not satistfy the condition of deleting the column if it is not greater than 50% of null values"
   ]
  },
  {
   "cell_type": "code",
   "execution_count": 10,
   "id": "06f2ec8e",
   "metadata": {},
   "outputs": [],
   "source": [
    "#Lets start with missing values\n",
    "def missing_values_table(df):\n",
    "    #Code Description: Attempt to show the missing values in the table\n",
    "    #Input: Dataframe\n",
    "    #Output: missing value table rendered columns\n",
    "        mis_val = df.isnull().sum()\n",
    "        mis_val_percent = 100 * df.isnull().sum() / len(df)\n",
    "        mis_val_table = pd.concat([mis_val, mis_val_percent], axis=1)\n",
    "        mis_val_table_ren_columns = mis_val_table.rename(\n",
    "        columns = {0 : 'Missing Values', 1 : '% of Total Values'})\n",
    "        mis_val_table_ren_columns = mis_val_table_ren_columns[\n",
    "            mis_val_table_ren_columns.iloc[:,1] != 0].sort_values(\n",
    "        '% of Total Values', ascending=False).round(1)\n",
    "        print (\"Your selected dataframe has \" + str(df.shape[1]) + \" columns.\\n\"      \n",
    "            \"There are \" + str(mis_val_table_ren_columns.shape[0]) +\n",
    "              \" columns that have missing values.\")\n",
    "        return mis_val_table_ren_columns"
   ]
  },
  {
   "cell_type": "code",
   "execution_count": 11,
   "id": "c8822654",
   "metadata": {},
   "outputs": [
    {
     "name": "stdout",
     "output_type": "stream",
     "text": [
      "Your selected dataframe has 13 columns.\n",
      "There are 12 columns that have missing values.\n"
     ]
    },
    {
     "data": {
      "text/html": [
       "<div>\n",
       "<style scoped>\n",
       "    .dataframe tbody tr th:only-of-type {\n",
       "        vertical-align: middle;\n",
       "    }\n",
       "\n",
       "    .dataframe tbody tr th {\n",
       "        vertical-align: top;\n",
       "    }\n",
       "\n",
       "    .dataframe thead th {\n",
       "        text-align: right;\n",
       "    }\n",
       "</style>\n",
       "<table border=\"1\" class=\"dataframe\">\n",
       "  <thead>\n",
       "    <tr style=\"text-align: right;\">\n",
       "      <th></th>\n",
       "      <th>Missing Values</th>\n",
       "      <th>% of Total Values</th>\n",
       "    </tr>\n",
       "  </thead>\n",
       "  <tbody>\n",
       "    <tr>\n",
       "      <th>Employee Growth</th>\n",
       "      <td>7010</td>\n",
       "      <td>7.5</td>\n",
       "    </tr>\n",
       "    <tr>\n",
       "      <th>Assets Growth</th>\n",
       "      <td>6701</td>\n",
       "      <td>7.2</td>\n",
       "    </tr>\n",
       "    <tr>\n",
       "      <th>Sales Growth</th>\n",
       "      <td>6701</td>\n",
       "      <td>7.2</td>\n",
       "    </tr>\n",
       "    <tr>\n",
       "      <th>Operational Margin</th>\n",
       "      <td>5557</td>\n",
       "      <td>6.0</td>\n",
       "    </tr>\n",
       "    <tr>\n",
       "      <th>Liquidity</th>\n",
       "      <td>247</td>\n",
       "      <td>0.3</td>\n",
       "    </tr>\n",
       "    <tr>\n",
       "      <th>Profitability</th>\n",
       "      <td>247</td>\n",
       "      <td>0.3</td>\n",
       "    </tr>\n",
       "    <tr>\n",
       "      <th>Productivity</th>\n",
       "      <td>247</td>\n",
       "      <td>0.3</td>\n",
       "    </tr>\n",
       "    <tr>\n",
       "      <th>Asset Turnover</th>\n",
       "      <td>247</td>\n",
       "      <td>0.3</td>\n",
       "    </tr>\n",
       "    <tr>\n",
       "      <th>Market Book Ratio</th>\n",
       "      <td>57</td>\n",
       "      <td>0.1</td>\n",
       "    </tr>\n",
       "    <tr>\n",
       "      <th>Leverage Ratio</th>\n",
       "      <td>26</td>\n",
       "      <td>0.0</td>\n",
       "    </tr>\n",
       "    <tr>\n",
       "      <th>Return on Equity</th>\n",
       "      <td>8</td>\n",
       "      <td>0.0</td>\n",
       "    </tr>\n",
       "    <tr>\n",
       "      <th>EPS</th>\n",
       "      <td>5</td>\n",
       "      <td>0.0</td>\n",
       "    </tr>\n",
       "  </tbody>\n",
       "</table>\n",
       "</div>"
      ],
      "text/plain": [
       "                    Missing Values  % of Total Values\n",
       "Employee Growth               7010                7.5\n",
       "Assets Growth                 6701                7.2\n",
       "Sales Growth                  6701                7.2\n",
       "Operational Margin            5557                6.0\n",
       "Liquidity                      247                0.3\n",
       "Profitability                  247                0.3\n",
       "Productivity                   247                0.3\n",
       "Asset Turnover                 247                0.3\n",
       "Market Book Ratio               57                0.1\n",
       "Leverage Ratio                  26                0.0\n",
       "Return on Equity                 8                0.0\n",
       "EPS                              5                0.0"
      ]
     },
     "execution_count": 11,
     "metadata": {},
     "output_type": "execute_result"
    }
   ],
   "source": [
    "missing_values_table(df)"
   ]
  },
  {
   "cell_type": "markdown",
   "id": "12b7121c",
   "metadata": {},
   "source": [
    "If the columns have more than 50% missing data then we will drop the column but looking at the percentages we don't need to drop any of the columns"
   ]
  },
  {
   "cell_type": "code",
   "execution_count": 12,
   "id": "ed5e446d",
   "metadata": {
    "scrolled": true
   },
   "outputs": [
    {
     "data": {
      "text/plain": [
       "EPS                    6987\n",
       "Liquidity              6108\n",
       "Profitability          9363\n",
       "Productivity           6075\n",
       "Leverage Ratio         6936\n",
       "Asset Turnover         5051\n",
       "Operational Margin     7485\n",
       "Return on Equity       5750\n",
       "Market Book Ratio     50336\n",
       "Assets Growth         85604\n",
       "Sales Growth          80350\n",
       "Employee Growth       49532\n",
       "BK                        2\n",
       "dtype: int64"
      ]
     },
     "execution_count": 12,
     "metadata": {},
     "output_type": "execute_result"
    }
   ],
   "source": [
    "#Let's check for unique values in the columns\n",
    "df.nunique()"
   ]
  },
  {
   "cell_type": "markdown",
   "id": "e17806fe",
   "metadata": {},
   "source": [
    "Looking at the dataset all the columns have more than 2 distinction. No need to drop any columns here"
   ]
  },
  {
   "cell_type": "code",
   "execution_count": 13,
   "id": "565fab40",
   "metadata": {},
   "outputs": [],
   "source": [
    "#Now lets delete rows which has more than 60% missing data\n",
    "limit_per = int(len(df.columns) * .6)\n",
    "df = df.dropna(thresh = limit_per)"
   ]
  },
  {
   "cell_type": "code",
   "execution_count": 14,
   "id": "1bb1f418",
   "metadata": {
    "scrolled": true
   },
   "outputs": [
    {
     "data": {
      "text/plain": [
       "(92808, 13)"
      ]
     },
     "execution_count": 14,
     "metadata": {},
     "output_type": "execute_result"
    }
   ],
   "source": [
    "df.shape"
   ]
  },
  {
   "cell_type": "markdown",
   "id": "ab74f231",
   "metadata": {},
   "source": [
    "From 92872 rows, we have deleted 64 rows that has more than 7 columns that has no value in it."
   ]
  },
  {
   "cell_type": "markdown",
   "id": "221f4a09",
   "metadata": {},
   "source": [
    "### Correlation between the dataframe"
   ]
  },
  {
   "cell_type": "code",
   "execution_count": 15,
   "id": "1d317dd9",
   "metadata": {
    "scrolled": true
   },
   "outputs": [
    {
     "data": {
      "text/html": [
       "<div>\n",
       "<style scoped>\n",
       "    .dataframe tbody tr th:only-of-type {\n",
       "        vertical-align: middle;\n",
       "    }\n",
       "\n",
       "    .dataframe tbody tr th {\n",
       "        vertical-align: top;\n",
       "    }\n",
       "\n",
       "    .dataframe thead th {\n",
       "        text-align: right;\n",
       "    }\n",
       "</style>\n",
       "<table border=\"1\" class=\"dataframe\">\n",
       "  <thead>\n",
       "    <tr style=\"text-align: right;\">\n",
       "      <th></th>\n",
       "      <th>EPS</th>\n",
       "      <th>Liquidity</th>\n",
       "      <th>Profitability</th>\n",
       "      <th>Productivity</th>\n",
       "      <th>Leverage Ratio</th>\n",
       "      <th>Asset Turnover</th>\n",
       "      <th>Operational Margin</th>\n",
       "      <th>Return on Equity</th>\n",
       "      <th>Market Book Ratio</th>\n",
       "      <th>Assets Growth</th>\n",
       "      <th>Sales Growth</th>\n",
       "      <th>Employee Growth</th>\n",
       "      <th>BK</th>\n",
       "    </tr>\n",
       "  </thead>\n",
       "  <tbody>\n",
       "    <tr>\n",
       "      <th>EPS</th>\n",
       "      <td>1.000000</td>\n",
       "      <td>-0.000129</td>\n",
       "      <td>-0.000282</td>\n",
       "      <td>-0.000212</td>\n",
       "      <td>0.000025</td>\n",
       "      <td>0.000971</td>\n",
       "      <td>-0.000226</td>\n",
       "      <td>0.248225</td>\n",
       "      <td>0.000114</td>\n",
       "      <td>0.000079</td>\n",
       "      <td>0.000073</td>\n",
       "      <td>0.000179</td>\n",
       "      <td>-0.007229</td>\n",
       "    </tr>\n",
       "    <tr>\n",
       "      <th>Liquidity</th>\n",
       "      <td>-0.000129</td>\n",
       "      <td>1.000000</td>\n",
       "      <td>0.470622</td>\n",
       "      <td>0.226976</td>\n",
       "      <td>0.000147</td>\n",
       "      <td>-0.035377</td>\n",
       "      <td>0.004070</td>\n",
       "      <td>0.582335</td>\n",
       "      <td>0.001464</td>\n",
       "      <td>0.000499</td>\n",
       "      <td>0.000256</td>\n",
       "      <td>0.000829</td>\n",
       "      <td>0.001193</td>\n",
       "    </tr>\n",
       "    <tr>\n",
       "      <th>Profitability</th>\n",
       "      <td>-0.000282</td>\n",
       "      <td>0.470622</td>\n",
       "      <td>1.000000</td>\n",
       "      <td>0.434535</td>\n",
       "      <td>0.000280</td>\n",
       "      <td>-0.039318</td>\n",
       "      <td>0.019111</td>\n",
       "      <td>0.106389</td>\n",
       "      <td>-0.003982</td>\n",
       "      <td>0.000877</td>\n",
       "      <td>0.000469</td>\n",
       "      <td>0.001376</td>\n",
       "      <td>0.002454</td>\n",
       "    </tr>\n",
       "    <tr>\n",
       "      <th>Productivity</th>\n",
       "      <td>-0.000212</td>\n",
       "      <td>0.226976</td>\n",
       "      <td>0.434535</td>\n",
       "      <td>1.000000</td>\n",
       "      <td>0.000225</td>\n",
       "      <td>-0.021524</td>\n",
       "      <td>0.085273</td>\n",
       "      <td>0.001009</td>\n",
       "      <td>0.006186</td>\n",
       "      <td>0.000495</td>\n",
       "      <td>0.000300</td>\n",
       "      <td>0.001074</td>\n",
       "      <td>0.001346</td>\n",
       "    </tr>\n",
       "    <tr>\n",
       "      <th>Leverage Ratio</th>\n",
       "      <td>0.000025</td>\n",
       "      <td>0.000147</td>\n",
       "      <td>0.000280</td>\n",
       "      <td>0.000225</td>\n",
       "      <td>1.000000</td>\n",
       "      <td>-0.001203</td>\n",
       "      <td>0.000293</td>\n",
       "      <td>-0.000012</td>\n",
       "      <td>0.030273</td>\n",
       "      <td>-0.000093</td>\n",
       "      <td>0.000098</td>\n",
       "      <td>-0.000062</td>\n",
       "      <td>-0.000148</td>\n",
       "    </tr>\n",
       "    <tr>\n",
       "      <th>Asset Turnover</th>\n",
       "      <td>0.000971</td>\n",
       "      <td>-0.035377</td>\n",
       "      <td>-0.039318</td>\n",
       "      <td>-0.021524</td>\n",
       "      <td>-0.001203</td>\n",
       "      <td>1.000000</td>\n",
       "      <td>0.018420</td>\n",
       "      <td>-0.005039</td>\n",
       "      <td>-0.006375</td>\n",
       "      <td>-0.004082</td>\n",
       "      <td>-0.000050</td>\n",
       "      <td>-0.003182</td>\n",
       "      <td>0.015191</td>\n",
       "    </tr>\n",
       "    <tr>\n",
       "      <th>Operational Margin</th>\n",
       "      <td>-0.000226</td>\n",
       "      <td>0.004070</td>\n",
       "      <td>0.019111</td>\n",
       "      <td>0.085273</td>\n",
       "      <td>0.000293</td>\n",
       "      <td>0.018420</td>\n",
       "      <td>1.000000</td>\n",
       "      <td>0.002026</td>\n",
       "      <td>0.007163</td>\n",
       "      <td>-0.001166</td>\n",
       "      <td>0.000397</td>\n",
       "      <td>0.000092</td>\n",
       "      <td>0.001755</td>\n",
       "    </tr>\n",
       "    <tr>\n",
       "      <th>Return on Equity</th>\n",
       "      <td>0.248225</td>\n",
       "      <td>0.582335</td>\n",
       "      <td>0.106389</td>\n",
       "      <td>0.001009</td>\n",
       "      <td>-0.000012</td>\n",
       "      <td>-0.005039</td>\n",
       "      <td>0.002026</td>\n",
       "      <td>1.000000</td>\n",
       "      <td>0.000088</td>\n",
       "      <td>0.000111</td>\n",
       "      <td>0.000061</td>\n",
       "      <td>0.000155</td>\n",
       "      <td>-0.006530</td>\n",
       "    </tr>\n",
       "    <tr>\n",
       "      <th>Market Book Ratio</th>\n",
       "      <td>0.000114</td>\n",
       "      <td>0.001464</td>\n",
       "      <td>-0.003982</td>\n",
       "      <td>0.006186</td>\n",
       "      <td>0.030273</td>\n",
       "      <td>-0.006375</td>\n",
       "      <td>0.007163</td>\n",
       "      <td>0.000088</td>\n",
       "      <td>1.000000</td>\n",
       "      <td>-0.000682</td>\n",
       "      <td>-0.000928</td>\n",
       "      <td>0.000175</td>\n",
       "      <td>-0.000968</td>\n",
       "    </tr>\n",
       "    <tr>\n",
       "      <th>Assets Growth</th>\n",
       "      <td>0.000079</td>\n",
       "      <td>0.000499</td>\n",
       "      <td>0.000877</td>\n",
       "      <td>0.000495</td>\n",
       "      <td>-0.000093</td>\n",
       "      <td>-0.004082</td>\n",
       "      <td>-0.001166</td>\n",
       "      <td>0.000111</td>\n",
       "      <td>-0.000682</td>\n",
       "      <td>1.000000</td>\n",
       "      <td>0.073809</td>\n",
       "      <td>0.012893</td>\n",
       "      <td>-0.001394</td>\n",
       "    </tr>\n",
       "    <tr>\n",
       "      <th>Sales Growth</th>\n",
       "      <td>0.000073</td>\n",
       "      <td>0.000256</td>\n",
       "      <td>0.000469</td>\n",
       "      <td>0.000300</td>\n",
       "      <td>0.000098</td>\n",
       "      <td>-0.000050</td>\n",
       "      <td>0.000397</td>\n",
       "      <td>0.000061</td>\n",
       "      <td>-0.000928</td>\n",
       "      <td>0.073809</td>\n",
       "      <td>1.000000</td>\n",
       "      <td>0.088353</td>\n",
       "      <td>-0.000188</td>\n",
       "    </tr>\n",
       "    <tr>\n",
       "      <th>Employee Growth</th>\n",
       "      <td>0.000179</td>\n",
       "      <td>0.000829</td>\n",
       "      <td>0.001376</td>\n",
       "      <td>0.001074</td>\n",
       "      <td>-0.000062</td>\n",
       "      <td>-0.003182</td>\n",
       "      <td>0.000092</td>\n",
       "      <td>0.000155</td>\n",
       "      <td>0.000175</td>\n",
       "      <td>0.012893</td>\n",
       "      <td>0.088353</td>\n",
       "      <td>1.000000</td>\n",
       "      <td>0.001474</td>\n",
       "    </tr>\n",
       "    <tr>\n",
       "      <th>BK</th>\n",
       "      <td>-0.007229</td>\n",
       "      <td>0.001193</td>\n",
       "      <td>0.002454</td>\n",
       "      <td>0.001346</td>\n",
       "      <td>-0.000148</td>\n",
       "      <td>0.015191</td>\n",
       "      <td>0.001755</td>\n",
       "      <td>-0.006530</td>\n",
       "      <td>-0.000968</td>\n",
       "      <td>-0.001394</td>\n",
       "      <td>-0.000188</td>\n",
       "      <td>0.001474</td>\n",
       "      <td>1.000000</td>\n",
       "    </tr>\n",
       "  </tbody>\n",
       "</table>\n",
       "</div>"
      ],
      "text/plain": [
       "                         EPS  Liquidity  Profitability  Productivity  \\\n",
       "EPS                 1.000000  -0.000129      -0.000282     -0.000212   \n",
       "Liquidity          -0.000129   1.000000       0.470622      0.226976   \n",
       "Profitability      -0.000282   0.470622       1.000000      0.434535   \n",
       "Productivity       -0.000212   0.226976       0.434535      1.000000   \n",
       "Leverage Ratio      0.000025   0.000147       0.000280      0.000225   \n",
       "Asset Turnover      0.000971  -0.035377      -0.039318     -0.021524   \n",
       "Operational Margin -0.000226   0.004070       0.019111      0.085273   \n",
       "Return on Equity    0.248225   0.582335       0.106389      0.001009   \n",
       "Market Book Ratio   0.000114   0.001464      -0.003982      0.006186   \n",
       "Assets Growth       0.000079   0.000499       0.000877      0.000495   \n",
       "Sales Growth        0.000073   0.000256       0.000469      0.000300   \n",
       "Employee Growth     0.000179   0.000829       0.001376      0.001074   \n",
       "BK                 -0.007229   0.001193       0.002454      0.001346   \n",
       "\n",
       "                    Leverage Ratio  Asset Turnover  Operational Margin  \\\n",
       "EPS                       0.000025        0.000971           -0.000226   \n",
       "Liquidity                 0.000147       -0.035377            0.004070   \n",
       "Profitability             0.000280       -0.039318            0.019111   \n",
       "Productivity              0.000225       -0.021524            0.085273   \n",
       "Leverage Ratio            1.000000       -0.001203            0.000293   \n",
       "Asset Turnover           -0.001203        1.000000            0.018420   \n",
       "Operational Margin        0.000293        0.018420            1.000000   \n",
       "Return on Equity         -0.000012       -0.005039            0.002026   \n",
       "Market Book Ratio         0.030273       -0.006375            0.007163   \n",
       "Assets Growth            -0.000093       -0.004082           -0.001166   \n",
       "Sales Growth              0.000098       -0.000050            0.000397   \n",
       "Employee Growth          -0.000062       -0.003182            0.000092   \n",
       "BK                       -0.000148        0.015191            0.001755   \n",
       "\n",
       "                    Return on Equity  Market Book Ratio  Assets Growth  \\\n",
       "EPS                         0.248225           0.000114       0.000079   \n",
       "Liquidity                   0.582335           0.001464       0.000499   \n",
       "Profitability               0.106389          -0.003982       0.000877   \n",
       "Productivity                0.001009           0.006186       0.000495   \n",
       "Leverage Ratio             -0.000012           0.030273      -0.000093   \n",
       "Asset Turnover             -0.005039          -0.006375      -0.004082   \n",
       "Operational Margin          0.002026           0.007163      -0.001166   \n",
       "Return on Equity            1.000000           0.000088       0.000111   \n",
       "Market Book Ratio           0.000088           1.000000      -0.000682   \n",
       "Assets Growth               0.000111          -0.000682       1.000000   \n",
       "Sales Growth                0.000061          -0.000928       0.073809   \n",
       "Employee Growth             0.000155           0.000175       0.012893   \n",
       "BK                         -0.006530          -0.000968      -0.001394   \n",
       "\n",
       "                    Sales Growth  Employee Growth        BK  \n",
       "EPS                     0.000073         0.000179 -0.007229  \n",
       "Liquidity               0.000256         0.000829  0.001193  \n",
       "Profitability           0.000469         0.001376  0.002454  \n",
       "Productivity            0.000300         0.001074  0.001346  \n",
       "Leverage Ratio          0.000098        -0.000062 -0.000148  \n",
       "Asset Turnover         -0.000050        -0.003182  0.015191  \n",
       "Operational Margin      0.000397         0.000092  0.001755  \n",
       "Return on Equity        0.000061         0.000155 -0.006530  \n",
       "Market Book Ratio      -0.000928         0.000175 -0.000968  \n",
       "Assets Growth           0.073809         0.012893 -0.001394  \n",
       "Sales Growth            1.000000         0.088353 -0.000188  \n",
       "Employee Growth         0.088353         1.000000  0.001474  \n",
       "BK                     -0.000188         0.001474  1.000000  "
      ]
     },
     "execution_count": 15,
     "metadata": {},
     "output_type": "execute_result"
    }
   ],
   "source": [
    "df.corr()"
   ]
  },
  {
   "cell_type": "code",
   "execution_count": 16,
   "id": "92a1a326",
   "metadata": {
    "scrolled": false
   },
   "outputs": [
    {
     "data": {
      "text/plain": [
       "<AxesSubplot:>"
      ]
     },
     "execution_count": 16,
     "metadata": {},
     "output_type": "execute_result"
    },
    {
     "data": {
      "image/png": "[encoded data removed]",
      "text/plain": [
       "<Figure size 1440x720 with 2 Axes>"
      ]
     },
     "metadata": {
      "needs_background": "light"
     },
     "output_type": "display_data"
    }
   ],
   "source": [
    "mask = np.array(df.corr())\n",
    "mask[np.tril_indices_from(mask)] = False\n",
    "\n",
    "fig, ax = plt.subplots() \n",
    "fig.set_size_inches(20,10)\n",
    "sns.heatmap(df.corr(), mask = mask, vmax =.8, square = True, annot = True)"
   ]
  },
  {
   "cell_type": "markdown",
   "id": "1b83dcd1",
   "metadata": {},
   "source": [
    "If your data does not have a linear correlation, you could consider using SVMs or Random Forests."
   ]
  },
  {
   "cell_type": "code",
   "execution_count": 17,
   "id": "27aaca56",
   "metadata": {},
   "outputs": [
    {
     "name": "stdout",
     "output_type": "stream",
     "text": [
      "Not Bankrupt 99.4 % of the dataset\n",
      "Bankrupt 0.6 % of the dataset\n"
     ]
    }
   ],
   "source": [
    "# The classes are heavily skewed we need to solve this issue later.\n",
    "print('Not Bankrupt', round(df['BK'].value_counts()[0]/len(df) * 100,2), '% of the dataset')\n",
    "print('Bankrupt', round(df['BK'].value_counts()[1]/len(df) * 100,2), '% of the dataset')"
   ]
  },
  {
   "cell_type": "code",
   "execution_count": 18,
   "id": "7c025280",
   "metadata": {},
   "outputs": [
    {
     "data": {
      "text/plain": [
       "Text(0.5, 1.0, 'Class Distributions (0: Not Bankrupt || 1: Bankrupt)')"
      ]
     },
     "execution_count": 18,
     "metadata": {},
     "output_type": "execute_result"
    },
    {
     "data": {
      "image/png": "[encoded data removed]",
      "text/plain": [
       "<Figure size 432x288 with 1 Axes>"
      ]
     },
     "metadata": {
      "needs_background": "light"
     },
     "output_type": "display_data"
    }
   ],
   "source": [
    "colors = [\"#0101DF\", \"#DF0101\"]\n",
    "\n",
    "sns.countplot('BK', data=df, palette=colors)\n",
    "plt.title('Class Distributions (0: Not Bankrupt || 1: Bankrupt)', fontsize=14)"
   ]
  },
  {
   "cell_type": "markdown",
   "id": "c5383fd5",
   "metadata": {},
   "source": [
    "**Distributions**: By seeing the distributions we can have an idea how skewed are these features, we can also see further distributions of the other features. There are techniques that can help the distributions be less skewed which will be implemented in this notebook in the future."
   ]
  },
  {
   "cell_type": "code",
   "execution_count": 19,
   "id": "85def9d3",
   "metadata": {
    "scrolled": true
   },
   "outputs": [
    {
     "data": {
      "text/plain": [
       "558"
      ]
     },
     "execution_count": 19,
     "metadata": {},
     "output_type": "execute_result"
    }
   ],
   "source": [
    "df['BK'].value_counts()[1] "
   ]
  },
  {
   "cell_type": "markdown",
   "id": "8d4c73d1",
   "metadata": {},
   "source": [
    "## Adding data to missing values\n",
    "Let's now try adding data to the missing values using the KNNImputer with n_neighbors = 5 \n",
    "so we can check how effective is our model"
   ]
  },
  {
   "cell_type": "code",
   "execution_count": 20,
   "id": "558bf9b0",
   "metadata": {},
   "outputs": [
    {
     "name": "stdout",
     "output_type": "stream",
     "text": [
      "Missing Data Added\n"
     ]
    }
   ],
   "source": [
    "imputer = KNNImputer(n_neighbors=5,weights='uniform')\n",
    "df_no_na = pd.DataFrame(imputer.fit_transform(df),columns=df.columns)\n",
    "print(\"Missing Data Added\")"
   ]
  },
  {
   "cell_type": "code",
   "execution_count": 21,
   "id": "443ebfdc",
   "metadata": {
    "scrolled": true
   },
   "outputs": [
    {
     "data": {
      "text/plain": [
       "EPS                   0\n",
       "Liquidity             0\n",
       "Profitability         0\n",
       "Productivity          0\n",
       "Leverage Ratio        0\n",
       "Asset Turnover        0\n",
       "Operational Margin    0\n",
       "Return on Equity      0\n",
       "Market Book Ratio     0\n",
       "Assets Growth         0\n",
       "Sales Growth          0\n",
       "Employee Growth       0\n",
       "BK                    0\n",
       "dtype: int64"
      ]
     },
     "execution_count": 21,
     "metadata": {},
     "output_type": "execute_result"
    }
   ],
   "source": [
    "df_no_na.isnull().sum()"
   ]
  },
  {
   "cell_type": "code",
   "execution_count": 22,
   "id": "2bade1b2",
   "metadata": {},
   "outputs": [
    {
     "data": {
      "text/html": [
       "<div>\n",
       "<style scoped>\n",
       "    .dataframe tbody tr th:only-of-type {\n",
       "        vertical-align: middle;\n",
       "    }\n",
       "\n",
       "    .dataframe tbody tr th {\n",
       "        vertical-align: top;\n",
       "    }\n",
       "\n",
       "    .dataframe thead th {\n",
       "        text-align: right;\n",
       "    }\n",
       "</style>\n",
       "<table border=\"1\" class=\"dataframe\">\n",
       "  <thead>\n",
       "    <tr style=\"text-align: right;\">\n",
       "      <th></th>\n",
       "      <th>EPS</th>\n",
       "      <th>Liquidity</th>\n",
       "      <th>Profitability</th>\n",
       "      <th>Productivity</th>\n",
       "      <th>Leverage Ratio</th>\n",
       "      <th>Asset Turnover</th>\n",
       "      <th>Operational Margin</th>\n",
       "      <th>Return on Equity</th>\n",
       "      <th>Market Book Ratio</th>\n",
       "      <th>Assets Growth</th>\n",
       "      <th>Sales Growth</th>\n",
       "      <th>Employee Growth</th>\n",
       "      <th>BK</th>\n",
       "    </tr>\n",
       "  </thead>\n",
       "  <tbody>\n",
       "    <tr>\n",
       "      <th>0</th>\n",
       "      <td>1.58</td>\n",
       "      <td>0.36</td>\n",
       "      <td>0.18</td>\n",
       "      <td>0.13</td>\n",
       "      <td>1.33</td>\n",
       "      <td>1.77</td>\n",
       "      <td>0.07</td>\n",
       "      <td>0.15</td>\n",
       "      <td>2.22</td>\n",
       "      <td>NaN</td>\n",
       "      <td>NaN</td>\n",
       "      <td>NaN</td>\n",
       "      <td>0</td>\n",
       "    </tr>\n",
       "    <tr>\n",
       "      <th>1</th>\n",
       "      <td>1.41</td>\n",
       "      <td>0.36</td>\n",
       "      <td>0.19</td>\n",
       "      <td>0.12</td>\n",
       "      <td>1.31</td>\n",
       "      <td>1.59</td>\n",
       "      <td>0.07</td>\n",
       "      <td>0.13</td>\n",
       "      <td>2.41</td>\n",
       "      <td>0.126319</td>\n",
       "      <td>0.014278</td>\n",
       "      <td>0.040179</td>\n",
       "      <td>0</td>\n",
       "    </tr>\n",
       "    <tr>\n",
       "      <th>2</th>\n",
       "      <td>0.31</td>\n",
       "      <td>0.32</td>\n",
       "      <td>0.13</td>\n",
       "      <td>0.08</td>\n",
       "      <td>1.03</td>\n",
       "      <td>1.55</td>\n",
       "      <td>0.05</td>\n",
       "      <td>0.04</td>\n",
       "      <td>2.56</td>\n",
       "      <td>0.368077</td>\n",
       "      <td>0.327909</td>\n",
       "      <td>0.566524</td>\n",
       "      <td>0</td>\n",
       "    </tr>\n",
       "    <tr>\n",
       "      <th>3</th>\n",
       "      <td>0.71</td>\n",
       "      <td>0.28</td>\n",
       "      <td>0.14</td>\n",
       "      <td>0.08</td>\n",
       "      <td>0.80</td>\n",
       "      <td>1.39</td>\n",
       "      <td>0.06</td>\n",
       "      <td>0.05</td>\n",
       "      <td>5.28</td>\n",
       "      <td>-0.020809</td>\n",
       "      <td>-0.118904</td>\n",
       "      <td>-0.095890</td>\n",
       "      <td>0</td>\n",
       "    </tr>\n",
       "    <tr>\n",
       "      <th>4</th>\n",
       "      <td>0.75</td>\n",
       "      <td>0.41</td>\n",
       "      <td>0.13</td>\n",
       "      <td>0.08</td>\n",
       "      <td>0.20</td>\n",
       "      <td>1.30</td>\n",
       "      <td>0.06</td>\n",
       "      <td>0.04</td>\n",
       "      <td>8.68</td>\n",
       "      <td>0.233089</td>\n",
       "      <td>0.146807</td>\n",
       "      <td>0.053030</td>\n",
       "      <td>0</td>\n",
       "    </tr>\n",
       "  </tbody>\n",
       "</table>\n",
       "</div>"
      ],
      "text/plain": [
       "    EPS  Liquidity  Profitability  Productivity  Leverage Ratio  \\\n",
       "0  1.58       0.36           0.18          0.13            1.33   \n",
       "1  1.41       0.36           0.19          0.12            1.31   \n",
       "2  0.31       0.32           0.13          0.08            1.03   \n",
       "3  0.71       0.28           0.14          0.08            0.80   \n",
       "4  0.75       0.41           0.13          0.08            0.20   \n",
       "\n",
       "   Asset Turnover  Operational Margin  Return on Equity  Market Book Ratio  \\\n",
       "0            1.77                0.07              0.15               2.22   \n",
       "1            1.59                0.07              0.13               2.41   \n",
       "2            1.55                0.05              0.04               2.56   \n",
       "3            1.39                0.06              0.05               5.28   \n",
       "4            1.30                0.06              0.04               8.68   \n",
       "\n",
       "   Assets Growth  Sales Growth  Employee Growth  BK  \n",
       "0            NaN           NaN              NaN   0  \n",
       "1       0.126319      0.014278         0.040179   0  \n",
       "2       0.368077      0.327909         0.566524   0  \n",
       "3      -0.020809     -0.118904        -0.095890   0  \n",
       "4       0.233089      0.146807         0.053030   0  "
      ]
     },
     "execution_count": 22,
     "metadata": {},
     "output_type": "execute_result"
    }
   ],
   "source": [
    "df.head()"
   ]
  },
  {
   "cell_type": "code",
   "execution_count": 23,
   "id": "0b2f0bb6",
   "metadata": {},
   "outputs": [
    {
     "data": {
      "text/html": [
       "<div>\n",
       "<style scoped>\n",
       "    .dataframe tbody tr th:only-of-type {\n",
       "        vertical-align: middle;\n",
       "    }\n",
       "\n",
       "    .dataframe tbody tr th {\n",
       "        vertical-align: top;\n",
       "    }\n",
       "\n",
       "    .dataframe thead th {\n",
       "        text-align: right;\n",
       "    }\n",
       "</style>\n",
       "<table border=\"1\" class=\"dataframe\">\n",
       "  <thead>\n",
       "    <tr style=\"text-align: right;\">\n",
       "      <th></th>\n",
       "      <th>EPS</th>\n",
       "      <th>Liquidity</th>\n",
       "      <th>Profitability</th>\n",
       "      <th>Productivity</th>\n",
       "      <th>Leverage Ratio</th>\n",
       "      <th>Asset Turnover</th>\n",
       "      <th>Operational Margin</th>\n",
       "      <th>Return on Equity</th>\n",
       "      <th>Market Book Ratio</th>\n",
       "      <th>Assets Growth</th>\n",
       "      <th>Sales Growth</th>\n",
       "      <th>Employee Growth</th>\n",
       "      <th>BK</th>\n",
       "    </tr>\n",
       "  </thead>\n",
       "  <tbody>\n",
       "    <tr>\n",
       "      <th>0</th>\n",
       "      <td>1.58</td>\n",
       "      <td>0.36</td>\n",
       "      <td>0.18</td>\n",
       "      <td>0.13</td>\n",
       "      <td>1.33</td>\n",
       "      <td>1.77</td>\n",
       "      <td>0.07</td>\n",
       "      <td>0.15</td>\n",
       "      <td>2.22</td>\n",
       "      <td>0.111757</td>\n",
       "      <td>-0.002385</td>\n",
       "      <td>0.057881</td>\n",
       "      <td>0.0</td>\n",
       "    </tr>\n",
       "    <tr>\n",
       "      <th>1</th>\n",
       "      <td>1.41</td>\n",
       "      <td>0.36</td>\n",
       "      <td>0.19</td>\n",
       "      <td>0.12</td>\n",
       "      <td>1.31</td>\n",
       "      <td>1.59</td>\n",
       "      <td>0.07</td>\n",
       "      <td>0.13</td>\n",
       "      <td>2.41</td>\n",
       "      <td>0.126319</td>\n",
       "      <td>0.014278</td>\n",
       "      <td>0.040179</td>\n",
       "      <td>0.0</td>\n",
       "    </tr>\n",
       "    <tr>\n",
       "      <th>2</th>\n",
       "      <td>0.31</td>\n",
       "      <td>0.32</td>\n",
       "      <td>0.13</td>\n",
       "      <td>0.08</td>\n",
       "      <td>1.03</td>\n",
       "      <td>1.55</td>\n",
       "      <td>0.05</td>\n",
       "      <td>0.04</td>\n",
       "      <td>2.56</td>\n",
       "      <td>0.368077</td>\n",
       "      <td>0.327909</td>\n",
       "      <td>0.566524</td>\n",
       "      <td>0.0</td>\n",
       "    </tr>\n",
       "    <tr>\n",
       "      <th>3</th>\n",
       "      <td>0.71</td>\n",
       "      <td>0.28</td>\n",
       "      <td>0.14</td>\n",
       "      <td>0.08</td>\n",
       "      <td>0.80</td>\n",
       "      <td>1.39</td>\n",
       "      <td>0.06</td>\n",
       "      <td>0.05</td>\n",
       "      <td>5.28</td>\n",
       "      <td>-0.020809</td>\n",
       "      <td>-0.118904</td>\n",
       "      <td>-0.095890</td>\n",
       "      <td>0.0</td>\n",
       "    </tr>\n",
       "    <tr>\n",
       "      <th>4</th>\n",
       "      <td>0.75</td>\n",
       "      <td>0.41</td>\n",
       "      <td>0.13</td>\n",
       "      <td>0.08</td>\n",
       "      <td>0.20</td>\n",
       "      <td>1.30</td>\n",
       "      <td>0.06</td>\n",
       "      <td>0.04</td>\n",
       "      <td>8.68</td>\n",
       "      <td>0.233089</td>\n",
       "      <td>0.146807</td>\n",
       "      <td>0.053030</td>\n",
       "      <td>0.0</td>\n",
       "    </tr>\n",
       "  </tbody>\n",
       "</table>\n",
       "</div>"
      ],
      "text/plain": [
       "    EPS  Liquidity  Profitability  Productivity  Leverage Ratio  \\\n",
       "0  1.58       0.36           0.18          0.13            1.33   \n",
       "1  1.41       0.36           0.19          0.12            1.31   \n",
       "2  0.31       0.32           0.13          0.08            1.03   \n",
       "3  0.71       0.28           0.14          0.08            0.80   \n",
       "4  0.75       0.41           0.13          0.08            0.20   \n",
       "\n",
       "   Asset Turnover  Operational Margin  Return on Equity  Market Book Ratio  \\\n",
       "0            1.77                0.07              0.15               2.22   \n",
       "1            1.59                0.07              0.13               2.41   \n",
       "2            1.55                0.05              0.04               2.56   \n",
       "3            1.39                0.06              0.05               5.28   \n",
       "4            1.30                0.06              0.04               8.68   \n",
       "\n",
       "   Assets Growth  Sales Growth  Employee Growth   BK  \n",
       "0       0.111757     -0.002385         0.057881  0.0  \n",
       "1       0.126319      0.014278         0.040179  0.0  \n",
       "2       0.368077      0.327909         0.566524  0.0  \n",
       "3      -0.020809     -0.118904        -0.095890  0.0  \n",
       "4       0.233089      0.146807         0.053030  0.0  "
      ]
     },
     "execution_count": 23,
     "metadata": {},
     "output_type": "execute_result"
    }
   ],
   "source": [
    "df_no_na.head()"
   ]
  },
  {
   "cell_type": "markdown",
   "id": "2ee89251",
   "metadata": {},
   "source": [
    "No more missing Data in our dataset"
   ]
  },
  {
   "cell_type": "markdown",
   "id": "e67092b4",
   "metadata": {},
   "source": [
    "## Let's try applying some classification to our data"
   ]
  },
  {
   "cell_type": "code",
   "execution_count": 24,
   "id": "de85f284",
   "metadata": {},
   "outputs": [],
   "source": [
    "#let's divide our X coefficients to our Y \n",
    "#split df into X and Y\n",
    "y = df_no_na['BK']\n",
    "X = df_no_na.drop('BK',axis =1)"
   ]
  },
  {
   "cell_type": "code",
   "execution_count": 25,
   "id": "d55980d9",
   "metadata": {},
   "outputs": [
    {
     "data": {
      "text/plain": [
       "0        0\n",
       "1        0\n",
       "2        0\n",
       "3        0\n",
       "4        0\n",
       "        ..\n",
       "92803    0\n",
       "92804    0\n",
       "92805    0\n",
       "92806    0\n",
       "92807    1\n",
       "Name: BK, Length: 92808, dtype: int8"
      ]
     },
     "execution_count": 25,
     "metadata": {},
     "output_type": "execute_result"
    }
   ],
   "source": [
    "# change coefficient Y to 1 or 0\n",
    "y = pd.to_numeric(y, downcast=\"integer\")\n",
    "y"
   ]
  },
  {
   "cell_type": "code",
   "execution_count": 26,
   "id": "372a0237",
   "metadata": {
    "scrolled": true
   },
   "outputs": [
    {
     "data": {
      "text/plain": [
       "0        0\n",
       "1        0\n",
       "2        0\n",
       "3        0\n",
       "4        0\n",
       "        ..\n",
       "92803    0\n",
       "92804    0\n",
       "92805    0\n",
       "92806    0\n",
       "92807    1\n",
       "Name: BK, Length: 92808, dtype: int8"
      ]
     },
     "execution_count": 26,
     "metadata": {},
     "output_type": "execute_result"
    }
   ],
   "source": [
    "y"
   ]
  },
  {
   "cell_type": "code",
   "execution_count": 27,
   "id": "97afddfb",
   "metadata": {},
   "outputs": [
    {
     "data": {
      "text/html": [
       "<div>\n",
       "<style scoped>\n",
       "    .dataframe tbody tr th:only-of-type {\n",
       "        vertical-align: middle;\n",
       "    }\n",
       "\n",
       "    .dataframe tbody tr th {\n",
       "        vertical-align: top;\n",
       "    }\n",
       "\n",
       "    .dataframe thead th {\n",
       "        text-align: right;\n",
       "    }\n",
       "</style>\n",
       "<table border=\"1\" class=\"dataframe\">\n",
       "  <thead>\n",
       "    <tr style=\"text-align: right;\">\n",
       "      <th></th>\n",
       "      <th>EPS</th>\n",
       "      <th>Liquidity</th>\n",
       "      <th>Profitability</th>\n",
       "      <th>Productivity</th>\n",
       "      <th>Leverage Ratio</th>\n",
       "      <th>Asset Turnover</th>\n",
       "      <th>Operational Margin</th>\n",
       "      <th>Return on Equity</th>\n",
       "      <th>Market Book Ratio</th>\n",
       "      <th>Assets Growth</th>\n",
       "      <th>Sales Growth</th>\n",
       "      <th>Employee Growth</th>\n",
       "    </tr>\n",
       "  </thead>\n",
       "  <tbody>\n",
       "    <tr>\n",
       "      <th>0</th>\n",
       "      <td>1.580000</td>\n",
       "      <td>0.360000</td>\n",
       "      <td>0.180000</td>\n",
       "      <td>0.130000</td>\n",
       "      <td>1.330000</td>\n",
       "      <td>1.770000</td>\n",
       "      <td>0.070000</td>\n",
       "      <td>0.150000</td>\n",
       "      <td>2.220000</td>\n",
       "      <td>0.111757</td>\n",
       "      <td>-0.002385</td>\n",
       "      <td>0.057881</td>\n",
       "    </tr>\n",
       "    <tr>\n",
       "      <th>1</th>\n",
       "      <td>1.410000</td>\n",
       "      <td>0.360000</td>\n",
       "      <td>0.190000</td>\n",
       "      <td>0.120000</td>\n",
       "      <td>1.310000</td>\n",
       "      <td>1.590000</td>\n",
       "      <td>0.070000</td>\n",
       "      <td>0.130000</td>\n",
       "      <td>2.410000</td>\n",
       "      <td>0.126319</td>\n",
       "      <td>0.014278</td>\n",
       "      <td>0.040179</td>\n",
       "    </tr>\n",
       "    <tr>\n",
       "      <th>2</th>\n",
       "      <td>0.310000</td>\n",
       "      <td>0.320000</td>\n",
       "      <td>0.130000</td>\n",
       "      <td>0.080000</td>\n",
       "      <td>1.030000</td>\n",
       "      <td>1.550000</td>\n",
       "      <td>0.050000</td>\n",
       "      <td>0.040000</td>\n",
       "      <td>2.560000</td>\n",
       "      <td>0.368077</td>\n",
       "      <td>0.327909</td>\n",
       "      <td>0.566524</td>\n",
       "    </tr>\n",
       "    <tr>\n",
       "      <th>3</th>\n",
       "      <td>0.710000</td>\n",
       "      <td>0.280000</td>\n",
       "      <td>0.140000</td>\n",
       "      <td>0.080000</td>\n",
       "      <td>0.800000</td>\n",
       "      <td>1.390000</td>\n",
       "      <td>0.060000</td>\n",
       "      <td>0.050000</td>\n",
       "      <td>5.280000</td>\n",
       "      <td>-0.020809</td>\n",
       "      <td>-0.118904</td>\n",
       "      <td>-0.095890</td>\n",
       "    </tr>\n",
       "    <tr>\n",
       "      <th>4</th>\n",
       "      <td>0.750000</td>\n",
       "      <td>0.410000</td>\n",
       "      <td>0.130000</td>\n",
       "      <td>0.080000</td>\n",
       "      <td>0.200000</td>\n",
       "      <td>1.300000</td>\n",
       "      <td>0.060000</td>\n",
       "      <td>0.040000</td>\n",
       "      <td>8.680000</td>\n",
       "      <td>0.233089</td>\n",
       "      <td>0.146807</td>\n",
       "      <td>0.053030</td>\n",
       "    </tr>\n",
       "    <tr>\n",
       "      <th>...</th>\n",
       "      <td>...</td>\n",
       "      <td>...</td>\n",
       "      <td>...</td>\n",
       "      <td>...</td>\n",
       "      <td>...</td>\n",
       "      <td>...</td>\n",
       "      <td>...</td>\n",
       "      <td>...</td>\n",
       "      <td>...</td>\n",
       "      <td>...</td>\n",
       "      <td>...</td>\n",
       "      <td>...</td>\n",
       "    </tr>\n",
       "    <tr>\n",
       "      <th>92803</th>\n",
       "      <td>-1.488171</td>\n",
       "      <td>-0.015494</td>\n",
       "      <td>-0.758859</td>\n",
       "      <td>-0.056905</td>\n",
       "      <td>-1042.104918</td>\n",
       "      <td>0.174115</td>\n",
       "      <td>-0.326823</td>\n",
       "      <td>-6.614095</td>\n",
       "      <td>-1.846719</td>\n",
       "      <td>-0.073287</td>\n",
       "      <td>-0.557483</td>\n",
       "      <td>-0.076923</td>\n",
       "    </tr>\n",
       "    <tr>\n",
       "      <th>92804</th>\n",
       "      <td>-1.807630</td>\n",
       "      <td>0.093838</td>\n",
       "      <td>-1.204734</td>\n",
       "      <td>-0.121122</td>\n",
       "      <td>-4.530214</td>\n",
       "      <td>0.215844</td>\n",
       "      <td>-0.561155</td>\n",
       "      <td>-4.519074</td>\n",
       "      <td>-2.474549</td>\n",
       "      <td>-0.201835</td>\n",
       "      <td>-0.010544</td>\n",
       "      <td>-0.208333</td>\n",
       "    </tr>\n",
       "    <tr>\n",
       "      <th>92805</th>\n",
       "      <td>-0.015660</td>\n",
       "      <td>0.039260</td>\n",
       "      <td>0.000000</td>\n",
       "      <td>-0.082429</td>\n",
       "      <td>0.744907</td>\n",
       "      <td>0.254186</td>\n",
       "      <td>-0.324286</td>\n",
       "      <td>-0.569448</td>\n",
       "      <td>3274.505633</td>\n",
       "      <td>-0.168001</td>\n",
       "      <td>-0.020206</td>\n",
       "      <td>-0.105263</td>\n",
       "    </tr>\n",
       "    <tr>\n",
       "      <th>92806</th>\n",
       "      <td>-0.133054</td>\n",
       "      <td>0.053678</td>\n",
       "      <td>-0.029471</td>\n",
       "      <td>0.000998</td>\n",
       "      <td>0.574570</td>\n",
       "      <td>0.195683</td>\n",
       "      <td>0.005101</td>\n",
       "      <td>-0.085842</td>\n",
       "      <td>36.474842</td>\n",
       "      <td>0.076936</td>\n",
       "      <td>-0.170928</td>\n",
       "      <td>-0.058824</td>\n",
       "    </tr>\n",
       "    <tr>\n",
       "      <th>92807</th>\n",
       "      <td>-0.648028</td>\n",
       "      <td>-0.036524</td>\n",
       "      <td>-0.219774</td>\n",
       "      <td>-0.144842</td>\n",
       "      <td>0.693342</td>\n",
       "      <td>0.222476</td>\n",
       "      <td>-0.651048</td>\n",
       "      <td>-0.498483</td>\n",
       "      <td>55.624410</td>\n",
       "      <td>-0.063630</td>\n",
       "      <td>0.064574</td>\n",
       "      <td>0.062500</td>\n",
       "    </tr>\n",
       "  </tbody>\n",
       "</table>\n",
       "<p>92808 rows × 12 columns</p>\n",
       "</div>"
      ],
      "text/plain": [
       "            EPS  Liquidity  Profitability  Productivity  Leverage Ratio  \\\n",
       "0      1.580000   0.360000       0.180000      0.130000        1.330000   \n",
       "1      1.410000   0.360000       0.190000      0.120000        1.310000   \n",
       "2      0.310000   0.320000       0.130000      0.080000        1.030000   \n",
       "3      0.710000   0.280000       0.140000      0.080000        0.800000   \n",
       "4      0.750000   0.410000       0.130000      0.080000        0.200000   \n",
       "...         ...        ...            ...           ...             ...   \n",
       "92803 -1.488171  -0.015494      -0.758859     -0.056905    -1042.104918   \n",
       "92804 -1.807630   0.093838      -1.204734     -0.121122       -4.530214   \n",
       "92805 -0.015660   0.039260       0.000000     -0.082429        0.744907   \n",
       "92806 -0.133054   0.053678      -0.029471      0.000998        0.574570   \n",
       "92807 -0.648028  -0.036524      -0.219774     -0.144842        0.693342   \n",
       "\n",
       "       Asset Turnover  Operational Margin  Return on Equity  \\\n",
       "0            1.770000            0.070000          0.150000   \n",
       "1            1.590000            0.070000          0.130000   \n",
       "2            1.550000            0.050000          0.040000   \n",
       "3            1.390000            0.060000          0.050000   \n",
       "4            1.300000            0.060000          0.040000   \n",
       "...               ...                 ...               ...   \n",
       "92803        0.174115           -0.326823         -6.614095   \n",
       "92804        0.215844           -0.561155         -4.519074   \n",
       "92805        0.254186           -0.324286         -0.569448   \n",
       "92806        0.195683            0.005101         -0.085842   \n",
       "92807        0.222476           -0.651048         -0.498483   \n",
       "\n",
       "       Market Book Ratio  Assets Growth  Sales Growth  Employee Growth  \n",
       "0               2.220000       0.111757     -0.002385         0.057881  \n",
       "1               2.410000       0.126319      0.014278         0.040179  \n",
       "2               2.560000       0.368077      0.327909         0.566524  \n",
       "3               5.280000      -0.020809     -0.118904        -0.095890  \n",
       "4               8.680000       0.233089      0.146807         0.053030  \n",
       "...                  ...            ...           ...              ...  \n",
       "92803          -1.846719      -0.073287     -0.557483        -0.076923  \n",
       "92804          -2.474549      -0.201835     -0.010544        -0.208333  \n",
       "92805        3274.505633      -0.168001     -0.020206        -0.105263  \n",
       "92806          36.474842       0.076936     -0.170928        -0.058824  \n",
       "92807          55.624410      -0.063630      0.064574         0.062500  \n",
       "\n",
       "[92808 rows x 12 columns]"
      ]
     },
     "execution_count": 27,
     "metadata": {},
     "output_type": "execute_result"
    }
   ],
   "source": [
    "X"
   ]
  },
  {
   "cell_type": "code",
   "execution_count": null,
   "id": "b483c0d1",
   "metadata": {},
   "outputs": [],
   "source": [
    "def preprocess_inputs(X,y):\n",
    "    #train test split\n",
    "    X_train,X_test,y_train,y_test= train_test_split(X, y, train_size = 0.8, shuffle = True, random_state = 1)\n",
    "    \n",
    "    # Scale X | StandardScaler for now just to check things out :3\n",
    "    scaler = StandardScaler()\n",
    "    scaler.fit(X_train)\n",
    "    \n",
    "    X_train = pd.DataFrame(scaler.transform(X_train),index=X_train.index, columns = X_train.columns)\n",
    "    X_test = pd.DataFrame(scaler.transform(X_test),index=X_test.index, columns = X_test.columns)\n",
    "    return X_train, X_test, y_train, y_test"
   ]
  },
  {
   "cell_type": "code",
   "execution_count": 29,
   "id": "bfa26a2c",
   "metadata": {},
   "outputs": [],
   "source": [
    "X_train, X_test, y_train, y_test = preprocess_inputs(X,y)"
   ]
  },
  {
   "cell_type": "markdown",
   "id": "d9fe2b2f",
   "metadata": {},
   "source": [
    "### Let's check our training variables"
   ]
  },
  {
   "cell_type": "code",
   "execution_count": 30,
   "id": "1818cf8b",
   "metadata": {
    "scrolled": true
   },
   "outputs": [
    {
     "data": {
      "text/html": [
       "<div>\n",
       "<style scoped>\n",
       "    .dataframe tbody tr th:only-of-type {\n",
       "        vertical-align: middle;\n",
       "    }\n",
       "\n",
       "    .dataframe tbody tr th {\n",
       "        vertical-align: top;\n",
       "    }\n",
       "\n",
       "    .dataframe thead th {\n",
       "        text-align: right;\n",
       "    }\n",
       "</style>\n",
       "<table border=\"1\" class=\"dataframe\">\n",
       "  <thead>\n",
       "    <tr style=\"text-align: right;\">\n",
       "      <th></th>\n",
       "      <th>EPS</th>\n",
       "      <th>Liquidity</th>\n",
       "      <th>Profitability</th>\n",
       "      <th>Productivity</th>\n",
       "      <th>Leverage Ratio</th>\n",
       "      <th>Asset Turnover</th>\n",
       "      <th>Operational Margin</th>\n",
       "      <th>Return on Equity</th>\n",
       "      <th>Market Book Ratio</th>\n",
       "      <th>Assets Growth</th>\n",
       "      <th>Sales Growth</th>\n",
       "      <th>Employee Growth</th>\n",
       "    </tr>\n",
       "  </thead>\n",
       "  <tbody>\n",
       "    <tr>\n",
       "      <th>20403</th>\n",
       "      <td>0.010328</td>\n",
       "      <td>0.019799</td>\n",
       "      <td>0.043202</td>\n",
       "      <td>0.044316</td>\n",
       "      <td>-0.005428</td>\n",
       "      <td>-0.286706</td>\n",
       "      <td>0.057771</td>\n",
       "      <td>0.009156</td>\n",
       "      <td>-0.000538</td>\n",
       "      <td>-0.028989</td>\n",
       "      <td>-0.011007</td>\n",
       "      <td>-0.002829</td>\n",
       "    </tr>\n",
       "    <tr>\n",
       "      <th>22657</th>\n",
       "      <td>0.009135</td>\n",
       "      <td>0.020676</td>\n",
       "      <td>0.043398</td>\n",
       "      <td>0.046029</td>\n",
       "      <td>-0.007245</td>\n",
       "      <td>0.087135</td>\n",
       "      <td>0.057281</td>\n",
       "      <td>0.009228</td>\n",
       "      <td>0.005844</td>\n",
       "      <td>-0.030913</td>\n",
       "      <td>-0.011527</td>\n",
       "      <td>-0.032218</td>\n",
       "    </tr>\n",
       "    <tr>\n",
       "      <th>15384</th>\n",
       "      <td>0.008552</td>\n",
       "      <td>0.023308</td>\n",
       "      <td>0.044020</td>\n",
       "      <td>0.050025</td>\n",
       "      <td>-0.007814</td>\n",
       "      <td>0.113304</td>\n",
       "      <td>0.057880</td>\n",
       "      <td>0.009085</td>\n",
       "      <td>-0.021741</td>\n",
       "      <td>-0.027580</td>\n",
       "      <td>-0.011121</td>\n",
       "      <td>-0.028973</td>\n",
       "    </tr>\n",
       "    <tr>\n",
       "      <th>50871</th>\n",
       "      <td>0.007946</td>\n",
       "      <td>0.020883</td>\n",
       "      <td>0.043236</td>\n",
       "      <td>0.044316</td>\n",
       "      <td>-0.006829</td>\n",
       "      <td>-0.069878</td>\n",
       "      <td>0.057172</td>\n",
       "      <td>0.009049</td>\n",
       "      <td>-0.022168</td>\n",
       "      <td>-0.030038</td>\n",
       "      <td>-0.010990</td>\n",
       "      <td>-0.021759</td>\n",
       "    </tr>\n",
       "    <tr>\n",
       "      <th>47785</th>\n",
       "      <td>0.008288</td>\n",
       "      <td>0.020367</td>\n",
       "      <td>0.043167</td>\n",
       "      <td>0.047741</td>\n",
       "      <td>-0.002341</td>\n",
       "      <td>-0.167077</td>\n",
       "      <td>0.058316</td>\n",
       "      <td>0.009049</td>\n",
       "      <td>0.318751</td>\n",
       "      <td>-0.031474</td>\n",
       "      <td>-0.011113</td>\n",
       "      <td>-0.093345</td>\n",
       "    </tr>\n",
       "    <tr>\n",
       "      <th>...</th>\n",
       "      <td>...</td>\n",
       "      <td>...</td>\n",
       "      <td>...</td>\n",
       "      <td>...</td>\n",
       "      <td>...</td>\n",
       "      <td>...</td>\n",
       "      <td>...</td>\n",
       "      <td>...</td>\n",
       "      <td>...</td>\n",
       "      <td>...</td>\n",
       "      <td>...</td>\n",
       "      <td>...</td>\n",
       "    </tr>\n",
       "    <tr>\n",
       "      <th>21440</th>\n",
       "      <td>0.007479</td>\n",
       "      <td>0.021296</td>\n",
       "      <td>0.043271</td>\n",
       "      <td>0.041176</td>\n",
       "      <td>-0.006939</td>\n",
       "      <td>-0.021279</td>\n",
       "      <td>0.056518</td>\n",
       "      <td>0.008924</td>\n",
       "      <td>-0.011368</td>\n",
       "      <td>-0.033306</td>\n",
       "      <td>-0.011320</td>\n",
       "      <td>-0.021647</td>\n",
       "    </tr>\n",
       "    <tr>\n",
       "      <th>73349</th>\n",
       "      <td>0.007595</td>\n",
       "      <td>-1.212465</td>\n",
       "      <td>-1.327200</td>\n",
       "      <td>-3.563921</td>\n",
       "      <td>-0.008449</td>\n",
       "      <td>-0.380167</td>\n",
       "      <td>-14.532822</td>\n",
       "      <td>0.007886</td>\n",
       "      <td>-0.035514</td>\n",
       "      <td>-0.044306</td>\n",
       "      <td>-0.011468</td>\n",
       "      <td>0.104120</td>\n",
       "    </tr>\n",
       "    <tr>\n",
       "      <th>50057</th>\n",
       "      <td>0.007622</td>\n",
       "      <td>0.023669</td>\n",
       "      <td>0.039674</td>\n",
       "      <td>0.040319</td>\n",
       "      <td>-0.007814</td>\n",
       "      <td>-0.077355</td>\n",
       "      <td>0.056300</td>\n",
       "      <td>0.008888</td>\n",
       "      <td>-0.022698</td>\n",
       "      <td>-0.036667</td>\n",
       "      <td>-0.011024</td>\n",
       "      <td>-0.037468</td>\n",
       "    </tr>\n",
       "    <tr>\n",
       "      <th>5192</th>\n",
       "      <td>0.004898</td>\n",
       "      <td>0.022741</td>\n",
       "      <td>0.042821</td>\n",
       "      <td>0.044316</td>\n",
       "      <td>0.389433</td>\n",
       "      <td>0.259102</td>\n",
       "      <td>0.057009</td>\n",
       "      <td>0.006812</td>\n",
       "      <td>-0.017488</td>\n",
       "      <td>-0.046010</td>\n",
       "      <td>-0.012091</td>\n",
       "      <td>-0.066211</td>\n",
       "    </tr>\n",
       "    <tr>\n",
       "      <th>77708</th>\n",
       "      <td>0.005361</td>\n",
       "      <td>0.020831</td>\n",
       "      <td>0.042971</td>\n",
       "      <td>0.044601</td>\n",
       "      <td>-0.005362</td>\n",
       "      <td>0.008629</td>\n",
       "      <td>0.057117</td>\n",
       "      <td>0.008799</td>\n",
       "      <td>-0.019102</td>\n",
       "      <td>-0.037790</td>\n",
       "      <td>-0.011392</td>\n",
       "      <td>-0.043024</td>\n",
       "    </tr>\n",
       "  </tbody>\n",
       "</table>\n",
       "<p>27842 rows × 12 columns</p>\n",
       "</div>"
      ],
      "text/plain": [
       "            EPS  Liquidity  Profitability  Productivity  Leverage Ratio  \\\n",
       "20403  0.010328   0.019799       0.043202      0.044316       -0.005428   \n",
       "22657  0.009135   0.020676       0.043398      0.046029       -0.007245   \n",
       "15384  0.008552   0.023308       0.044020      0.050025       -0.007814   \n",
       "50871  0.007946   0.020883       0.043236      0.044316       -0.006829   \n",
       "47785  0.008288   0.020367       0.043167      0.047741       -0.002341   \n",
       "...         ...        ...            ...           ...             ...   \n",
       "21440  0.007479   0.021296       0.043271      0.041176       -0.006939   \n",
       "73349  0.007595  -1.212465      -1.327200     -3.563921       -0.008449   \n",
       "50057  0.007622   0.023669       0.039674      0.040319       -0.007814   \n",
       "5192   0.004898   0.022741       0.042821      0.044316        0.389433   \n",
       "77708  0.005361   0.020831       0.042971      0.044601       -0.005362   \n",
       "\n",
       "       Asset Turnover  Operational Margin  Return on Equity  \\\n",
       "20403       -0.286706            0.057771          0.009156   \n",
       "22657        0.087135            0.057281          0.009228   \n",
       "15384        0.113304            0.057880          0.009085   \n",
       "50871       -0.069878            0.057172          0.009049   \n",
       "47785       -0.167077            0.058316          0.009049   \n",
       "...               ...                 ...               ...   \n",
       "21440       -0.021279            0.056518          0.008924   \n",
       "73349       -0.380167          -14.532822          0.007886   \n",
       "50057       -0.077355            0.056300          0.008888   \n",
       "5192         0.259102            0.057009          0.006812   \n",
       "77708        0.008629            0.057117          0.008799   \n",
       "\n",
       "       Market Book Ratio  Assets Growth  Sales Growth  Employee Growth  \n",
       "20403          -0.000538      -0.028989     -0.011007        -0.002829  \n",
       "22657           0.005844      -0.030913     -0.011527        -0.032218  \n",
       "15384          -0.021741      -0.027580     -0.011121        -0.028973  \n",
       "50871          -0.022168      -0.030038     -0.010990        -0.021759  \n",
       "47785           0.318751      -0.031474     -0.011113        -0.093345  \n",
       "...                  ...            ...           ...              ...  \n",
       "21440          -0.011368      -0.033306     -0.011320        -0.021647  \n",
       "73349          -0.035514      -0.044306     -0.011468         0.104120  \n",
       "50057          -0.022698      -0.036667     -0.011024        -0.037468  \n",
       "5192           -0.017488      -0.046010     -0.012091        -0.066211  \n",
       "77708          -0.019102      -0.037790     -0.011392        -0.043024  \n",
       "\n",
       "[27842 rows x 12 columns]"
      ]
     },
     "execution_count": 30,
     "metadata": {},
     "output_type": "execute_result"
    }
   ],
   "source": [
    "X_train"
   ]
  },
  {
   "cell_type": "code",
   "execution_count": 31,
   "id": "1e4363d4",
   "metadata": {},
   "outputs": [
    {
     "data": {
      "text/html": [
       "<div>\n",
       "<style scoped>\n",
       "    .dataframe tbody tr th:only-of-type {\n",
       "        vertical-align: middle;\n",
       "    }\n",
       "\n",
       "    .dataframe tbody tr th {\n",
       "        vertical-align: top;\n",
       "    }\n",
       "\n",
       "    .dataframe thead th {\n",
       "        text-align: right;\n",
       "    }\n",
       "</style>\n",
       "<table border=\"1\" class=\"dataframe\">\n",
       "  <thead>\n",
       "    <tr style=\"text-align: right;\">\n",
       "      <th></th>\n",
       "      <th>EPS</th>\n",
       "      <th>Liquidity</th>\n",
       "      <th>Profitability</th>\n",
       "      <th>Productivity</th>\n",
       "      <th>Leverage Ratio</th>\n",
       "      <th>Asset Turnover</th>\n",
       "      <th>Operational Margin</th>\n",
       "      <th>Return on Equity</th>\n",
       "      <th>Market Book Ratio</th>\n",
       "      <th>Assets Growth</th>\n",
       "      <th>Sales Growth</th>\n",
       "      <th>Employee Growth</th>\n",
       "    </tr>\n",
       "  </thead>\n",
       "  <tbody>\n",
       "    <tr>\n",
       "      <th>count</th>\n",
       "      <td>2.784200e+04</td>\n",
       "      <td>2.784200e+04</td>\n",
       "      <td>2.784200e+04</td>\n",
       "      <td>2.784200e+04</td>\n",
       "      <td>2.784200e+04</td>\n",
       "      <td>2.784200e+04</td>\n",
       "      <td>2.784200e+04</td>\n",
       "      <td>2.784200e+04</td>\n",
       "      <td>2.784200e+04</td>\n",
       "      <td>2.784200e+04</td>\n",
       "      <td>2.784200e+04</td>\n",
       "      <td>2.784200e+04</td>\n",
       "    </tr>\n",
       "    <tr>\n",
       "      <th>mean</th>\n",
       "      <td>-2.207847e-17</td>\n",
       "      <td>-1.902464e-17</td>\n",
       "      <td>-1.091377e-17</td>\n",
       "      <td>2.839907e-18</td>\n",
       "      <td>2.984419e-16</td>\n",
       "      <td>2.180118e-17</td>\n",
       "      <td>-5.592758e-16</td>\n",
       "      <td>6.988795e-17</td>\n",
       "      <td>1.465761e-17</td>\n",
       "      <td>2.297596e-18</td>\n",
       "      <td>-5.531588e-18</td>\n",
       "      <td>3.604227e-17</td>\n",
       "    </tr>\n",
       "    <tr>\n",
       "      <th>std</th>\n",
       "      <td>1.000018e+00</td>\n",
       "      <td>1.000018e+00</td>\n",
       "      <td>1.000018e+00</td>\n",
       "      <td>1.000018e+00</td>\n",
       "      <td>1.000018e+00</td>\n",
       "      <td>1.000018e+00</td>\n",
       "      <td>1.000018e+00</td>\n",
       "      <td>1.000018e+00</td>\n",
       "      <td>1.000018e+00</td>\n",
       "      <td>1.000018e+00</td>\n",
       "      <td>1.000018e+00</td>\n",
       "      <td>1.000018e+00</td>\n",
       "    </tr>\n",
       "    <tr>\n",
       "      <th>min</th>\n",
       "      <td>-1.488558e+02</td>\n",
       "      <td>-1.339892e+02</td>\n",
       "      <td>-9.182908e+01</td>\n",
       "      <td>-7.531902e+01</td>\n",
       "      <td>-7.082681e+00</td>\n",
       "      <td>-4.250275e-01</td>\n",
       "      <td>-7.100971e+01</td>\n",
       "      <td>-1.590601e+02</td>\n",
       "      <td>-5.915901e+01</td>\n",
       "      <td>-7.334086e-02</td>\n",
       "      <td>-1.217579e-01</td>\n",
       "      <td>-1.177014e-01</td>\n",
       "    </tr>\n",
       "    <tr>\n",
       "      <th>25%</th>\n",
       "      <td>7.630970e-03</td>\n",
       "      <td>2.016039e-02</td>\n",
       "      <td>4.215806e-02</td>\n",
       "      <td>4.117581e-02</td>\n",
       "      <td>-7.814267e-03</td>\n",
       "      <td>-2.530604e-01</td>\n",
       "      <td>5.635491e-02</td>\n",
       "      <td>8.834308e-03</td>\n",
       "      <td>-2.339493e-02</td>\n",
       "      <td>-3.537839e-02</td>\n",
       "      <td>-1.160301e-02</td>\n",
       "      <td>-3.319816e-02</td>\n",
       "    </tr>\n",
       "    <tr>\n",
       "      <th>50%</th>\n",
       "      <td>7.844273e-03</td>\n",
       "      <td>2.098606e-02</td>\n",
       "      <td>4.301722e-02</td>\n",
       "      <td>4.460135e-02</td>\n",
       "      <td>-7.179338e-03</td>\n",
       "      <td>-9.230856e-02</td>\n",
       "      <td>5.717190e-02</td>\n",
       "      <td>9.031186e-03</td>\n",
       "      <td>-1.991074e-02</td>\n",
       "      <td>-3.093328e-02</td>\n",
       "      <td>-1.122863e-02</td>\n",
       "      <td>-2.732988e-02</td>\n",
       "    </tr>\n",
       "    <tr>\n",
       "      <th>75%</th>\n",
       "      <td>8.394595e-03</td>\n",
       "      <td>2.212136e-02</td>\n",
       "      <td>4.329393e-02</td>\n",
       "      <td>4.602866e-02</td>\n",
       "      <td>-5.997055e-03</td>\n",
       "      <td>1.170427e-01</td>\n",
       "      <td>5.755316e-02</td>\n",
       "      <td>9.102779e-03</td>\n",
       "      <td>-6.432087e-03</td>\n",
       "      <td>-2.523981e-02</td>\n",
       "      <td>-1.064871e-02</td>\n",
       "      <td>-1.702796e-02</td>\n",
       "    </tr>\n",
       "    <tr>\n",
       "      <th>max</th>\n",
       "      <td>1.319693e+01</td>\n",
       "      <td>2.521763e-02</td>\n",
       "      <td>4.955463e-02</td>\n",
       "      <td>1.068267e+00</td>\n",
       "      <td>1.663227e+02</td>\n",
       "      <td>1.029234e+02</td>\n",
       "      <td>7.069450e-01</td>\n",
       "      <td>1.337640e+01</td>\n",
       "      <td>7.583734e+01</td>\n",
       "      <td>8.784563e+01</td>\n",
       "      <td>1.602102e+02</td>\n",
       "      <td>1.419365e+02</td>\n",
       "    </tr>\n",
       "  </tbody>\n",
       "</table>\n",
       "</div>"
      ],
      "text/plain": [
       "                EPS     Liquidity  Profitability  Productivity  \\\n",
       "count  2.784200e+04  2.784200e+04   2.784200e+04  2.784200e+04   \n",
       "mean  -2.207847e-17 -1.902464e-17  -1.091377e-17  2.839907e-18   \n",
       "std    1.000018e+00  1.000018e+00   1.000018e+00  1.000018e+00   \n",
       "min   -1.488558e+02 -1.339892e+02  -9.182908e+01 -7.531902e+01   \n",
       "25%    7.630970e-03  2.016039e-02   4.215806e-02  4.117581e-02   \n",
       "50%    7.844273e-03  2.098606e-02   4.301722e-02  4.460135e-02   \n",
       "75%    8.394595e-03  2.212136e-02   4.329393e-02  4.602866e-02   \n",
       "max    1.319693e+01  2.521763e-02   4.955463e-02  1.068267e+00   \n",
       "\n",
       "       Leverage Ratio  Asset Turnover  Operational Margin  Return on Equity  \\\n",
       "count    2.784200e+04    2.784200e+04        2.784200e+04      2.784200e+04   \n",
       "mean     2.984419e-16    2.180118e-17       -5.592758e-16      6.988795e-17   \n",
       "std      1.000018e+00    1.000018e+00        1.000018e+00      1.000018e+00   \n",
       "min     -7.082681e+00   -4.250275e-01       -7.100971e+01     -1.590601e+02   \n",
       "25%     -7.814267e-03   -2.530604e-01        5.635491e-02      8.834308e-03   \n",
       "50%     -7.179338e-03   -9.230856e-02        5.717190e-02      9.031186e-03   \n",
       "75%     -5.997055e-03    1.170427e-01        5.755316e-02      9.102779e-03   \n",
       "max      1.663227e+02    1.029234e+02        7.069450e-01      1.337640e+01   \n",
       "\n",
       "       Market Book Ratio  Assets Growth  Sales Growth  Employee Growth  \n",
       "count       2.784200e+04   2.784200e+04  2.784200e+04     2.784200e+04  \n",
       "mean        1.465761e-17   2.297596e-18 -5.531588e-18     3.604227e-17  \n",
       "std         1.000018e+00   1.000018e+00  1.000018e+00     1.000018e+00  \n",
       "min        -5.915901e+01  -7.334086e-02 -1.217579e-01    -1.177014e-01  \n",
       "25%        -2.339493e-02  -3.537839e-02 -1.160301e-02    -3.319816e-02  \n",
       "50%        -1.991074e-02  -3.093328e-02 -1.122863e-02    -2.732988e-02  \n",
       "75%        -6.432087e-03  -2.523981e-02 -1.064871e-02    -1.702796e-02  \n",
       "max         7.583734e+01   8.784563e+01  1.602102e+02     1.419365e+02  "
      ]
     },
     "execution_count": 31,
     "metadata": {},
     "output_type": "execute_result"
    }
   ],
   "source": [
    "X_train.describe()"
   ]
  },
  {
   "cell_type": "code",
   "execution_count": 32,
   "id": "0afa28bf",
   "metadata": {},
   "outputs": [
    {
     "data": {
      "text/plain": [
       "20403    0\n",
       "22657    0\n",
       "15384    0\n",
       "50871    0\n",
       "47785    0\n",
       "Name: BK, dtype: int8"
      ]
     },
     "execution_count": 32,
     "metadata": {},
     "output_type": "execute_result"
    }
   ],
   "source": [
    "y_train.head()"
   ]
  },
  {
   "cell_type": "markdown",
   "id": "bba391a0",
   "metadata": {},
   "source": [
    "### Apply Modelling techniques\n",
    "Our main models is RandomForestClassifier() and LinearSVC()"
   ]
  },
  {
   "cell_type": "code",
   "execution_count": 33,
   "id": "aeea963f",
   "metadata": {},
   "outputs": [],
   "source": [
    "models = {\n",
    "    \"Random Forest\": RandomForestClassifier(),\n",
    "    \"Linear SVC\": LinearSVC(),\n",
    "    \"Naive Bayes\" : GaussianNB()\n",
    "}"
   ]
  },
  {
   "cell_type": "code",
   "execution_count": 34,
   "id": "a36591e9",
   "metadata": {},
   "outputs": [
    {
     "name": "stdout",
     "output_type": "stream",
     "text": [
      "Random Forest trained.\n",
      "Linear SVC trained.\n",
      "Naive Bayes trained.\n"
     ]
    }
   ],
   "source": [
    "for name, model in models.items():\n",
    "    model.fit(X_train, y_train)\n",
    "    print(name+ \" trained.\")"
   ]
  },
  {
   "cell_type": "markdown",
   "id": "35af2738",
   "metadata": {},
   "source": [
    "### Classification Metrics\n",
    "To summarize classification metrics:\n",
    "- **Accuracy** is a good measure to start with, if all classes are balanced\n",
    "- **Precision** and **recall** becomes more important when classes are imbalanced.\n",
    "- If false positive predictions are worse than false negatives, aim for higher precision.\n",
    "- If false negative predictions are worse than false positives, aim for higher recall.\n",
    "- **F1-score** is a combination of precision and recall"
   ]
  },
  {
   "cell_type": "code",
   "execution_count": 35,
   "id": "0b25cb7d",
   "metadata": {},
   "outputs": [
    {
     "name": "stdout",
     "output_type": "stream",
     "text": [
      "Random Forest: 99.40%\n",
      "Linear SVC: 99.40%\n",
      "Naive Bayes: 6.36%\n"
     ]
    }
   ],
   "source": [
    "results = []\n",
    "for name, model in models.items():\n",
    "    result = model.score(X_test,y_test)\n",
    "    results.append(result)\n",
    "    print(name+ \": {:.2f}%\".format(result*100))"
   ]
  },
  {
   "cell_type": "markdown",
   "id": "9769a268",
   "metadata": {},
   "source": [
    "We have checked the R^2 values for the 3 models:\n",
    "\n",
    "Note: R^2 compares your models prediction to the mean of the targets. Values can range from negative infinity (a very ppor model) to 1. For example, if all your model does is predict the mean of thee targets, it's R^2 value would be 0. And if your model perfectly predicts a range of umbers it's R^2 value would be 1"
   ]
  },
  {
   "cell_type": "code",
   "execution_count": 36,
   "id": "5551f0fd",
   "metadata": {
    "scrolled": true
   },
   "outputs": [
    {
     "name": "stdout",
     "output_type": "stream",
     "text": [
      "Random Forest: 0.49846885468146107\n",
      "Linear SVC: 0.49845981644966414\n",
      "Naive Bayes: 0.35327552309705845\n"
     ]
    }
   ],
   "source": [
    "score = []\n",
    "for name, model in models.items():\n",
    "    scores = cross_val_score(model,X_train,y_train, scoring='f1_macro',cv=10,n_jobs = 1)\n",
    "    score.append(scores)\n",
    "    print(f\"{name}: {np.mean(score)}\")"
   ]
  },
  {
   "cell_type": "markdown",
   "id": "9dde6998",
   "metadata": {},
   "source": [
    "## Model Comparison (Round 1)"
   ]
  },
  {
   "cell_type": "code",
   "execution_count": 37,
   "id": "2466f6be",
   "metadata": {},
   "outputs": [],
   "source": [
    "def metricsmodel(y_test,y_predh):\n",
    "    \n",
    "    print(\"Precision = {:.2f}\".format(precision_score(y_test, y_predh)))\n",
    "    print(\"Recall = {:.2f}\".format(recall_score(y_test, y_predh)))\n",
    "    print(\"F1 Score Macro = {:.2f}\".format(f1_score(y_test, y_predh, average = 'macro')))\n",
    "    print(\"AUC = {:.2f}\".format(roc_auc_score(y_test, y_predh)))\n",
    "    print(\"-----------------------------------------------------------\")"
   ]
  },
  {
   "cell_type": "code",
   "execution_count": 38,
   "id": "3f76298c",
   "metadata": {
    "scrolled": false
   },
   "outputs": [
    {
     "name": "stdout",
     "output_type": "stream",
     "text": [
      "Random Forest\n",
      "              precision    recall  f1-score   support\n",
      "\n",
      "           0       0.99      1.00      1.00     64577\n",
      "           1       0.50      0.00      0.01       389\n",
      "\n",
      "    accuracy                           0.99     64966\n",
      "   macro avg       0.75      0.50      0.50     64966\n",
      "weighted avg       0.99      0.99      0.99     64966\n",
      "\n",
      "Precision = 0.50\n",
      "Recall = 0.00\n",
      "F1 Score Macro = 0.50\n",
      "AUC = 0.50\n",
      "-----------------------------------------------------------\n",
      "Linear SVC\n",
      "              precision    recall  f1-score   support\n",
      "\n",
      "           0       0.99      1.00      1.00     64577\n",
      "           1       0.00      0.00      0.00       389\n",
      "\n",
      "    accuracy                           0.99     64966\n",
      "   macro avg       0.50      0.50      0.50     64966\n",
      "weighted avg       0.99      0.99      0.99     64966\n",
      "\n",
      "Precision = 0.00\n",
      "Recall = 0.00\n",
      "F1 Score Macro = 0.50\n",
      "AUC = 0.50\n",
      "-----------------------------------------------------------\n",
      "Naive Bayes\n",
      "              precision    recall  f1-score   support\n",
      "\n",
      "           0       1.00      0.06      0.11     64577\n",
      "           1       0.01      0.95      0.01       389\n",
      "\n",
      "    accuracy                           0.06     64966\n",
      "   macro avg       0.50      0.51      0.06     64966\n",
      "weighted avg       0.99      0.06      0.11     64966\n",
      "\n",
      "Precision = 0.01\n",
      "Recall = 0.95\n",
      "F1 Score Macro = 0.06\n",
      "AUC = 0.51\n",
      "-----------------------------------------------------------\n"
     ]
    }
   ],
   "source": [
    "for name, model in models.items():\n",
    "    y_pred = model.predict(X_test)\n",
    "    print(name)\n",
    "    print(classification_report(y_test,y_pred))\n",
    "    metricsmodel(y_test,y_pred)"
   ]
  },
  {
   "cell_type": "markdown",
   "id": "355bf2c4",
   "metadata": {},
   "source": [
    "# Output is not good. So we have to change our plans\n",
    "We can see that the model applied is not very effective"
   ]
  },
  {
   "cell_type": "markdown",
   "id": "21e0c426",
   "metadata": {},
   "source": [
    "# New Plan! \n",
    "## Get a Sub-sample of the dataset\n",
    "**What is a sub-Sample?**\n",
    "<p>In this scenario, our subsample will be a dataframe with a 50/50 ratio of fraud and non-fraud transactions. Meaning our sub-sample will have the same amount of fraud and non fraud transactions.</p>\n",
    "    \n",
    "**Why do we create a sub-Sample?**\n",
    "<p>In the beginning of this notebook we saw that the original dataframe was heavily imbalanced! Using the original dataframe will cause the following issues:</p>\n",
    "\n",
    " **Overfitting**: \n",
    " - Our classification models will assume that in most cases there are no frauds! What we want for our model is to be certain when a fraud occurs.\n",
    " \n",
    "**Wrong Correlations**: \n",
    "- by having an imbalance dataframe we are not able to see the true correlations between the class and features."
   ]
  },
  {
   "cell_type": "markdown",
   "id": "cadd661e",
   "metadata": {},
   "source": [
    "## What do we do?"
   ]
  },
  {
   "cell_type": "markdown",
   "id": "dd08b2dd",
   "metadata": {},
   "source": [
    "**We apply SMOTE:**\n",
    "\n",
    "- **Solving the Class Imbalance**: SMOTE creates synthetic points from the minority class in order to reach an equal balance between the minority and majority class.\n",
    "- **Location of the synthetic points**: SMOTE picks the distance between the closest neighbors of the minority class, in between these distances it creates synthetic points.\n",
    "- **Final Effect**: More information is retained since we didn't have to delete any rows unlike in random undersampling.\n",
    "- **Accuracy || Time Tradeoff**: Although it is likely that SMOTE will be more accurate than random under-sampling, it will take more time to train since no rows are eliminated as previously stated.\n",
    "\n",
    "**We apply RobustScaler:**\n",
    "<p> It scales features using statistics that are robust to outliers. This method removes the median and scales the data in the range between 1st quartile and 3rd quartile. i.e., in between 25th quantile and 75th quantile range. This range is also called an Interquartile range. </p>\n",
    "<p>The median and the interquartile range are then stored so that it could be used upon future data using the transform method. If outliers are present in the dataset, then the median and the interquartile range provide better results and outperform the sample mean and variance. </p>\n",
    "<p>RobustScaler uses the interquartile range so that it is robust to outliers.</p>\n",
    "\n",
    "**We apply Hyperparameter Tuning**\n",
    "- finds the best parameters used for the model."
   ]
  },
  {
   "cell_type": "code",
   "execution_count": 39,
   "id": "a1e450dd",
   "metadata": {},
   "outputs": [],
   "source": [
    "def preprocess_inputs_2(X,y):\n",
    "    \n",
    "    #train test split \n",
    "    X_train,X_test,y_train,y_test= train_test_split(X, y, train_size = 0.8, shuffle = True, random_state = 1)\n",
    "    \n",
    "    #remember to only apply fitting and transformation after test spit\n",
    "    oversample = SMOTE()\n",
    "    X_train,y_train = oversample.fit_resample(X_train,y_train)\n",
    "    \n",
    "    # Scale X | Check robustscaler\n",
    "    robust = RobustScaler()\n",
    "    robust.fit(X_train)\n",
    "    \n",
    "    X_train = pd.DataFrame(robust.transform(X_train),index=X_train.index, columns = X_train.columns)\n",
    "    X_test = pd.DataFrame(robust.transform(X_test),index=X_test.index, columns = X_test.columns)\n",
    "    return X_train, X_test, y_train, y_test"
   ]
  },
  {
   "cell_type": "code",
   "execution_count": 40,
   "id": "9f3a1c36",
   "metadata": {},
   "outputs": [],
   "source": [
    "X_train_norm, X_test_norm, y_train_norm,y_test_norm = preprocess_inputs_2(X,y)"
   ]
  },
  {
   "cell_type": "code",
   "execution_count": 41,
   "id": "35c17ea5",
   "metadata": {
    "scrolled": true
   },
   "outputs": [
    {
     "data": {
      "text/html": [
       "<div>\n",
       "<style scoped>\n",
       "    .dataframe tbody tr th:only-of-type {\n",
       "        vertical-align: middle;\n",
       "    }\n",
       "\n",
       "    .dataframe tbody tr th {\n",
       "        vertical-align: top;\n",
       "    }\n",
       "\n",
       "    .dataframe thead th {\n",
       "        text-align: right;\n",
       "    }\n",
       "</style>\n",
       "<table border=\"1\" class=\"dataframe\">\n",
       "  <thead>\n",
       "    <tr style=\"text-align: right;\">\n",
       "      <th></th>\n",
       "      <th>EPS</th>\n",
       "      <th>Liquidity</th>\n",
       "      <th>Profitability</th>\n",
       "      <th>Productivity</th>\n",
       "      <th>Leverage Ratio</th>\n",
       "      <th>Asset Turnover</th>\n",
       "      <th>Operational Margin</th>\n",
       "      <th>Return on Equity</th>\n",
       "      <th>Market Book Ratio</th>\n",
       "      <th>Assets Growth</th>\n",
       "      <th>Sales Growth</th>\n",
       "      <th>Employee Growth</th>\n",
       "    </tr>\n",
       "  </thead>\n",
       "  <tbody>\n",
       "    <tr>\n",
       "      <th>0</th>\n",
       "      <td>0.033961</td>\n",
       "      <td>1.192034</td>\n",
       "      <td>-1.699882</td>\n",
       "      <td>-1.485047</td>\n",
       "      <td>-0.280702</td>\n",
       "      <td>-0.905983</td>\n",
       "      <td>-17.959856</td>\n",
       "      <td>0.062990</td>\n",
       "      <td>3.985442</td>\n",
       "      <td>-0.869326</td>\n",
       "      <td>-0.053680</td>\n",
       "      <td>-0.168944</td>\n",
       "    </tr>\n",
       "    <tr>\n",
       "      <th>1</th>\n",
       "      <td>2.248193</td>\n",
       "      <td>-0.233664</td>\n",
       "      <td>0.373884</td>\n",
       "      <td>0.523157</td>\n",
       "      <td>0.254386</td>\n",
       "      <td>-0.606838</td>\n",
       "      <td>0.943469</td>\n",
       "      <td>0.199468</td>\n",
       "      <td>30.656553</td>\n",
       "      <td>0.409528</td>\n",
       "      <td>0.140771</td>\n",
       "      <td>0.080217</td>\n",
       "    </tr>\n",
       "    <tr>\n",
       "      <th>2</th>\n",
       "      <td>-0.163011</td>\n",
       "      <td>0.152966</td>\n",
       "      <td>-0.133977</td>\n",
       "      <td>0.403265</td>\n",
       "      <td>-4.122807</td>\n",
       "      <td>-0.247863</td>\n",
       "      <td>0.366498</td>\n",
       "      <td>0.136478</td>\n",
       "      <td>-1.410598</td>\n",
       "      <td>1.427516</td>\n",
       "      <td>0.591988</td>\n",
       "      <td>1.063589</td>\n",
       "    </tr>\n",
       "    <tr>\n",
       "      <th>3</th>\n",
       "      <td>1.039195</td>\n",
       "      <td>0.056309</td>\n",
       "      <td>0.144137</td>\n",
       "      <td>0.523157</td>\n",
       "      <td>-28.140351</td>\n",
       "      <td>-0.042735</td>\n",
       "      <td>0.389577</td>\n",
       "      <td>0.188970</td>\n",
       "      <td>-329.249101</td>\n",
       "      <td>0.924162</td>\n",
       "      <td>0.433210</td>\n",
       "      <td>0.034692</td>\n",
       "    </tr>\n",
       "    <tr>\n",
       "      <th>4</th>\n",
       "      <td>1.555396</td>\n",
       "      <td>1.167870</td>\n",
       "      <td>0.561308</td>\n",
       "      <td>0.792916</td>\n",
       "      <td>-0.192982</td>\n",
       "      <td>0.188034</td>\n",
       "      <td>0.481893</td>\n",
       "      <td>0.220465</td>\n",
       "      <td>0.325412</td>\n",
       "      <td>0.322639</td>\n",
       "      <td>0.117615</td>\n",
       "      <td>0.103851</td>\n",
       "    </tr>\n",
       "  </tbody>\n",
       "</table>\n",
       "</div>"
      ],
      "text/plain": [
       "        EPS  Liquidity  Profitability  Productivity  Leverage Ratio  \\\n",
       "0  0.033961   1.192034      -1.699882     -1.485047       -0.280702   \n",
       "1  2.248193  -0.233664       0.373884      0.523157        0.254386   \n",
       "2 -0.163011   0.152966      -0.133977      0.403265       -4.122807   \n",
       "3  1.039195   0.056309       0.144137      0.523157      -28.140351   \n",
       "4  1.555396   1.167870       0.561308      0.792916       -0.192982   \n",
       "\n",
       "   Asset Turnover  Operational Margin  Return on Equity  Market Book Ratio  \\\n",
       "0       -0.905983          -17.959856          0.062990           3.985442   \n",
       "1       -0.606838            0.943469          0.199468          30.656553   \n",
       "2       -0.247863            0.366498          0.136478          -1.410598   \n",
       "3       -0.042735            0.389577          0.188970        -329.249101   \n",
       "4        0.188034            0.481893          0.220465           0.325412   \n",
       "\n",
       "   Assets Growth  Sales Growth  Employee Growth  \n",
       "0      -0.869326     -0.053680        -0.168944  \n",
       "1       0.409528      0.140771         0.080217  \n",
       "2       1.427516      0.591988         1.063589  \n",
       "3       0.924162      0.433210         0.034692  \n",
       "4       0.322639      0.117615         0.103851  "
      ]
     },
     "execution_count": 41,
     "metadata": {},
     "output_type": "execute_result"
    }
   ],
   "source": [
    "X_train_norm.head()"
   ]
  },
  {
   "cell_type": "code",
   "execution_count": 42,
   "id": "c491b8e4",
   "metadata": {
    "scrolled": true
   },
   "outputs": [
    {
     "data": {
      "text/html": [
       "<div>\n",
       "<style scoped>\n",
       "    .dataframe tbody tr th:only-of-type {\n",
       "        vertical-align: middle;\n",
       "    }\n",
       "\n",
       "    .dataframe tbody tr th {\n",
       "        vertical-align: top;\n",
       "    }\n",
       "\n",
       "    .dataframe thead th {\n",
       "        text-align: right;\n",
       "    }\n",
       "</style>\n",
       "<table border=\"1\" class=\"dataframe\">\n",
       "  <thead>\n",
       "    <tr style=\"text-align: right;\">\n",
       "      <th></th>\n",
       "      <th>EPS</th>\n",
       "      <th>Liquidity</th>\n",
       "      <th>Profitability</th>\n",
       "      <th>Productivity</th>\n",
       "      <th>Leverage Ratio</th>\n",
       "      <th>Asset Turnover</th>\n",
       "      <th>Operational Margin</th>\n",
       "      <th>Return on Equity</th>\n",
       "      <th>Market Book Ratio</th>\n",
       "      <th>Assets Growth</th>\n",
       "      <th>Sales Growth</th>\n",
       "      <th>Employee Growth</th>\n",
       "    </tr>\n",
       "  </thead>\n",
       "  <tbody>\n",
       "    <tr>\n",
       "      <th>count</th>\n",
       "      <td>147564.000000</td>\n",
       "      <td>147564.000000</td>\n",
       "      <td>1.475640e+05</td>\n",
       "      <td>147564.000000</td>\n",
       "      <td>147564.000000</td>\n",
       "      <td>147564.000000</td>\n",
       "      <td>1.475640e+05</td>\n",
       "      <td>147564.000000</td>\n",
       "      <td>147564.000000</td>\n",
       "      <td>1.475640e+05</td>\n",
       "      <td>1.475640e+05</td>\n",
       "      <td>147564.000000</td>\n",
       "    </tr>\n",
       "    <tr>\n",
       "      <th>mean</th>\n",
       "      <td>-2.954985</td>\n",
       "      <td>-4.439668</td>\n",
       "      <td>-1.136187e+01</td>\n",
       "      <td>-2.891780</td>\n",
       "      <td>0.890969</td>\n",
       "      <td>0.189528</td>\n",
       "      <td>-1.828699e+01</td>\n",
       "      <td>-7.643410</td>\n",
       "      <td>1.855525</td>\n",
       "      <td>2.030433e+00</td>\n",
       "      <td>4.976558e+00</td>\n",
       "      <td>1.410185</td>\n",
       "    </tr>\n",
       "    <tr>\n",
       "      <th>std</th>\n",
       "      <td>1168.157134</td>\n",
       "      <td>229.120176</td>\n",
       "      <td>3.108216e+02</td>\n",
       "      <td>80.921651</td>\n",
       "      <td>174.322024</td>\n",
       "      <td>1.555729</td>\n",
       "      <td>3.506643e+02</td>\n",
       "      <td>285.566779</td>\n",
       "      <td>159.290868</td>\n",
       "      <td>1.553884e+02</td>\n",
       "      <td>4.027078e+02</td>\n",
       "      <td>39.922808</td>\n",
       "    </tr>\n",
       "    <tr>\n",
       "      <th>min</th>\n",
       "      <td>-260817.457402</td>\n",
       "      <td>-62751.497146</td>\n",
       "      <td>-4.817526e+04</td>\n",
       "      <td>-15265.217232</td>\n",
       "      <td>-2834.842105</td>\n",
       "      <td>-2.136752</td>\n",
       "      <td>-6.964184e+04</td>\n",
       "      <td>-93303.903885</td>\n",
       "      <td>-30092.189018</td>\n",
       "      <td>-2.706956e+00</td>\n",
       "      <td>-8.083725e+01</td>\n",
       "      <td>-3.630754</td>\n",
       "    </tr>\n",
       "    <tr>\n",
       "      <th>25%</th>\n",
       "      <td>-0.544928</td>\n",
       "      <td>-0.509577</td>\n",
       "      <td>-7.349438e-01</td>\n",
       "      <td>-0.656682</td>\n",
       "      <td>-0.280702</td>\n",
       "      <td>-0.435897</td>\n",
       "      <td>-7.488956e-01</td>\n",
       "      <td>-0.811030</td>\n",
       "      <td>-0.142905</td>\n",
       "      <td>-5.455235e-01</td>\n",
       "      <td>-4.827817e-01</td>\n",
       "      <td>-0.541085</td>\n",
       "    </tr>\n",
       "    <tr>\n",
       "      <th>50%</th>\n",
       "      <td>0.000000</td>\n",
       "      <td>0.000000</td>\n",
       "      <td>1.678142e-17</td>\n",
       "      <td>0.000000</td>\n",
       "      <td>0.000000</td>\n",
       "      <td>0.000000</td>\n",
       "      <td>-8.007002e-18</td>\n",
       "      <td>0.000000</td>\n",
       "      <td>0.000000</td>\n",
       "      <td>-4.778166e-18</td>\n",
       "      <td>5.109303e-18</td>\n",
       "      <td>0.000000</td>\n",
       "    </tr>\n",
       "    <tr>\n",
       "      <th>75%</th>\n",
       "      <td>0.455072</td>\n",
       "      <td>0.490423</td>\n",
       "      <td>2.650562e-01</td>\n",
       "      <td>0.343318</td>\n",
       "      <td>0.719298</td>\n",
       "      <td>0.564103</td>\n",
       "      <td>2.511044e-01</td>\n",
       "      <td>0.188970</td>\n",
       "      <td>0.857095</td>\n",
       "      <td>4.544765e-01</td>\n",
       "      <td>5.172183e-01</td>\n",
       "      <td>0.458915</td>\n",
       "    </tr>\n",
       "    <tr>\n",
       "      <th>max</th>\n",
       "      <td>37587.052094</td>\n",
       "      <td>2.231103</td>\n",
       "      <td>3.662888e+00</td>\n",
       "      <td>3303.180141</td>\n",
       "      <td>66640.403509</td>\n",
       "      <td>235.316239</td>\n",
       "      <td>9.104794e+02</td>\n",
       "      <td>11788.563755</td>\n",
       "      <td>24304.568605</td>\n",
       "      <td>3.919857e+04</td>\n",
       "      <td>1.173570e+05</td>\n",
       "      <td>9893.073325</td>\n",
       "    </tr>\n",
       "  </tbody>\n",
       "</table>\n",
       "</div>"
      ],
      "text/plain": [
       "                 EPS      Liquidity  Profitability   Productivity  \\\n",
       "count  147564.000000  147564.000000   1.475640e+05  147564.000000   \n",
       "mean       -2.954985      -4.439668  -1.136187e+01      -2.891780   \n",
       "std      1168.157134     229.120176   3.108216e+02      80.921651   \n",
       "min   -260817.457402  -62751.497146  -4.817526e+04  -15265.217232   \n",
       "25%        -0.544928      -0.509577  -7.349438e-01      -0.656682   \n",
       "50%         0.000000       0.000000   1.678142e-17       0.000000   \n",
       "75%         0.455072       0.490423   2.650562e-01       0.343318   \n",
       "max     37587.052094       2.231103   3.662888e+00    3303.180141   \n",
       "\n",
       "       Leverage Ratio  Asset Turnover  Operational Margin  Return on Equity  \\\n",
       "count   147564.000000   147564.000000        1.475640e+05     147564.000000   \n",
       "mean         0.890969        0.189528       -1.828699e+01         -7.643410   \n",
       "std        174.322024        1.555729        3.506643e+02        285.566779   \n",
       "min      -2834.842105       -2.136752       -6.964184e+04     -93303.903885   \n",
       "25%         -0.280702       -0.435897       -7.488956e-01         -0.811030   \n",
       "50%          0.000000        0.000000       -8.007002e-18          0.000000   \n",
       "75%          0.719298        0.564103        2.511044e-01          0.188970   \n",
       "max      66640.403509      235.316239        9.104794e+02      11788.563755   \n",
       "\n",
       "       Market Book Ratio  Assets Growth  Sales Growth  Employee Growth  \n",
       "count      147564.000000   1.475640e+05  1.475640e+05    147564.000000  \n",
       "mean            1.855525   2.030433e+00  4.976558e+00         1.410185  \n",
       "std           159.290868   1.553884e+02  4.027078e+02        39.922808  \n",
       "min        -30092.189018  -2.706956e+00 -8.083725e+01        -3.630754  \n",
       "25%            -0.142905  -5.455235e-01 -4.827817e-01        -0.541085  \n",
       "50%             0.000000  -4.778166e-18  5.109303e-18         0.000000  \n",
       "75%             0.857095   4.544765e-01  5.172183e-01         0.458915  \n",
       "max         24304.568605   3.919857e+04  1.173570e+05      9893.073325  "
      ]
     },
     "execution_count": 42,
     "metadata": {},
     "output_type": "execute_result"
    }
   ],
   "source": [
    "X_train_norm.describe()"
   ]
  },
  {
   "cell_type": "code",
   "execution_count": 43,
   "id": "cc555235",
   "metadata": {},
   "outputs": [
    {
     "data": {
      "text/plain": [
       "<AxesSubplot:>"
      ]
     },
     "execution_count": 43,
     "metadata": {},
     "output_type": "execute_result"
    },
    {
     "data": {
      "image/png": "[encoded data removed]",
      "text/plain": [
       "<Figure size 432x288 with 1 Axes>"
      ]
     },
     "metadata": {
      "needs_background": "light"
     },
     "output_type": "display_data"
    }
   ],
   "source": [
    "sns.boxplot(data=X_train_norm)"
   ]
  },
  {
   "cell_type": "code",
   "execution_count": 44,
   "id": "d329f423",
   "metadata": {},
   "outputs": [
    {
     "data": {
      "text/plain": [
       "0         0\n",
       "1         0\n",
       "2         0\n",
       "3         0\n",
       "4         0\n",
       "         ..\n",
       "147559    1\n",
       "147560    1\n",
       "147561    1\n",
       "147562    1\n",
       "147563    1\n",
       "Name: BK, Length: 147564, dtype: int8"
      ]
     },
     "execution_count": 44,
     "metadata": {},
     "output_type": "execute_result"
    }
   ],
   "source": [
    "y_train_norm"
   ]
  },
  {
   "cell_type": "markdown",
   "id": "5d54e2d6",
   "metadata": {},
   "source": [
    "## Modelling Comaprison(Round 2)\n",
    "\n",
    "For the modelling techniques, we will be using 3 different hyperparameters\n",
    "- Random Forest Classifier\n",
    "- Linear SVC\n",
    "- Naive Bayes"
   ]
  },
  {
   "cell_type": "markdown",
   "id": "cbe3c159",
   "metadata": {},
   "source": [
    "### Hyperparameter Tuning\n",
    "We used HalvingGridSearchCV for hyperparameter tuning"
   ]
  },
  {
   "cell_type": "code",
   "execution_count": 45,
   "id": "43bab6fb",
   "metadata": {
    "scrolled": true
   },
   "outputs": [
    {
     "data": {
      "text/html": [
       "<style>#sk-container-id-1 {color: black;background-color: white;}#sk-container-id-1 pre{padding: 0;}#sk-container-id-1 div.sk-toggleable {background-color: white;}#sk-container-id-1 label.sk-toggleable__label {cursor: pointer;display: block;width: 100%;margin-bottom: 0;padding: 0.3em;box-sizing: border-box;text-align: center;}#sk-container-id-1 label.sk-toggleable__label-arrow:before {content: \"▸\";float: left;margin-right: 0.25em;color: #696969;}#sk-container-id-1 label.sk-toggleable__label-arrow:hover:before {color: black;}#sk-container-id-1 div.sk-estimator:hover label.sk-toggleable__label-arrow:before {color: black;}#sk-container-id-1 div.sk-toggleable__content {max-height: 0;max-width: 0;overflow: hidden;text-align: left;background-color: #f0f8ff;}#sk-container-id-1 div.sk-toggleable__content pre {margin: 0.2em;color: black;border-radius: 0.25em;background-color: #f0f8ff;}#sk-container-id-1 input.sk-toggleable__control:checked~div.sk-toggleable__content {max-height: 200px;max-width: 100%;overflow: auto;}#sk-container-id-1 input.sk-toggleable__control:checked~label.sk-toggleable__label-arrow:before {content: \"▾\";}#sk-container-id-1 div.sk-estimator input.sk-toggleable__control:checked~label.sk-toggleable__label {background-color: #d4ebff;}#sk-container-id-1 div.sk-label input.sk-toggleable__control:checked~label.sk-toggleable__label {background-color: #d4ebff;}#sk-container-id-1 input.sk-hidden--visually {border: 0;clip: rect(1px 1px 1px 1px);clip: rect(1px, 1px, 1px, 1px);height: 1px;margin: -1px;overflow: hidden;padding: 0;position: absolute;width: 1px;}#sk-container-id-1 div.sk-estimator {font-family: monospace;background-color: #f0f8ff;border: 1px dotted black;border-radius: 0.25em;box-sizing: border-box;margin-bottom: 0.5em;}#sk-container-id-1 div.sk-estimator:hover {background-color: #d4ebff;}#sk-container-id-1 div.sk-parallel-item::after {content: \"\";width: 100%;border-bottom: 1px solid gray;flex-grow: 1;}#sk-container-id-1 div.sk-label:hover label.sk-toggleable__label {background-color: #d4ebff;}#sk-container-id-1 div.sk-serial::before {content: \"\";position: absolute;border-left: 1px solid gray;box-sizing: border-box;top: 0;bottom: 0;left: 50%;z-index: 0;}#sk-container-id-1 div.sk-serial {display: flex;flex-direction: column;align-items: center;background-color: white;padding-right: 0.2em;padding-left: 0.2em;position: relative;}#sk-container-id-1 div.sk-item {position: relative;z-index: 1;}#sk-container-id-1 div.sk-parallel {display: flex;align-items: stretch;justify-content: center;background-color: white;position: relative;}#sk-container-id-1 div.sk-item::before, #sk-container-id-1 div.sk-parallel-item::before {content: \"\";position: absolute;border-left: 1px solid gray;box-sizing: border-box;top: 0;bottom: 0;left: 50%;z-index: -1;}#sk-container-id-1 div.sk-parallel-item {display: flex;flex-direction: column;z-index: 1;position: relative;background-color: white;}#sk-container-id-1 div.sk-parallel-item:first-child::after {align-self: flex-end;width: 50%;}#sk-container-id-1 div.sk-parallel-item:last-child::after {align-self: flex-start;width: 50%;}#sk-container-id-1 div.sk-parallel-item:only-child::after {width: 0;}#sk-container-id-1 div.sk-dashed-wrapped {border: 1px dashed gray;margin: 0 0.4em 0.5em 0.4em;box-sizing: border-box;padding-bottom: 0.4em;background-color: white;}#sk-container-id-1 div.sk-label label {font-family: monospace;font-weight: bold;display: inline-block;line-height: 1.2em;}#sk-container-id-1 div.sk-label-container {text-align: center;}#sk-container-id-1 div.sk-container {/* jupyter's `normalize.less` sets `[hidden] { display: none; }` but bootstrap.min.css set `[hidden] { display: none !important; }` so we also need the `!important` here to be able to override the default hidden behavior on the sphinx rendered scikit-learn.org. See: https://github.com/scikit-learn/scikit-learn/issues/21755 */display: inline-block !important;position: relative;}#sk-container-id-1 div.sk-text-repr-fallback {display: none;}</style><div id=\"sk-container-id-1\" class=\"sk-top-container\"><div class=\"sk-text-repr-fallback\"><pre>RandomForestClassifier(max_depth=15, min_samples_split=5, n_estimators=24,\n",
       "                       random_state=0)</pre><b>In a Jupyter environment, please rerun this cell to show the HTML representation or trust the notebook. <br />On GitHub, the HTML representation is unable to render, please try loading this page with nbviewer.org.</b></div><div class=\"sk-container\" hidden><div class=\"sk-item\"><div class=\"sk-estimator sk-toggleable\"><input class=\"sk-toggleable__control sk-hidden--visually\" id=\"sk-estimator-id-1\" type=\"checkbox\" checked><label for=\"sk-estimator-id-1\" class=\"sk-toggleable__label sk-toggleable__label-arrow\">RandomForestClassifier</label><div class=\"sk-toggleable__content\"><pre>RandomForestClassifier(max_depth=15, min_samples_split=5, n_estimators=24,\n",
       "                       random_state=0)</pre></div></div></div></div></div>"
      ],
      "text/plain": [
       "RandomForestClassifier(max_depth=15, min_samples_split=5, n_estimators=24,\n",
       "                       random_state=0)"
      ]
     },
     "execution_count": 45,
     "metadata": {},
     "output_type": "execute_result"
    }
   ],
   "source": [
    "param_grid = {'max_depth': [3, 5, 10,15],\n",
    "              'min_samples_split': [2, 5, 10]}\n",
    "base_estimator = RandomForestClassifier(random_state=0)\n",
    "sh = HalvingGridSearchCV(base_estimator, param_grid, cv=5,\n",
    "                         factor=2, resource='n_estimators',\n",
    "                         max_resources=30).fit(X_train_norm, y_train_norm)\n",
    "sh.best_estimator_"
   ]
  },
  {
   "cell_type": "code",
   "execution_count": 46,
   "id": "fbfc0cab",
   "metadata": {
    "scrolled": false
   },
   "outputs": [
    {
     "name": "stdout",
     "output_type": "stream",
     "text": [
      "Random Forest Classifier\n",
      "              precision    recall  f1-score   support\n",
      "\n",
      "           0       1.00      0.95      0.97     18468\n",
      "           1       0.05      0.53      0.10        94\n",
      "\n",
      "    accuracy                           0.95     18562\n",
      "   macro avg       0.53      0.74      0.54     18562\n",
      "weighted avg       0.99      0.95      0.97     18562\n",
      "\n",
      "Precision = 0.05\n",
      "Recall = 0.53\n",
      "F1 Score Macro = 0.54\n",
      "AUC = 0.74\n",
      "-----------------------------------------------------------\n"
     ]
    }
   ],
   "source": [
    "model = RandomForestClassifier(max_depth=15, min_samples_split=5, n_estimators=24,random_state=0)\n",
    "model.fit(X_train_norm,y_train_norm)\n",
    "y_pred_RFC = model.predict(X_test_norm)\n",
    "print('Random Forest Classifier')\n",
    "print(classification_report(y_test_norm,y_pred_RFC))\n",
    "metricsmodel(y_test_norm,y_pred_RFC)"
   ]
  },
  {
   "cell_type": "code",
   "execution_count": 56,
   "id": "11a7d689",
   "metadata": {
    "scrolled": true
   },
   "outputs": [
    {
     "data": {
      "image/png": "[encoded data removed]",
      "text/plain": [
       "<Figure size 432x288 with 1 Axes>"
      ]
     },
     "metadata": {
      "needs_background": "light"
     },
     "output_type": "display_data"
    }
   ],
   "source": [
    "import sklearn.metrics as metrics\n",
    "fpr, tpr, _ = metrics.roc_curve(y_test_norm,  y_pred_RFC)\n",
    "auc = metrics.roc_auc_score(y_test_norm, y_pred_RFC)\n",
    "plt.plot(fpr,tpr,label=\"data 1, auc=\"+str(auc))\n",
    "plt.legend(loc=4)\n",
    "plt.show()"
   ]
  },
  {
   "cell_type": "code",
   "execution_count": 57,
   "id": "4021278a",
   "metadata": {
    "scrolled": true
   },
   "outputs": [
    {
     "name": "stdout",
     "output_type": "stream",
     "text": [
      "GaussianNB\n",
      "              precision    recall  f1-score   support\n",
      "\n",
      "           0       0.99      0.06      0.11     18468\n",
      "           1       0.01      0.94      0.01        94\n",
      "\n",
      "    accuracy                           0.06     18562\n",
      "   macro avg       0.50      0.50      0.06     18562\n",
      "weighted avg       0.99      0.06      0.11     18562\n",
      "\n",
      "Precision = 0.01\n",
      "Recall = 0.94\n",
      "F1 Score Macro = 0.06\n",
      "AUC = 0.50\n",
      "-----------------------------------------------------------\n"
     ]
    }
   ],
   "source": [
    "model = GaussianNB()\n",
    "model.fit(X_train_norm,y_train_norm)\n",
    "y_pred_GNB = model.predict(X_test_norm)\n",
    "print('GaussianNB')\n",
    "print(classification_report(y_test_norm,y_pred_GNB))\n",
    "metricsmodel(y_test_norm,y_pred_GNB)"
   ]
  },
  {
   "cell_type": "code",
   "execution_count": 58,
   "id": "f6fe36d0",
   "metadata": {
    "scrolled": true
   },
   "outputs": [
    {
     "data": {
      "image/png": "[encoded data removed]",
      "text/plain": [
       "<Figure size 432x288 with 1 Axes>"
      ]
     },
     "metadata": {
      "needs_background": "light"
     },
     "output_type": "display_data"
    }
   ],
   "source": [
    "fpr, tpr, _ = metrics.roc_curve(y_test_norm,  y_pred_GNB)\n",
    "auc = metrics.roc_auc_score(y_test_norm, y_pred_GNB)\n",
    "plt.plot(fpr,tpr,label=\"data 1, auc=\"+str(auc))\n",
    "plt.legend(loc=4)\n",
    "plt.show()"
   ]
  },
  {
   "cell_type": "code",
   "execution_count": 59,
   "id": "73282f6a",
   "metadata": {},
   "outputs": [
    {
     "data": {
      "text/html": [
       "<style>#sk-container-id-2 {color: black;background-color: white;}#sk-container-id-2 pre{padding: 0;}#sk-container-id-2 div.sk-toggleable {background-color: white;}#sk-container-id-2 label.sk-toggleable__label {cursor: pointer;display: block;width: 100%;margin-bottom: 0;padding: 0.3em;box-sizing: border-box;text-align: center;}#sk-container-id-2 label.sk-toggleable__label-arrow:before {content: \"▸\";float: left;margin-right: 0.25em;color: #696969;}#sk-container-id-2 label.sk-toggleable__label-arrow:hover:before {color: black;}#sk-container-id-2 div.sk-estimator:hover label.sk-toggleable__label-arrow:before {color: black;}#sk-container-id-2 div.sk-toggleable__content {max-height: 0;max-width: 0;overflow: hidden;text-align: left;background-color: #f0f8ff;}#sk-container-id-2 div.sk-toggleable__content pre {margin: 0.2em;color: black;border-radius: 0.25em;background-color: #f0f8ff;}#sk-container-id-2 input.sk-toggleable__control:checked~div.sk-toggleable__content {max-height: 200px;max-width: 100%;overflow: auto;}#sk-container-id-2 input.sk-toggleable__control:checked~label.sk-toggleable__label-arrow:before {content: \"▾\";}#sk-container-id-2 div.sk-estimator input.sk-toggleable__control:checked~label.sk-toggleable__label {background-color: #d4ebff;}#sk-container-id-2 div.sk-label input.sk-toggleable__control:checked~label.sk-toggleable__label {background-color: #d4ebff;}#sk-container-id-2 input.sk-hidden--visually {border: 0;clip: rect(1px 1px 1px 1px);clip: rect(1px, 1px, 1px, 1px);height: 1px;margin: -1px;overflow: hidden;padding: 0;position: absolute;width: 1px;}#sk-container-id-2 div.sk-estimator {font-family: monospace;background-color: #f0f8ff;border: 1px dotted black;border-radius: 0.25em;box-sizing: border-box;margin-bottom: 0.5em;}#sk-container-id-2 div.sk-estimator:hover {background-color: #d4ebff;}#sk-container-id-2 div.sk-parallel-item::after {content: \"\";width: 100%;border-bottom: 1px solid gray;flex-grow: 1;}#sk-container-id-2 div.sk-label:hover label.sk-toggleable__label {background-color: #d4ebff;}#sk-container-id-2 div.sk-serial::before {content: \"\";position: absolute;border-left: 1px solid gray;box-sizing: border-box;top: 0;bottom: 0;left: 50%;z-index: 0;}#sk-container-id-2 div.sk-serial {display: flex;flex-direction: column;align-items: center;background-color: white;padding-right: 0.2em;padding-left: 0.2em;position: relative;}#sk-container-id-2 div.sk-item {position: relative;z-index: 1;}#sk-container-id-2 div.sk-parallel {display: flex;align-items: stretch;justify-content: center;background-color: white;position: relative;}#sk-container-id-2 div.sk-item::before, #sk-container-id-2 div.sk-parallel-item::before {content: \"\";position: absolute;border-left: 1px solid gray;box-sizing: border-box;top: 0;bottom: 0;left: 50%;z-index: -1;}#sk-container-id-2 div.sk-parallel-item {display: flex;flex-direction: column;z-index: 1;position: relative;background-color: white;}#sk-container-id-2 div.sk-parallel-item:first-child::after {align-self: flex-end;width: 50%;}#sk-container-id-2 div.sk-parallel-item:last-child::after {align-self: flex-start;width: 50%;}#sk-container-id-2 div.sk-parallel-item:only-child::after {width: 0;}#sk-container-id-2 div.sk-dashed-wrapped {border: 1px dashed gray;margin: 0 0.4em 0.5em 0.4em;box-sizing: border-box;padding-bottom: 0.4em;background-color: white;}#sk-container-id-2 div.sk-label label {font-family: monospace;font-weight: bold;display: inline-block;line-height: 1.2em;}#sk-container-id-2 div.sk-label-container {text-align: center;}#sk-container-id-2 div.sk-container {/* jupyter's `normalize.less` sets `[hidden] { display: none; }` but bootstrap.min.css set `[hidden] { display: none !important; }` so we also need the `!important` here to be able to override the default hidden behavior on the sphinx rendered scikit-learn.org. See: https://github.com/scikit-learn/scikit-learn/issues/21755 */display: inline-block !important;position: relative;}#sk-container-id-2 div.sk-text-repr-fallback {display: none;}</style><div id=\"sk-container-id-2\" class=\"sk-top-container\"><div class=\"sk-text-repr-fallback\"><pre>LinearSVC(C=1000)</pre><b>In a Jupyter environment, please rerun this cell to show the HTML representation or trust the notebook. <br />On GitHub, the HTML representation is unable to render, please try loading this page with nbviewer.org.</b></div><div class=\"sk-container\" hidden><div class=\"sk-item\"><div class=\"sk-estimator sk-toggleable\"><input class=\"sk-toggleable__control sk-hidden--visually\" id=\"sk-estimator-id-2\" type=\"checkbox\" checked><label for=\"sk-estimator-id-2\" class=\"sk-toggleable__label sk-toggleable__label-arrow\">LinearSVC</label><div class=\"sk-toggleable__content\"><pre>LinearSVC(C=1000)</pre></div></div></div></div></div>"
      ],
      "text/plain": [
       "LinearSVC(C=1000)"
      ]
     },
     "execution_count": 59,
     "metadata": {},
     "output_type": "execute_result"
    }
   ],
   "source": [
    "param_grid = {'C':[1,10,100,1000]}\n",
    "base_estimator = LinearSVC()\n",
    "sh = HalvingGridSearchCV(base_estimator, param_grid, cv=5,\n",
    "                         factor=2, min_resources=20).fit(X_train_norm, y_train_norm)\n",
    "sh.best_estimator_"
   ]
  },
  {
   "cell_type": "code",
   "execution_count": 60,
   "id": "d93ad375",
   "metadata": {},
   "outputs": [
    {
     "name": "stdout",
     "output_type": "stream",
     "text": [
      "SVC\n",
      "              precision    recall  f1-score   support\n",
      "\n",
      "           0       1.00      0.75      0.86     18468\n",
      "           1       0.01      0.69      0.03        94\n",
      "\n",
      "    accuracy                           0.75     18562\n",
      "   macro avg       0.51      0.72      0.44     18562\n",
      "weighted avg       0.99      0.75      0.85     18562\n",
      "\n",
      "Precision = 0.01\n",
      "Recall = 0.69\n",
      "F1 Score Macro = 0.44\n",
      "AUC = 0.72\n",
      "-----------------------------------------------------------\n"
     ]
    }
   ],
   "source": [
    "model = LinearSVC(C=1000)\n",
    "model.fit(X_train_norm,y_train_norm)\n",
    "y_pred_SVC = model.predict(X_test_norm)\n",
    "print('SVC')\n",
    "print(classification_report(y_test_norm,y_pred_SVC))\n",
    "metricsmodel(y_test_norm,y_pred_SVC)"
   ]
  },
  {
   "cell_type": "code",
   "execution_count": 61,
   "id": "afb6804c",
   "metadata": {
    "scrolled": false
   },
   "outputs": [
    {
     "data": {
      "image/png": "[encoded data removed]",
      "text/plain": [
       "<Figure size 432x288 with 1 Axes>"
      ]
     },
     "metadata": {
      "needs_background": "light"
     },
     "output_type": "display_data"
    }
   ],
   "source": [
    "fpr, tpr, _ = metrics.roc_curve(y_test_norm,  y_pred_SVC)\n",
    "auc = metrics.roc_auc_score(y_test_norm, y_pred_SVC)\n",
    "plt.plot(fpr,tpr,label=\"data 1, auc=\"+str(auc))\n",
    "plt.legend(loc=4)\n",
    "plt.show()"
   ]
  },
  {
   "cell_type": "markdown",
   "id": "e90c9289",
   "metadata": {},
   "source": [
    "# Additional Metrics"
   ]
  },
  {
   "cell_type": "markdown",
   "id": "beb3728c",
   "metadata": {},
   "source": [
    "#### Confusion Matrix:\n",
    "- Positive/Negative: Type of Class (BK) [\"No\", \"Yes\"] True/False: Correctly or Incorrectly classified by the model.\n",
    "\n",
    "- True Negatives (Top-Left Square): This is the number of correctly classifications of the \"No\" (No Bankruptcy Detected) class\n",
    "\n",
    "- False Negatives (Top-Right Square): This is the number of incorrectly classifications of the \"No\"(No Bankruptcy Detected) class.\n",
    "\n",
    "- False Positives (Bottom-Left Square): This is the number of incorrectly classifications of the \"Yes\" (Bankruptcy Detected) class\n",
    "\n",
    "- True Positives (Bottom-Right Square): This is the number of correctly classifications of the \"Yes\" (Bankruptcy Detected) class."
   ]
  },
  {
   "cell_type": "code",
   "execution_count": 62,
   "id": "688165a1",
   "metadata": {},
   "outputs": [],
   "source": [
    "def cm_plot(y_test,y_pred,model):\n",
    "    cm = confusion_matrix(y_test, y_pred,labels=model.classes_)\n",
    "    disp = ConfusionMatrixDisplay(confusion_matrix=cm, display_labels=model.classes_)\n",
    "    disp.plot()"
   ]
  },
  {
   "cell_type": "code",
   "execution_count": 63,
   "id": "caa786d2",
   "metadata": {
    "scrolled": true
   },
   "outputs": [
    {
     "name": "stdout",
     "output_type": "stream",
     "text": [
      "Random Forest Classification\n"
     ]
    },
    {
     "data": {
      "image/png": "[encoded data removed]",
      "text/plain": [
       "<Figure size 432x288 with 2 Axes>"
      ]
     },
     "metadata": {
      "needs_background": "light"
     },
     "output_type": "display_data"
    }
   ],
   "source": [
    "print('Random Forest Classification')\n",
    "cm_plot(y_test_norm,y_pred_RFC,model)"
   ]
  },
  {
   "cell_type": "code",
   "execution_count": 64,
   "id": "98d53e14",
   "metadata": {},
   "outputs": [
    {
     "name": "stdout",
     "output_type": "stream",
     "text": [
      "Naive Bayes\n"
     ]
    },
    {
     "data": {
      "image/png": "[encoded data removed]",
      "text/plain": [
       "<Figure size 432x288 with 2 Axes>"
      ]
     },
     "metadata": {
      "needs_background": "light"
     },
     "output_type": "display_data"
    }
   ],
   "source": [
    "print('Naive Bayes')\n",
    "cm_plot(y_test_norm,y_pred_GNB,model)"
   ]
  },
  {
   "cell_type": "code",
   "execution_count": 65,
   "id": "0e78dfc8",
   "metadata": {
    "scrolled": true
   },
   "outputs": [
    {
     "name": "stdout",
     "output_type": "stream",
     "text": [
      "Linear SVC\n"
     ]
    },
    {
     "data": {
      "image/png": "[encoded data removed]",
      "text/plain": [
       "<Figure size 432x288 with 2 Axes>"
      ]
     },
     "metadata": {
      "needs_background": "light"
     },
     "output_type": "display_data"
    }
   ],
   "source": [
    "print('Linear SVC')\n",
    "cm_plot(y_test_norm,y_pred_SVC,model)"
   ]
  },
  {
   "cell_type": "markdown",
   "id": "955d5fa6",
   "metadata": {},
   "source": [
    "### Short Conclusion\n",
    "- we can see that linear SVC is better at determining Bankruptcy(True Positives).\n",
    "- We can see that Random Forest is better at determining No Bankruptcy(True Negatives).\n",
    "- Naive Bayes is better suited for categorical input variables than numerical variables."
   ]
  }
 ],
 "metadata": {
  "kernelspec": {
   "display_name": "Python 3 (ipykernel)",
   "language": "python",
   "name": "python3"
  },
  "language_info": {
   "codemirror_mode": {
    "name": "ipython",
    "version": 3
   },
   "file_extension": ".py",
   "mimetype": "text/x-python",
   "name": "python",
   "nbconvert_exporter": "python",
   "pygments_lexer": "ipython3",
   "version": "3.9.12"
  }
 },
 "nbformat": 4,
 "nbformat_minor": 5
}
