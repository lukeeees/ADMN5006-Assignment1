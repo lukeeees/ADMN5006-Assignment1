{
 "cells": [
  {
   "cell_type": "markdown",
   "id": "c21dc053",
   "metadata": {},
   "source": [
    "# ADMN 5006 - Analytics for Financial Markets\n",
    "# Assignment # 1"
   ]
  },
  {
   "cell_type": "markdown",
   "id": "29528f88",
   "metadata": {},
   "source": [
    "<p>Your assignment is to design and develop machine learning models for corporate bankruptcy prediction 2 years into the future using the data provided. </p>\n",
    "   - The column “BK” in the data provided denotes whether the company goes bankrupt (indicated by 1) 2 years in the future, or not (indicated by 0). \n",
    "   - Some of the input variables included are “Assets Growth”, “Sales Growth”, “Earnings-per-share (EPS)”, “Return-on-equity (ROE)”, etc. \n",
    "   - In addition, the paper entitled: “Machine learning models and bankruptcy prediction” by Barboza et. al. is posted to the portal and is an excellent reference for you to use.  \n",
    "    \n",
    "<p>Note however that the dataset you are given is not the same as the one used in the aforementioned paper.  Therefore, don’t be alarmed if your results don’t agree with the Barboza et. al. paper.  You will need to partition your data into testing and training sets and explain your experimental set-up.</p>\n",
    "\n",
    "<p>The input and output variables are described below:</p>\n",
    "<table>\n",
    "    <tr>\n",
    "        <td>EPS</td>\n",
    "        <td>Earnings Per Share</td>\n",
    "    </tr>\n",
    "    <tr>\n",
    "        <td> Liquidity </td>\n",
    "        <td> Working Capital/Total Assets</td>\n",
    "    </tr>\n",
    "    <tr>\n",
    "        <td>Profitability</td>\n",
    "        <td>Retained Earnings/Total Assets</td>\n",
    "    </tr>\n",
    "    <tr>\n",
    "        <td>Productivity</td>\n",
    "        <td>EBIT/Total Assets</td>\n",
    "    </tr>\n",
    "    <tr>\n",
    "        <td>Leverage Ratio </td>\n",
    "        <td>(Total Long-term debt + Debt in Current liabilities)/Stockholders Equity</td>\n",
    "    </tr>\n",
    "    <tr>\n",
    "        <td>Asset Turnover</td>\n",
    "        <td>Sales/ Total Assets</td>\n",
    "    </tr>\n",
    "    <tr>\n",
    "        <td>Operational Margin</td>\n",
    "        <td> EBIT/Sales</td>\n",
    "    </tr>\n",
    "    <tr>\n",
    "        <td>Market Book Ratio</td>\n",
    "        <td>(Price Close Annual Fiscal * Common Shares Outstanding)/Book Value Per Share</td>\n",
    "    </tr>\n",
    "    <tr>\n",
    "        <td>Asset Growth</td>\n",
    "        <td>Change in assets from previous year</td>\n",
    "    </tr>\n",
    "    <tr>\n",
    "        <td>Sales Growth</td>\n",
    "        <td>Change in sales from previous year</td>\n",
    "    </tr>\n",
    "    <tr>\n",
    "        <td>Employee Growth</td>\n",
    "        <td>Change in employees from previous year</td>\n",
    "    </tr>\n",
    "    <tr>\n",
    "        <td>Tobin’s Q</td>\n",
    "        <td>(Total market value of company + liabilities)/ (Total asset or book value + liabilities)</td>\n",
    "    </tr>\n",
    "    <tr>\n",
    "        <td>BK</td>\n",
    "        <td>Company bankrupt or not</td>\n",
    "    </tr>\n",
    "</table>"
   ]
  },
  {
   "cell_type": "markdown",
   "id": "7d4d1cfa",
   "metadata": {},
   "source": [
    "## Our Goals\n",
    "   - Understand the data that was provided to us.\n",
    "   - Create a 50/50 sub-dataframe ratio of \"Bankrupt\" and \"Not Bankrupt\" (SMOTE Library)\n",
    "   - Determine the Classifiers we are going to use and decide which one has the higher accuracy and AUC\n",
    "   - Understand common mistakes made with imbalanced datasets."
   ]
  },
  {
   "cell_type": "markdown",
   "id": "70c86aac",
   "metadata": {},
   "source": [
    "## Outline:\n",
    "1. Initialization\n",
    "2. Gather Sense of our Data\n",
    "3. Level 1 Preprocessing\n",
    "4. Correcting Missing Values *Imbalanced\n",
    "5. Testing\n",
    "6. Level 2 Preprocessing\n",
    "7. Correcting Imbalanced Dataset\n",
    "8. Correcting Outliers\n",
    "9. Level 2: Testing\n"
   ]
  },
  {
   "cell_type": "markdown",
   "id": "bc20b374",
   "metadata": {},
   "source": [
    "## Initialization\n",
    "- Authors: Luke, Jad, Rita, Sreehari, Arnab, Varun\n",
    "- Data: Bankruptcy_data_Final.xlsx\n",
    "- Computing resources: Machine Learning (Random Forest, SVC, Naive Bayes)\n",
    "- Software: Jupyter Notebook"
   ]
  },
  {
   "cell_type": "markdown",
   "id": "ea4dcc16",
   "metadata": {},
   "source": [
    "## Import Libraries Required\n",
    "The libraries listed are going to help us solving the dataset"
   ]
  },
  {
   "cell_type": "code",
   "execution_count": 3,
   "id": "009326f6",
   "metadata": {},
   "outputs": [],
   "source": [
    "import pandas as pd\n",
    "import matplotlib.pyplot as plt\n",
    "%matplotlib inline\n",
    "import numpy as np\n",
    "from scipy import stats\n",
    "import seaborn as sns\n",
    "import missingno as msno\n",
    "\n",
    "#for pre-processing\n",
    "from sklearn.model_selection import train_test_split\n",
    "from sklearn.preprocessing import StandardScaler\n",
    "from sklearn.impute import KNNImputer #for missing data values\n",
    "from imblearn import under_sampling, over_sampling \n",
    "from imblearn.over_sampling import SMOTE #to normally distribute the data\n",
    "from sklearn.neighbors import LocalOutlierFactor #for outliers\n",
    "\n",
    "#computing resources\n",
    "from sklearn.ensemble import RandomForestClassifier\n",
    "from sklearn.svm import SVC\n",
    "from sklearn.naive_bayes import GaussianNB\n",
    "from sklearn.metrics import classification_report,confusion_matrix\n",
    "from sklearn.model_selection import cross_val_score"
   ]
  },
  {
   "cell_type": "markdown",
   "id": "1827afe6",
   "metadata": {},
   "source": [
    "## Import Data Source\n",
    "In this part we have to import the data source to the notebook and see the basic statistics of the report.\n",
    "\n",
    "- The data will be loaded using the pandas library which will make the excel file into a dataframe in python"
   ]
  },
  {
   "cell_type": "code",
   "execution_count": 4,
   "id": "0a7cd828",
   "metadata": {},
   "outputs": [],
   "source": [
    "#Data source: \n",
    "#Source Query location: \n",
    "path =  'Bankruptcy_data_Final.xlsx'\n",
    "# reads the data from the file - denotes as CSV, it has no header, sets column headers\n",
    "#df =  pd.read_csv(path, sep=',')\n",
    "df = pd.read_excel(path)"
   ]
  },
  {
   "cell_type": "markdown",
   "id": "8540d1c9",
   "metadata": {},
   "source": [
    "## Describe Data\n",
    "Now we apply the basic statistics of the dataset we got.\n",
    "- Column Names\n",
    "- Number of Rows and Columns\n",
    "- Data types\n",
    "- Descriptive Statistics\n",
    "- Information\n",
    "- Sample Dataset"
   ]
  },
  {
   "cell_type": "code",
   "execution_count": 4,
   "id": "8e989707",
   "metadata": {},
   "outputs": [
    {
     "data": {
      "text/plain": [
       "Index(['EPS', 'Liquidity', 'Profitability', 'Productivity', 'Leverage Ratio',\n",
       "       'Asset Turnover', 'Operational Margin', 'Return on Equity',\n",
       "       'Market Book Ratio', 'Assets Growth', 'Sales Growth', 'Employee Growth',\n",
       "       'BK'],\n",
       "      dtype='object')"
      ]
     },
     "execution_count": 4,
     "metadata": {},
     "output_type": "execute_result"
    }
   ],
   "source": [
    "df.columns"
   ]
  },
  {
   "cell_type": "code",
   "execution_count": 5,
   "id": "5100edec",
   "metadata": {},
   "outputs": [
    {
     "data": {
      "text/plain": [
       "(92872, 13)"
      ]
     },
     "execution_count": 5,
     "metadata": {},
     "output_type": "execute_result"
    }
   ],
   "source": [
    "df.shape"
   ]
  },
  {
   "cell_type": "code",
   "execution_count": 6,
   "id": "2e046774",
   "metadata": {},
   "outputs": [
    {
     "data": {
      "text/plain": [
       "EPS                   float64\n",
       "Liquidity             float64\n",
       "Profitability         float64\n",
       "Productivity          float64\n",
       "Leverage Ratio        float64\n",
       "Asset Turnover        float64\n",
       "Operational Margin    float64\n",
       "Return on Equity      float64\n",
       "Market Book Ratio     float64\n",
       "Assets Growth         float64\n",
       "Sales Growth          float64\n",
       "Employee Growth       float64\n",
       "BK                      int64\n",
       "dtype: object"
      ]
     },
     "execution_count": 6,
     "metadata": {},
     "output_type": "execute_result"
    }
   ],
   "source": [
    "df.dtypes"
   ]
  },
  {
   "cell_type": "code",
   "execution_count": 7,
   "id": "741d559c",
   "metadata": {},
   "outputs": [
    {
     "data": {
      "text/html": [
       "<div>\n",
       "<style scoped>\n",
       "    .dataframe tbody tr th:only-of-type {\n",
       "        vertical-align: middle;\n",
       "    }\n",
       "\n",
       "    .dataframe tbody tr th {\n",
       "        vertical-align: top;\n",
       "    }\n",
       "\n",
       "    .dataframe thead th {\n",
       "        text-align: right;\n",
       "    }\n",
       "</style>\n",
       "<table border=\"1\" class=\"dataframe\">\n",
       "  <thead>\n",
       "    <tr style=\"text-align: right;\">\n",
       "      <th></th>\n",
       "      <th>EPS</th>\n",
       "      <th>Liquidity</th>\n",
       "      <th>Profitability</th>\n",
       "      <th>Productivity</th>\n",
       "      <th>Leverage Ratio</th>\n",
       "      <th>Asset Turnover</th>\n",
       "      <th>Operational Margin</th>\n",
       "      <th>Return on Equity</th>\n",
       "      <th>Market Book Ratio</th>\n",
       "      <th>Assets Growth</th>\n",
       "      <th>Sales Growth</th>\n",
       "      <th>Employee Growth</th>\n",
       "      <th>BK</th>\n",
       "    </tr>\n",
       "  </thead>\n",
       "  <tbody>\n",
       "    <tr>\n",
       "      <th>count</th>\n",
       "      <td>92867.000000</td>\n",
       "      <td>92625.000000</td>\n",
       "      <td>92625.000000</td>\n",
       "      <td>92625.000000</td>\n",
       "      <td>92846.000000</td>\n",
       "      <td>92625.000000</td>\n",
       "      <td>87315.000000</td>\n",
       "      <td>92864.000000</td>\n",
       "      <td>9.281500e+04</td>\n",
       "      <td>86171.000000</td>\n",
       "      <td>86171.000000</td>\n",
       "      <td>85862.000000</td>\n",
       "      <td>92872.000000</td>\n",
       "    </tr>\n",
       "    <tr>\n",
       "      <th>mean</th>\n",
       "      <td>-14.461355</td>\n",
       "      <td>-2.631237</td>\n",
       "      <td>-29.537274</td>\n",
       "      <td>-1.222870</td>\n",
       "      <td>1.345316</td>\n",
       "      <td>1.053613</td>\n",
       "      <td>-7.915485</td>\n",
       "      <td>-2.112382</td>\n",
       "      <td>3.585063e+02</td>\n",
       "      <td>1.294075</td>\n",
       "      <td>1.900108</td>\n",
       "      <td>0.343322</td>\n",
       "      <td>0.006008</td>\n",
       "    </tr>\n",
       "    <tr>\n",
       "      <th>std</th>\n",
       "      <td>2195.467288</td>\n",
       "      <td>121.610921</td>\n",
       "      <td>677.230667</td>\n",
       "      <td>35.885556</td>\n",
       "      <td>253.038093</td>\n",
       "      <td>2.115945</td>\n",
       "      <td>214.460079</td>\n",
       "      <td>352.596902</td>\n",
       "      <td>2.606364e+04</td>\n",
       "      <td>73.769522</td>\n",
       "      <td>177.632638</td>\n",
       "      <td>14.074156</td>\n",
       "      <td>0.077280</td>\n",
       "    </tr>\n",
       "    <tr>\n",
       "      <th>min</th>\n",
       "      <td>-384000.000000</td>\n",
       "      <td>-25968.520000</td>\n",
       "      <td>-79682.000000</td>\n",
       "      <td>-5093.000000</td>\n",
       "      <td>-7811.000000</td>\n",
       "      <td>-31.590000</td>\n",
       "      <td>-30175.700000</td>\n",
       "      <td>-88875.140000</td>\n",
       "      <td>-3.151500e+06</td>\n",
       "      <td>-1.000000</td>\n",
       "      <td>-27.431034</td>\n",
       "      <td>-1.000000</td>\n",
       "      <td>0.000000</td>\n",
       "    </tr>\n",
       "    <tr>\n",
       "      <th>25%</th>\n",
       "      <td>-0.140000</td>\n",
       "      <td>0.020000</td>\n",
       "      <td>-0.640000</td>\n",
       "      <td>-0.060000</td>\n",
       "      <td>0.000000</td>\n",
       "      <td>0.390000</td>\n",
       "      <td>-0.030000</td>\n",
       "      <td>-0.080000</td>\n",
       "      <td>1.120000e+01</td>\n",
       "      <td>-0.052596</td>\n",
       "      <td>-0.033522</td>\n",
       "      <td>-0.048107</td>\n",
       "      <td>0.000000</td>\n",
       "    </tr>\n",
       "    <tr>\n",
       "      <th>50%</th>\n",
       "      <td>0.330000</td>\n",
       "      <td>0.190000</td>\n",
       "      <td>0.070000</td>\n",
       "      <td>0.060000</td>\n",
       "      <td>0.280000</td>\n",
       "      <td>0.830000</td>\n",
       "      <td>0.060000</td>\n",
       "      <td>0.030000</td>\n",
       "      <td>5.828000e+01</td>\n",
       "      <td>0.051844</td>\n",
       "      <td>0.059733</td>\n",
       "      <td>0.017241</td>\n",
       "      <td>0.000000</td>\n",
       "    </tr>\n",
       "    <tr>\n",
       "      <th>75%</th>\n",
       "      <td>1.530000</td>\n",
       "      <td>0.400000</td>\n",
       "      <td>0.310000</td>\n",
       "      <td>0.110000</td>\n",
       "      <td>0.820000</td>\n",
       "      <td>1.390000</td>\n",
       "      <td>0.140000</td>\n",
       "      <td>0.070000</td>\n",
       "      <td>2.401400e+02</td>\n",
       "      <td>0.192062</td>\n",
       "      <td>0.204231</td>\n",
       "      <td>0.130944</td>\n",
       "      <td>0.000000</td>\n",
       "    </tr>\n",
       "    <tr>\n",
       "      <th>max</th>\n",
       "      <td>55339.000000</td>\n",
       "      <td>1.000000</td>\n",
       "      <td>140.580000</td>\n",
       "      <td>1102.000000</td>\n",
       "      <td>75970.380000</td>\n",
       "      <td>276.380000</td>\n",
       "      <td>394.470000</td>\n",
       "      <td>39500.000000</td>\n",
       "      <td>3.455419e+06</td>\n",
       "      <td>14231.000000</td>\n",
       "      <td>39850.000000</td>\n",
       "      <td>2699.000000</td>\n",
       "      <td>1.000000</td>\n",
       "    </tr>\n",
       "  </tbody>\n",
       "</table>\n",
       "</div>"
      ],
      "text/plain": [
       "                 EPS     Liquidity  Profitability  Productivity  \\\n",
       "count   92867.000000  92625.000000   92625.000000  92625.000000   \n",
       "mean      -14.461355     -2.631237     -29.537274     -1.222870   \n",
       "std      2195.467288    121.610921     677.230667     35.885556   \n",
       "min   -384000.000000 -25968.520000  -79682.000000  -5093.000000   \n",
       "25%        -0.140000      0.020000      -0.640000     -0.060000   \n",
       "50%         0.330000      0.190000       0.070000      0.060000   \n",
       "75%         1.530000      0.400000       0.310000      0.110000   \n",
       "max     55339.000000      1.000000     140.580000   1102.000000   \n",
       "\n",
       "       Leverage Ratio  Asset Turnover  Operational Margin  Return on Equity  \\\n",
       "count    92846.000000    92625.000000        87315.000000      92864.000000   \n",
       "mean         1.345316        1.053613           -7.915485         -2.112382   \n",
       "std        253.038093        2.115945          214.460079        352.596902   \n",
       "min      -7811.000000      -31.590000       -30175.700000     -88875.140000   \n",
       "25%          0.000000        0.390000           -0.030000         -0.080000   \n",
       "50%          0.280000        0.830000            0.060000          0.030000   \n",
       "75%          0.820000        1.390000            0.140000          0.070000   \n",
       "max      75970.380000      276.380000          394.470000      39500.000000   \n",
       "\n",
       "       Market Book Ratio  Assets Growth  Sales Growth  Employee Growth  \\\n",
       "count       9.281500e+04   86171.000000  86171.000000     85862.000000   \n",
       "mean        3.585063e+02       1.294075      1.900108         0.343322   \n",
       "std         2.606364e+04      73.769522    177.632638        14.074156   \n",
       "min        -3.151500e+06      -1.000000    -27.431034        -1.000000   \n",
       "25%         1.120000e+01      -0.052596     -0.033522        -0.048107   \n",
       "50%         5.828000e+01       0.051844      0.059733         0.017241   \n",
       "75%         2.401400e+02       0.192062      0.204231         0.130944   \n",
       "max         3.455419e+06   14231.000000  39850.000000      2699.000000   \n",
       "\n",
       "                 BK  \n",
       "count  92872.000000  \n",
       "mean       0.006008  \n",
       "std        0.077280  \n",
       "min        0.000000  \n",
       "25%        0.000000  \n",
       "50%        0.000000  \n",
       "75%        0.000000  \n",
       "max        1.000000  "
      ]
     },
     "execution_count": 7,
     "metadata": {},
     "output_type": "execute_result"
    }
   ],
   "source": [
    "df.describe()"
   ]
  },
  {
   "cell_type": "code",
   "execution_count": 8,
   "id": "df5755c8",
   "metadata": {
    "scrolled": true
   },
   "outputs": [
    {
     "name": "stdout",
     "output_type": "stream",
     "text": [
      "<class 'pandas.core.frame.DataFrame'>\n",
      "RangeIndex: 92872 entries, 0 to 92871\n",
      "Data columns (total 13 columns):\n",
      " #   Column              Non-Null Count  Dtype  \n",
      "---  ------              --------------  -----  \n",
      " 0   EPS                 92867 non-null  float64\n",
      " 1   Liquidity           92625 non-null  float64\n",
      " 2   Profitability       92625 non-null  float64\n",
      " 3   Productivity        92625 non-null  float64\n",
      " 4   Leverage Ratio      92846 non-null  float64\n",
      " 5   Asset Turnover      92625 non-null  float64\n",
      " 6   Operational Margin  87315 non-null  float64\n",
      " 7   Return on Equity    92864 non-null  float64\n",
      " 8   Market Book Ratio   92815 non-null  float64\n",
      " 9   Assets Growth       86171 non-null  float64\n",
      " 10  Sales Growth        86171 non-null  float64\n",
      " 11  Employee Growth     85862 non-null  float64\n",
      " 12  BK                  92872 non-null  int64  \n",
      "dtypes: float64(12), int64(1)\n",
      "memory usage: 9.2 MB\n"
     ]
    }
   ],
   "source": [
    "df.info()"
   ]
  },
  {
   "cell_type": "code",
   "execution_count": 9,
   "id": "d38eb822",
   "metadata": {},
   "outputs": [
    {
     "data": {
      "text/html": [
       "<div>\n",
       "<style scoped>\n",
       "    .dataframe tbody tr th:only-of-type {\n",
       "        vertical-align: middle;\n",
       "    }\n",
       "\n",
       "    .dataframe tbody tr th {\n",
       "        vertical-align: top;\n",
       "    }\n",
       "\n",
       "    .dataframe thead th {\n",
       "        text-align: right;\n",
       "    }\n",
       "</style>\n",
       "<table border=\"1\" class=\"dataframe\">\n",
       "  <thead>\n",
       "    <tr style=\"text-align: right;\">\n",
       "      <th></th>\n",
       "      <th>EPS</th>\n",
       "      <th>Liquidity</th>\n",
       "      <th>Profitability</th>\n",
       "      <th>Productivity</th>\n",
       "      <th>Leverage Ratio</th>\n",
       "      <th>Asset Turnover</th>\n",
       "      <th>Operational Margin</th>\n",
       "      <th>Return on Equity</th>\n",
       "      <th>Market Book Ratio</th>\n",
       "      <th>Assets Growth</th>\n",
       "      <th>Sales Growth</th>\n",
       "      <th>Employee Growth</th>\n",
       "      <th>BK</th>\n",
       "    </tr>\n",
       "  </thead>\n",
       "  <tbody>\n",
       "    <tr>\n",
       "      <th>0</th>\n",
       "      <td>1.58</td>\n",
       "      <td>0.36</td>\n",
       "      <td>0.18</td>\n",
       "      <td>0.13</td>\n",
       "      <td>1.33</td>\n",
       "      <td>1.77</td>\n",
       "      <td>0.07</td>\n",
       "      <td>0.15</td>\n",
       "      <td>2.22</td>\n",
       "      <td>NaN</td>\n",
       "      <td>NaN</td>\n",
       "      <td>NaN</td>\n",
       "      <td>0</td>\n",
       "    </tr>\n",
       "    <tr>\n",
       "      <th>1</th>\n",
       "      <td>1.41</td>\n",
       "      <td>0.36</td>\n",
       "      <td>0.19</td>\n",
       "      <td>0.12</td>\n",
       "      <td>1.31</td>\n",
       "      <td>1.59</td>\n",
       "      <td>0.07</td>\n",
       "      <td>0.13</td>\n",
       "      <td>2.41</td>\n",
       "      <td>0.126319</td>\n",
       "      <td>0.014278</td>\n",
       "      <td>0.040179</td>\n",
       "      <td>0</td>\n",
       "    </tr>\n",
       "    <tr>\n",
       "      <th>2</th>\n",
       "      <td>0.31</td>\n",
       "      <td>0.32</td>\n",
       "      <td>0.13</td>\n",
       "      <td>0.08</td>\n",
       "      <td>1.03</td>\n",
       "      <td>1.55</td>\n",
       "      <td>0.05</td>\n",
       "      <td>0.04</td>\n",
       "      <td>2.56</td>\n",
       "      <td>0.368077</td>\n",
       "      <td>0.327909</td>\n",
       "      <td>0.566524</td>\n",
       "      <td>0</td>\n",
       "    </tr>\n",
       "    <tr>\n",
       "      <th>3</th>\n",
       "      <td>0.71</td>\n",
       "      <td>0.28</td>\n",
       "      <td>0.14</td>\n",
       "      <td>0.08</td>\n",
       "      <td>0.80</td>\n",
       "      <td>1.39</td>\n",
       "      <td>0.06</td>\n",
       "      <td>0.05</td>\n",
       "      <td>5.28</td>\n",
       "      <td>-0.020809</td>\n",
       "      <td>-0.118904</td>\n",
       "      <td>-0.095890</td>\n",
       "      <td>0</td>\n",
       "    </tr>\n",
       "    <tr>\n",
       "      <th>4</th>\n",
       "      <td>0.75</td>\n",
       "      <td>0.41</td>\n",
       "      <td>0.13</td>\n",
       "      <td>0.08</td>\n",
       "      <td>0.20</td>\n",
       "      <td>1.30</td>\n",
       "      <td>0.06</td>\n",
       "      <td>0.04</td>\n",
       "      <td>8.68</td>\n",
       "      <td>0.233089</td>\n",
       "      <td>0.146807</td>\n",
       "      <td>0.053030</td>\n",
       "      <td>0</td>\n",
       "    </tr>\n",
       "  </tbody>\n",
       "</table>\n",
       "</div>"
      ],
      "text/plain": [
       "    EPS  Liquidity  Profitability  Productivity  Leverage Ratio  \\\n",
       "0  1.58       0.36           0.18          0.13            1.33   \n",
       "1  1.41       0.36           0.19          0.12            1.31   \n",
       "2  0.31       0.32           0.13          0.08            1.03   \n",
       "3  0.71       0.28           0.14          0.08            0.80   \n",
       "4  0.75       0.41           0.13          0.08            0.20   \n",
       "\n",
       "   Asset Turnover  Operational Margin  Return on Equity  Market Book Ratio  \\\n",
       "0            1.77                0.07              0.15               2.22   \n",
       "1            1.59                0.07              0.13               2.41   \n",
       "2            1.55                0.05              0.04               2.56   \n",
       "3            1.39                0.06              0.05               5.28   \n",
       "4            1.30                0.06              0.04               8.68   \n",
       "\n",
       "   Assets Growth  Sales Growth  Employee Growth  BK  \n",
       "0            NaN           NaN              NaN   0  \n",
       "1       0.126319      0.014278         0.040179   0  \n",
       "2       0.368077      0.327909         0.566524   0  \n",
       "3      -0.020809     -0.118904        -0.095890   0  \n",
       "4       0.233089      0.146807         0.053030   0  "
      ]
     },
     "execution_count": 9,
     "metadata": {},
     "output_type": "execute_result"
    }
   ],
   "source": [
    "df.head()"
   ]
  },
  {
   "cell_type": "markdown",
   "id": "05e65bc4",
   "metadata": {},
   "source": [
    "## Data summary\n",
    " - Columns: \n",
    "        'EPS', 'Liquidity', 'Profitability', 'Productivity', 'Leverage Ratio',\n",
    "       'Asset Turnover', 'Operational Margin', 'Return on Equity',\n",
    "       'Market Book Ratio', 'Assets Growth', 'Sales Growth', 'Employee Growth',\n",
    "       'BK'\n",
    " - Shape:\n",
    "     (92872, 13)\n",
    " \n",
    " <p> Looking at the data there are 92872 rows and 13 columns in total </p>\n",
    "       "
   ]
  },
  {
   "cell_type": "markdown",
   "id": "7a032125",
   "metadata": {},
   "source": [
    "## Check Data Validity\n",
    "<p> To check our data validity; we need to check if there are missing values in the table, check of uniqueness, check for normality, and also check for extreme outliers in the dataset that could distort the algorithm </p>"
   ]
  },
  {
   "cell_type": "code",
   "execution_count": 12,
   "id": "80279384",
   "metadata": {
    "scrolled": false
   },
   "outputs": [
    {
     "data": {
      "text/plain": [
       "Text(0.5, 1.0, 'Distribution of Missing values')"
      ]
     },
     "execution_count": 12,
     "metadata": {},
     "output_type": "execute_result"
    },
    {
     "data": {
      "image/png": "[encoded data removed]",
      "text/plain": [
       "<Figure size 1800x720 with 2 Axes>"
      ]
     },
     "metadata": {
      "needs_background": "light"
     },
     "output_type": "display_data"
    }
   ],
   "source": [
    "msno.matrix(df)\n",
    "plt.title('Distribution of Missing values',fontsize = 20)"
   ]
  },
  {
   "cell_type": "markdown",
   "id": "34cf9d43",
   "metadata": {},
   "source": [
    "As much as we want to delete the data from the assets growth, sales growth, employee growth it does not satistfy the condition of deleting the column if it is not greater than 50% of null values"
   ]
  },
  {
   "cell_type": "code",
   "execution_count": 10,
   "id": "06f2ec8e",
   "metadata": {},
   "outputs": [],
   "source": [
    "#Lets start with missing values\n",
    "def missing_values_table(df):\n",
    "    #Code Description: Attempt to show the missing values in the table\n",
    "    #Input: Dataframe\n",
    "    #Output: missing value table rendered columns\n",
    "        mis_val = df.isnull().sum()\n",
    "        mis_val_percent = 100 * df.isnull().sum() / len(df)\n",
    "        mis_val_table = pd.concat([mis_val, mis_val_percent], axis=1)\n",
    "        mis_val_table_ren_columns = mis_val_table.rename(\n",
    "        columns = {0 : 'Missing Values', 1 : '% of Total Values'})\n",
    "        mis_val_table_ren_columns = mis_val_table_ren_columns[\n",
    "            mis_val_table_ren_columns.iloc[:,1] != 0].sort_values(\n",
    "        '% of Total Values', ascending=False).round(1)\n",
    "        print (\"Your selected dataframe has \" + str(df.shape[1]) + \" columns.\\n\"      \n",
    "            \"There are \" + str(mis_val_table_ren_columns.shape[0]) +\n",
    "              \" columns that have missing values.\")\n",
    "        return mis_val_table_ren_columns"
   ]
  },
  {
   "cell_type": "code",
   "execution_count": 11,
   "id": "c8822654",
   "metadata": {},
   "outputs": [
    {
     "name": "stdout",
     "output_type": "stream",
     "text": [
      "Your selected dataframe has 13 columns.\n",
      "There are 12 columns that have missing values.\n"
     ]
    },
    {
     "data": {
      "text/html": [
       "<div>\n",
       "<style scoped>\n",
       "    .dataframe tbody tr th:only-of-type {\n",
       "        vertical-align: middle;\n",
       "    }\n",
       "\n",
       "    .dataframe tbody tr th {\n",
       "        vertical-align: top;\n",
       "    }\n",
       "\n",
       "    .dataframe thead th {\n",
       "        text-align: right;\n",
       "    }\n",
       "</style>\n",
       "<table border=\"1\" class=\"dataframe\">\n",
       "  <thead>\n",
       "    <tr style=\"text-align: right;\">\n",
       "      <th></th>\n",
       "      <th>Missing Values</th>\n",
       "      <th>% of Total Values</th>\n",
       "    </tr>\n",
       "  </thead>\n",
       "  <tbody>\n",
       "    <tr>\n",
       "      <th>Employee Growth</th>\n",
       "      <td>7010</td>\n",
       "      <td>7.5</td>\n",
       "    </tr>\n",
       "    <tr>\n",
       "      <th>Assets Growth</th>\n",
       "      <td>6701</td>\n",
       "      <td>7.2</td>\n",
       "    </tr>\n",
       "    <tr>\n",
       "      <th>Sales Growth</th>\n",
       "      <td>6701</td>\n",
       "      <td>7.2</td>\n",
       "    </tr>\n",
       "    <tr>\n",
       "      <th>Operational Margin</th>\n",
       "      <td>5557</td>\n",
       "      <td>6.0</td>\n",
       "    </tr>\n",
       "    <tr>\n",
       "      <th>Liquidity</th>\n",
       "      <td>247</td>\n",
       "      <td>0.3</td>\n",
       "    </tr>\n",
       "    <tr>\n",
       "      <th>Profitability</th>\n",
       "      <td>247</td>\n",
       "      <td>0.3</td>\n",
       "    </tr>\n",
       "    <tr>\n",
       "      <th>Productivity</th>\n",
       "      <td>247</td>\n",
       "      <td>0.3</td>\n",
       "    </tr>\n",
       "    <tr>\n",
       "      <th>Asset Turnover</th>\n",
       "      <td>247</td>\n",
       "      <td>0.3</td>\n",
       "    </tr>\n",
       "    <tr>\n",
       "      <th>Market Book Ratio</th>\n",
       "      <td>57</td>\n",
       "      <td>0.1</td>\n",
       "    </tr>\n",
       "    <tr>\n",
       "      <th>Leverage Ratio</th>\n",
       "      <td>26</td>\n",
       "      <td>0.0</td>\n",
       "    </tr>\n",
       "    <tr>\n",
       "      <th>Return on Equity</th>\n",
       "      <td>8</td>\n",
       "      <td>0.0</td>\n",
       "    </tr>\n",
       "    <tr>\n",
       "      <th>EPS</th>\n",
       "      <td>5</td>\n",
       "      <td>0.0</td>\n",
       "    </tr>\n",
       "  </tbody>\n",
       "</table>\n",
       "</div>"
      ],
      "text/plain": [
       "                    Missing Values  % of Total Values\n",
       "Employee Growth               7010                7.5\n",
       "Assets Growth                 6701                7.2\n",
       "Sales Growth                  6701                7.2\n",
       "Operational Margin            5557                6.0\n",
       "Liquidity                      247                0.3\n",
       "Profitability                  247                0.3\n",
       "Productivity                   247                0.3\n",
       "Asset Turnover                 247                0.3\n",
       "Market Book Ratio               57                0.1\n",
       "Leverage Ratio                  26                0.0\n",
       "Return on Equity                 8                0.0\n",
       "EPS                              5                0.0"
      ]
     },
     "execution_count": 11,
     "metadata": {},
     "output_type": "execute_result"
    }
   ],
   "source": [
    "missing_values_table(df)"
   ]
  },
  {
   "cell_type": "markdown",
   "id": "12b7121c",
   "metadata": {},
   "source": [
    "If the columns have more than 50% missing data then we will drop the column but looking at the percentages we don't need to drop any of the columns"
   ]
  },
  {
   "cell_type": "code",
   "execution_count": 14,
   "id": "ed5e446d",
   "metadata": {},
   "outputs": [
    {
     "data": {
      "text/plain": [
       "EPS                    6987\n",
       "Liquidity              6108\n",
       "Profitability          9363\n",
       "Productivity           6075\n",
       "Leverage Ratio         6936\n",
       "Asset Turnover         5051\n",
       "Operational Margin     7485\n",
       "Return on Equity       5750\n",
       "Market Book Ratio     50336\n",
       "Assets Growth         85604\n",
       "Sales Growth          80350\n",
       "Employee Growth       49532\n",
       "BK                        2\n",
       "dtype: int64"
      ]
     },
     "execution_count": 14,
     "metadata": {},
     "output_type": "execute_result"
    }
   ],
   "source": [
    "#Let's check for unique values in the columns\n",
    "df.nunique()"
   ]
  },
  {
   "cell_type": "markdown",
   "id": "e17806fe",
   "metadata": {},
   "source": [
    "Looking at the dataset all the columns have more than 2 distinction. No need to drop any columns here"
   ]
  },
  {
   "cell_type": "code",
   "execution_count": 19,
   "id": "565fab40",
   "metadata": {},
   "outputs": [],
   "source": [
    "#Now lets delete rows which has more than 60% missing data\n",
    "limit_per = int(len(df.columns) * .6)\n",
    "df = df.dropna(thresh = limit_per)"
   ]
  },
  {
   "cell_type": "code",
   "execution_count": 20,
   "id": "1bb1f418",
   "metadata": {
    "scrolled": true
   },
   "outputs": [
    {
     "data": {
      "text/plain": [
       "(92808, 13)"
      ]
     },
     "execution_count": 20,
     "metadata": {},
     "output_type": "execute_result"
    }
   ],
   "source": [
    "df.shape"
   ]
  },
  {
   "cell_type": "markdown",
   "id": "ab74f231",
   "metadata": {},
   "source": [
    "From 92872 rows, we have deleted 64 rows that has more than 7 columns that has no value in it."
   ]
  },
  {
   "cell_type": "markdown",
   "id": "221f4a09",
   "metadata": {},
   "source": [
    "### Correlation between the dataframe"
   ]
  },
  {
   "cell_type": "code",
   "execution_count": 6,
   "id": "1d317dd9",
   "metadata": {
    "scrolled": true
   },
   "outputs": [
    {
     "data": {
      "text/html": [
       "<div>\n",
       "<style scoped>\n",
       "    .dataframe tbody tr th:only-of-type {\n",
       "        vertical-align: middle;\n",
       "    }\n",
       "\n",
       "    .dataframe tbody tr th {\n",
       "        vertical-align: top;\n",
       "    }\n",
       "\n",
       "    .dataframe thead th {\n",
       "        text-align: right;\n",
       "    }\n",
       "</style>\n",
       "<table border=\"1\" class=\"dataframe\">\n",
       "  <thead>\n",
       "    <tr style=\"text-align: right;\">\n",
       "      <th></th>\n",
       "      <th>EPS</th>\n",
       "      <th>Liquidity</th>\n",
       "      <th>Profitability</th>\n",
       "      <th>Productivity</th>\n",
       "      <th>Leverage Ratio</th>\n",
       "      <th>Asset Turnover</th>\n",
       "      <th>Operational Margin</th>\n",
       "      <th>Return on Equity</th>\n",
       "      <th>Market Book Ratio</th>\n",
       "      <th>Assets Growth</th>\n",
       "      <th>Sales Growth</th>\n",
       "      <th>Employee Growth</th>\n",
       "      <th>BK</th>\n",
       "    </tr>\n",
       "  </thead>\n",
       "  <tbody>\n",
       "    <tr>\n",
       "      <th>EPS</th>\n",
       "      <td>1.000000</td>\n",
       "      <td>-0.000129</td>\n",
       "      <td>-0.000282</td>\n",
       "      <td>-0.000212</td>\n",
       "      <td>0.000025</td>\n",
       "      <td>0.000971</td>\n",
       "      <td>-0.000226</td>\n",
       "      <td>0.248225</td>\n",
       "      <td>0.000107</td>\n",
       "      <td>0.000079</td>\n",
       "      <td>0.000073</td>\n",
       "      <td>0.000179</td>\n",
       "      <td>-0.007229</td>\n",
       "    </tr>\n",
       "    <tr>\n",
       "      <th>Liquidity</th>\n",
       "      <td>-0.000129</td>\n",
       "      <td>1.000000</td>\n",
       "      <td>0.470622</td>\n",
       "      <td>0.226976</td>\n",
       "      <td>0.000147</td>\n",
       "      <td>-0.035377</td>\n",
       "      <td>0.004070</td>\n",
       "      <td>0.582335</td>\n",
       "      <td>0.001464</td>\n",
       "      <td>0.000499</td>\n",
       "      <td>0.000256</td>\n",
       "      <td>0.000829</td>\n",
       "      <td>0.001193</td>\n",
       "    </tr>\n",
       "    <tr>\n",
       "      <th>Profitability</th>\n",
       "      <td>-0.000282</td>\n",
       "      <td>0.470622</td>\n",
       "      <td>1.000000</td>\n",
       "      <td>0.434535</td>\n",
       "      <td>0.000280</td>\n",
       "      <td>-0.039318</td>\n",
       "      <td>0.019111</td>\n",
       "      <td>0.106389</td>\n",
       "      <td>-0.003982</td>\n",
       "      <td>0.000877</td>\n",
       "      <td>0.000469</td>\n",
       "      <td>0.001376</td>\n",
       "      <td>0.002454</td>\n",
       "    </tr>\n",
       "    <tr>\n",
       "      <th>Productivity</th>\n",
       "      <td>-0.000212</td>\n",
       "      <td>0.226976</td>\n",
       "      <td>0.434535</td>\n",
       "      <td>1.000000</td>\n",
       "      <td>0.000225</td>\n",
       "      <td>-0.021524</td>\n",
       "      <td>0.085273</td>\n",
       "      <td>0.001009</td>\n",
       "      <td>0.006186</td>\n",
       "      <td>0.000495</td>\n",
       "      <td>0.000300</td>\n",
       "      <td>0.001074</td>\n",
       "      <td>0.001346</td>\n",
       "    </tr>\n",
       "    <tr>\n",
       "      <th>Leverage Ratio</th>\n",
       "      <td>0.000025</td>\n",
       "      <td>0.000147</td>\n",
       "      <td>0.000280</td>\n",
       "      <td>0.000225</td>\n",
       "      <td>1.000000</td>\n",
       "      <td>-0.001203</td>\n",
       "      <td>0.000293</td>\n",
       "      <td>-0.000012</td>\n",
       "      <td>0.030031</td>\n",
       "      <td>-0.000093</td>\n",
       "      <td>0.000098</td>\n",
       "      <td>-0.000062</td>\n",
       "      <td>-0.000148</td>\n",
       "    </tr>\n",
       "    <tr>\n",
       "      <th>Asset Turnover</th>\n",
       "      <td>0.000971</td>\n",
       "      <td>-0.035377</td>\n",
       "      <td>-0.039318</td>\n",
       "      <td>-0.021524</td>\n",
       "      <td>-0.001203</td>\n",
       "      <td>1.000000</td>\n",
       "      <td>0.018420</td>\n",
       "      <td>-0.005039</td>\n",
       "      <td>-0.006375</td>\n",
       "      <td>-0.004082</td>\n",
       "      <td>-0.000050</td>\n",
       "      <td>-0.003182</td>\n",
       "      <td>0.015191</td>\n",
       "    </tr>\n",
       "    <tr>\n",
       "      <th>Operational Margin</th>\n",
       "      <td>-0.000226</td>\n",
       "      <td>0.004070</td>\n",
       "      <td>0.019111</td>\n",
       "      <td>0.085273</td>\n",
       "      <td>0.000293</td>\n",
       "      <td>0.018420</td>\n",
       "      <td>1.000000</td>\n",
       "      <td>0.002026</td>\n",
       "      <td>0.007173</td>\n",
       "      <td>-0.001166</td>\n",
       "      <td>0.000397</td>\n",
       "      <td>0.000092</td>\n",
       "      <td>0.001756</td>\n",
       "    </tr>\n",
       "    <tr>\n",
       "      <th>Return on Equity</th>\n",
       "      <td>0.248225</td>\n",
       "      <td>0.582335</td>\n",
       "      <td>0.106389</td>\n",
       "      <td>0.001009</td>\n",
       "      <td>-0.000012</td>\n",
       "      <td>-0.005039</td>\n",
       "      <td>0.002026</td>\n",
       "      <td>1.000000</td>\n",
       "      <td>0.000082</td>\n",
       "      <td>0.000111</td>\n",
       "      <td>0.000061</td>\n",
       "      <td>0.000155</td>\n",
       "      <td>-0.006530</td>\n",
       "    </tr>\n",
       "    <tr>\n",
       "      <th>Market Book Ratio</th>\n",
       "      <td>0.000107</td>\n",
       "      <td>0.001464</td>\n",
       "      <td>-0.003982</td>\n",
       "      <td>0.006186</td>\n",
       "      <td>0.030031</td>\n",
       "      <td>-0.006375</td>\n",
       "      <td>0.007173</td>\n",
       "      <td>0.000082</td>\n",
       "      <td>1.000000</td>\n",
       "      <td>-0.000682</td>\n",
       "      <td>-0.000928</td>\n",
       "      <td>0.000175</td>\n",
       "      <td>-0.000882</td>\n",
       "    </tr>\n",
       "    <tr>\n",
       "      <th>Assets Growth</th>\n",
       "      <td>0.000079</td>\n",
       "      <td>0.000499</td>\n",
       "      <td>0.000877</td>\n",
       "      <td>0.000495</td>\n",
       "      <td>-0.000093</td>\n",
       "      <td>-0.004082</td>\n",
       "      <td>-0.001166</td>\n",
       "      <td>0.000111</td>\n",
       "      <td>-0.000682</td>\n",
       "      <td>1.000000</td>\n",
       "      <td>0.073809</td>\n",
       "      <td>0.012894</td>\n",
       "      <td>-0.001393</td>\n",
       "    </tr>\n",
       "    <tr>\n",
       "      <th>Sales Growth</th>\n",
       "      <td>0.000073</td>\n",
       "      <td>0.000256</td>\n",
       "      <td>0.000469</td>\n",
       "      <td>0.000300</td>\n",
       "      <td>0.000098</td>\n",
       "      <td>-0.000050</td>\n",
       "      <td>0.000397</td>\n",
       "      <td>0.000061</td>\n",
       "      <td>-0.000928</td>\n",
       "      <td>0.073809</td>\n",
       "      <td>1.000000</td>\n",
       "      <td>0.088353</td>\n",
       "      <td>-0.000187</td>\n",
       "    </tr>\n",
       "    <tr>\n",
       "      <th>Employee Growth</th>\n",
       "      <td>0.000179</td>\n",
       "      <td>0.000829</td>\n",
       "      <td>0.001376</td>\n",
       "      <td>0.001074</td>\n",
       "      <td>-0.000062</td>\n",
       "      <td>-0.003182</td>\n",
       "      <td>0.000092</td>\n",
       "      <td>0.000155</td>\n",
       "      <td>0.000175</td>\n",
       "      <td>0.012894</td>\n",
       "      <td>0.088353</td>\n",
       "      <td>1.000000</td>\n",
       "      <td>0.001475</td>\n",
       "    </tr>\n",
       "    <tr>\n",
       "      <th>BK</th>\n",
       "      <td>-0.007229</td>\n",
       "      <td>0.001193</td>\n",
       "      <td>0.002454</td>\n",
       "      <td>0.001346</td>\n",
       "      <td>-0.000148</td>\n",
       "      <td>0.015191</td>\n",
       "      <td>0.001756</td>\n",
       "      <td>-0.006530</td>\n",
       "      <td>-0.000882</td>\n",
       "      <td>-0.001393</td>\n",
       "      <td>-0.000187</td>\n",
       "      <td>0.001475</td>\n",
       "      <td>1.000000</td>\n",
       "    </tr>\n",
       "  </tbody>\n",
       "</table>\n",
       "</div>"
      ],
      "text/plain": [
       "                         EPS  Liquidity  Profitability  Productivity  \\\n",
       "EPS                 1.000000  -0.000129      -0.000282     -0.000212   \n",
       "Liquidity          -0.000129   1.000000       0.470622      0.226976   \n",
       "Profitability      -0.000282   0.470622       1.000000      0.434535   \n",
       "Productivity       -0.000212   0.226976       0.434535      1.000000   \n",
       "Leverage Ratio      0.000025   0.000147       0.000280      0.000225   \n",
       "Asset Turnover      0.000971  -0.035377      -0.039318     -0.021524   \n",
       "Operational Margin -0.000226   0.004070       0.019111      0.085273   \n",
       "Return on Equity    0.248225   0.582335       0.106389      0.001009   \n",
       "Market Book Ratio   0.000107   0.001464      -0.003982      0.006186   \n",
       "Assets Growth       0.000079   0.000499       0.000877      0.000495   \n",
       "Sales Growth        0.000073   0.000256       0.000469      0.000300   \n",
       "Employee Growth     0.000179   0.000829       0.001376      0.001074   \n",
       "BK                 -0.007229   0.001193       0.002454      0.001346   \n",
       "\n",
       "                    Leverage Ratio  Asset Turnover  Operational Margin  \\\n",
       "EPS                       0.000025        0.000971           -0.000226   \n",
       "Liquidity                 0.000147       -0.035377            0.004070   \n",
       "Profitability             0.000280       -0.039318            0.019111   \n",
       "Productivity              0.000225       -0.021524            0.085273   \n",
       "Leverage Ratio            1.000000       -0.001203            0.000293   \n",
       "Asset Turnover           -0.001203        1.000000            0.018420   \n",
       "Operational Margin        0.000293        0.018420            1.000000   \n",
       "Return on Equity         -0.000012       -0.005039            0.002026   \n",
       "Market Book Ratio         0.030031       -0.006375            0.007173   \n",
       "Assets Growth            -0.000093       -0.004082           -0.001166   \n",
       "Sales Growth              0.000098       -0.000050            0.000397   \n",
       "Employee Growth          -0.000062       -0.003182            0.000092   \n",
       "BK                       -0.000148        0.015191            0.001756   \n",
       "\n",
       "                    Return on Equity  Market Book Ratio  Assets Growth  \\\n",
       "EPS                         0.248225           0.000107       0.000079   \n",
       "Liquidity                   0.582335           0.001464       0.000499   \n",
       "Profitability               0.106389          -0.003982       0.000877   \n",
       "Productivity                0.001009           0.006186       0.000495   \n",
       "Leverage Ratio             -0.000012           0.030031      -0.000093   \n",
       "Asset Turnover             -0.005039          -0.006375      -0.004082   \n",
       "Operational Margin          0.002026           0.007173      -0.001166   \n",
       "Return on Equity            1.000000           0.000082       0.000111   \n",
       "Market Book Ratio           0.000082           1.000000      -0.000682   \n",
       "Assets Growth               0.000111          -0.000682       1.000000   \n",
       "Sales Growth                0.000061          -0.000928       0.073809   \n",
       "Employee Growth             0.000155           0.000175       0.012894   \n",
       "BK                         -0.006530          -0.000882      -0.001393   \n",
       "\n",
       "                    Sales Growth  Employee Growth        BK  \n",
       "EPS                     0.000073         0.000179 -0.007229  \n",
       "Liquidity               0.000256         0.000829  0.001193  \n",
       "Profitability           0.000469         0.001376  0.002454  \n",
       "Productivity            0.000300         0.001074  0.001346  \n",
       "Leverage Ratio          0.000098        -0.000062 -0.000148  \n",
       "Asset Turnover         -0.000050        -0.003182  0.015191  \n",
       "Operational Margin      0.000397         0.000092  0.001756  \n",
       "Return on Equity        0.000061         0.000155 -0.006530  \n",
       "Market Book Ratio      -0.000928         0.000175 -0.000882  \n",
       "Assets Growth           0.073809         0.012894 -0.001393  \n",
       "Sales Growth            1.000000         0.088353 -0.000187  \n",
       "Employee Growth         0.088353         1.000000  0.001475  \n",
       "BK                     -0.000187         0.001475  1.000000  "
      ]
     },
     "execution_count": 6,
     "metadata": {},
     "output_type": "execute_result"
    }
   ],
   "source": [
    "df.corr()"
   ]
  },
  {
   "cell_type": "code",
   "execution_count": 13,
   "id": "92a1a326",
   "metadata": {
    "scrolled": true
   },
   "outputs": [
    {
     "data": {
      "text/plain": [
       "<AxesSubplot:>"
      ]
     },
     "execution_count": 13,
     "metadata": {},
     "output_type": "execute_result"
    },
    {
     "data": {
      "image/png": "[encoded data removed]",
      "text/plain": [
       "<Figure size 1440x720 with 2 Axes>"
      ]
     },
     "metadata": {
      "needs_background": "light"
     },
     "output_type": "display_data"
    }
   ],
   "source": [
    "mask = np.array(df.corr())\n",
    "mask[np.tril_indices_from(mask)] = False\n",
    "\n",
    "fig, ax = plt.subplots() \n",
    "fig.set_size_inches(20,10)\n",
    "sns.heatmap(df.corr(), mask = mask, vmax =.8, square = True, annot = True)"
   ]
  },
  {
   "cell_type": "code",
   "execution_count": 6,
   "id": "27aaca56",
   "metadata": {},
   "outputs": [
    {
     "name": "stdout",
     "output_type": "stream",
     "text": [
      "Not Bankrupt 99.4 % of the dataset\n",
      "Bankrupt 0.6 % of the dataset\n"
     ]
    }
   ],
   "source": [
    "# The classes are heavily skewed we need to solve this issue later.\n",
    "print('Not Bankrupt', round(df['BK'].value_counts()[0]/len(df) * 100,2), '% of the dataset')\n",
    "print('Bankrupt', round(df['BK'].value_counts()[1]/len(df) * 100,2), '% of the dataset')"
   ]
  },
  {
   "cell_type": "code",
   "execution_count": 7,
   "id": "7c025280",
   "metadata": {},
   "outputs": [
    {
     "name": "stderr",
     "output_type": "stream",
     "text": [
      "C:\\Users\\User\\anaconda3\\lib\\site-packages\\seaborn\\_decorators.py:36: FutureWarning: Pass the following variable as a keyword arg: x. From version 0.12, the only valid positional argument will be `data`, and passing other arguments without an explicit keyword will result in an error or misinterpretation.\n",
      "  warnings.warn(\n"
     ]
    },
    {
     "data": {
      "text/plain": [
       "Text(0.5, 1.0, 'Class Distributions \\n (0: Not Bankrupt || 1: Bankrupt)')"
      ]
     },
     "execution_count": 7,
     "metadata": {},
     "output_type": "execute_result"
    },
    {
     "data": {
      "image/png": "[encoded data removed]",
      "text/plain": [
       "<Figure size 432x288 with 1 Axes>"
      ]
     },
     "metadata": {
      "needs_background": "light"
     },
     "output_type": "display_data"
    }
   ],
   "source": [
    "colors = [\"#0101DF\", \"#DF0101\"]\n",
    "\n",
    "sns.countplot('BK', data=df, palette=colors)\n",
    "plt.title('Class Distributions \\n (0: Not Bankrupt || 1: Bankrupt)', fontsize=14)"
   ]
  },
  {
   "cell_type": "markdown",
   "id": "c5383fd5",
   "metadata": {},
   "source": [
    "**Distributions**: By seeing the distributions we can have an idea how skewed are these features, we can also see further distributions of the other features. There are techniques that can help the distributions be less skewed which will be implemented in this notebook in the future."
   ]
  },
  {
   "cell_type": "code",
   "execution_count": 15,
   "id": "85def9d3",
   "metadata": {},
   "outputs": [
    {
     "data": {
      "text/plain": [
       "558"
      ]
     },
     "execution_count": 15,
     "metadata": {},
     "output_type": "execute_result"
    }
   ],
   "source": [
    "df['BK'].value_counts()[1] "
   ]
  },
  {
   "cell_type": "markdown",
   "id": "8d4c73d1",
   "metadata": {},
   "source": [
    "## Adding data to missing values\n",
    "Let's now try adding data to the missing values using the KNNImputer with n_neighbors = 5 \n",
    "so we can check how effective is our model"
   ]
  },
  {
   "cell_type": "code",
   "execution_count": 22,
   "id": "558bf9b0",
   "metadata": {},
   "outputs": [
    {
     "name": "stdout",
     "output_type": "stream",
     "text": [
      "Missing Data Added\n"
     ]
    }
   ],
   "source": [
    "imputer = KNNImputer(n_neighbors=5)\n",
    "df_no_na = pd.DataFrame(imputer.fit_transform(df),columns=df.columns)\n",
    "print(\"Missing Data Added\")"
   ]
  },
  {
   "cell_type": "code",
   "execution_count": 23,
   "id": "443ebfdc",
   "metadata": {},
   "outputs": [
    {
     "data": {
      "text/plain": [
       "EPS                   0\n",
       "Liquidity             0\n",
       "Profitability         0\n",
       "Productivity          0\n",
       "Leverage Ratio        0\n",
       "Asset Turnover        0\n",
       "Operational Margin    0\n",
       "Return on Equity      0\n",
       "Market Book Ratio     0\n",
       "Assets Growth         0\n",
       "Sales Growth          0\n",
       "Employee Growth       0\n",
       "BK                    0\n",
       "dtype: int64"
      ]
     },
     "execution_count": 23,
     "metadata": {},
     "output_type": "execute_result"
    }
   ],
   "source": [
    "df_no_na.isnull().sum()"
   ]
  },
  {
   "cell_type": "markdown",
   "id": "2ee89251",
   "metadata": {},
   "source": [
    "No more missing Data in our dataset"
   ]
  },
  {
   "cell_type": "markdown",
   "id": "e67092b4",
   "metadata": {},
   "source": [
    "## Let's try applying some classification to our data"
   ]
  },
  {
   "cell_type": "code",
   "execution_count": 25,
   "id": "de85f284",
   "metadata": {},
   "outputs": [],
   "source": [
    "#let's divide our X coefficients to our Y \n",
    "#split df into X and Y\n",
    "y = df_no_na['BK']\n",
    "X = df_no_na.drop('BK',axis =1)"
   ]
  },
  {
   "cell_type": "code",
   "execution_count": 26,
   "id": "372a0237",
   "metadata": {},
   "outputs": [
    {
     "data": {
      "text/plain": [
       "0        0.0\n",
       "1        0.0\n",
       "2        0.0\n",
       "3        0.0\n",
       "4        0.0\n",
       "        ... \n",
       "92803    0.0\n",
       "92804    0.0\n",
       "92805    0.0\n",
       "92806    0.0\n",
       "92807    1.0\n",
       "Name: BK, Length: 92808, dtype: float64"
      ]
     },
     "execution_count": 26,
     "metadata": {},
     "output_type": "execute_result"
    }
   ],
   "source": [
    "y"
   ]
  },
  {
   "cell_type": "code",
   "execution_count": 27,
   "id": "97afddfb",
   "metadata": {},
   "outputs": [
    {
     "data": {
      "text/html": [
       "<div>\n",
       "<style scoped>\n",
       "    .dataframe tbody tr th:only-of-type {\n",
       "        vertical-align: middle;\n",
       "    }\n",
       "\n",
       "    .dataframe tbody tr th {\n",
       "        vertical-align: top;\n",
       "    }\n",
       "\n",
       "    .dataframe thead th {\n",
       "        text-align: right;\n",
       "    }\n",
       "</style>\n",
       "<table border=\"1\" class=\"dataframe\">\n",
       "  <thead>\n",
       "    <tr style=\"text-align: right;\">\n",
       "      <th></th>\n",
       "      <th>EPS</th>\n",
       "      <th>Liquidity</th>\n",
       "      <th>Profitability</th>\n",
       "      <th>Productivity</th>\n",
       "      <th>Leverage Ratio</th>\n",
       "      <th>Asset Turnover</th>\n",
       "      <th>Operational Margin</th>\n",
       "      <th>Return on Equity</th>\n",
       "      <th>Market Book Ratio</th>\n",
       "      <th>Assets Growth</th>\n",
       "      <th>Sales Growth</th>\n",
       "      <th>Employee Growth</th>\n",
       "    </tr>\n",
       "  </thead>\n",
       "  <tbody>\n",
       "    <tr>\n",
       "      <th>0</th>\n",
       "      <td>1.580000</td>\n",
       "      <td>0.360000</td>\n",
       "      <td>0.180000</td>\n",
       "      <td>0.130000</td>\n",
       "      <td>1.330000</td>\n",
       "      <td>1.770000</td>\n",
       "      <td>0.070000</td>\n",
       "      <td>0.150000</td>\n",
       "      <td>2.220000</td>\n",
       "      <td>0.111757</td>\n",
       "      <td>-0.002385</td>\n",
       "      <td>0.057881</td>\n",
       "    </tr>\n",
       "    <tr>\n",
       "      <th>1</th>\n",
       "      <td>1.410000</td>\n",
       "      <td>0.360000</td>\n",
       "      <td>0.190000</td>\n",
       "      <td>0.120000</td>\n",
       "      <td>1.310000</td>\n",
       "      <td>1.590000</td>\n",
       "      <td>0.070000</td>\n",
       "      <td>0.130000</td>\n",
       "      <td>2.410000</td>\n",
       "      <td>0.126319</td>\n",
       "      <td>0.014278</td>\n",
       "      <td>0.040179</td>\n",
       "    </tr>\n",
       "    <tr>\n",
       "      <th>2</th>\n",
       "      <td>0.310000</td>\n",
       "      <td>0.320000</td>\n",
       "      <td>0.130000</td>\n",
       "      <td>0.080000</td>\n",
       "      <td>1.030000</td>\n",
       "      <td>1.550000</td>\n",
       "      <td>0.050000</td>\n",
       "      <td>0.040000</td>\n",
       "      <td>2.560000</td>\n",
       "      <td>0.368077</td>\n",
       "      <td>0.327909</td>\n",
       "      <td>0.566524</td>\n",
       "    </tr>\n",
       "    <tr>\n",
       "      <th>3</th>\n",
       "      <td>0.710000</td>\n",
       "      <td>0.280000</td>\n",
       "      <td>0.140000</td>\n",
       "      <td>0.080000</td>\n",
       "      <td>0.800000</td>\n",
       "      <td>1.390000</td>\n",
       "      <td>0.060000</td>\n",
       "      <td>0.050000</td>\n",
       "      <td>5.280000</td>\n",
       "      <td>-0.020809</td>\n",
       "      <td>-0.118904</td>\n",
       "      <td>-0.095890</td>\n",
       "    </tr>\n",
       "    <tr>\n",
       "      <th>4</th>\n",
       "      <td>0.750000</td>\n",
       "      <td>0.410000</td>\n",
       "      <td>0.130000</td>\n",
       "      <td>0.080000</td>\n",
       "      <td>0.200000</td>\n",
       "      <td>1.300000</td>\n",
       "      <td>0.060000</td>\n",
       "      <td>0.040000</td>\n",
       "      <td>8.680000</td>\n",
       "      <td>0.233089</td>\n",
       "      <td>0.146807</td>\n",
       "      <td>0.053030</td>\n",
       "    </tr>\n",
       "    <tr>\n",
       "      <th>...</th>\n",
       "      <td>...</td>\n",
       "      <td>...</td>\n",
       "      <td>...</td>\n",
       "      <td>...</td>\n",
       "      <td>...</td>\n",
       "      <td>...</td>\n",
       "      <td>...</td>\n",
       "      <td>...</td>\n",
       "      <td>...</td>\n",
       "      <td>...</td>\n",
       "      <td>...</td>\n",
       "      <td>...</td>\n",
       "    </tr>\n",
       "    <tr>\n",
       "      <th>92803</th>\n",
       "      <td>-1.488171</td>\n",
       "      <td>-0.015494</td>\n",
       "      <td>-0.758859</td>\n",
       "      <td>-0.056905</td>\n",
       "      <td>-1042.104918</td>\n",
       "      <td>0.174115</td>\n",
       "      <td>-0.326823</td>\n",
       "      <td>-6.614095</td>\n",
       "      <td>-1.846719</td>\n",
       "      <td>-0.073287</td>\n",
       "      <td>-0.557483</td>\n",
       "      <td>-0.076923</td>\n",
       "    </tr>\n",
       "    <tr>\n",
       "      <th>92804</th>\n",
       "      <td>-1.807630</td>\n",
       "      <td>0.093838</td>\n",
       "      <td>-1.204734</td>\n",
       "      <td>-0.121122</td>\n",
       "      <td>-4.530214</td>\n",
       "      <td>0.215844</td>\n",
       "      <td>-0.561155</td>\n",
       "      <td>-4.519074</td>\n",
       "      <td>-2.474549</td>\n",
       "      <td>-0.201835</td>\n",
       "      <td>-0.010544</td>\n",
       "      <td>-0.208333</td>\n",
       "    </tr>\n",
       "    <tr>\n",
       "      <th>92805</th>\n",
       "      <td>-0.015660</td>\n",
       "      <td>0.039260</td>\n",
       "      <td>0.000000</td>\n",
       "      <td>-0.082429</td>\n",
       "      <td>0.744907</td>\n",
       "      <td>0.254186</td>\n",
       "      <td>-0.324286</td>\n",
       "      <td>-0.569448</td>\n",
       "      <td>3274.505633</td>\n",
       "      <td>-0.168001</td>\n",
       "      <td>-0.020206</td>\n",
       "      <td>-0.105263</td>\n",
       "    </tr>\n",
       "    <tr>\n",
       "      <th>92806</th>\n",
       "      <td>-0.133054</td>\n",
       "      <td>0.053678</td>\n",
       "      <td>-0.029471</td>\n",
       "      <td>0.000998</td>\n",
       "      <td>0.574570</td>\n",
       "      <td>0.195683</td>\n",
       "      <td>0.005101</td>\n",
       "      <td>-0.085842</td>\n",
       "      <td>36.474842</td>\n",
       "      <td>0.076936</td>\n",
       "      <td>-0.170928</td>\n",
       "      <td>-0.058824</td>\n",
       "    </tr>\n",
       "    <tr>\n",
       "      <th>92807</th>\n",
       "      <td>-0.648028</td>\n",
       "      <td>-0.036524</td>\n",
       "      <td>-0.219774</td>\n",
       "      <td>-0.144842</td>\n",
       "      <td>0.693342</td>\n",
       "      <td>0.222476</td>\n",
       "      <td>-0.651048</td>\n",
       "      <td>-0.498483</td>\n",
       "      <td>55.624410</td>\n",
       "      <td>-0.063630</td>\n",
       "      <td>0.064574</td>\n",
       "      <td>0.062500</td>\n",
       "    </tr>\n",
       "  </tbody>\n",
       "</table>\n",
       "<p>92808 rows × 12 columns</p>\n",
       "</div>"
      ],
      "text/plain": [
       "            EPS  Liquidity  Profitability  Productivity  Leverage Ratio  \\\n",
       "0      1.580000   0.360000       0.180000      0.130000        1.330000   \n",
       "1      1.410000   0.360000       0.190000      0.120000        1.310000   \n",
       "2      0.310000   0.320000       0.130000      0.080000        1.030000   \n",
       "3      0.710000   0.280000       0.140000      0.080000        0.800000   \n",
       "4      0.750000   0.410000       0.130000      0.080000        0.200000   \n",
       "...         ...        ...            ...           ...             ...   \n",
       "92803 -1.488171  -0.015494      -0.758859     -0.056905    -1042.104918   \n",
       "92804 -1.807630   0.093838      -1.204734     -0.121122       -4.530214   \n",
       "92805 -0.015660   0.039260       0.000000     -0.082429        0.744907   \n",
       "92806 -0.133054   0.053678      -0.029471      0.000998        0.574570   \n",
       "92807 -0.648028  -0.036524      -0.219774     -0.144842        0.693342   \n",
       "\n",
       "       Asset Turnover  Operational Margin  Return on Equity  \\\n",
       "0            1.770000            0.070000          0.150000   \n",
       "1            1.590000            0.070000          0.130000   \n",
       "2            1.550000            0.050000          0.040000   \n",
       "3            1.390000            0.060000          0.050000   \n",
       "4            1.300000            0.060000          0.040000   \n",
       "...               ...                 ...               ...   \n",
       "92803        0.174115           -0.326823         -6.614095   \n",
       "92804        0.215844           -0.561155         -4.519074   \n",
       "92805        0.254186           -0.324286         -0.569448   \n",
       "92806        0.195683            0.005101         -0.085842   \n",
       "92807        0.222476           -0.651048         -0.498483   \n",
       "\n",
       "       Market Book Ratio  Assets Growth  Sales Growth  Employee Growth  \n",
       "0               2.220000       0.111757     -0.002385         0.057881  \n",
       "1               2.410000       0.126319      0.014278         0.040179  \n",
       "2               2.560000       0.368077      0.327909         0.566524  \n",
       "3               5.280000      -0.020809     -0.118904        -0.095890  \n",
       "4               8.680000       0.233089      0.146807         0.053030  \n",
       "...                  ...            ...           ...              ...  \n",
       "92803          -1.846719      -0.073287     -0.557483        -0.076923  \n",
       "92804          -2.474549      -0.201835     -0.010544        -0.208333  \n",
       "92805        3274.505633      -0.168001     -0.020206        -0.105263  \n",
       "92806          36.474842       0.076936     -0.170928        -0.058824  \n",
       "92807          55.624410      -0.063630      0.064574         0.062500  \n",
       "\n",
       "[92808 rows x 12 columns]"
      ]
     },
     "execution_count": 27,
     "metadata": {},
     "output_type": "execute_result"
    }
   ],
   "source": [
    "X"
   ]
  },
  {
   "cell_type": "code",
   "execution_count": 28,
   "id": "b483c0d1",
   "metadata": {},
   "outputs": [],
   "source": [
    "def preprocess_inputs(X,y):\n",
    "    #train test split\n",
    "    X_train,X_test,y_train,y_test= train_test_split(X, y, train_size = 0.7, shuffle = True, random_state = 1)\n",
    "    \n",
    "    # Scale X | StandardScaler for now just to check things out :3\n",
    "    scaler = StandardScaler()\n",
    "    scaler.fit(X_train)\n",
    "    \n",
    "    X_train = pd.DataFrame(scaler.transform(X_train),index=X_train.index, columns = X_train.columns)\n",
    "    X_test = pd.DataFrame(scaler.transform(X_test),index=X_test.index, columns = X_test.columns)\n",
    "    return X_train, X_test, y_train, y_test"
   ]
  },
  {
   "cell_type": "code",
   "execution_count": 29,
   "id": "bfa26a2c",
   "metadata": {},
   "outputs": [],
   "source": [
    "X_train, X_test, y_train, y_test = preprocess_inputs(X,y)"
   ]
  },
  {
   "cell_type": "markdown",
   "id": "d9fe2b2f",
   "metadata": {},
   "source": [
    "### Let's check our training variables"
   ]
  },
  {
   "cell_type": "code",
   "execution_count": 30,
   "id": "1818cf8b",
   "metadata": {},
   "outputs": [
    {
     "data": {
      "text/html": [
       "<div>\n",
       "<style scoped>\n",
       "    .dataframe tbody tr th:only-of-type {\n",
       "        vertical-align: middle;\n",
       "    }\n",
       "\n",
       "    .dataframe tbody tr th {\n",
       "        vertical-align: top;\n",
       "    }\n",
       "\n",
       "    .dataframe thead th {\n",
       "        text-align: right;\n",
       "    }\n",
       "</style>\n",
       "<table border=\"1\" class=\"dataframe\">\n",
       "  <thead>\n",
       "    <tr style=\"text-align: right;\">\n",
       "      <th></th>\n",
       "      <th>EPS</th>\n",
       "      <th>Liquidity</th>\n",
       "      <th>Profitability</th>\n",
       "      <th>Productivity</th>\n",
       "      <th>Leverage Ratio</th>\n",
       "      <th>Asset Turnover</th>\n",
       "      <th>Operational Margin</th>\n",
       "      <th>Return on Equity</th>\n",
       "      <th>Market Book Ratio</th>\n",
       "      <th>Assets Growth</th>\n",
       "      <th>Sales Growth</th>\n",
       "      <th>Employee Growth</th>\n",
       "    </tr>\n",
       "  </thead>\n",
       "  <tbody>\n",
       "    <tr>\n",
       "      <th>16454</th>\n",
       "      <td>0.008371</td>\n",
       "      <td>0.023963</td>\n",
       "      <td>0.046412</td>\n",
       "      <td>0.045285</td>\n",
       "      <td>-0.004624</td>\n",
       "      <td>0.005909</td>\n",
       "      <td>0.054164</td>\n",
       "      <td>0.008562</td>\n",
       "      <td>0.037793</td>\n",
       "      <td>-0.016716</td>\n",
       "      <td>-0.011214</td>\n",
       "      <td>-0.012562</td>\n",
       "    </tr>\n",
       "    <tr>\n",
       "      <th>30857</th>\n",
       "      <td>0.007625</td>\n",
       "      <td>0.022407</td>\n",
       "      <td>0.046291</td>\n",
       "      <td>0.041404</td>\n",
       "      <td>-0.005660</td>\n",
       "      <td>-0.183749</td>\n",
       "      <td>0.053691</td>\n",
       "      <td>0.008382</td>\n",
       "      <td>0.090556</td>\n",
       "      <td>-0.019603</td>\n",
       "      <td>-0.011724</td>\n",
       "      <td>-0.020604</td>\n",
       "    </tr>\n",
       "    <tr>\n",
       "      <th>91293</th>\n",
       "      <td>0.007531</td>\n",
       "      <td>0.021482</td>\n",
       "      <td>0.045333</td>\n",
       "      <td>0.035735</td>\n",
       "      <td>-0.006159</td>\n",
       "      <td>-0.439374</td>\n",
       "      <td>0.050388</td>\n",
       "      <td>0.008179</td>\n",
       "      <td>-0.013477</td>\n",
       "      <td>-0.022920</td>\n",
       "      <td>-0.011595</td>\n",
       "      <td>-0.018228</td>\n",
       "    </tr>\n",
       "    <tr>\n",
       "      <th>45022</th>\n",
       "      <td>0.007883</td>\n",
       "      <td>0.024529</td>\n",
       "      <td>0.046102</td>\n",
       "      <td>0.044176</td>\n",
       "      <td>-0.004557</td>\n",
       "      <td>-0.047690</td>\n",
       "      <td>0.054022</td>\n",
       "      <td>0.008433</td>\n",
       "      <td>-0.011227</td>\n",
       "      <td>-0.008849</td>\n",
       "      <td>-0.010155</td>\n",
       "      <td>0.038668</td>\n",
       "    </tr>\n",
       "    <tr>\n",
       "      <th>9079</th>\n",
       "      <td>0.008109</td>\n",
       "      <td>0.021558</td>\n",
       "      <td>0.045874</td>\n",
       "      <td>0.041959</td>\n",
       "      <td>-0.002452</td>\n",
       "      <td>-0.336299</td>\n",
       "      <td>0.054448</td>\n",
       "      <td>0.008485</td>\n",
       "      <td>-0.011037</td>\n",
       "      <td>-0.017967</td>\n",
       "      <td>-0.011944</td>\n",
       "      <td>-0.022698</td>\n",
       "    </tr>\n",
       "    <tr>\n",
       "      <th>...</th>\n",
       "      <td>...</td>\n",
       "      <td>...</td>\n",
       "      <td>...</td>\n",
       "      <td>...</td>\n",
       "      <td>...</td>\n",
       "      <td>...</td>\n",
       "      <td>...</td>\n",
       "      <td>...</td>\n",
       "      <td>...</td>\n",
       "      <td>...</td>\n",
       "      <td>...</td>\n",
       "      <td>...</td>\n",
       "    </tr>\n",
       "    <tr>\n",
       "      <th>21440</th>\n",
       "      <td>0.007422</td>\n",
       "      <td>0.023185</td>\n",
       "      <td>0.046210</td>\n",
       "      <td>0.038909</td>\n",
       "      <td>-0.004824</td>\n",
       "      <td>-0.022952</td>\n",
       "      <td>0.053123</td>\n",
       "      <td>0.008279</td>\n",
       "      <td>-0.006253</td>\n",
       "      <td>-0.018355</td>\n",
       "      <td>-0.011415</td>\n",
       "      <td>-0.016970</td>\n",
       "    </tr>\n",
       "    <tr>\n",
       "      <th>73349</th>\n",
       "      <td>0.007519</td>\n",
       "      <td>-1.667715</td>\n",
       "      <td>-1.553100</td>\n",
       "      <td>-3.461882</td>\n",
       "      <td>-0.007130</td>\n",
       "      <td>-0.418759</td>\n",
       "      <td>-12.624762</td>\n",
       "      <td>0.006791</td>\n",
       "      <td>-0.020783</td>\n",
       "      <td>-0.021575</td>\n",
       "      <td>-0.011595</td>\n",
       "      <td>0.078293</td>\n",
       "    </tr>\n",
       "    <tr>\n",
       "      <th>50057</th>\n",
       "      <td>0.007543</td>\n",
       "      <td>0.026438</td>\n",
       "      <td>0.042012</td>\n",
       "      <td>0.038078</td>\n",
       "      <td>-0.006161</td>\n",
       "      <td>-0.084797</td>\n",
       "      <td>0.052934</td>\n",
       "      <td>0.008228</td>\n",
       "      <td>-0.013071</td>\n",
       "      <td>-0.019339</td>\n",
       "      <td>-0.011057</td>\n",
       "      <td>-0.028954</td>\n",
       "    </tr>\n",
       "    <tr>\n",
       "      <th>5192</th>\n",
       "      <td>0.005242</td>\n",
       "      <td>0.025165</td>\n",
       "      <td>0.045685</td>\n",
       "      <td>0.041959</td>\n",
       "      <td>0.600197</td>\n",
       "      <td>0.286272</td>\n",
       "      <td>0.053549</td>\n",
       "      <td>0.005251</td>\n",
       "      <td>-0.009936</td>\n",
       "      <td>-0.022074</td>\n",
       "      <td>-0.012350</td>\n",
       "      <td>-0.050725</td>\n",
       "    </tr>\n",
       "    <tr>\n",
       "      <th>77708</th>\n",
       "      <td>0.005633</td>\n",
       "      <td>0.022548</td>\n",
       "      <td>0.045860</td>\n",
       "      <td>0.042236</td>\n",
       "      <td>-0.002418</td>\n",
       "      <td>0.010031</td>\n",
       "      <td>0.053643</td>\n",
       "      <td>0.008100</td>\n",
       "      <td>-0.010907</td>\n",
       "      <td>-0.019668</td>\n",
       "      <td>-0.011503</td>\n",
       "      <td>-0.033162</td>\n",
       "    </tr>\n",
       "  </tbody>\n",
       "</table>\n",
       "<p>64965 rows × 12 columns</p>\n",
       "</div>"
      ],
      "text/plain": [
       "            EPS  Liquidity  Profitability  Productivity  Leverage Ratio  \\\n",
       "16454  0.008371   0.023963       0.046412      0.045285       -0.004624   \n",
       "30857  0.007625   0.022407       0.046291      0.041404       -0.005660   \n",
       "91293  0.007531   0.021482       0.045333      0.035735       -0.006159   \n",
       "45022  0.007883   0.024529       0.046102      0.044176       -0.004557   \n",
       "9079   0.008109   0.021558       0.045874      0.041959       -0.002452   \n",
       "...         ...        ...            ...           ...             ...   \n",
       "21440  0.007422   0.023185       0.046210      0.038909       -0.004824   \n",
       "73349  0.007519  -1.667715      -1.553100     -3.461882       -0.007130   \n",
       "50057  0.007543   0.026438       0.042012      0.038078       -0.006161   \n",
       "5192   0.005242   0.025165       0.045685      0.041959        0.600197   \n",
       "77708  0.005633   0.022548       0.045860      0.042236       -0.002418   \n",
       "\n",
       "       Asset Turnover  Operational Margin  Return on Equity  \\\n",
       "16454        0.005909            0.054164          0.008562   \n",
       "30857       -0.183749            0.053691          0.008382   \n",
       "91293       -0.439374            0.050388          0.008179   \n",
       "45022       -0.047690            0.054022          0.008433   \n",
       "9079        -0.336299            0.054448          0.008485   \n",
       "...               ...                 ...               ...   \n",
       "21440       -0.022952            0.053123          0.008279   \n",
       "73349       -0.418759          -12.624762          0.006791   \n",
       "50057       -0.084797            0.052934          0.008228   \n",
       "5192         0.286272            0.053549          0.005251   \n",
       "77708        0.010031            0.053643          0.008100   \n",
       "\n",
       "       Market Book Ratio  Assets Growth  Sales Growth  Employee Growth  \n",
       "16454           0.037793      -0.016716     -0.011214        -0.012562  \n",
       "30857           0.090556      -0.019603     -0.011724        -0.020604  \n",
       "91293          -0.013477      -0.022920     -0.011595        -0.018228  \n",
       "45022          -0.011227      -0.008849     -0.010155         0.038668  \n",
       "9079           -0.011037      -0.017967     -0.011944        -0.022698  \n",
       "...                  ...            ...           ...              ...  \n",
       "21440          -0.006253      -0.018355     -0.011415        -0.016970  \n",
       "73349          -0.020783      -0.021575     -0.011595         0.078293  \n",
       "50057          -0.013071      -0.019339     -0.011057        -0.028954  \n",
       "5192           -0.009936      -0.022074     -0.012350        -0.050725  \n",
       "77708          -0.010907      -0.019668     -0.011503        -0.033162  \n",
       "\n",
       "[64965 rows x 12 columns]"
      ]
     },
     "execution_count": 30,
     "metadata": {},
     "output_type": "execute_result"
    }
   ],
   "source": [
    "X_train"
   ]
  },
  {
   "cell_type": "code",
   "execution_count": 31,
   "id": "0afa28bf",
   "metadata": {},
   "outputs": [
    {
     "data": {
      "text/plain": [
       "16454    0.0\n",
       "30857    0.0\n",
       "91293    0.0\n",
       "45022    0.0\n",
       "9079     0.0\n",
       "        ... \n",
       "21440    0.0\n",
       "73349    0.0\n",
       "50057    0.0\n",
       "5192     0.0\n",
       "77708    0.0\n",
       "Name: BK, Length: 64965, dtype: float64"
      ]
     },
     "execution_count": 31,
     "metadata": {},
     "output_type": "execute_result"
    }
   ],
   "source": [
    "y_train"
   ]
  },
  {
   "cell_type": "markdown",
   "id": "bba391a0",
   "metadata": {},
   "source": [
    "### Apply Modelling techniques"
   ]
  },
  {
   "cell_type": "code",
   "execution_count": 32,
   "id": "aeea963f",
   "metadata": {},
   "outputs": [],
   "source": [
    "models = {\n",
    "    \"Random Forest\": RandomForestClassifier(),\n",
    "    \"SVC (RBF Kernel)\": SVC(),\n",
    "    \"Naive Bayes\" : GaussianNB()\n",
    "}"
   ]
  },
  {
   "cell_type": "code",
   "execution_count": 33,
   "id": "a36591e9",
   "metadata": {},
   "outputs": [
    {
     "name": "stdout",
     "output_type": "stream",
     "text": [
      "Random Forest trained.\n",
      "SVC (RBF Kernel) trained.\n",
      "Naive Bayes trained.\n"
     ]
    }
   ],
   "source": [
    "for name, model in models.items():\n",
    "    model.fit(X_train, y_train)\n",
    "    print(name+ \" trained.\")"
   ]
  },
  {
   "cell_type": "markdown",
   "id": "35af2738",
   "metadata": {},
   "source": [
    "### Classification Metrics\n",
    "To summarize classification metrics:\n",
    "- **Accuracy** is a good measure to start with, if all classes are balanced\n",
    "- **Precision** and **recall** becomes more important when classes are imbalanced.\n",
    "- If false positive predictions are worse than false negatives, aim for higher precision.\n",
    "- If false negative predictions are worse than false positives, aim for higher recall.\n",
    "- **F1-score** is a combination of precision and recall"
   ]
  },
  {
   "cell_type": "code",
   "execution_count": 38,
   "id": "0b25cb7d",
   "metadata": {},
   "outputs": [
    {
     "name": "stdout",
     "output_type": "stream",
     "text": [
      "Random Forest: 99.45%\n",
      "SVC (RBF Kernel): 99.44%\n",
      "Naive Bayes: 6.24%\n"
     ]
    }
   ],
   "source": [
    "results = []\n",
    "for name, model in models.items():\n",
    "    result = model.score(X_test,y_test)\n",
    "    results.append(result)\n",
    "    print(name+ \": {:.2f}%\".format(result*100))"
   ]
  },
  {
   "cell_type": "markdown",
   "id": "9769a268",
   "metadata": {},
   "source": [
    "We have checked the R^2 values for the 3 models:\n",
    "\n",
    "Note: R^2 compares your models prediction to the mean of the targets. Values can range from negative infinity (a very ppor model) to 1. For example, if all your model does is predict the mean of thee targets, it's R^2 value would be 0. And if your model perfectly predicts a range of umbers it's R^2 value would be 1"
   ]
  },
  {
   "cell_type": "code",
   "execution_count": 40,
   "id": "5551f0fd",
   "metadata": {
    "scrolled": true
   },
   "outputs": [
    {
     "name": "stdout",
     "output_type": "stream",
     "text": [
      "Random Forest: 0.500829140622062\n",
      "SVC (RBF Kernel): 0.4996386763519428\n",
      "Naive Bayes: 0.35398065605672624\n"
     ]
    }
   ],
   "source": [
    "score = []\n",
    "for name, model in models.items():\n",
    "    scores = cross_val_score(model,X_train,y_train, scoring='f1_macro',cv=10,n_jobs = 1)\n",
    "    score.append(scores)\n",
    "    print(f\"{name}: {np.mean(score)}\")"
   ]
  },
  {
   "cell_type": "markdown",
   "id": "9dde6998",
   "metadata": {},
   "source": [
    "## Model Comparison (Round 1)"
   ]
  },
  {
   "cell_type": "code",
   "execution_count": 47,
   "id": "2466f6be",
   "metadata": {},
   "outputs": [],
   "source": [
    "def metrics(y_test,y_predh):\n",
    "    from sklearn.metrics import accuracy_score,cohen_kappa_score,f1_score,log_loss,roc_auc_score, precision_score, recall_score\n",
    "    print(\"Precision = {:.2f}\".format(precision_score(y_test, y_predh)))\n",
    "    print(\"Recall = {:.2f}\".format(recall_score(y_test, y_predh)))\n",
    "    print(\"F1 Score Macro = {:.2f}\".format(f1_score(y_test, y_predh, average = 'macro')))\n",
    "    print(\"AUC = {:.2f}\".format(roc_auc_score(y_test, y_predh)))\n",
    "    print(\"-----------------------------------------------------------\")"
   ]
  },
  {
   "cell_type": "code",
   "execution_count": 48,
   "id": "3f76298c",
   "metadata": {
    "scrolled": false
   },
   "outputs": [
    {
     "name": "stdout",
     "output_type": "stream",
     "text": [
      "Random Forest\n",
      "              precision    recall  f1-score   support\n",
      "\n",
      "         0.0       0.99      1.00      1.00     27687\n",
      "         1.0       1.00      0.02      0.04       156\n",
      "\n",
      "    accuracy                           0.99     27843\n",
      "   macro avg       1.00      0.51      0.52     27843\n",
      "weighted avg       0.99      0.99      0.99     27843\n",
      "\n",
      "Precision = 1.00\n",
      "Recall = 0.02\n",
      "F1 Score Macro = 0.52\n",
      "AUC = 0.51\n",
      "-----------------------------------------------------------\n",
      "SVC (RBF Kernel)\n",
      "              precision    recall  f1-score   support\n",
      "\n",
      "         0.0       0.99      1.00      1.00     27687\n",
      "         1.0       0.00      0.00      0.00       156\n",
      "\n",
      "    accuracy                           0.99     27843\n",
      "   macro avg       0.50      0.50      0.50     27843\n",
      "weighted avg       0.99      0.99      0.99     27843\n",
      "\n",
      "Precision = 0.00\n",
      "Recall = 0.00\n",
      "F1 Score Macro = 0.50\n",
      "AUC = 0.50\n",
      "-----------------------------------------------------------\n",
      "Naive Bayes\n",
      "              precision    recall  f1-score   support\n",
      "\n",
      "         0.0       1.00      0.06      0.11     27687\n",
      "         1.0       0.01      0.96      0.01       156\n",
      "\n",
      "    accuracy                           0.06     27843\n",
      "   macro avg       0.50      0.51      0.06     27843\n",
      "weighted avg       0.99      0.06      0.11     27843\n",
      "\n",
      "Precision = 0.01\n",
      "Recall = 0.96\n",
      "F1 Score Macro = 0.06\n",
      "AUC = 0.51\n",
      "-----------------------------------------------------------\n"
     ]
    }
   ],
   "source": [
    "import warnings\n",
    "warnings.filterwarnings(\"ignore\")\n",
    "for name, model in models.items():\n",
    "    y_pred = model.predict(X_test)\n",
    "    print(name)\n",
    "    print(classification_report(y_test,y_pred))\n",
    "    metrics(y_test,y_pred)"
   ]
  },
  {
   "cell_type": "markdown",
   "id": "c107250c",
   "metadata": {},
   "source": [
    "### Dimension Reduction using PCA\n",
    "\n",
    "Still figuring things out if we really need it :D but i think its okay to use it at the end "
   ]
  },
  {
   "cell_type": "code",
   "execution_count": 1,
   "id": "d15ea152",
   "metadata": {},
   "outputs": [
    {
     "ename": "NameError",
     "evalue": "name 'X_train' is not defined",
     "output_type": "error",
     "traceback": [
      "\u001b[1;31m---------------------------------------------------------------------------\u001b[0m",
      "\u001b[1;31mNameError\u001b[0m                                 Traceback (most recent call last)",
      "Input \u001b[1;32mIn [1]\u001b[0m, in \u001b[0;36m<cell line: 1>\u001b[1;34m()\u001b[0m\n\u001b[1;32m----> 1\u001b[0m \u001b[43mX_train\u001b[49m\u001b[38;5;241m.\u001b[39mdescribe()\n",
      "\u001b[1;31mNameError\u001b[0m: name 'X_train' is not defined"
     ]
    }
   ],
   "source": [
    "X_train.describe()"
   ]
  },
  {
   "cell_type": "code",
   "execution_count": null,
   "id": "8679fa22",
   "metadata": {},
   "outputs": [],
   "source": [
    "n_components = 12\n",
    "pca = PCA(n_components = n_components)\n",
    "pca.fit(X_train)\n",
    "X_train_reduced = pd.DataFrame(pca.transform(X_train), index = X_train.index, columns=['PC'+str(i) for i in range(1,n_components+1))])\n",
    "X_test_reduced = pd.DataFrame(pca.tranform(X_test), index = X_test.index, columns=['PC'+str(i) for i in rang(1,n_components+1)]\n",
    "                              "
   ]
  },
  {
   "cell_type": "code",
   "execution_count": null,
   "id": "ad46979b",
   "metadata": {},
   "outputs": [],
   "source": [
    "X_train_reduced"
   ]
  },
  {
   "cell_type": "code",
   "execution_count": null,
   "id": "02e26664",
   "metadata": {},
   "outputs": [],
   "source": [
    "X_test_reduced"
   ]
  },
  {
   "cell_type": "markdown",
   "id": "7a7cf6bb",
   "metadata": {},
   "source": [
    "### Training Reduced Data"
   ]
  },
  {
   "cell_type": "code",
   "execution_count": null,
   "id": "55976b73",
   "metadata": {},
   "outputs": [],
   "source": [
    "reduced_models = {\n",
    "    \"Random Forest\": RandomForestClassifier(),\n",
    "    \"SVC (RBF Kernel)\": SVC(),\n",
    "    \"Naive Bayes\" : GaussianNB()\n",
    "}\n",
    "\n",
    "for name, model in reduced_models.items():\n",
    "    model.fit(X_train_reduced,y_train)\n",
    "    print(name+\" trained.\")"
   ]
  },
  {
   "cell_type": "markdown",
   "id": "30bdb961",
   "metadata": {},
   "source": [
    "### Looks like we need to improve our output :(\n",
    "Because our data is highly imbalanced lets try to apply re-sampling"
   ]
  },
  {
   "cell_type": "markdown",
   "id": "21e0c426",
   "metadata": {},
   "source": [
    "**What is a sub-Sample?**\n",
    "<p>In this scenario, our subsample will be a dataframe with a 50/50 ratio of fraud and non-fraud transactions. Meaning our sub-sample will have the same amount of fraud and non fraud transactions.</p>\n",
    "    \n",
    "**Why do we create a sub-Sample?**\n",
    "<p>In the beginning of this notebook we saw that the original dataframe was heavily imbalanced! Using the original dataframe will cause the following issues:</p>\n",
    "\n",
    " **Overfitting**: \n",
    " - Our classification models will assume that in most cases there are no frauds! What we want for our model is to be certain when a fraud occurs.\n",
    " \n",
    "**Wrong Correlations**: \n",
    "- by having an imbalance dataframe we are not able to see the true correlations between the class and features."
   ]
  },
  {
   "cell_type": "markdown",
   "id": "cadd661e",
   "metadata": {},
   "source": [
    "### Outlier Scaler\n",
    "Note for Arnab and Varun: This is one of the most important part for sampling. If you're trying to eliminate all the outliers in the X coefficient you might delete all the rows in the dataframe. So i provided you guys with some of the models that could help you with this. I'm still trying to check as which could better provide better answers if we apply the distribution first before cleaning it."
   ]
  },
  {
   "cell_type": "code",
   "execution_count": 8,
   "id": "a25b5d74",
   "metadata": {},
   "outputs": [],
   "source": [
    "#Author 1:\n",
    "#Description: remove outliers from the dataset to give better results\n",
    "# you can use LocalOutlierFactor to make it easier for you.\n",
    "# be careful not to delete all the data because all the columns has outliers\n",
    "# Severity: Important\n",
    "# Sample Code:\n",
    "\n",
    "# clf = LocalOutlierFactor(n_neighbors=20,contamination=0.3)\n",
    "# df_clean_outliers = clf.fit_predict(df)\n",
    "# df_clean_outliers\n",
    "\n",
    "# or We can use RobustScaler\n",
    "# https://scikit-learn.org/stable/modules/generated/sklearn.preprocessing.RobustScaler.html\n",
    "# RobustScaler() is less prone to outliers than StandardScaler()"
   ]
  },
  {
   "cell_type": "markdown",
   "id": "dd08b2dd",
   "metadata": {},
   "source": [
    "**Understanding SMOTE:**\n",
    "\n",
    "- **Solving the Class Imbalance**: SMOTE creates synthetic points from the minority class in order to reach an equal balance between the minority and majority class.\n",
    "- **Location of the synthetic points**: SMOTE picks the distance between the closest neighbors of the minority class, in between these distances it creates synthetic points.\n",
    "- **Final Effect**: More information is retained since we didn't have to delete any rows unlike in random undersampling.\n",
    "- **Accuracy || Time Tradeoff**: Although it is likely that SMOTE will be more accurate than random under-sampling, it will take more time to train since no rows are eliminated as previously stated.\n",
    "\n",
    "Note for Jad: It's up to you which one you want to use just take note of the tradeoff :) Theres also Neural Networks Testing Random UnderSampling but it's too complicated for me and can't help you with it as of the moment"
   ]
  },
  {
   "cell_type": "code",
   "execution_count": null,
   "id": "81abb590",
   "metadata": {},
   "outputs": [],
   "source": [
    "#Author 2: Jad\n",
    "#Description: use SMOTE to the training set to make the data balanced\n",
    "# determine the best contamination percentage in rebalance the data set\n",
    "# SMOTE stands for Synthetic Minority Over-sampling Technique. \n",
    "# Unlike Random UnderSampling, SMOTE creates new synthetic points in \n",
    "# order to have an equal balance of the classes. This is another \n",
    "# alternative for solving the \"class imbalance problems\".\n",
    "\n",
    "#Severity: Important\n",
    "# Sample Code:\n",
    "\n",
    "#transform the dataset\n",
    "# oversample = SMOTE()\n",
    "# X,y = oversample.fit_resample(X,y)\n",
    "\n",
    "\n",
    "# If ever you want to use random under-sampling\n",
    "# Since our classes are highly skewed we should make \n",
    "# them equivalent in order to have a normal distribution of the classes.\n",
    "\n",
    "# Lets shuffle the data before creating the subsamples\n",
    "\n",
    "# df = df.sample(frac=1)\n",
    "\n",
    "# # amount of Bankrupt classes N rows.\n",
    "# B_df = df.loc[df['BK'] == 1]\n",
    "# NB_df = df.loc[df['BK'] == 0][:N]\n",
    "\n",
    "# normal_distributed_df = pd.concat([NB_df, B_df])\n",
    "\n",
    "# # Shuffle dataframe rows\n",
    "# new_df = normal_distributed_df.sample(frac=1, random_state=42)\n",
    "\n",
    "# new_df.head()\n"
   ]
  },
  {
   "cell_type": "markdown",
   "id": "5d54e2d6",
   "metadata": {},
   "source": [
    "#### Modelling Techniques\n",
    "\n",
    "Note for Rita: When it comes to this one the best thing we could do is understand each parameter used in each modelling technique and find out the best numbers or figures we could come up to improve the model"
   ]
  },
  {
   "cell_type": "code",
   "execution_count": null,
   "id": "8baf4a65",
   "metadata": {},
   "outputs": [],
   "source": [
    "#Author 3: Rita\n",
    "# Description: re apply the modelling techniques \n",
    "# I've made the modelling on top you can just follow what I did\n",
    "# Learn what are the attribute needed for the modelling technique\n",
    "# Severity: Important\n",
    "\n",
    "# Sample Code\n",
    "# models = {\n",
    "#     \"Random Forest\": RandomForestClassifier(max_depth=2,random_state=0), \n",
    "#     \"SVC (RBF Kernel)\": SVC(gamma='auto'),\n",
    "#     \"Naive Bayes\" : GaussianNB()\n",
    "# }\n",
    "# for name, model in models.items():\n",
    "#     model.fit(X_train, y_train)\n",
    "#     print(name+ \" trained.\")\n",
    "# Note: try to check with the different parameters of each model \n",
    "# ex. https://scikit-learn.org/stable/modules/generated/sklearn.ensemble.RandomForestClassifier.html\n"
   ]
  },
  {
   "cell_type": "markdown",
   "id": "e90c9289",
   "metadata": {},
   "source": [
    "# Metrics\n",
    "\n",
    "Note for Sreehari: When it comes to this one I provided some prototype functions to help you show the output. But understanding them would be a challenge. I provided the meanings below for your convenience. You can also add the confusion matrix to better understand the data. Work with Rita with this one."
   ]
  },
  {
   "cell_type": "markdown",
   "id": "beb3728c",
   "metadata": {},
   "source": [
    "## Test Data\n",
    "\n",
    "#### Confusion Matrix:\n",
    "- Positive/Negative: Type of Class (BK) [\"No\", \"Yes\"] True/False: Correctly or Incorrectly classified by the model.\n",
    "\n",
    "- True Negatives (Top-Left Square): This is the number of correctly classifications of the \"No\" (No Bankruptcy Detected) class\n",
    "\n",
    "- False Negatives (Top-Right Square): This is the number of incorrectly classifications of the \"No\"(No Bankruptcy Detected) class.\n",
    "\n",
    "- False Positives (Bottom-Left Square): This is the number of incorrectly classifications of the \"Yes\" (Bankruptcy Detected) class\n",
    "\n",
    "\n",
    "- True Positives (Bottom-Right Square): This is the number of correctly classifications of the \"Yes\" (Bankruptcy Detected) class."
   ]
  },
  {
   "cell_type": "code",
   "execution_count": null,
   "id": "e1f03265",
   "metadata": {},
   "outputs": [],
   "source": [
    "#Author 4: Sreehari\n",
    "#Description: apply the metrics and show the differences with the different models.\n",
    "# I made some examples on top in applying the metrics\n",
    "#Severity: Medium"
   ]
  },
  {
   "cell_type": "markdown",
   "id": "caa24a19",
   "metadata": {},
   "source": [
    "### Conclusion\n",
    "\n",
    "Note for Arnab | Varun: You will have to summarize everything that is done in this part to figure out how well did we do with our modelling."
   ]
  },
  {
   "cell_type": "code",
   "execution_count": null,
   "id": "c94d6826",
   "metadata": {},
   "outputs": [],
   "source": [
    "#Author 5:\n",
    "# description: Apply visualization and explain?\n",
    "# explain the results and provide a comparative recommendation on model selection\n",
    "# for the bankruptcy problem. \n",
    "# The report should also include a recommendation of how your models may be used \n",
    "# in a practical setting in the financial world.\n",
    "# Severity: Medium"
   ]
  }
 ],
 "metadata": {
  "kernelspec": {
   "display_name": "Python 3 (ipykernel)",
   "language": "python",
   "name": "python3"
  },
  "language_info": {
   "codemirror_mode": {
    "name": "ipython",
    "version": 3
   },
   "file_extension": ".py",
   "mimetype": "text/x-python",
   "name": "python",
   "nbconvert_exporter": "python",
   "pygments_lexer": "ipython3",
   "version": "3.9.12"
  }
 },
 "nbformat": 4,
 "nbformat_minor": 5
}
